{
 "cells": [
  {
   "cell_type": "markdown",
   "metadata": {},
   "source": [
    "# Lab 9 - LDA\n",
    "## Lecture 9"
   ]
  },
  {
   "cell_type": "code",
   "execution_count": 13,
   "metadata": {},
   "outputs": [],
   "source": [
    "library('ggplot2')\n",
    "library('reshape2')"
   ]
  },
  {
   "cell_type": "code",
   "execution_count": 14,
   "metadata": {},
   "outputs": [],
   "source": [
    "g1 <- data.frame(group=1,x = rnorm(100,1,1))\n",
    "g2 <- data.frame(group=2,x = rnorm(100,5,1))\n",
    "g3 <- data.frame(group=3,x = rnorm(100,20,1))\n",
    "d = rbind(g1,g2,g3)\n",
    "d$group <- as.factor(d$group)"
   ]
  },
  {
   "cell_type": "code",
   "execution_count": 18,
   "metadata": {},
   "outputs": [
    {
     "data": {
      "text/html": [
       "<table class=\"dataframe\">\n",
       "<caption>A data.frame: 6 × 2</caption>\n",
       "<thead>\n",
       "\t<tr><th></th><th scope=col>group</th><th scope=col>x</th></tr>\n",
       "\t<tr><th></th><th scope=col>&lt;fct&gt;</th><th scope=col>&lt;dbl&gt;</th></tr>\n",
       "</thead>\n",
       "<tbody>\n",
       "\t<tr><th scope=row>58</th><td>1</td><td> 2.8877529</td></tr>\n",
       "\t<tr><th scope=row>180</th><td>2</td><td> 5.2113537</td></tr>\n",
       "\t<tr><th scope=row>285</th><td>3</td><td>19.7134968</td></tr>\n",
       "\t<tr><th scope=row>45</th><td>1</td><td>-0.8653701</td></tr>\n",
       "\t<tr><th scope=row>112</th><td>2</td><td> 5.5440411</td></tr>\n",
       "\t<tr><th scope=row>252</th><td>3</td><td>21.4830915</td></tr>\n",
       "</tbody>\n",
       "</table>\n"
      ],
      "text/latex": [
       "A data.frame: 6 × 2\n",
       "\\begin{tabular}{r|ll}\n",
       "  & group & x\\\\\n",
       "  & <fct> & <dbl>\\\\\n",
       "\\hline\n",
       "\t58 & 1 &  2.8877529\\\\\n",
       "\t180 & 2 &  5.2113537\\\\\n",
       "\t285 & 3 & 19.7134968\\\\\n",
       "\t45 & 1 & -0.8653701\\\\\n",
       "\t112 & 2 &  5.5440411\\\\\n",
       "\t252 & 3 & 21.4830915\\\\\n",
       "\\end{tabular}\n"
      ],
      "text/markdown": [
       "\n",
       "A data.frame: 6 × 2\n",
       "\n",
       "| <!--/--> | group &lt;fct&gt; | x &lt;dbl&gt; |\n",
       "|---|---|---|\n",
       "| 58 | 1 |  2.8877529 |\n",
       "| 180 | 2 |  5.2113537 |\n",
       "| 285 | 3 | 19.7134968 |\n",
       "| 45 | 1 | -0.8653701 |\n",
       "| 112 | 2 |  5.5440411 |\n",
       "| 252 | 3 | 21.4830915 |\n",
       "\n"
      ],
      "text/plain": [
       "    group x         \n",
       "58  1      2.8877529\n",
       "180 2      5.2113537\n",
       "285 3     19.7134968\n",
       "45  1     -0.8653701\n",
       "112 2      5.5440411\n",
       "252 3     21.4830915"
      ]
     },
     "metadata": {},
     "output_type": "display_data"
    }
   ],
   "source": [
    "head(d[sample(nrow(d)),])"
   ]
  },
  {
   "cell_type": "code",
   "execution_count": 19,
   "metadata": {},
   "outputs": [
    {
     "data": {
      "image/png": "[encoded data removed]",
      "text/plain": [
       "plot without title"
      ]
     },
     "metadata": {
      "image/png": {
       "height": 420,
       "width": 420
      }
     },
     "output_type": "display_data"
    }
   ],
   "source": [
    "ggplot(data=d,mapping=aes(x=x,color=group,group=group))+geom_density()+geom_point(mapping=aes(x=x,y=0))"
   ]
  },
  {
   "cell_type": "code",
   "execution_count": 29,
   "metadata": {},
   "outputs": [
    {
     "data": {
      "text/html": [
       "0.126627840106109"
      ],
      "text/latex": [
       "0.126627840106109"
      ],
      "text/markdown": [
       "0.126627840106109"
      ],
      "text/plain": [
       "[1] 0.1266278"
      ]
     },
     "metadata": {},
     "output_type": "display_data"
    }
   ],
   "source": [
    "x0=1\n",
    "class=1\n",
    "  \n",
    "subd = d[d$group==class,]\n",
    "muhat = mean(subd$x)\n",
    "# pooled sd estimate\n",
    "sighat = sqrt(mean(aggregate(x~group,data=d,FUN=var)[,2]))\n",
    "pi_hat = mean(d$group==class)\n",
    "dnorm(x0,mean=muhat,sd=sighat)*pi_hat"
   ]
  },
  {
   "cell_type": "code",
   "execution_count": 35,
   "metadata": {},
   "outputs": [
    {
     "data": {
      "text/html": [
       "2"
      ],
      "text/latex": [
       "2"
      ],
      "text/markdown": [
       "2"
      ],
      "text/plain": [
       "[1] 2"
      ]
     },
     "metadata": {},
     "output_type": "display_data"
    }
   ],
   "source": [
    "delta_lda=function(x0,class){\n",
    "  subd = d[d$group==class,]\n",
    "  muhat = mean(subd$x)\n",
    "  sighat = sqrt(mean(aggregate(x~group,data=d,FUN=var)[,2]))\n",
    "  pi_hat = mean(d$group==class)\n",
    "  dnorm(x0,mean=muhat,sd=sighat)*pi_hat\n",
    "}\n",
    "y_hat = which.max(c(delta_lda(7,1),\n",
    "    delta_lda(7,2),\n",
    "    delta_lda(7,3)))\n",
    "y_hat"
   ]
  },
  {
   "cell_type": "code",
   "execution_count": 36,
   "metadata": {},
   "outputs": [
    {
     "data": {
      "text/html": [
       "2"
      ],
      "text/latex": [
       "2"
      ],
      "text/markdown": [
       "2"
      ],
      "text/plain": [
       "[1] 2"
      ]
     },
     "metadata": {},
     "output_type": "display_data"
    }
   ],
   "source": [
    "delta_lda2=function(x0,class){\n",
    "  subd = d[d$group==class,]\n",
    "  muhat = mean(subd$x)\n",
    "  sighat = sqrt(mean(aggregate(x~group,data=d,FUN=var)[,2]))\n",
    "  pi_hat = mean(d$group==class)\n",
    "  muhat*x0/(sighat^2) - muhat^2/(2*sighat^2)+log(pi_hat)\n",
    "}\n",
    "y_hat = which.max(c(delta_lda2(7,1),\n",
    "    delta_lda2(7,2),\n",
    "    delta_lda2(7,3)))\n",
    "y_hat"
   ]
  },
  {
   "cell_type": "code",
   "execution_count": 39,
   "metadata": {},
   "outputs": [
    {
     "data": {
      "text/html": [
       "<style>\n",
       ".list-inline {list-style: none; margin:0; padding: 0}\n",
       ".list-inline>li {display: inline-block}\n",
       ".list-inline>li:not(:last-child)::after {content: \"\\00b7\"; padding: 0 .5ex}\n",
       "</style>\n",
       "<ol class=list-inline><li>1</li><li>3</li><li>3</li><li>1</li><li>1</li></ol>\n"
      ],
      "text/latex": [
       "\\begin{enumerate*}\n",
       "\\item 1\n",
       "\\item 3\n",
       "\\item 3\n",
       "\\item 1\n",
       "\\item 1\n",
       "\\end{enumerate*}\n"
      ],
      "text/markdown": [
       "1. 1\n",
       "2. 3\n",
       "3. 3\n",
       "4. 1\n",
       "5. 1\n",
       "\n",
       "\n"
      ],
      "text/plain": [
       "[1] 1 3 3 1 1"
      ]
     },
     "metadata": {},
     "output_type": "display_data"
    }
   ],
   "source": [
    "lda_pred <- data.frame(\n",
    "  '1'=delta_lda2(d$x,1),\n",
    "  '2'=delta_lda2(d$x,2),\n",
    "  '3'=delta_lda2(d$x,3)\n",
    ")\n",
    "lda_preds = apply(lda_pred,1,which.max)\n",
    "sample(lda_preds,5)"
   ]
  },
  {
   "cell_type": "code",
   "execution_count": 40,
   "metadata": {},
   "outputs": [
    {
     "data": {
      "text/html": [
       "\n",
       "<table width=\"100%\" summary=\"page for lda {MASS}\"><tr><td>lda {MASS}</td><td style=\"text-align: right;\">R Documentation</td></tr></table>\n",
       "\n",
       "<h2>\n",
       "Linear Discriminant Analysis\n",
       "</h2>\n",
       "\n",
       "<h3>Description</h3>\n",
       "\n",
       "<p>Linear discriminant analysis.\n",
       "</p>\n",
       "\n",
       "\n",
       "<h3>Usage</h3>\n",
       "\n",
       "<pre>\n",
       "lda(x, ...)\n",
       "\n",
       "## S3 method for class 'formula'\n",
       "lda(formula, data, ..., subset, na.action)\n",
       "\n",
       "## Default S3 method:\n",
       "lda(x, grouping, prior = proportions, tol = 1.0e-4,\n",
       "    method, CV = FALSE, nu, ...)\n",
       "\n",
       "## S3 method for class 'data.frame'\n",
       "lda(x, ...)\n",
       "\n",
       "## S3 method for class 'matrix'\n",
       "lda(x, grouping, ..., subset, na.action)\n",
       "</pre>\n",
       "\n",
       "\n",
       "<h3>Arguments</h3>\n",
       "\n",
       "<table summary=\"R argblock\">\n",
       "<tr valign=\"top\"><td><code>formula</code></td>\n",
       "<td>\n",
       "\n",
       "<p>A formula of the form <code>groups ~ x1 + x2 + ...</code>  That is, the\n",
       "response is the grouping factor and the right hand side specifies\n",
       "the (non-factor) discriminators.\n",
       "</p>\n",
       "</td></tr>\n",
       "<tr valign=\"top\"><td><code>data</code></td>\n",
       "<td>\n",
       "\n",
       "<p>An optional data frame, list or environment from which variables\n",
       "specified in <code>formula</code> are preferentially to be taken.\n",
       "</p>\n",
       "</td></tr>\n",
       "<tr valign=\"top\"><td><code>x</code></td>\n",
       "<td>\n",
       "\n",
       "<p>(required if no formula is given as the principal argument.)\n",
       "a matrix or data frame or Matrix containing the explanatory variables.\n",
       "</p>\n",
       "</td></tr>\n",
       "<tr valign=\"top\"><td><code>grouping</code></td>\n",
       "<td>\n",
       "\n",
       "<p>(required if no formula principal argument is given.)\n",
       "a factor specifying the class for each observation.\n",
       "</p>\n",
       "</td></tr>\n",
       "<tr valign=\"top\"><td><code>prior</code></td>\n",
       "<td>\n",
       "\n",
       "<p>the prior probabilities of class membership.  If unspecified, the\n",
       "class proportions for the training set are used.  If present, the\n",
       "probabilities should be specified in the order of the factor\n",
       "levels.\n",
       "</p>\n",
       "</td></tr>\n",
       "<tr valign=\"top\"><td><code>tol</code></td>\n",
       "<td>\n",
       "\n",
       "<p>A tolerance to decide if a matrix is singular; it will reject variables\n",
       "and linear combinations of unit-variance variables whose variance is\n",
       "less than <code>tol^2</code>.\n",
       "</p>\n",
       "</td></tr>\n",
       "<tr valign=\"top\"><td><code>subset</code></td>\n",
       "<td>\n",
       "\n",
       "<p>An index vector specifying the cases to be used in the training\n",
       "sample.  (NOTE: If given, this argument must be named.)\n",
       "</p>\n",
       "</td></tr>\n",
       "<tr valign=\"top\"><td><code>na.action</code></td>\n",
       "<td>\n",
       "\n",
       "<p>A function to specify the action to be taken if <code>NA</code>s are found.\n",
       "The default action is for the procedure to fail.  An alternative is\n",
       "<code>na.omit</code>, which leads to rejection of cases with missing values on\n",
       "any required variable.  (NOTE: If given, this argument must be named.)\n",
       "</p>\n",
       "</td></tr>\n",
       "<tr valign=\"top\"><td><code>method</code></td>\n",
       "<td>\n",
       "\n",
       "<p><code>\"moment\"</code> for standard estimators of the mean and variance,\n",
       "<code>\"mle\"</code> for MLEs, <code>\"mve\"</code> to use <code>cov.mve</code>, or\n",
       "<code>\"t\"</code> for robust estimates based on a <i>t</i> distribution.\n",
       "</p>\n",
       "</td></tr>\n",
       "<tr valign=\"top\"><td><code>CV</code></td>\n",
       "<td>\n",
       "\n",
       "<p>If true, returns results (classes and posterior probabilities) for\n",
       "leave-one-out cross-validation. Note that if the prior is estimated,\n",
       "the proportions in the whole dataset are used.\n",
       "</p>\n",
       "</td></tr>\n",
       "<tr valign=\"top\"><td><code>nu</code></td>\n",
       "<td>\n",
       "\n",
       "<p>degrees of freedom for <code>method = \"t\"</code>.\n",
       "</p>\n",
       "</td></tr>\n",
       "<tr valign=\"top\"><td><code>...</code></td>\n",
       "<td>\n",
       "\n",
       "<p>arguments passed to or from other methods.\n",
       "</p>\n",
       "</td></tr></table>\n",
       "\n",
       "\n",
       "<h3>Details</h3>\n",
       "\n",
       "<p>The function\n",
       "tries hard to detect if the within-class covariance matrix is\n",
       "singular. If any variable has within-group variance less than\n",
       "<code>tol^2</code> it will stop and report the variable as constant.  This\n",
       "could result from poor scaling of the problem, but is more\n",
       "likely to result from constant variables.\n",
       "</p>\n",
       "<p>Specifying the <code>prior</code> will affect the classification unless\n",
       "over-ridden in <code>predict.lda</code>.  Unlike in most statistical packages, it\n",
       "will also affect the rotation of the linear discriminants within their\n",
       "space, as a weighted between-groups covariance matrix is used. Thus\n",
       "the first few linear discriminants emphasize the differences between\n",
       "groups with the weights given by the prior, which may differ from\n",
       "their prevalence in the dataset.\n",
       "</p>\n",
       "<p>If one or more groups is missing in the supplied data, they are dropped\n",
       "with a warning, but the classifications produced are with respect to the\n",
       "original set of levels.\n",
       "</p>\n",
       "\n",
       "\n",
       "<h3>Value</h3>\n",
       "\n",
       "<p>If <code>CV = TRUE</code> the return value is a list with components\n",
       "<code>class</code>, the MAP classification (a factor), and <code>posterior</code>,\n",
       "posterior probabilities for the classes.\n",
       "</p>\n",
       "<p>Otherwise it is an object of class <code>\"lda\"</code> containing the\n",
       "following components:\n",
       "</p>\n",
       "<table summary=\"R valueblock\">\n",
       "<tr valign=\"top\"><td><code>prior</code></td>\n",
       "<td>\n",
       "\n",
       "<p>the prior probabilities used.\n",
       "</p>\n",
       "</td></tr>\n",
       "<tr valign=\"top\"><td><code>means</code></td>\n",
       "<td>\n",
       "\n",
       "<p>the group means.\n",
       "</p>\n",
       "</td></tr>\n",
       "<tr valign=\"top\"><td><code>scaling</code></td>\n",
       "<td>\n",
       "\n",
       "<p>a matrix which transforms observations to discriminant functions,\n",
       "normalized so that within groups covariance matrix is spherical.\n",
       "</p>\n",
       "</td></tr>\n",
       "<tr valign=\"top\"><td><code>svd</code></td>\n",
       "<td>\n",
       "\n",
       "<p>the singular values, which give the ratio of the between- and\n",
       "within-group standard deviations on the linear discriminant\n",
       "variables.  Their squares are the canonical F-statistics.\n",
       "</p>\n",
       "</td></tr>\n",
       "<tr valign=\"top\"><td><code>N</code></td>\n",
       "<td>\n",
       "\n",
       "<p>The number of observations used.\n",
       "</p>\n",
       "</td></tr>\n",
       "<tr valign=\"top\"><td><code>call</code></td>\n",
       "<td>\n",
       "\n",
       "<p>The (matched) function call.\n",
       "</p>\n",
       "</td></tr>\n",
       "</table>\n",
       "\n",
       "\n",
       "<h3>Note</h3>\n",
       "\n",
       "<p>This function may be called giving either a formula and\n",
       "optional data frame, or a matrix and grouping factor as the first\n",
       "two arguments.  All other arguments are optional, but <code>subset=</code> and\n",
       "<code>na.action=</code>, if required, must be fully named.\n",
       "</p>\n",
       "<p>If a formula is given as the principal argument the object may be\n",
       "modified using <code>update()</code> in the usual way.\n",
       "</p>\n",
       "\n",
       "\n",
       "<h3>References</h3>\n",
       "\n",
       "<p>Venables, W. N. and Ripley, B. D. (2002)\n",
       "<em>Modern Applied Statistics with S.</em> Fourth edition.  Springer.\n",
       "</p>\n",
       "<p>Ripley, B. D. (1996)\n",
       "<em>Pattern Recognition and Neural Networks</em>. Cambridge University Press.\n",
       "</p>\n",
       "\n",
       "\n",
       "<h3>See Also</h3>\n",
       "\n",
       "<p><code>predict.lda</code>, <code>qda</code>, <code>predict.qda</code>\n",
       "</p>\n",
       "\n",
       "\n",
       "<h3>Examples</h3>\n",
       "\n",
       "<pre>\n",
       "Iris &lt;- data.frame(rbind(iris3[,,1], iris3[,,2], iris3[,,3]),\n",
       "                   Sp = rep(c(\"s\",\"c\",\"v\"), rep(50,3)))\n",
       "train &lt;- sample(1:150, 75)\n",
       "table(Iris$Sp[train])\n",
       "## your answer may differ\n",
       "##  c  s  v\n",
       "## 22 23 30\n",
       "z &lt;- lda(Sp ~ ., Iris, prior = c(1,1,1)/3, subset = train)\n",
       "predict(z, Iris[-train, ])$class\n",
       "##  [1] s s s s s s s s s s s s s s s s s s s s s s s s s s s c c c\n",
       "## [31] c c c c c c c v c c c c v c c c c c c c c c c c c v v v v v\n",
       "## [61] v v v v v v v v v v v v v v v\n",
       "(z1 &lt;- update(z, . ~ . - Petal.W.))\n",
       "</pre>\n",
       "\n",
       "<hr /><div style=\"text-align: center;\">[Package <em>MASS</em> version 7.3-53 ]</div>"
      ],
      "text/latex": [
       "\\inputencoding{utf8}\n",
       "\\HeaderA{lda}{Linear Discriminant Analysis}{lda}\n",
       "\\aliasA{coef.lda}{lda}{coef.lda}\n",
       "\\methaliasA{lda.data.frame}{lda}{lda.data.frame}\n",
       "\\methaliasA{lda.default}{lda}{lda.default}\n",
       "\\methaliasA{lda.formula}{lda}{lda.formula}\n",
       "\\methaliasA{lda.matrix}{lda}{lda.matrix}\n",
       "\\aliasA{model.frame.lda}{lda}{model.frame.lda}\n",
       "\\aliasA{print.lda}{lda}{print.lda}\n",
       "\\keyword{multivariate}{lda}\n",
       "%\n",
       "\\begin{Description}\\relax\n",
       "Linear discriminant analysis.\n",
       "\\end{Description}\n",
       "%\n",
       "\\begin{Usage}\n",
       "\\begin{verbatim}\n",
       "lda(x, ...)\n",
       "\n",
       "## S3 method for class 'formula'\n",
       "lda(formula, data, ..., subset, na.action)\n",
       "\n",
       "## Default S3 method:\n",
       "lda(x, grouping, prior = proportions, tol = 1.0e-4,\n",
       "    method, CV = FALSE, nu, ...)\n",
       "\n",
       "## S3 method for class 'data.frame'\n",
       "lda(x, ...)\n",
       "\n",
       "## S3 method for class 'matrix'\n",
       "lda(x, grouping, ..., subset, na.action)\n",
       "\\end{verbatim}\n",
       "\\end{Usage}\n",
       "%\n",
       "\\begin{Arguments}\n",
       "\\begin{ldescription}\n",
       "\\item[\\code{formula}] \n",
       "A formula of the form \\code{groups \\textasciitilde{} x1 + x2 + ...}  That is, the\n",
       "response is the grouping factor and the right hand side specifies\n",
       "the (non-factor) discriminators.\n",
       "\n",
       "\\item[\\code{data}] \n",
       "An optional data frame, list or environment from which variables\n",
       "specified in \\code{formula} are preferentially to be taken.\n",
       "\n",
       "\\item[\\code{x}] \n",
       "(required if no formula is given as the principal argument.)\n",
       "a matrix or data frame or Matrix containing the explanatory variables.\n",
       "\n",
       "\\item[\\code{grouping}] \n",
       "(required if no formula principal argument is given.)\n",
       "a factor specifying the class for each observation.\n",
       "\n",
       "\\item[\\code{prior}] \n",
       "the prior probabilities of class membership.  If unspecified, the\n",
       "class proportions for the training set are used.  If present, the\n",
       "probabilities should be specified in the order of the factor\n",
       "levels.\n",
       "\n",
       "\\item[\\code{tol}] \n",
       "A tolerance to decide if a matrix is singular; it will reject variables\n",
       "and linear combinations of unit-variance variables whose variance is\n",
       "less than \\code{tol\\textasciicircum{}2}.\n",
       "\n",
       "\\item[\\code{subset}] \n",
       "An index vector specifying the cases to be used in the training\n",
       "sample.  (NOTE: If given, this argument must be named.)\n",
       "\n",
       "\\item[\\code{na.action}] \n",
       "A function to specify the action to be taken if \\code{NA}s are found.\n",
       "The default action is for the procedure to fail.  An alternative is\n",
       "\\code{na.omit}, which leads to rejection of cases with missing values on\n",
       "any required variable.  (NOTE: If given, this argument must be named.)\n",
       "\n",
       "\\item[\\code{method}] \n",
       "\\code{\"moment\"} for standard estimators of the mean and variance,\n",
       "\\code{\"mle\"} for MLEs, \\code{\"mve\"} to use \\code{\\LinkA{cov.mve}{cov.mve}}, or\n",
       "\\code{\"t\"} for robust estimates based on a \\eqn{t}{} distribution.\n",
       "\n",
       "\\item[\\code{CV}] \n",
       "If true, returns results (classes and posterior probabilities) for\n",
       "leave-one-out cross-validation. Note that if the prior is estimated,\n",
       "the proportions in the whole dataset are used.\n",
       "\n",
       "\\item[\\code{nu}] \n",
       "degrees of freedom for \\code{method = \"t\"}.\n",
       "\n",
       "\\item[\\code{...}] \n",
       "arguments passed to or from other methods.\n",
       "\\end{ldescription}\n",
       "\\end{Arguments}\n",
       "%\n",
       "\\begin{Details}\\relax\n",
       "The function\n",
       "tries hard to detect if the within-class covariance matrix is\n",
       "singular. If any variable has within-group variance less than\n",
       "\\code{tol\\textasciicircum{}2} it will stop and report the variable as constant.  This\n",
       "could result from poor scaling of the problem, but is more\n",
       "likely to result from constant variables.\n",
       "\n",
       "Specifying the \\code{prior} will affect the classification unless\n",
       "over-ridden in \\code{predict.lda}.  Unlike in most statistical packages, it\n",
       "will also affect the rotation of the linear discriminants within their\n",
       "space, as a weighted between-groups covariance matrix is used. Thus\n",
       "the first few linear discriminants emphasize the differences between\n",
       "groups with the weights given by the prior, which may differ from\n",
       "their prevalence in the dataset.\n",
       "\n",
       "If one or more groups is missing in the supplied data, they are dropped\n",
       "with a warning, but the classifications produced are with respect to the\n",
       "original set of levels.\n",
       "\\end{Details}\n",
       "%\n",
       "\\begin{Value}\n",
       "If \\code{CV = TRUE} the return value is a list with components\n",
       "\\code{class}, the MAP classification (a factor), and \\code{posterior},\n",
       "posterior probabilities for the classes.\n",
       "\n",
       "Otherwise it is an object of class \\code{\"lda\"} containing the\n",
       "following components:\n",
       "\\begin{ldescription}\n",
       "\\item[\\code{prior}] \n",
       "the prior probabilities used.\n",
       "\n",
       "\\item[\\code{means}] \n",
       "the group means.\n",
       "\n",
       "\\item[\\code{scaling}] \n",
       "a matrix which transforms observations to discriminant functions,\n",
       "normalized so that within groups covariance matrix is spherical.\n",
       "\n",
       "\\item[\\code{svd}] \n",
       "the singular values, which give the ratio of the between- and\n",
       "within-group standard deviations on the linear discriminant\n",
       "variables.  Their squares are the canonical F-statistics.\n",
       "\n",
       "\\item[\\code{N}] \n",
       "The number of observations used.\n",
       "\n",
       "\\item[\\code{call}] \n",
       "The (matched) function call.\n",
       "\n",
       "\\end{ldescription}\n",
       "\\end{Value}\n",
       "%\n",
       "\\begin{Note}\\relax\n",
       "This function may be called giving either a formula and\n",
       "optional data frame, or a matrix and grouping factor as the first\n",
       "two arguments.  All other arguments are optional, but \\code{subset=} and\n",
       "\\code{na.action=}, if required, must be fully named.\n",
       "\n",
       "If a formula is given as the principal argument the object may be\n",
       "modified using \\code{update()} in the usual way.\n",
       "\\end{Note}\n",
       "%\n",
       "\\begin{References}\\relax\n",
       "Venables, W. N. and Ripley, B. D. (2002)\n",
       "\\emph{Modern Applied Statistics with S.} Fourth edition.  Springer.\n",
       "\n",
       "Ripley, B. D. (1996)\n",
       "\\emph{Pattern Recognition and Neural Networks}. Cambridge University Press.\n",
       "\\end{References}\n",
       "%\n",
       "\\begin{SeeAlso}\\relax\n",
       "\\code{\\LinkA{predict.lda}{predict.lda}}, \\code{\\LinkA{qda}{qda}}, \\code{\\LinkA{predict.qda}{predict.qda}}\n",
       "\\end{SeeAlso}\n",
       "%\n",
       "\\begin{Examples}\n",
       "\\begin{ExampleCode}\n",
       "Iris <- data.frame(rbind(iris3[,,1], iris3[,,2], iris3[,,3]),\n",
       "                   Sp = rep(c(\"s\",\"c\",\"v\"), rep(50,3)))\n",
       "train <- sample(1:150, 75)\n",
       "table(Iris$Sp[train])\n",
       "## your answer may differ\n",
       "##  c  s  v\n",
       "## 22 23 30\n",
       "z <- lda(Sp ~ ., Iris, prior = c(1,1,1)/3, subset = train)\n",
       "predict(z, Iris[-train, ])$class\n",
       "##  [1] s s s s s s s s s s s s s s s s s s s s s s s s s s s c c c\n",
       "## [31] c c c c c c c v c c c c v c c c c c c c c c c c c v v v v v\n",
       "## [61] v v v v v v v v v v v v v v v\n",
       "(z1 <- update(z, . ~ . - Petal.W.))\n",
       "\\end{ExampleCode}\n",
       "\\end{Examples}"
      ],
      "text/plain": [
       "lda                    package:MASS                    R Documentation\n",
       "\n",
       "_\bL_\bi_\bn_\be_\ba_\br _\bD_\bi_\bs_\bc_\br_\bi_\bm_\bi_\bn_\ba_\bn_\bt _\bA_\bn_\ba_\bl_\by_\bs_\bi_\bs\n",
       "\n",
       "_\bD_\be_\bs_\bc_\br_\bi_\bp_\bt_\bi_\bo_\bn:\n",
       "\n",
       "     Linear discriminant analysis.\n",
       "\n",
       "_\bU_\bs_\ba_\bg_\be:\n",
       "\n",
       "     lda(x, ...)\n",
       "     \n",
       "     ## S3 method for class 'formula'\n",
       "     lda(formula, data, ..., subset, na.action)\n",
       "     \n",
       "     ## Default S3 method:\n",
       "     lda(x, grouping, prior = proportions, tol = 1.0e-4,\n",
       "         method, CV = FALSE, nu, ...)\n",
       "     \n",
       "     ## S3 method for class 'data.frame'\n",
       "     lda(x, ...)\n",
       "     \n",
       "     ## S3 method for class 'matrix'\n",
       "     lda(x, grouping, ..., subset, na.action)\n",
       "     \n",
       "_\bA_\br_\bg_\bu_\bm_\be_\bn_\bt_\bs:\n",
       "\n",
       " formula: A formula of the form 'groups ~ x1 + x2 + ...'  That is, the\n",
       "          response is the grouping factor and the right hand side\n",
       "          specifies the (non-factor) discriminators.\n",
       "\n",
       "    data: An optional data frame, list or environment from which\n",
       "          variables specified in 'formula' are preferentially to be\n",
       "          taken.\n",
       "\n",
       "       x: (required if no formula is given as the principal argument.)\n",
       "          a matrix or data frame or Matrix containing the explanatory\n",
       "          variables.\n",
       "\n",
       "grouping: (required if no formula principal argument is given.)  a\n",
       "          factor specifying the class for each observation.\n",
       "\n",
       "   prior: the prior probabilities of class membership.  If unspecified,\n",
       "          the class proportions for the training set are used.  If\n",
       "          present, the probabilities should be specified in the order\n",
       "          of the factor levels.\n",
       "\n",
       "     tol: A tolerance to decide if a matrix is singular; it will reject\n",
       "          variables and linear combinations of unit-variance variables\n",
       "          whose variance is less than 'tol^2'.\n",
       "\n",
       "  subset: An index vector specifying the cases to be used in the\n",
       "          training sample.  (NOTE: If given, this argument must be\n",
       "          named.)\n",
       "\n",
       "na.action: A function to specify the action to be taken if 'NA's are\n",
       "          found.  The default action is for the procedure to fail.  An\n",
       "          alternative is 'na.omit', which leads to rejection of cases\n",
       "          with missing values on any required variable.  (NOTE: If\n",
       "          given, this argument must be named.)\n",
       "\n",
       "  method: '\"moment\"' for standard estimators of the mean and variance,\n",
       "          '\"mle\"' for MLEs, '\"mve\"' to use 'cov.mve', or '\"t\"' for\n",
       "          robust estimates based on a t distribution.\n",
       "\n",
       "      CV: If true, returns results (classes and posterior\n",
       "          probabilities) for leave-one-out cross-validation. Note that\n",
       "          if the prior is estimated, the proportions in the whole\n",
       "          dataset are used.\n",
       "\n",
       "      nu: degrees of freedom for 'method = \"t\"'.\n",
       "\n",
       "     ...: arguments passed to or from other methods.\n",
       "\n",
       "_\bD_\be_\bt_\ba_\bi_\bl_\bs:\n",
       "\n",
       "     The function tries hard to detect if the within-class covariance\n",
       "     matrix is singular. If any variable has within-group variance less\n",
       "     than 'tol^2' it will stop and report the variable as constant.\n",
       "     This could result from poor scaling of the problem, but is more\n",
       "     likely to result from constant variables.\n",
       "\n",
       "     Specifying the 'prior' will affect the classification unless\n",
       "     over-ridden in 'predict.lda'.  Unlike in most statistical\n",
       "     packages, it will also affect the rotation of the linear\n",
       "     discriminants within their space, as a weighted between-groups\n",
       "     covariance matrix is used. Thus the first few linear discriminants\n",
       "     emphasize the differences between groups with the weights given by\n",
       "     the prior, which may differ from their prevalence in the dataset.\n",
       "\n",
       "     If one or more groups is missing in the supplied data, they are\n",
       "     dropped with a warning, but the classifications produced are with\n",
       "     respect to the original set of levels.\n",
       "\n",
       "_\bV_\ba_\bl_\bu_\be:\n",
       "\n",
       "     If 'CV = TRUE' the return value is a list with components 'class',\n",
       "     the MAP classification (a factor), and 'posterior', posterior\n",
       "     probabilities for the classes.\n",
       "\n",
       "     Otherwise it is an object of class '\"lda\"' containing the\n",
       "     following components:\n",
       "\n",
       "   prior: the prior probabilities used.\n",
       "\n",
       "   means: the group means.\n",
       "\n",
       " scaling: a matrix which transforms observations to discriminant\n",
       "          functions, normalized so that within groups covariance matrix\n",
       "          is spherical.\n",
       "\n",
       "     svd: the singular values, which give the ratio of the between- and\n",
       "          within-group standard deviations on the linear discriminant\n",
       "          variables.  Their squares are the canonical F-statistics.\n",
       "\n",
       "       N: The number of observations used.\n",
       "\n",
       "    call: The (matched) function call.\n",
       "\n",
       "_\bN_\bo_\bt_\be:\n",
       "\n",
       "     This function may be called giving either a formula and optional\n",
       "     data frame, or a matrix and grouping factor as the first two\n",
       "     arguments.  All other arguments are optional, but 'subset=' and\n",
       "     'na.action=', if required, must be fully named.\n",
       "\n",
       "     If a formula is given as the principal argument the object may be\n",
       "     modified using 'update()' in the usual way.\n",
       "\n",
       "_\bR_\be_\bf_\be_\br_\be_\bn_\bc_\be_\bs:\n",
       "\n",
       "     Venables, W. N. and Ripley, B. D. (2002) _Modern Applied\n",
       "     Statistics with S._ Fourth edition.  Springer.\n",
       "\n",
       "     Ripley, B. D. (1996) _Pattern Recognition and Neural Networks_.\n",
       "     Cambridge University Press.\n",
       "\n",
       "_\bS_\be_\be _\bA_\bl_\bs_\bo:\n",
       "\n",
       "     'predict.lda', 'qda', 'predict.qda'\n",
       "\n",
       "_\bE_\bx_\ba_\bm_\bp_\bl_\be_\bs:\n",
       "\n",
       "     Iris <- data.frame(rbind(iris3[,,1], iris3[,,2], iris3[,,3]),\n",
       "                        Sp = rep(c(\"s\",\"c\",\"v\"), rep(50,3)))\n",
       "     train <- sample(1:150, 75)\n",
       "     table(Iris$Sp[train])\n",
       "     ## your answer may differ\n",
       "     ##  c  s  v\n",
       "     ## 22 23 30\n",
       "     z <- lda(Sp ~ ., Iris, prior = c(1,1,1)/3, subset = train)\n",
       "     predict(z, Iris[-train, ])$class\n",
       "     ##  [1] s s s s s s s s s s s s s s s s s s s s s s s s s s s c c c\n",
       "     ## [31] c c c c c c c v c c c c v c c c c c c c c c c c c v v v v v\n",
       "     ## [61] v v v v v v v v v v v v v v v\n",
       "     (z1 <- update(z, . ~ . - Petal.W.))\n",
       "     "
      ]
     },
     "metadata": {},
     "output_type": "display_data"
    }
   ],
   "source": [
    "library('MASS')\n",
    "?lda"
   ]
  },
  {
   "cell_type": "code",
   "execution_count": 42,
   "metadata": {},
   "outputs": [
    {
     "data": {
      "text/plain": [
       "Call:\n",
       "lda(group ~ x, data = d)\n",
       "\n",
       "Prior probabilities of groups:\n",
       "        1         2         3 \n",
       "0.3333333 0.3333333 0.3333333 \n",
       "\n",
       "Group means:\n",
       "          x\n",
       "1  1.106322\n",
       "2  4.998168\n",
       "3 20.071380\n",
       "\n",
       "Coefficients of linear discriminants:\n",
       "        LD1\n",
       "x 0.9571706"
      ]
     },
     "metadata": {},
     "output_type": "display_data"
    }
   ],
   "source": [
    "mod = lda(group~x,data=d)\n",
    "mod"
   ]
  },
  {
   "cell_type": "code",
   "execution_count": 45,
   "metadata": {},
   "outputs": [
    {
     "data": {
      "text/html": [
       "<style>\n",
       ".list-inline {list-style: none; margin:0; padding: 0}\n",
       ".list-inline>li {display: inline-block}\n",
       ".list-inline>li:not(:last-child)::after {content: \"\\00b7\"; padding: 0 .5ex}\n",
       "</style>\n",
       "<ol class=list-inline><li>2</li><li>1</li><li>2</li><li>1</li><li>3</li></ol>\n",
       "\n",
       "<details>\n",
       "\t<summary style=display:list-item;cursor:pointer>\n",
       "\t\t<strong>Levels</strong>:\n",
       "\t</summary>\n",
       "\t<style>\n",
       "\t.list-inline {list-style: none; margin:0; padding: 0}\n",
       "\t.list-inline>li {display: inline-block}\n",
       "\t.list-inline>li:not(:last-child)::after {content: \"\\00b7\"; padding: 0 .5ex}\n",
       "\t</style>\n",
       "\t<ol class=list-inline><li>'1'</li><li>'2'</li><li>'3'</li></ol>\n",
       "</details>"
      ],
      "text/latex": [
       "\\begin{enumerate*}\n",
       "\\item 2\n",
       "\\item 1\n",
       "\\item 2\n",
       "\\item 1\n",
       "\\item 3\n",
       "\\end{enumerate*}\n",
       "\n",
       "\\emph{Levels}: \\begin{enumerate*}\n",
       "\\item '1'\n",
       "\\item '2'\n",
       "\\item '3'\n",
       "\\end{enumerate*}\n"
      ],
      "text/markdown": [
       "1. 2\n",
       "2. 1\n",
       "3. 2\n",
       "4. 1\n",
       "5. 3\n",
       "\n",
       "\n",
       "\n",
       "**Levels**: 1. '1'\n",
       "2. '2'\n",
       "3. '3'\n",
       "\n",
       "\n"
      ],
      "text/plain": [
       "[1] 2 1 2 1 3\n",
       "Levels: 1 2 3"
      ]
     },
     "metadata": {},
     "output_type": "display_data"
    }
   ],
   "source": [
    "mod_pred = predict(mod,d)$class\n",
    "sample(mod_pred,5)"
   ]
  },
  {
   "cell_type": "markdown",
   "metadata": {},
   "source": [
    "### same answer as our own version"
   ]
  },
  {
   "cell_type": "code",
   "execution_count": 46,
   "metadata": {},
   "outputs": [
    {
     "data": {
      "text/html": [
       "0"
      ],
      "text/latex": [
       "0"
      ],
      "text/markdown": [
       "0"
      ],
      "text/plain": [
       "[1] 0"
      ]
     },
     "metadata": {},
     "output_type": "display_data"
    }
   ],
   "source": [
    "mean(as.integer(mod_pred)!=lda_preds)"
   ]
  },
  {
   "cell_type": "code",
   "execution_count": 10,
   "metadata": {},
   "outputs": [
    {
     "data": {
      "image/png": "[encoded data removed]",
      "text/plain": [
       "plot without title"
      ]
     },
     "metadata": {
      "image/png": {
       "height": 420,
       "width": 420
      }
     },
     "output_type": "display_data"
    }
   ],
   "source": [
    "ests = function(predfn){\n",
    "  xs = seq(min(d$x),max(d$x),.01)\n",
    "  lda_pred <- data.frame(\n",
    "    '1'=predfn(xs,1),\n",
    "    '2'=predfn(xs,2),\n",
    "    '3'=predfn(xs,3)\n",
    "  )\n",
    "  mlda_pred = melt(cbind(lda_pred,xs),id.vars='xs')\n",
    "  colnames(mlda_pred)<-c('x','group','value')\n",
    "  levels(mlda_pred$group) <- 1:3\n",
    "  lda_preds = data.frame('x'=xs,apply(lda_pred,1,which.max))\n",
    "  colnames(lda_preds) <- c('x','group')\n",
    "  lda_preds$group <- as.factor(lda_preds$group)\n",
    "  return(list(pfn=mlda_pred,preds=lda_preds))\n",
    "}\n",
    "\n",
    "ggplot(data=d,mapping=aes(x=x,color=group,group=group))+geom_density()+geom_point(mapping=aes(x=x,y=0))"
   ]
  },
  {
   "cell_type": "markdown",
   "metadata": {},
   "source": [
    "### LDA discr functions"
   ]
  },
  {
   "cell_type": "code",
   "execution_count": 11,
   "metadata": {},
   "outputs": [
    {
     "data": {
      "image/png": "[encoded data removed]",
      "text/plain": [
       "plot without title"
      ]
     },
     "metadata": {
      "image/png": {
       "height": 420,
       "width": 420
      }
     },
     "output_type": "display_data"
    }
   ],
   "source": [
    "ests_lda = ests(delta_lda)\n",
    "ggplot(data=ests_lda$pfn,mapping=aes(x=x,y=value,color=group))+geom_line(size=2)+geom_point(data=ests_lda$preds,mapping=aes(x=x,y=0))+\n",
    "  geom_density(data=d,mapping=aes(x=x,color=group,group=group),inherit.aes=FALSE)+ylim(0,.5)"
   ]
  },
  {
   "cell_type": "markdown",
   "metadata": {},
   "source": [
    "### discr funcs for second version"
   ]
  },
  {
   "cell_type": "code",
   "execution_count": 47,
   "metadata": {},
   "outputs": [
    {
     "name": "stderr",
     "output_type": "stream",
     "text": [
      "Warning message:\n",
      "\"Removed 3598 row(s) containing missing values (geom_path).\"\n"
     ]
    },
    {
     "data": {
      "image/png": "[encoded data removed]",
      "text/plain": [
       "plot without title"
      ]
     },
     "metadata": {
      "image/png": {
       "height": 420,
       "width": 420
      }
     },
     "output_type": "display_data"
    }
   ],
   "source": [
    "ests_lda2 = ests(delta_lda2)\n",
    "ggplot(data=ests_lda2$pfn,mapping=aes(x=x,y=value/100,color=group))+geom_line(size=2)+geom_point(data=ests_lda2$preds,mapping=aes(x=x,y=0))+\n",
    "  geom_density(data=d,mapping=aes(x=x,color=group,group=group),inherit.aes=FALSE)+ylim(0,.5)"
   ]
  }
 ],
 "metadata": {
  "jupytext": {
   "formats": "ipynb,Rmd,R"
  },
  "kernelspec": {
   "display_name": "R",
   "language": "R",
   "name": "ir"
  },
  "language_info": {
   "codemirror_mode": "r",
   "file_extension": ".r",
   "mimetype": "text/x-r-source",
   "name": "R",
   "pygments_lexer": "r",
   "version": "4.0.3"
  }
 },
 "nbformat": 4,
 "nbformat_minor": 4
}
