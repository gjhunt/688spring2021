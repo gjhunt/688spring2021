{
 "cells": [
  {
   "cell_type": "markdown",
   "metadata": {},
   "source": [
    "# Lab 2 - Linear Regression\n",
    "## Lecture 2"
   ]
  },
  {
   "cell_type": "code",
   "execution_count": null,
   "metadata": {},
   "outputs": [],
   "source": [
    "#install.packages('MASS')"
   ]
  },
  {
   "cell_type": "code",
   "execution_count": 3,
   "metadata": {},
   "outputs": [],
   "source": [
    "library('MASS')"
   ]
  },
  {
   "cell_type": "code",
   "execution_count": 4,
   "metadata": {},
   "outputs": [],
   "source": [
    "data(Boston)"
   ]
  },
  {
   "cell_type": "code",
   "execution_count": 5,
   "metadata": {},
   "outputs": [
    {
     "data": {
      "text/html": [
       "<style>\n",
       ".list-inline {list-style: none; margin:0; padding: 0}\n",
       ".list-inline>li {display: inline-block}\n",
       ".list-inline>li:not(:last-child)::after {content: \"\\00b7\"; padding: 0 .5ex}\n",
       "</style>\n",
       "<ol class=list-inline><li>506</li><li>14</li></ol>\n"
      ],
      "text/latex": [
       "\\begin{enumerate*}\n",
       "\\item 506\n",
       "\\item 14\n",
       "\\end{enumerate*}\n"
      ],
      "text/markdown": [
       "1. 506\n",
       "2. 14\n",
       "\n",
       "\n"
      ],
      "text/plain": [
       "[1] 506  14"
      ]
     },
     "metadata": {},
     "output_type": "display_data"
    }
   ],
   "source": [
    "dim(Boston)"
   ]
  },
  {
   "cell_type": "code",
   "execution_count": 7,
   "metadata": {},
   "outputs": [
    {
     "data": {
      "text/html": [
       "<table class=\"dataframe\">\n",
       "<caption>A data.frame: 5 × 14</caption>\n",
       "<thead>\n",
       "\t<tr><th></th><th scope=col>crim</th><th scope=col>zn</th><th scope=col>indus</th><th scope=col>chas</th><th scope=col>nox</th><th scope=col>rm</th><th scope=col>age</th><th scope=col>dis</th><th scope=col>rad</th><th scope=col>tax</th><th scope=col>ptratio</th><th scope=col>black</th><th scope=col>lstat</th><th scope=col>medv</th></tr>\n",
       "\t<tr><th></th><th scope=col>&lt;dbl&gt;</th><th scope=col>&lt;dbl&gt;</th><th scope=col>&lt;dbl&gt;</th><th scope=col>&lt;int&gt;</th><th scope=col>&lt;dbl&gt;</th><th scope=col>&lt;dbl&gt;</th><th scope=col>&lt;dbl&gt;</th><th scope=col>&lt;dbl&gt;</th><th scope=col>&lt;int&gt;</th><th scope=col>&lt;dbl&gt;</th><th scope=col>&lt;dbl&gt;</th><th scope=col>&lt;dbl&gt;</th><th scope=col>&lt;dbl&gt;</th><th scope=col>&lt;dbl&gt;</th></tr>\n",
       "</thead>\n",
       "<tbody>\n",
       "\t<tr><th scope=row>1</th><td>0.00632</td><td>18</td><td>2.31</td><td>0</td><td>0.538</td><td>6.575</td><td>65.2</td><td>4.0900</td><td>1</td><td>296</td><td>15.3</td><td>396.90</td><td>4.98</td><td>24.0</td></tr>\n",
       "\t<tr><th scope=row>2</th><td>0.02731</td><td> 0</td><td>7.07</td><td>0</td><td>0.469</td><td>6.421</td><td>78.9</td><td>4.9671</td><td>2</td><td>242</td><td>17.8</td><td>396.90</td><td>9.14</td><td>21.6</td></tr>\n",
       "\t<tr><th scope=row>3</th><td>0.02729</td><td> 0</td><td>7.07</td><td>0</td><td>0.469</td><td>7.185</td><td>61.1</td><td>4.9671</td><td>2</td><td>242</td><td>17.8</td><td>392.83</td><td>4.03</td><td>34.7</td></tr>\n",
       "\t<tr><th scope=row>4</th><td>0.03237</td><td> 0</td><td>2.18</td><td>0</td><td>0.458</td><td>6.998</td><td>45.8</td><td>6.0622</td><td>3</td><td>222</td><td>18.7</td><td>394.63</td><td>2.94</td><td>33.4</td></tr>\n",
       "\t<tr><th scope=row>5</th><td>0.06905</td><td> 0</td><td>2.18</td><td>0</td><td>0.458</td><td>7.147</td><td>54.2</td><td>6.0622</td><td>3</td><td>222</td><td>18.7</td><td>396.90</td><td>5.33</td><td>36.2</td></tr>\n",
       "</tbody>\n",
       "</table>\n"
      ],
      "text/latex": [
       "A data.frame: 5 × 14\n",
       "\\begin{tabular}{r|llllllllllllll}\n",
       "  & crim & zn & indus & chas & nox & rm & age & dis & rad & tax & ptratio & black & lstat & medv\\\\\n",
       "  & <dbl> & <dbl> & <dbl> & <int> & <dbl> & <dbl> & <dbl> & <dbl> & <int> & <dbl> & <dbl> & <dbl> & <dbl> & <dbl>\\\\\n",
       "\\hline\n",
       "\t1 & 0.00632 & 18 & 2.31 & 0 & 0.538 & 6.575 & 65.2 & 4.0900 & 1 & 296 & 15.3 & 396.90 & 4.98 & 24.0\\\\\n",
       "\t2 & 0.02731 &  0 & 7.07 & 0 & 0.469 & 6.421 & 78.9 & 4.9671 & 2 & 242 & 17.8 & 396.90 & 9.14 & 21.6\\\\\n",
       "\t3 & 0.02729 &  0 & 7.07 & 0 & 0.469 & 7.185 & 61.1 & 4.9671 & 2 & 242 & 17.8 & 392.83 & 4.03 & 34.7\\\\\n",
       "\t4 & 0.03237 &  0 & 2.18 & 0 & 0.458 & 6.998 & 45.8 & 6.0622 & 3 & 222 & 18.7 & 394.63 & 2.94 & 33.4\\\\\n",
       "\t5 & 0.06905 &  0 & 2.18 & 0 & 0.458 & 7.147 & 54.2 & 6.0622 & 3 & 222 & 18.7 & 396.90 & 5.33 & 36.2\\\\\n",
       "\\end{tabular}\n"
      ],
      "text/markdown": [
       "\n",
       "A data.frame: 5 × 14\n",
       "\n",
       "| <!--/--> | crim &lt;dbl&gt; | zn &lt;dbl&gt; | indus &lt;dbl&gt; | chas &lt;int&gt; | nox &lt;dbl&gt; | rm &lt;dbl&gt; | age &lt;dbl&gt; | dis &lt;dbl&gt; | rad &lt;int&gt; | tax &lt;dbl&gt; | ptratio &lt;dbl&gt; | black &lt;dbl&gt; | lstat &lt;dbl&gt; | medv &lt;dbl&gt; |\n",
       "|---|---|---|---|---|---|---|---|---|---|---|---|---|---|---|\n",
       "| 1 | 0.00632 | 18 | 2.31 | 0 | 0.538 | 6.575 | 65.2 | 4.0900 | 1 | 296 | 15.3 | 396.90 | 4.98 | 24.0 |\n",
       "| 2 | 0.02731 |  0 | 7.07 | 0 | 0.469 | 6.421 | 78.9 | 4.9671 | 2 | 242 | 17.8 | 396.90 | 9.14 | 21.6 |\n",
       "| 3 | 0.02729 |  0 | 7.07 | 0 | 0.469 | 7.185 | 61.1 | 4.9671 | 2 | 242 | 17.8 | 392.83 | 4.03 | 34.7 |\n",
       "| 4 | 0.03237 |  0 | 2.18 | 0 | 0.458 | 6.998 | 45.8 | 6.0622 | 3 | 222 | 18.7 | 394.63 | 2.94 | 33.4 |\n",
       "| 5 | 0.06905 |  0 | 2.18 | 0 | 0.458 | 7.147 | 54.2 | 6.0622 | 3 | 222 | 18.7 | 396.90 | 5.33 | 36.2 |\n",
       "\n"
      ],
      "text/plain": [
       "  crim    zn indus chas nox   rm    age  dis    rad tax ptratio black  lstat\n",
       "1 0.00632 18 2.31  0    0.538 6.575 65.2 4.0900 1   296 15.3    396.90 4.98 \n",
       "2 0.02731  0 7.07  0    0.469 6.421 78.9 4.9671 2   242 17.8    396.90 9.14 \n",
       "3 0.02729  0 7.07  0    0.469 7.185 61.1 4.9671 2   242 17.8    392.83 4.03 \n",
       "4 0.03237  0 2.18  0    0.458 6.998 45.8 6.0622 3   222 18.7    394.63 2.94 \n",
       "5 0.06905  0 2.18  0    0.458 7.147 54.2 6.0622 3   222 18.7    396.90 5.33 \n",
       "  medv\n",
       "1 24.0\n",
       "2 21.6\n",
       "3 34.7\n",
       "4 33.4\n",
       "5 36.2"
      ]
     },
     "metadata": {},
     "output_type": "display_data"
    }
   ],
   "source": [
    "Boston[1:5,]"
   ]
  },
  {
   "cell_type": "code",
   "execution_count": 9,
   "metadata": {},
   "outputs": [
    {
     "data": {
      "text/html": [
       "\n",
       "<table width=\"100%\" summary=\"page for Boston {MASS}\"><tr><td>Boston {MASS}</td><td style=\"text-align: right;\">R Documentation</td></tr></table>\n",
       "\n",
       "<h2>\n",
       "Housing Values in Suburbs of Boston\n",
       "</h2>\n",
       "\n",
       "<h3>Description</h3>\n",
       "\n",
       "<p>The <code>Boston</code> data frame has 506 rows and 14 columns.\n",
       "</p>\n",
       "\n",
       "\n",
       "<h3>Usage</h3>\n",
       "\n",
       "<pre>\n",
       "Boston\n",
       "</pre>\n",
       "\n",
       "\n",
       "<h3>Format</h3>\n",
       "\n",
       "<p>This data frame contains the following columns:\n",
       "</p>\n",
       "\n",
       "<dl>\n",
       "<dt><code>crim</code></dt><dd>\n",
       "<p>per capita crime rate by town.\n",
       "</p>\n",
       "</dd>\n",
       "<dt><code>zn</code></dt><dd>\n",
       "<p>proportion of residential land zoned for lots over 25,000 sq.ft.\n",
       "</p>\n",
       "</dd>\n",
       "<dt><code>indus</code></dt><dd>\n",
       "<p>proportion of non-retail business acres per town.\n",
       "</p>\n",
       "</dd>\n",
       "<dt><code>chas</code></dt><dd>\n",
       "<p>Charles River dummy variable (= 1 if tract bounds river; 0 otherwise).\n",
       "</p>\n",
       "</dd>\n",
       "<dt><code>nox</code></dt><dd>\n",
       "<p>nitrogen oxides concentration (parts per 10 million).\n",
       "</p>\n",
       "</dd>\n",
       "<dt><code>rm</code></dt><dd>\n",
       "<p>average number of rooms per dwelling.\n",
       "</p>\n",
       "</dd>\n",
       "<dt><code>age</code></dt><dd>\n",
       "<p>proportion of owner-occupied units built prior to 1940.\n",
       "</p>\n",
       "</dd>\n",
       "<dt><code>dis</code></dt><dd>\n",
       "<p>weighted mean of distances to five Boston employment centres.\n",
       "</p>\n",
       "</dd>\n",
       "<dt><code>rad</code></dt><dd>\n",
       "<p>index of accessibility to radial highways.\n",
       "</p>\n",
       "</dd>\n",
       "<dt><code>tax</code></dt><dd>\n",
       "<p>full-value property-tax rate per \\$10,000.\n",
       "</p>\n",
       "</dd>\n",
       "<dt><code>ptratio</code></dt><dd>\n",
       "<p>pupil-teacher ratio by town.\n",
       "</p>\n",
       "</dd>\n",
       "<dt><code>black</code></dt><dd>\n",
       "<p><i>1000(Bk - 0.63)^2</i> where <i>Bk</i> is the proportion of blacks\n",
       "by town.\n",
       "</p>\n",
       "</dd>\n",
       "<dt><code>lstat</code></dt><dd>\n",
       "<p>lower status of the population (percent).\n",
       "</p>\n",
       "</dd>\n",
       "<dt><code>medv</code></dt><dd>\n",
       "<p>median value of owner-occupied homes in \\$1000s.\n",
       "</p>\n",
       "</dd>\n",
       "</dl>\n",
       "\n",
       "\n",
       "\n",
       "<h3>Source</h3>\n",
       "\n",
       "<p>Harrison, D. and Rubinfeld, D.L. (1978)\n",
       "Hedonic prices and the demand for clean air.\n",
       "<em>J. Environ. Economics and Management</em>\n",
       "<b>5</b>, 81&ndash;102.\n",
       "</p>\n",
       "<p>Belsley D.A., Kuh, E.  and Welsch, R.E. (1980)\n",
       "<em>Regression Diagnostics. Identifying Influential Data and Sources\n",
       "of Collinearity.</em>\n",
       "New York: Wiley.\n",
       "</p>\n",
       "\n",
       "<hr /><div style=\"text-align: center;\">[Package <em>MASS</em> version 7.3-53 ]</div>"
      ],
      "text/latex": [
       "\\inputencoding{utf8}\n",
       "\\HeaderA{Boston}{Housing Values in Suburbs of Boston}{Boston}\n",
       "\\keyword{datasets}{Boston}\n",
       "%\n",
       "\\begin{Description}\\relax\n",
       "The \\code{Boston} data frame has 506 rows and 14 columns.\n",
       "\\end{Description}\n",
       "%\n",
       "\\begin{Usage}\n",
       "\\begin{verbatim}\n",
       "Boston\n",
       "\\end{verbatim}\n",
       "\\end{Usage}\n",
       "%\n",
       "\\begin{Format}\n",
       "This data frame contains the following columns:\n",
       "\\begin{description}\n",
       "\n",
       "\\item[\\code{crim}] \n",
       "per capita crime rate by town.\n",
       "\n",
       "\\item[\\code{zn}] \n",
       "proportion of residential land zoned for lots over 25,000 sq.ft.\n",
       "\n",
       "\\item[\\code{indus}] \n",
       "proportion of non-retail business acres per town.\n",
       "\n",
       "\\item[\\code{chas}] \n",
       "Charles River dummy variable (= 1 if tract bounds river; 0 otherwise).\n",
       "\n",
       "\\item[\\code{nox}] \n",
       "nitrogen oxides concentration (parts per 10 million).\n",
       "\n",
       "\\item[\\code{rm}] \n",
       "average number of rooms per dwelling.\n",
       "\n",
       "\\item[\\code{age}] \n",
       "proportion of owner-occupied units built prior to 1940.\n",
       "\n",
       "\\item[\\code{dis}] \n",
       "weighted mean of distances to five Boston employment centres.\n",
       "\n",
       "\\item[\\code{rad}] \n",
       "index of accessibility to radial highways.\n",
       "\n",
       "\\item[\\code{tax}] \n",
       "full-value property-tax rate per \\bsl{}\\$10,000.\n",
       "\n",
       "\\item[\\code{ptratio}] \n",
       "pupil-teacher ratio by town.\n",
       "\n",
       "\\item[\\code{black}] \n",
       "\\eqn{1000(Bk - 0.63)^2}{} where \\eqn{Bk}{} is the proportion of blacks\n",
       "by town.\n",
       "\n",
       "\\item[\\code{lstat}] \n",
       "lower status of the population (percent).\n",
       "\n",
       "\\item[\\code{medv}] \n",
       "median value of owner-occupied homes in \\bsl{}\\$1000s.\n",
       "\n",
       "\n",
       "\\end{description}\n",
       "\n",
       "\\end{Format}\n",
       "%\n",
       "\\begin{Source}\\relax\n",
       "Harrison, D. and Rubinfeld, D.L. (1978)\n",
       "Hedonic prices and the demand for clean air.\n",
       "\\emph{J. Environ. Economics and Management}\n",
       "\\bold{5}, 81--102.\n",
       "\n",
       "Belsley D.A., Kuh, E.  and Welsch, R.E. (1980)\n",
       "\\emph{Regression Diagnostics. Identifying Influential Data and Sources\n",
       "of Collinearity.}\n",
       "New York: Wiley.\n",
       "\\end{Source}"
      ],
      "text/plain": [
       "Boston                  package:MASS                   R Documentation\n",
       "\n",
       "_\bH_\bo_\bu_\bs_\bi_\bn_\bg _\bV_\ba_\bl_\bu_\be_\bs _\bi_\bn _\bS_\bu_\bb_\bu_\br_\bb_\bs _\bo_\bf _\bB_\bo_\bs_\bt_\bo_\bn\n",
       "\n",
       "_\bD_\be_\bs_\bc_\br_\bi_\bp_\bt_\bi_\bo_\bn:\n",
       "\n",
       "     The 'Boston' data frame has 506 rows and 14 columns.\n",
       "\n",
       "_\bU_\bs_\ba_\bg_\be:\n",
       "\n",
       "     Boston\n",
       "     \n",
       "_\bF_\bo_\br_\bm_\ba_\bt:\n",
       "\n",
       "     This data frame contains the following columns:\n",
       "\n",
       "     'crim' per capita crime rate by town.\n",
       "\n",
       "     'zn' proportion of residential land zoned for lots over 25,000\n",
       "          sq.ft.\n",
       "\n",
       "     'indus' proportion of non-retail business acres per town.\n",
       "\n",
       "     'chas' Charles River dummy variable (= 1 if tract bounds river; 0\n",
       "          otherwise).\n",
       "\n",
       "     'nox' nitrogen oxides concentration (parts per 10 million).\n",
       "\n",
       "     'rm' average number of rooms per dwelling.\n",
       "\n",
       "     'age' proportion of owner-occupied units built prior to 1940.\n",
       "\n",
       "     'dis' weighted mean of distances to five Boston employment\n",
       "          centres.\n",
       "\n",
       "     'rad' index of accessibility to radial highways.\n",
       "\n",
       "     'tax' full-value property-tax rate per \\$10,000.\n",
       "\n",
       "     'ptratio' pupil-teacher ratio by town.\n",
       "\n",
       "     'black' 1000(Bk - 0.63)^2 where Bk is the proportion of blacks by\n",
       "          town.\n",
       "\n",
       "     'lstat' lower status of the population (percent).\n",
       "\n",
       "     'medv' median value of owner-occupied homes in \\$1000s.\n",
       "\n",
       "_\bS_\bo_\bu_\br_\bc_\be:\n",
       "\n",
       "     Harrison, D. and Rubinfeld, D.L. (1978) Hedonic prices and the\n",
       "     demand for clean air.  _J. Environ. Economics and Management_ *5*,\n",
       "     81-102.\n",
       "\n",
       "     Belsley D.A., Kuh, E.  and Welsch, R.E. (1980) _Regression\n",
       "     Diagnostics. Identifying Influential Data and Sources of\n",
       "     Collinearity._ New York: Wiley.\n"
      ]
     },
     "metadata": {},
     "output_type": "display_data"
    }
   ],
   "source": [
    "?Boston"
   ]
  },
  {
   "cell_type": "markdown",
   "metadata": {},
   "source": [
    "let's fit a regression to predict the median house value from the crime rate "
   ]
  },
  {
   "cell_type": "code",
   "execution_count": 14,
   "metadata": {},
   "outputs": [
    {
     "data": {
      "image/png": "[encoded data removed]",
      "text/plain": [
       "plot without title"
      ]
     },
     "metadata": {
      "image/png": {
       "height": 420,
       "width": 420
      }
     },
     "output_type": "display_data"
    }
   ],
   "source": [
    "plot(log(Boston$crim),log(Boston$medv))"
   ]
  },
  {
   "cell_type": "markdown",
   "metadata": {},
   "source": [
    "`medv~crim` basically says `medv = beta0 + beta1*crim`"
   ]
  },
  {
   "cell_type": "code",
   "execution_count": 16,
   "metadata": {},
   "outputs": [
    {
     "data": {
      "text/plain": [
       "\n",
       "Call:\n",
       "lm(formula = medv ~ crim, data = Boston)\n",
       "\n",
       "Coefficients:\n",
       "(Intercept)         crim  \n",
       "    24.0331      -0.4152  \n"
      ]
     },
     "metadata": {},
     "output_type": "display_data"
    }
   ],
   "source": [
    "mod = lm(medv~crim,data=Boston)\n",
    "mod"
   ]
  },
  {
   "cell_type": "code",
   "execution_count": 17,
   "metadata": {},
   "outputs": [
    {
     "data": {
      "text/plain": [
       "\n",
       "Call:\n",
       "lm(formula = medv ~ crim, data = Boston)\n",
       "\n",
       "Residuals:\n",
       "    Min      1Q  Median      3Q     Max \n",
       "-16.957  -5.449  -2.007   2.512  29.800 \n",
       "\n",
       "Coefficients:\n",
       "            Estimate Std. Error t value Pr(>|t|)    \n",
       "(Intercept) 24.03311    0.40914   58.74   <2e-16 ***\n",
       "crim        -0.41519    0.04389   -9.46   <2e-16 ***\n",
       "---\n",
       "Signif. codes:  0 '***' 0.001 '**' 0.01 '*' 0.05 '.' 0.1 ' ' 1\n",
       "\n",
       "Residual standard error: 8.484 on 504 degrees of freedom\n",
       "Multiple R-squared:  0.1508,\tAdjusted R-squared:  0.1491 \n",
       "F-statistic: 89.49 on 1 and 504 DF,  p-value: < 2.2e-16\n"
      ]
     },
     "metadata": {},
     "output_type": "display_data"
    }
   ],
   "source": [
    "summary(mod)"
   ]
  },
  {
   "cell_type": "code",
   "execution_count": 18,
   "metadata": {},
   "outputs": [
    {
     "data": {
      "text/html": [
       "<style>\n",
       ".dl-inline {width: auto; margin:0; padding: 0}\n",
       ".dl-inline>dt, .dl-inline>dd {float: none; width: auto; display: inline-block}\n",
       ".dl-inline>dt::after {content: \":\\0020\"; padding-right: .5ex}\n",
       ".dl-inline>dt:not(:first-of-type) {padding-left: .5ex}\n",
       "</style><dl class=dl-inline><dt>(Intercept)</dt><dd>24.0331061741239</dd><dt>crim</dt><dd>-0.41519027791509</dd></dl>\n"
      ],
      "text/latex": [
       "\\begin{description*}\n",
       "\\item[(Intercept)] 24.0331061741239\n",
       "\\item[crim] -0.41519027791509\n",
       "\\end{description*}\n"
      ],
      "text/markdown": [
       "(Intercept)\n",
       ":   24.0331061741239crim\n",
       ":   -0.41519027791509\n",
       "\n"
      ],
      "text/plain": [
       "(Intercept)        crim \n",
       " 24.0331062  -0.4151903 "
      ]
     },
     "metadata": {},
     "output_type": "display_data"
    }
   ],
   "source": [
    "mod$coef"
   ]
  },
  {
   "cell_type": "code",
   "execution_count": 19,
   "metadata": {},
   "outputs": [
    {
     "data": {
      "image/png": "[encoded data removed]",
      "text/plain": [
       "plot without title"
      ]
     },
     "metadata": {
      "image/png": {
       "height": 420,
       "width": 420
      }
     },
     "output_type": "display_data"
    }
   ],
   "source": [
    "plot(Boston$crim,Boston$medv)\n",
    "abline(coef=mod$coef)"
   ]
  },
  {
   "cell_type": "code",
   "execution_count": 37,
   "metadata": {},
   "outputs": [
    {
     "data": {
      "text/html": [
       "<table class=\"dataframe\">\n",
       "<caption>A matrix: 506 × 2 of type dbl</caption>\n",
       "<tbody>\n",
       "\t<tr><td>1</td><td>0.00632</td></tr>\n",
       "\t<tr><td>1</td><td>0.02731</td></tr>\n",
       "\t<tr><td>1</td><td>0.02729</td></tr>\n",
       "\t<tr><td>1</td><td>0.03237</td></tr>\n",
       "\t<tr><td>1</td><td>0.06905</td></tr>\n",
       "\t<tr><td>1</td><td>0.02985</td></tr>\n",
       "\t<tr><td>1</td><td>0.08829</td></tr>\n",
       "\t<tr><td>1</td><td>0.14455</td></tr>\n",
       "\t<tr><td>1</td><td>0.21124</td></tr>\n",
       "\t<tr><td>1</td><td>0.17004</td></tr>\n",
       "\t<tr><td>1</td><td>0.22489</td></tr>\n",
       "\t<tr><td>1</td><td>0.11747</td></tr>\n",
       "\t<tr><td>1</td><td>0.09378</td></tr>\n",
       "\t<tr><td>1</td><td>0.62976</td></tr>\n",
       "\t<tr><td>1</td><td>0.63796</td></tr>\n",
       "\t<tr><td>1</td><td>0.62739</td></tr>\n",
       "\t<tr><td>1</td><td>1.05393</td></tr>\n",
       "\t<tr><td>1</td><td>0.78420</td></tr>\n",
       "\t<tr><td>1</td><td>0.80271</td></tr>\n",
       "\t<tr><td>1</td><td>0.72580</td></tr>\n",
       "\t<tr><td>1</td><td>1.25179</td></tr>\n",
       "\t<tr><td>1</td><td>0.85204</td></tr>\n",
       "\t<tr><td>1</td><td>1.23247</td></tr>\n",
       "\t<tr><td>1</td><td>0.98843</td></tr>\n",
       "\t<tr><td>1</td><td>0.75026</td></tr>\n",
       "\t<tr><td>1</td><td>0.84054</td></tr>\n",
       "\t<tr><td>1</td><td>0.67191</td></tr>\n",
       "\t<tr><td>1</td><td>0.95577</td></tr>\n",
       "\t<tr><td>1</td><td>0.77299</td></tr>\n",
       "\t<tr><td>1</td><td>1.00245</td></tr>\n",
       "\t<tr><td>...</td><td>...</td></tr>\n",
       "\t<tr><td>1</td><td> 4.87141</td></tr>\n",
       "\t<tr><td>1</td><td>15.02340</td></tr>\n",
       "\t<tr><td>1</td><td>10.23300</td></tr>\n",
       "\t<tr><td>1</td><td>14.33370</td></tr>\n",
       "\t<tr><td>1</td><td> 5.82401</td></tr>\n",
       "\t<tr><td>1</td><td> 5.70818</td></tr>\n",
       "\t<tr><td>1</td><td> 5.73116</td></tr>\n",
       "\t<tr><td>1</td><td> 2.81838</td></tr>\n",
       "\t<tr><td>1</td><td> 2.37857</td></tr>\n",
       "\t<tr><td>1</td><td> 3.67367</td></tr>\n",
       "\t<tr><td>1</td><td> 5.69175</td></tr>\n",
       "\t<tr><td>1</td><td> 4.83567</td></tr>\n",
       "\t<tr><td>1</td><td> 0.15086</td></tr>\n",
       "\t<tr><td>1</td><td> 0.18337</td></tr>\n",
       "\t<tr><td>1</td><td> 0.20746</td></tr>\n",
       "\t<tr><td>1</td><td> 0.10574</td></tr>\n",
       "\t<tr><td>1</td><td> 0.11132</td></tr>\n",
       "\t<tr><td>1</td><td> 0.17331</td></tr>\n",
       "\t<tr><td>1</td><td> 0.27957</td></tr>\n",
       "\t<tr><td>1</td><td> 0.17899</td></tr>\n",
       "\t<tr><td>1</td><td> 0.28960</td></tr>\n",
       "\t<tr><td>1</td><td> 0.26838</td></tr>\n",
       "\t<tr><td>1</td><td> 0.23912</td></tr>\n",
       "\t<tr><td>1</td><td> 0.17783</td></tr>\n",
       "\t<tr><td>1</td><td> 0.22438</td></tr>\n",
       "\t<tr><td>1</td><td> 0.06263</td></tr>\n",
       "\t<tr><td>1</td><td> 0.04527</td></tr>\n",
       "\t<tr><td>1</td><td> 0.06076</td></tr>\n",
       "\t<tr><td>1</td><td> 0.10959</td></tr>\n",
       "\t<tr><td>1</td><td> 0.04741</td></tr>\n",
       "</tbody>\n",
       "</table>\n"
      ],
      "text/latex": [
       "A matrix: 506 × 2 of type dbl\n",
       "\\begin{tabular}{ll}\n",
       "\t 1 & 0.00632\\\\\n",
       "\t 1 & 0.02731\\\\\n",
       "\t 1 & 0.02729\\\\\n",
       "\t 1 & 0.03237\\\\\n",
       "\t 1 & 0.06905\\\\\n",
       "\t 1 & 0.02985\\\\\n",
       "\t 1 & 0.08829\\\\\n",
       "\t 1 & 0.14455\\\\\n",
       "\t 1 & 0.21124\\\\\n",
       "\t 1 & 0.17004\\\\\n",
       "\t 1 & 0.22489\\\\\n",
       "\t 1 & 0.11747\\\\\n",
       "\t 1 & 0.09378\\\\\n",
       "\t 1 & 0.62976\\\\\n",
       "\t 1 & 0.63796\\\\\n",
       "\t 1 & 0.62739\\\\\n",
       "\t 1 & 1.05393\\\\\n",
       "\t 1 & 0.78420\\\\\n",
       "\t 1 & 0.80271\\\\\n",
       "\t 1 & 0.72580\\\\\n",
       "\t 1 & 1.25179\\\\\n",
       "\t 1 & 0.85204\\\\\n",
       "\t 1 & 1.23247\\\\\n",
       "\t 1 & 0.98843\\\\\n",
       "\t 1 & 0.75026\\\\\n",
       "\t 1 & 0.84054\\\\\n",
       "\t 1 & 0.67191\\\\\n",
       "\t 1 & 0.95577\\\\\n",
       "\t 1 & 0.77299\\\\\n",
       "\t 1 & 1.00245\\\\\n",
       "\t ... & ...\\\\\n",
       "\t 1 &  4.87141\\\\\n",
       "\t 1 & 15.02340\\\\\n",
       "\t 1 & 10.23300\\\\\n",
       "\t 1 & 14.33370\\\\\n",
       "\t 1 &  5.82401\\\\\n",
       "\t 1 &  5.70818\\\\\n",
       "\t 1 &  5.73116\\\\\n",
       "\t 1 &  2.81838\\\\\n",
       "\t 1 &  2.37857\\\\\n",
       "\t 1 &  3.67367\\\\\n",
       "\t 1 &  5.69175\\\\\n",
       "\t 1 &  4.83567\\\\\n",
       "\t 1 &  0.15086\\\\\n",
       "\t 1 &  0.18337\\\\\n",
       "\t 1 &  0.20746\\\\\n",
       "\t 1 &  0.10574\\\\\n",
       "\t 1 &  0.11132\\\\\n",
       "\t 1 &  0.17331\\\\\n",
       "\t 1 &  0.27957\\\\\n",
       "\t 1 &  0.17899\\\\\n",
       "\t 1 &  0.28960\\\\\n",
       "\t 1 &  0.26838\\\\\n",
       "\t 1 &  0.23912\\\\\n",
       "\t 1 &  0.17783\\\\\n",
       "\t 1 &  0.22438\\\\\n",
       "\t 1 &  0.06263\\\\\n",
       "\t 1 &  0.04527\\\\\n",
       "\t 1 &  0.06076\\\\\n",
       "\t 1 &  0.10959\\\\\n",
       "\t 1 &  0.04741\\\\\n",
       "\\end{tabular}\n"
      ],
      "text/markdown": [
       "\n",
       "A matrix: 506 × 2 of type dbl\n",
       "\n",
       "| 1 | 0.00632 |\n",
       "| 1 | 0.02731 |\n",
       "| 1 | 0.02729 |\n",
       "| 1 | 0.03237 |\n",
       "| 1 | 0.06905 |\n",
       "| 1 | 0.02985 |\n",
       "| 1 | 0.08829 |\n",
       "| 1 | 0.14455 |\n",
       "| 1 | 0.21124 |\n",
       "| 1 | 0.17004 |\n",
       "| 1 | 0.22489 |\n",
       "| 1 | 0.11747 |\n",
       "| 1 | 0.09378 |\n",
       "| 1 | 0.62976 |\n",
       "| 1 | 0.63796 |\n",
       "| 1 | 0.62739 |\n",
       "| 1 | 1.05393 |\n",
       "| 1 | 0.78420 |\n",
       "| 1 | 0.80271 |\n",
       "| 1 | 0.72580 |\n",
       "| 1 | 1.25179 |\n",
       "| 1 | 0.85204 |\n",
       "| 1 | 1.23247 |\n",
       "| 1 | 0.98843 |\n",
       "| 1 | 0.75026 |\n",
       "| 1 | 0.84054 |\n",
       "| 1 | 0.67191 |\n",
       "| 1 | 0.95577 |\n",
       "| 1 | 0.77299 |\n",
       "| 1 | 1.00245 |\n",
       "| ... | ... |\n",
       "| 1 |  4.87141 |\n",
       "| 1 | 15.02340 |\n",
       "| 1 | 10.23300 |\n",
       "| 1 | 14.33370 |\n",
       "| 1 |  5.82401 |\n",
       "| 1 |  5.70818 |\n",
       "| 1 |  5.73116 |\n",
       "| 1 |  2.81838 |\n",
       "| 1 |  2.37857 |\n",
       "| 1 |  3.67367 |\n",
       "| 1 |  5.69175 |\n",
       "| 1 |  4.83567 |\n",
       "| 1 |  0.15086 |\n",
       "| 1 |  0.18337 |\n",
       "| 1 |  0.20746 |\n",
       "| 1 |  0.10574 |\n",
       "| 1 |  0.11132 |\n",
       "| 1 |  0.17331 |\n",
       "| 1 |  0.27957 |\n",
       "| 1 |  0.17899 |\n",
       "| 1 |  0.28960 |\n",
       "| 1 |  0.26838 |\n",
       "| 1 |  0.23912 |\n",
       "| 1 |  0.17783 |\n",
       "| 1 |  0.22438 |\n",
       "| 1 |  0.06263 |\n",
       "| 1 |  0.04527 |\n",
       "| 1 |  0.06076 |\n",
       "| 1 |  0.10959 |\n",
       "| 1 |  0.04741 |\n",
       "\n"
      ],
      "text/plain": [
       "      [,1] [,2]    \n",
       " [1,] 1    0.00632 \n",
       " [2,] 1    0.02731 \n",
       " [3,] 1    0.02729 \n",
       " [4,] 1    0.03237 \n",
       " [5,] 1    0.06905 \n",
       " [6,] 1    0.02985 \n",
       " [7,] 1    0.08829 \n",
       " [8,] 1    0.14455 \n",
       " [9,] 1    0.21124 \n",
       "[10,] 1    0.17004 \n",
       "[11,] 1    0.22489 \n",
       "[12,] 1    0.11747 \n",
       "[13,] 1    0.09378 \n",
       "[14,] 1    0.62976 \n",
       "[15,] 1    0.63796 \n",
       "[16,] 1    0.62739 \n",
       "[17,] 1    1.05393 \n",
       "[18,] 1    0.78420 \n",
       "[19,] 1    0.80271 \n",
       "[20,] 1    0.72580 \n",
       "[21,] 1    1.25179 \n",
       "[22,] 1    0.85204 \n",
       "[23,] 1    1.23247 \n",
       "[24,] 1    0.98843 \n",
       "[25,] 1    0.75026 \n",
       "[26,] 1    0.84054 \n",
       "[27,] 1    0.67191 \n",
       "[28,] 1    0.95577 \n",
       "[29,] 1    0.77299 \n",
       "[30,] 1    1.00245 \n",
       "[31,] ...  ...     \n",
       "[32,] 1     4.87141\n",
       "[33,] 1    15.02340\n",
       "[34,] 1    10.23300\n",
       "[35,] 1    14.33370\n",
       "[36,] 1     5.82401\n",
       "[37,] 1     5.70818\n",
       "[38,] 1     5.73116\n",
       "[39,] 1     2.81838\n",
       "[40,] 1     2.37857\n",
       "[41,] 1     3.67367\n",
       "[42,] 1     5.69175\n",
       "[43,] 1     4.83567\n",
       "[44,] 1     0.15086\n",
       "[45,] 1     0.18337\n",
       "[46,] 1     0.20746\n",
       "[47,] 1     0.10574\n",
       "[48,] 1     0.11132\n",
       "[49,] 1     0.17331\n",
       "[50,] 1     0.27957\n",
       "[51,] 1     0.17899\n",
       "[52,] 1     0.28960\n",
       "[53,] 1     0.26838\n",
       "[54,] 1     0.23912\n",
       "[55,] 1     0.17783\n",
       "[56,] 1     0.22438\n",
       "[57,] 1     0.06263\n",
       "[58,] 1     0.04527\n",
       "[59,] 1     0.06076\n",
       "[60,] 1     0.10959\n",
       "[61,] 1     0.04741"
      ]
     },
     "metadata": {},
     "output_type": "display_data"
    }
   ],
   "source": [
    "X = array(Boston$crim,c(506,1))\n",
    "X = cbind(1,X)\n",
    "X"
   ]
  },
  {
   "cell_type": "code",
   "execution_count": 38,
   "metadata": {},
   "outputs": [],
   "source": [
    "y = array(Boston$medv,c(506,1))"
   ]
  },
  {
   "cell_type": "code",
   "execution_count": 39,
   "metadata": {},
   "outputs": [],
   "source": [
    "beta_hat = ginv(t(X)%*%X)%*%t(X)%*%y"
   ]
  },
  {
   "cell_type": "code",
   "execution_count": 41,
   "metadata": {},
   "outputs": [
    {
     "data": {
      "text/html": [
       "<table class=\"dataframe\">\n",
       "<caption>A matrix: 2 × 1 of type dbl</caption>\n",
       "<tbody>\n",
       "\t<tr><td>24.0331062</td></tr>\n",
       "\t<tr><td>-0.4151903</td></tr>\n",
       "</tbody>\n",
       "</table>\n"
      ],
      "text/latex": [
       "A matrix: 2 × 1 of type dbl\n",
       "\\begin{tabular}{l}\n",
       "\t 24.0331062\\\\\n",
       "\t -0.4151903\\\\\n",
       "\\end{tabular}\n"
      ],
      "text/markdown": [
       "\n",
       "A matrix: 2 × 1 of type dbl\n",
       "\n",
       "| 24.0331062 |\n",
       "| -0.4151903 |\n",
       "\n"
      ],
      "text/plain": [
       "     [,1]      \n",
       "[1,] 24.0331062\n",
       "[2,] -0.4151903"
      ]
     },
     "metadata": {},
     "output_type": "display_data"
    }
   ],
   "source": [
    "beta_hat"
   ]
  },
  {
   "cell_type": "code",
   "execution_count": 45,
   "metadata": {},
   "outputs": [
    {
     "data": {
      "text/html": [
       "<style>\n",
       ".dl-inline {width: auto; margin:0; padding: 0}\n",
       ".dl-inline>dt, .dl-inline>dd {float: none; width: auto; display: inline-block}\n",
       ".dl-inline>dt::after {content: \":\\0020\"; padding-right: .5ex}\n",
       ".dl-inline>dt:not(:first-of-type) {padding-left: .5ex}\n",
       "</style><dl class=dl-inline><dt>1</dt><dd>24.0304821715674</dd><dt>2</dt><dd>24.021767327634</dd><dt>3</dt><dd>24.0217756314396</dd><dt>4</dt><dd>24.0196664648278</dd><dt>5</dt><dd>24.0044372854338</dd><dt>6</dt><dd>24.0207127443281</dd></dl>\n"
      ],
      "text/latex": [
       "\\begin{description*}\n",
       "\\item[1] 24.0304821715674\n",
       "\\item[2] 24.021767327634\n",
       "\\item[3] 24.0217756314396\n",
       "\\item[4] 24.0196664648278\n",
       "\\item[5] 24.0044372854338\n",
       "\\item[6] 24.0207127443281\n",
       "\\end{description*}\n"
      ],
      "text/markdown": [
       "1\n",
       ":   24.03048217156742\n",
       ":   24.0217673276343\n",
       ":   24.02177563143964\n",
       ":   24.01966646482785\n",
       ":   24.00443728543386\n",
       ":   24.0207127443281\n",
       "\n"
      ],
      "text/plain": [
       "       1        2        3        4        5        6 \n",
       "24.03048 24.02177 24.02178 24.01967 24.00444 24.02071 "
      ]
     },
     "metadata": {},
     "output_type": "display_data"
    }
   ],
   "source": [
    "y_hat_mod = predict(mod)\n",
    "head(y_hat_mod)"
   ]
  },
  {
   "cell_type": "code",
   "execution_count": 46,
   "metadata": {},
   "outputs": [],
   "source": [
    "y_hat = X%*%beta_hat"
   ]
  },
  {
   "cell_type": "code",
   "execution_count": 47,
   "metadata": {},
   "outputs": [
    {
     "data": {
      "text/html": [
       "<table class=\"dataframe\">\n",
       "<caption>A matrix: 6 × 1 of type dbl</caption>\n",
       "<tbody>\n",
       "\t<tr><td>24.03048</td></tr>\n",
       "\t<tr><td>24.02177</td></tr>\n",
       "\t<tr><td>24.02178</td></tr>\n",
       "\t<tr><td>24.01967</td></tr>\n",
       "\t<tr><td>24.00444</td></tr>\n",
       "\t<tr><td>24.02071</td></tr>\n",
       "</tbody>\n",
       "</table>\n"
      ],
      "text/latex": [
       "A matrix: 6 × 1 of type dbl\n",
       "\\begin{tabular}{l}\n",
       "\t 24.03048\\\\\n",
       "\t 24.02177\\\\\n",
       "\t 24.02178\\\\\n",
       "\t 24.01967\\\\\n",
       "\t 24.00444\\\\\n",
       "\t 24.02071\\\\\n",
       "\\end{tabular}\n"
      ],
      "text/markdown": [
       "\n",
       "A matrix: 6 × 1 of type dbl\n",
       "\n",
       "| 24.03048 |\n",
       "| 24.02177 |\n",
       "| 24.02178 |\n",
       "| 24.01967 |\n",
       "| 24.00444 |\n",
       "| 24.02071 |\n",
       "\n"
      ],
      "text/plain": [
       "     [,1]    \n",
       "[1,] 24.03048\n",
       "[2,] 24.02177\n",
       "[3,] 24.02178\n",
       "[4,] 24.01967\n",
       "[5,] 24.00444\n",
       "[6,] 24.02071"
      ]
     },
     "metadata": {},
     "output_type": "display_data"
    }
   ],
   "source": [
    "head(y_hat)"
   ]
  },
  {
   "cell_type": "code",
   "execution_count": 48,
   "metadata": {},
   "outputs": [
    {
     "data": {
      "image/png": "[encoded data removed]",
      "text/plain": [
       "plot without title"
      ]
     },
     "metadata": {
      "image/png": {
       "height": 420,
       "width": 420
      }
     },
     "output_type": "display_data"
    }
   ],
   "source": [
    "plot(Boston$medv,y_hat)"
   ]
  },
  {
   "cell_type": "code",
   "execution_count": null,
   "metadata": {},
   "outputs": [],
   "source": []
  }
 ],
 "metadata": {
  "jupytext": {
   "formats": "ipynb,Rmd,R"
  },
  "kernelspec": {
   "display_name": "R",
   "language": "R",
   "name": "ir"
  },
  "language_info": {
   "codemirror_mode": "r",
   "file_extension": ".r",
   "mimetype": "text/x-r-source",
   "name": "R",
   "pygments_lexer": "r",
   "version": "4.0.3"
  }
 },
 "nbformat": 4,
 "nbformat_minor": 4
}
