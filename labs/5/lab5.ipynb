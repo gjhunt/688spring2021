{
 "cells": [
  {
   "cell_type": "markdown",
   "metadata": {},
   "source": [
    "# Lab 5"
   ]
  },
  {
   "cell_type": "markdown",
   "metadata": {},
   "source": [
    "## lecture 5 "
   ]
  },
  {
   "cell_type": "code",
   "execution_count": 2,
   "metadata": {},
   "outputs": [],
   "source": [
    "library('MASS')\n",
    "data(Boston)"
   ]
  },
  {
   "cell_type": "markdown",
   "metadata": {},
   "source": [
    "we can build a couple of models"
   ]
  },
  {
   "cell_type": "code",
   "execution_count": 3,
   "metadata": {},
   "outputs": [],
   "source": [
    "mod1 = lm(medv~crim,data=Boston)\n",
    "mod2 = lm(medv~crim+rm,data=Boston)\n",
    "mod3 = lm(medv~crim+I(crim^2)+rm,data=Boston)"
   ]
  },
  {
   "cell_type": "code",
   "execution_count": 4,
   "metadata": {},
   "outputs": [
    {
     "data": {
      "text/html": [
       "0.150780469049757"
      ],
      "text/latex": [
       "0.150780469049757"
      ],
      "text/markdown": [
       "0.150780469049757"
      ],
      "text/plain": [
       "[1] 0.1507805"
      ]
     },
     "metadata": {},
     "output_type": "display_data"
    }
   ],
   "source": [
    "summary(mod1)$r.squared"
   ]
  },
  {
   "cell_type": "code",
   "execution_count": 5,
   "metadata": {},
   "outputs": [
    {
     "data": {
      "text/html": [
       "0.541959173849408"
      ],
      "text/latex": [
       "0.541959173849408"
      ],
      "text/markdown": [
       "0.541959173849408"
      ],
      "text/plain": [
       "[1] 0.5419592"
      ]
     },
     "metadata": {},
     "output_type": "display_data"
    }
   ],
   "source": [
    "summary(mod2)$r.squared"
   ]
  },
  {
   "cell_type": "code",
   "execution_count": 6,
   "metadata": {},
   "outputs": [
    {
     "data": {
      "text/html": [
       "0.553894007832479"
      ],
      "text/latex": [
       "0.553894007832479"
      ],
      "text/markdown": [
       "0.553894007832479"
      ],
      "text/plain": [
       "[1] 0.553894"
      ]
     },
     "metadata": {},
     "output_type": "display_data"
    }
   ],
   "source": [
    "summary(mod3)$r.squared"
   ]
  },
  {
   "cell_type": "markdown",
   "metadata": {},
   "source": [
    "We should be carebul because we are always going to increase the $R^2$ if I add covariates. (This happens for other metrics too.) This is bad way of choosing which coviariates to include. "
   ]
  },
  {
   "cell_type": "markdown",
   "metadata": {},
   "source": [
    "# KNN"
   ]
  },
  {
   "cell_type": "code",
   "execution_count": 7,
   "metadata": {},
   "outputs": [
    {
     "data": {
      "text/html": [
       "\n",
       "<table width=\"100%\" summary=\"page for knn.reg {FNN}\"><tr><td>knn.reg {FNN}</td><td style=\"text-align: right;\">R Documentation</td></tr></table>\n",
       "\n",
       "<h2>k Nearest Neighbor Regression</h2>\n",
       "\n",
       "<h3>Description</h3>\n",
       "\n",
       "<p>k-nearest neighbor regression\n",
       "</p>\n",
       "\n",
       "\n",
       "<h3>Usage</h3>\n",
       "\n",
       "<pre>\n",
       "knn.reg(train, test = NULL, y, k = 3, algorithm=c(\"kd_tree\", \n",
       "        \"cover_tree\", \"brute\"))\n",
       "</pre>\n",
       "\n",
       "\n",
       "<h3>Arguments</h3>\n",
       "\n",
       "<table summary=\"R argblock\">\n",
       "<tr valign=\"top\"><td><code>train</code></td>\n",
       "<td>\n",
       "\n",
       "<p>matrix or data frame of training set cases.\n",
       "</p>\n",
       "</td></tr>\n",
       "<tr valign=\"top\"><td><code>test</code></td>\n",
       "<td>\n",
       "\n",
       "<p>matrix or data frame of test set cases. A vector will be interpreted\n",
       "as a row vector for a single case. If not supplied, cross-validataion will be done.\n",
       "</p>\n",
       "</td></tr>\n",
       "<tr valign=\"top\"><td><code>y</code></td>\n",
       "<td>\n",
       "<p>reponse of each observation in the training set.</p>\n",
       "</td></tr>\n",
       "<tr valign=\"top\"><td><code>k</code></td>\n",
       "<td>\n",
       "<p> number of neighbours considered.</p>\n",
       "</td></tr>\n",
       "<tr valign=\"top\"><td><code>algorithm</code></td>\n",
       "<td>\n",
       "<p>nearest neighbor search algorithm.</p>\n",
       "</td></tr>\n",
       "</table>\n",
       "\n",
       "\n",
       "<h3>Details</h3>\n",
       "\n",
       "<p>If test is not supplied, Leave one out cross-validation is performed and <em>R-square</em> is the predicted R-square.\n",
       "</p>\n",
       "\n",
       "\n",
       "<h3>Value</h3>\n",
       "\n",
       "<p><code>knn.reg</code> returns an object of <code>class</code> <code>\"knnReg\"</code> or <code>\"knnRegCV\"</code> \n",
       "if <code>test</code> data is not supplied.\n",
       "</p>\n",
       "<p>The returnedobject is a list containing at least the following components:\n",
       "</p>\n",
       "<table summary=\"R valueblock\">\n",
       "<tr valign=\"top\"><td><code>call</code></td>\n",
       "<td>\n",
       "<p>the match call.</p>\n",
       "</td></tr>\n",
       "<tr valign=\"top\"><td><code>k</code></td>\n",
       "<td>\n",
       "<p>number of neighbours considered.</p>\n",
       "</td></tr>\n",
       "<tr valign=\"top\"><td><code>n</code></td>\n",
       "<td>\n",
       "<p>number of predicted values, either equals test size or train size.</p>\n",
       "</td></tr>\n",
       "<tr valign=\"top\"><td><code>pred</code></td>\n",
       "<td>\n",
       "<p>a vector of predicted values.</p>\n",
       "</td></tr>\n",
       "<tr valign=\"top\"><td><code>residuals</code></td>\n",
       "<td>\n",
       "<p>predicted residuals. <code>NULL</code> if <code>test</code> is supplied.</p>\n",
       "</td></tr>\n",
       "<tr valign=\"top\"><td><code>PRESS</code></td>\n",
       "<td>\n",
       "<p>the sums of squares of the predicted residuals. <code>NULL</code> if <code>test</code> is supplied.</p>\n",
       "</td></tr>\n",
       "<tr valign=\"top\"><td><code>R2Pred</code></td>\n",
       "<td>\n",
       "<p>predicted R-square. <code>NULL</code> if <code>test</code> is supplied.</p>\n",
       "</td></tr>\n",
       "</table>\n",
       "\n",
       "\n",
       "<h3>Note</h3>\n",
       "\n",
       "<p>The code for &ldquo;VR&rdquo; nearest neighbor searching is taken from <code>class</code> source\n",
       "</p>\n",
       "\n",
       "\n",
       "<h3>Author(s)</h3>\n",
       "\n",
       "<p>Shengqiao Li. To report any bugs or suggestions please email: <a href=\"mailto:lishengqiao@yahoo.com.\">lishengqiao@yahoo.com.</a></p>\n",
       "\n",
       "\n",
       "<h3>See Also</h3>\n",
       "\n",
       "<p><code>knn</code>.\n",
       "</p>\n",
       "\n",
       "\n",
       "<h3>Examples</h3>\n",
       "\n",
       "<pre>\n",
       "  if(require(chemometrics)){\n",
       "    data(PAC);\n",
       "    pac.knn&lt;- knn.reg(PAC$X, y=PAC$y, k=3);\n",
       "    \n",
       "    plot(PAC$y, pac.knn$pred, xlab=\"y\", ylab=expression(hat(y)))\n",
       "  } \n",
       "</pre>\n",
       "\n",
       "<hr /><div style=\"text-align: center;\">[Package <em>FNN</em> version 1.1.3 ]</div>"
      ],
      "text/latex": [
       "\\inputencoding{utf8}\n",
       "\\HeaderA{knn.reg}{k Nearest Neighbor Regression}{knn.reg}\n",
       "\\keyword{regression}{knn.reg}\n",
       "\\keyword{nonparametric}{knn.reg}\n",
       "%\n",
       "\\begin{Description}\\relax\n",
       "k-nearest neighbor regression\n",
       "\\end{Description}\n",
       "%\n",
       "\\begin{Usage}\n",
       "\\begin{verbatim}\n",
       "knn.reg(train, test = NULL, y, k = 3, algorithm=c(\"kd_tree\", \n",
       "        \"cover_tree\", \"brute\"))\n",
       "\\end{verbatim}\n",
       "\\end{Usage}\n",
       "%\n",
       "\\begin{Arguments}\n",
       "\\begin{ldescription}\n",
       "\\item[\\code{train}] \n",
       "matrix or data frame of training set cases.\n",
       "\n",
       "\\item[\\code{test}] \n",
       "matrix or data frame of test set cases. A vector will be interpreted\n",
       "as a row vector for a single case. If not supplied, cross-validataion will be done.\n",
       "\n",
       "\\item[\\code{y}] reponse of each observation in the training set.\n",
       "\\item[\\code{k}]  number of neighbours considered.\n",
       "\\item[\\code{algorithm}] nearest neighbor search algorithm.\n",
       "\\end{ldescription}\n",
       "\\end{Arguments}\n",
       "%\n",
       "\\begin{Details}\\relax\n",
       "If test is not supplied, Leave one out cross-validation is performed and \\emph{R-square} is the predicted R-square.\n",
       "\\end{Details}\n",
       "%\n",
       "\\begin{Value}\n",
       "\n",
       "\\code{knn.reg} returns an object of \\code{class} \\code{\"knnReg\"} or \\code{\"knnRegCV\"} \n",
       "if \\code{test} data is not supplied.\n",
       "\n",
       "The returnedobject is a list containing at least the following components:\n",
       "\n",
       "\\begin{ldescription}\n",
       "\\item[\\code{call}] the match call.\n",
       "\\item[\\code{k}] number of neighbours considered.\n",
       "\\item[\\code{n}] number of predicted values, either equals test size or train size.\n",
       "\\item[\\code{pred}] a vector of predicted values.\n",
       "\\item[\\code{residuals}] predicted residuals. \\code{NULL} if \\code{test} is supplied.\n",
       "\\item[\\code{PRESS}] the sums of squares of the predicted residuals. \\code{NULL} if \\code{test} is supplied.\n",
       "\\item[\\code{R2Pred}] predicted R-square. \\code{NULL} if \\code{test} is supplied.\n",
       "\n",
       "\\end{ldescription}\n",
       "\\end{Value}\n",
       "%\n",
       "\\begin{Note}\\relax\n",
       "The code for ``VR'' nearest neighbor searching is taken from \\code{class} source\n",
       "\\end{Note}\n",
       "%\n",
       "\\begin{Author}\\relax\n",
       "Shengqiao Li. To report any bugs or suggestions please email: \\email{lishengqiao@yahoo.com.}\n",
       "\\end{Author}\n",
       "%\n",
       "\\begin{SeeAlso}\\relax\n",
       "\\code{\\LinkA{knn}{knn}}.\n",
       "\\end{SeeAlso}\n",
       "%\n",
       "\\begin{Examples}\n",
       "\\begin{ExampleCode}\n",
       "  if(require(chemometrics)){\n",
       "    data(PAC);\n",
       "    pac.knn<- knn.reg(PAC$X, y=PAC$y, k=3);\n",
       "    \n",
       "    plot(PAC$y, pac.knn$pred, xlab=\"y\", ylab=expression(hat(y)))\n",
       "  } \n",
       "\\end{ExampleCode}\n",
       "\\end{Examples}"
      ],
      "text/plain": [
       "knn.reg                  package:FNN                   R Documentation\n",
       "\n",
       "_\bk _\bN_\be_\ba_\br_\be_\bs_\bt _\bN_\be_\bi_\bg_\bh_\bb_\bo_\br _\bR_\be_\bg_\br_\be_\bs_\bs_\bi_\bo_\bn\n",
       "\n",
       "_\bD_\be_\bs_\bc_\br_\bi_\bp_\bt_\bi_\bo_\bn:\n",
       "\n",
       "     k-nearest neighbor regression\n",
       "\n",
       "_\bU_\bs_\ba_\bg_\be:\n",
       "\n",
       "     knn.reg(train, test = NULL, y, k = 3, algorithm=c(\"kd_tree\", \n",
       "             \"cover_tree\", \"brute\"))\n",
       "     \n",
       "_\bA_\br_\bg_\bu_\bm_\be_\bn_\bt_\bs:\n",
       "\n",
       "   train: matrix or data frame of training set cases.\n",
       "\n",
       "    test: matrix or data frame of test set cases. A vector will be\n",
       "          interpreted as a row vector for a single case. If not\n",
       "          supplied, cross-validataion will be done.\n",
       "\n",
       "       y: reponse of each observation in the training set.\n",
       "\n",
       "       k: number of neighbours considered.\n",
       "\n",
       "algorithm: nearest neighbor search algorithm.\n",
       "\n",
       "_\bD_\be_\bt_\ba_\bi_\bl_\bs:\n",
       "\n",
       "     If test is not supplied, Leave one out cross-validation is\n",
       "     performed and _R-square_ is the predicted R-square.\n",
       "\n",
       "_\bV_\ba_\bl_\bu_\be:\n",
       "\n",
       "     'knn.reg' returns an object of 'class' '\"knnReg\"' or '\"knnRegCV\"'\n",
       "     if 'test' data is not supplied.\n",
       "\n",
       "     The returnedobject is a list containing at least the following\n",
       "     components:\n",
       "\n",
       "    call: the match call.\n",
       "\n",
       "       k: number of neighbours considered.\n",
       "\n",
       "       n: number of predicted values, either equals test size or train\n",
       "          size.\n",
       "\n",
       "    pred: a vector of predicted values.\n",
       "\n",
       "residuals: predicted residuals. 'NULL' if 'test' is supplied.\n",
       "\n",
       "   PRESS: the sums of squares of the predicted residuals. 'NULL' if\n",
       "          'test' is supplied.\n",
       "\n",
       "  R2Pred: predicted R-square. 'NULL' if 'test' is supplied.\n",
       "\n",
       "_\bN_\bo_\bt_\be:\n",
       "\n",
       "     The code for \"VR\" nearest neighbor searching is taken from 'class'\n",
       "     source\n",
       "\n",
       "_\bA_\bu_\bt_\bh_\bo_\br(_\bs):\n",
       "\n",
       "     Shengqiao Li. To report any bugs or suggestions please email:\n",
       "     <email: lishengqiao@yahoo.com.>\n",
       "\n",
       "_\bS_\be_\be _\bA_\bl_\bs_\bo:\n",
       "\n",
       "     'knn'.\n",
       "\n",
       "_\bE_\bx_\ba_\bm_\bp_\bl_\be_\bs:\n",
       "\n",
       "       if(require(chemometrics)){\n",
       "         data(PAC);\n",
       "         pac.knn<- knn.reg(PAC$X, y=PAC$y, k=3);\n",
       "         \n",
       "         plot(PAC$y, pac.knn$pred, xlab=\"y\", ylab=expression(hat(y)))\n",
       "       } \n",
       "     "
      ]
     },
     "metadata": {},
     "output_type": "display_data"
    }
   ],
   "source": [
    "library('FNN')\n",
    "?knn.reg"
   ]
  },
  {
   "cell_type": "code",
   "execution_count": 16,
   "metadata": {},
   "outputs": [
    {
     "data": {
      "text/html": [
       "<table class=\"dataframe\">\n",
       "<caption>A matrix: 6 × 1 of type dbl</caption>\n",
       "<tbody>\n",
       "\t<tr><td>-0.9941781</td></tr>\n",
       "\t<tr><td>-0.9917509</td></tr>\n",
       "\t<tr><td>-0.9753652</td></tr>\n",
       "\t<tr><td>-0.9550714</td></tr>\n",
       "\t<tr><td>-0.9501908</td></tr>\n",
       "\t<tr><td>-0.9497362</td></tr>\n",
       "</tbody>\n",
       "</table>\n"
      ],
      "text/latex": [
       "A matrix: 6 × 1 of type dbl\n",
       "\\begin{tabular}{l}\n",
       "\t -0.9941781\\\\\n",
       "\t -0.9917509\\\\\n",
       "\t -0.9753652\\\\\n",
       "\t -0.9550714\\\\\n",
       "\t -0.9501908\\\\\n",
       "\t -0.9497362\\\\\n",
       "\\end{tabular}\n"
      ],
      "text/markdown": [
       "\n",
       "A matrix: 6 × 1 of type dbl\n",
       "\n",
       "| -0.9941781 |\n",
       "| -0.9917509 |\n",
       "| -0.9753652 |\n",
       "| -0.9550714 |\n",
       "| -0.9501908 |\n",
       "| -0.9497362 |\n",
       "\n"
      ],
      "text/plain": [
       "     [,1]      \n",
       "[1,] -0.9941781\n",
       "[2,] -0.9917509\n",
       "[3,] -0.9753652\n",
       "[4,] -0.9550714\n",
       "[5,] -0.9501908\n",
       "[6,] -0.9497362"
      ]
     },
     "metadata": {},
     "output_type": "display_data"
    }
   ],
   "source": [
    "x = array(sort(runif(100,-1,1)),c(100,1))\n",
    "head(x)"
   ]
  },
  {
   "cell_type": "code",
   "execution_count": 12,
   "metadata": {},
   "outputs": [],
   "source": [
    "y = x^2 + rnorm(100,0,1/5)"
   ]
  },
  {
   "cell_type": "code",
   "execution_count": 13,
   "metadata": {},
   "outputs": [
    {
     "data": {
      "image/png": "[encoded data removed]",
      "text/plain": [
       "plot without title"
      ]
     },
     "metadata": {
      "image/png": {
       "height": 420,
       "width": 420
      }
     },
     "output_type": "display_data"
    }
   ],
   "source": [
    "plot(x,y)"
   ]
  },
  {
   "cell_type": "markdown",
   "metadata": {},
   "source": [
    "let's split the data into testing and training"
   ]
  },
  {
   "cell_type": "code",
   "execution_count": 18,
   "metadata": {},
   "outputs": [
    {
     "data": {
      "text/html": [
       "<style>\n",
       ".list-inline {list-style: none; margin:0; padding: 0}\n",
       ".list-inline>li {display: inline-block}\n",
       ".list-inline>li:not(:last-child)::after {content: \"\\00b7\"; padding: 0 .5ex}\n",
       "</style>\n",
       "<ol class=list-inline><li>1</li><li>5</li><li>6</li><li>8</li><li>10</li><li>12</li><li>14</li><li>15</li><li>17</li><li>19</li><li>20</li><li>22</li><li>23</li><li>24</li><li>27</li><li>28</li><li>29</li><li>31</li><li>32</li><li>33</li><li>36</li><li>37</li><li>41</li><li>43</li><li>46</li><li>48</li><li>51</li><li>52</li><li>54</li><li>55</li><li>56</li><li>57</li><li>58</li><li>59</li><li>61</li><li>63</li><li>69</li><li>71</li><li>72</li><li>74</li><li>75</li><li>80</li><li>81</li><li>82</li><li>84</li><li>85</li><li>89</li><li>90</li><li>94</li><li>98</li></ol>\n"
      ],
      "text/latex": [
       "\\begin{enumerate*}\n",
       "\\item 1\n",
       "\\item 5\n",
       "\\item 6\n",
       "\\item 8\n",
       "\\item 10\n",
       "\\item 12\n",
       "\\item 14\n",
       "\\item 15\n",
       "\\item 17\n",
       "\\item 19\n",
       "\\item 20\n",
       "\\item 22\n",
       "\\item 23\n",
       "\\item 24\n",
       "\\item 27\n",
       "\\item 28\n",
       "\\item 29\n",
       "\\item 31\n",
       "\\item 32\n",
       "\\item 33\n",
       "\\item 36\n",
       "\\item 37\n",
       "\\item 41\n",
       "\\item 43\n",
       "\\item 46\n",
       "\\item 48\n",
       "\\item 51\n",
       "\\item 52\n",
       "\\item 54\n",
       "\\item 55\n",
       "\\item 56\n",
       "\\item 57\n",
       "\\item 58\n",
       "\\item 59\n",
       "\\item 61\n",
       "\\item 63\n",
       "\\item 69\n",
       "\\item 71\n",
       "\\item 72\n",
       "\\item 74\n",
       "\\item 75\n",
       "\\item 80\n",
       "\\item 81\n",
       "\\item 82\n",
       "\\item 84\n",
       "\\item 85\n",
       "\\item 89\n",
       "\\item 90\n",
       "\\item 94\n",
       "\\item 98\n",
       "\\end{enumerate*}\n"
      ],
      "text/markdown": [
       "1. 1\n",
       "2. 5\n",
       "3. 6\n",
       "4. 8\n",
       "5. 10\n",
       "6. 12\n",
       "7. 14\n",
       "8. 15\n",
       "9. 17\n",
       "10. 19\n",
       "11. 20\n",
       "12. 22\n",
       "13. 23\n",
       "14. 24\n",
       "15. 27\n",
       "16. 28\n",
       "17. 29\n",
       "18. 31\n",
       "19. 32\n",
       "20. 33\n",
       "21. 36\n",
       "22. 37\n",
       "23. 41\n",
       "24. 43\n",
       "25. 46\n",
       "26. 48\n",
       "27. 51\n",
       "28. 52\n",
       "29. 54\n",
       "30. 55\n",
       "31. 56\n",
       "32. 57\n",
       "33. 58\n",
       "34. 59\n",
       "35. 61\n",
       "36. 63\n",
       "37. 69\n",
       "38. 71\n",
       "39. 72\n",
       "40. 74\n",
       "41. 75\n",
       "42. 80\n",
       "43. 81\n",
       "44. 82\n",
       "45. 84\n",
       "46. 85\n",
       "47. 89\n",
       "48. 90\n",
       "49. 94\n",
       "50. 98\n",
       "\n",
       "\n"
      ],
      "text/plain": [
       " [1]  1  5  6  8 10 12 14 15 17 19 20 22 23 24 27 28 29 31 32 33 36 37 41 43 46\n",
       "[26] 48 51 52 54 55 56 57 58 59 61 63 69 71 72 74 75 80 81 82 84 85 89 90 94 98"
      ]
     },
     "metadata": {},
     "output_type": "display_data"
    }
   ],
   "source": [
    "train_ss = sample(nrow(x),floor(nrow(x)/2))\n",
    "test_ss = setdiff(1:nrow(x),train_ss)"
   ]
  },
  {
   "cell_type": "code",
   "execution_count": 71,
   "metadata": {},
   "outputs": [],
   "source": [
    "trainx = x[train_ss,,drop=FALSE]\n",
    "testx = x[test_ss,,drop=FALSE]\n",
    "trainy = y[train_ss,,drop=FALSE]\n",
    "testy = y[test_ss,,drop=FALSE]\n",
    "\n",
    "evaluate = function(pred_x,pred_y,K=10){\n",
    "    knn_mod = knn.reg(train=trainx,test=pred_x,y=trainy,k=K)\n",
    "    RSS = sum((knn_mod$pred - pred_y)^2)\n",
    "    return(RSS)\n",
    "}"
   ]
  },
  {
   "cell_type": "code",
   "execution_count": 72,
   "metadata": {},
   "outputs": [
    {
     "data": {
      "text/html": [
       "3.42228816315688"
      ],
      "text/latex": [
       "3.42228816315688"
      ],
      "text/markdown": [
       "3.42228816315688"
      ],
      "text/plain": [
       "[1] 3.422288"
      ]
     },
     "metadata": {},
     "output_type": "display_data"
    }
   ],
   "source": [
    "evaluate(testx,testy)"
   ]
  },
  {
   "cell_type": "code",
   "execution_count": 73,
   "metadata": {},
   "outputs": [
    {
     "data": {
      "text/html": [
       "1.91957949906904"
      ],
      "text/latex": [
       "1.91957949906904"
      ],
      "text/markdown": [
       "1.91957949906904"
      ],
      "text/plain": [
       "[1] 1.919579"
      ]
     },
     "metadata": {},
     "output_type": "display_data"
    }
   ],
   "source": [
    "evaluate(trainx,trainy)"
   ]
  },
  {
   "cell_type": "markdown",
   "metadata": {},
   "source": [
    "How should we choose $K$?"
   ]
  },
  {
   "cell_type": "code",
   "execution_count": 74,
   "metadata": {},
   "outputs": [
    {
     "data": {
      "text/html": [
       "<style>\n",
       ".list-inline {list-style: none; margin:0; padding: 0}\n",
       ".list-inline>li {display: inline-block}\n",
       ".list-inline>li:not(:last-child)::after {content: \"\\00b7\"; padding: 0 .5ex}\n",
       "</style>\n",
       "<ol class=list-inline><li>1</li><li>3</li><li>5</li><li>7</li><li>9</li><li>11</li><li>13</li><li>15</li><li>17</li><li>19</li><li>21</li><li>23</li><li>25</li><li>27</li><li>29</li><li>31</li><li>33</li><li>35</li><li>37</li><li>39</li><li>41</li><li>43</li><li>45</li></ol>\n"
      ],
      "text/latex": [
       "\\begin{enumerate*}\n",
       "\\item 1\n",
       "\\item 3\n",
       "\\item 5\n",
       "\\item 7\n",
       "\\item 9\n",
       "\\item 11\n",
       "\\item 13\n",
       "\\item 15\n",
       "\\item 17\n",
       "\\item 19\n",
       "\\item 21\n",
       "\\item 23\n",
       "\\item 25\n",
       "\\item 27\n",
       "\\item 29\n",
       "\\item 31\n",
       "\\item 33\n",
       "\\item 35\n",
       "\\item 37\n",
       "\\item 39\n",
       "\\item 41\n",
       "\\item 43\n",
       "\\item 45\n",
       "\\end{enumerate*}\n"
      ],
      "text/markdown": [
       "1. 1\n",
       "2. 3\n",
       "3. 5\n",
       "4. 7\n",
       "5. 9\n",
       "6. 11\n",
       "7. 13\n",
       "8. 15\n",
       "9. 17\n",
       "10. 19\n",
       "11. 21\n",
       "12. 23\n",
       "13. 25\n",
       "14. 27\n",
       "15. 29\n",
       "16. 31\n",
       "17. 33\n",
       "18. 35\n",
       "19. 37\n",
       "20. 39\n",
       "21. 41\n",
       "22. 43\n",
       "23. 45\n",
       "\n",
       "\n"
      ],
      "text/plain": [
       " [1]  1  3  5  7  9 11 13 15 17 19 21 23 25 27 29 31 33 35 37 39 41 43 45"
      ]
     },
     "metadata": {},
     "output_type": "display_data"
    }
   ],
   "source": [
    "K_seq = seq(1,46,2)\n",
    "K_seq"
   ]
  },
  {
   "cell_type": "code",
   "execution_count": 75,
   "metadata": {},
   "outputs": [],
   "source": [
    "train_RSSs = sapply(K_seq,function(K)evaluate(trainx,trainy,K=K))"
   ]
  },
  {
   "cell_type": "code",
   "execution_count": 77,
   "metadata": {},
   "outputs": [
    {
     "data": {
      "image/png": "[encoded data removed]",
      "text/plain": [
       "plot without title"
      ]
     },
     "metadata": {
      "image/png": {
       "height": 420,
       "width": 420
      }
     },
     "output_type": "display_data"
    }
   ],
   "source": [
    "plot(K_seq,train_RSSs)"
   ]
  },
  {
   "cell_type": "code",
   "execution_count": 81,
   "metadata": {},
   "outputs": [
    {
     "data": {
      "text/html": [
       "0"
      ],
      "text/latex": [
       "0"
      ],
      "text/markdown": [
       "0"
      ],
      "text/plain": [
       "[1] 0"
      ]
     },
     "metadata": {},
     "output_type": "display_data"
    }
   ],
   "source": [
    "evaluate(trainx,trainy,1)"
   ]
  },
  {
   "cell_type": "code",
   "execution_count": 82,
   "metadata": {},
   "outputs": [
    {
     "data": {
      "text/html": [
       "3.99313102575664"
      ],
      "text/latex": [
       "3.99313102575664"
      ],
      "text/markdown": [
       "3.99313102575664"
      ],
      "text/plain": [
       "[1] 3.993131"
      ]
     },
     "metadata": {},
     "output_type": "display_data"
    }
   ],
   "source": [
    "evaluate(testx,testy,1)"
   ]
  },
  {
   "cell_type": "code",
   "execution_count": 83,
   "metadata": {},
   "outputs": [
    {
     "data": {
      "image/png": "[encoded data removed]",
      "text/plain": [
       "plot without title"
      ]
     },
     "metadata": {
      "image/png": {
       "height": 420,
       "width": 420
      }
     },
     "output_type": "display_data"
    }
   ],
   "source": [
    "test_RSSs = sapply(K_seq,function(K)evaluate(testx,testy,K=K))\n",
    "plot(K_seq,test_RSSs)"
   ]
  },
  {
   "cell_type": "code",
   "execution_count": 84,
   "metadata": {},
   "outputs": [
    {
     "data": {
      "text/html": [
       "5"
      ],
      "text/latex": [
       "5"
      ],
      "text/markdown": [
       "5"
      ],
      "text/plain": [
       "[1] 5"
      ]
     },
     "metadata": {},
     "output_type": "display_data"
    }
   ],
   "source": [
    "K_hat = K_seq[which.min(test_RSSs)]\n",
    "K_hat"
   ]
  },
  {
   "cell_type": "code",
   "execution_count": 85,
   "metadata": {},
   "outputs": [],
   "source": [
    "best_knn = knn.reg(train=trainx,test=testx,y=trainy,k=K_hat)"
   ]
  },
  {
   "cell_type": "code",
   "execution_count": 88,
   "metadata": {},
   "outputs": [
    {
     "data": {
      "image/png": "[encoded data removed]",
      "text/plain": [
       "plot without title"
      ]
     },
     "metadata": {
      "image/png": {
       "height": 420,
       "width": 420
      }
     },
     "output_type": "display_data"
    }
   ],
   "source": [
    "plot(testx,testy)\n",
    "lines(testx,best_knn$pred,col='red')"
   ]
  }
 ],
 "metadata": {
  "jupytext": {
   "formats": "ipynb,Rmd,R"
  },
  "kernelspec": {
   "display_name": "",
   "name": ""
  },
  "language_info": {
   "name": ""
  }
 },
 "nbformat": 4,
 "nbformat_minor": 4
}
