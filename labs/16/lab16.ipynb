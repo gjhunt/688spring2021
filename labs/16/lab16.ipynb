{
 "cells": [
  {
   "cell_type": "markdown",
   "metadata": {},
   "source": [
    "# Lab 16 -- PCR\n",
    "## Lecture 16"
   ]
  },
  {
   "cell_type": "code",
   "execution_count": 1,
   "metadata": {},
   "outputs": [],
   "source": [
    "d = read.csv('data/tcga/smaller.csv',row.names=1)"
   ]
  },
  {
   "cell_type": "code",
   "execution_count": 2,
   "metadata": {},
   "outputs": [
    {
     "data": {
      "text/html": [
       "<style>\n",
       ".list-inline {list-style: none; margin:0; padding: 0}\n",
       ".list-inline>li {display: inline-block}\n",
       ".list-inline>li:not(:last-child)::after {content: \"\\00b7\"; padding: 0 .5ex}\n",
       "</style>\n",
       "<ol class=list-inline><li>99</li><li>199</li></ol>\n"
      ],
      "text/latex": [
       "\\begin{enumerate*}\n",
       "\\item 99\n",
       "\\item 199\n",
       "\\end{enumerate*}\n"
      ],
      "text/markdown": [
       "1. 99\n",
       "2. 199\n",
       "\n",
       "\n"
      ],
      "text/plain": [
       "[1]  99 199"
      ]
     },
     "metadata": {},
     "output_type": "display_data"
    }
   ],
   "source": [
    "dim(d)"
   ]
  },
  {
   "cell_type": "code",
   "execution_count": 3,
   "metadata": {},
   "outputs": [
    {
     "data": {
      "text/html": [
       "<table class=\"dataframe\">\n",
       "<caption>A data.frame: 6 × 199</caption>\n",
       "<thead>\n",
       "\t<tr><th></th><th scope=col>gene_0</th><th scope=col>gene_1</th><th scope=col>gene_2</th><th scope=col>gene_3</th><th scope=col>gene_4</th><th scope=col>gene_5</th><th scope=col>gene_6</th><th scope=col>gene_7</th><th scope=col>gene_8</th><th scope=col>gene_9</th><th scope=col>...</th><th scope=col>gene_189</th><th scope=col>gene_190</th><th scope=col>gene_191</th><th scope=col>gene_192</th><th scope=col>gene_193</th><th scope=col>gene_194</th><th scope=col>gene_195</th><th scope=col>gene_196</th><th scope=col>gene_197</th><th scope=col>gene_198</th></tr>\n",
       "\t<tr><th></th><th scope=col>&lt;dbl&gt;</th><th scope=col>&lt;dbl&gt;</th><th scope=col>&lt;dbl&gt;</th><th scope=col>&lt;dbl&gt;</th><th scope=col>&lt;dbl&gt;</th><th scope=col>&lt;dbl&gt;</th><th scope=col>&lt;dbl&gt;</th><th scope=col>&lt;dbl&gt;</th><th scope=col>&lt;dbl&gt;</th><th scope=col>&lt;dbl&gt;</th><th scope=col>...</th><th scope=col>&lt;dbl&gt;</th><th scope=col>&lt;dbl&gt;</th><th scope=col>&lt;dbl&gt;</th><th scope=col>&lt;dbl&gt;</th><th scope=col>&lt;dbl&gt;</th><th scope=col>&lt;dbl&gt;</th><th scope=col>&lt;dbl&gt;</th><th scope=col>&lt;dbl&gt;</th><th scope=col>&lt;dbl&gt;</th><th scope=col>&lt;dbl&gt;</th></tr>\n",
       "</thead>\n",
       "<tbody>\n",
       "\t<tr><th scope=row>sample_0</th><td>0</td><td>2.0172093</td><td>3.265527</td><td>5.478487</td><td>10.431999</td><td>0</td><td>7.175175</td><td>0.5918709</td><td>0</td><td>0</td><td>...</td><td>5.305383</td><td>2.1858983</td><td>9.149747</td><td>10.365951</td><td>9.650743</td><td>11.16036</td><td>6.287023</td><td>10.081177</td><td>6.865820</td><td>11.22720</td></tr>\n",
       "\t<tr><th scope=row>sample_1</th><td>0</td><td>0.5927321</td><td>1.588421</td><td>7.586157</td><td> 9.623011</td><td>0</td><td>6.816049</td><td>0.0000000</td><td>0</td><td>0</td><td>...</td><td>5.539965</td><td>1.1747899</td><td>8.719560</td><td> 9.347012</td><td>9.306249</td><td>10.23886</td><td>7.213289</td><td> 8.055863</td><td>1.590818</td><td>10.79442</td></tr>\n",
       "\t<tr><th scope=row>sample_2</th><td>0</td><td>3.5117590</td><td>4.327199</td><td>6.881787</td><td> 9.870730</td><td>0</td><td>6.972130</td><td>0.4525954</td><td>0</td><td>0</td><td>...</td><td>4.981168</td><td>1.9811220</td><td>9.198794</td><td> 8.341470</td><td>5.363374</td><td>11.38310</td><td>0.000000</td><td> 8.841310</td><td>1.306846</td><td>11.25683</td></tr>\n",
       "\t<tr><th scope=row>sample_3</th><td>0</td><td>3.6636179</td><td>4.507649</td><td>6.659068</td><td>10.196184</td><td>0</td><td>7.843375</td><td>0.4348817</td><td>0</td><td>0</td><td>...</td><td>5.285154</td><td>1.9314183</td><td>8.948980</td><td> 9.397715</td><td>8.979462</td><td>11.02650</td><td>2.941858</td><td> 9.808412</td><td>7.257133</td><td>10.99856</td></tr>\n",
       "\t<tr><th scope=row>sample_4</th><td>0</td><td>2.6557411</td><td>2.821547</td><td>6.539454</td><td> 9.738265</td><td>0</td><td>6.566967</td><td>0.3609822</td><td>0</td><td>0</td><td>...</td><td>8.466717</td><td>1.0956544</td><td>8.548953</td><td> 8.324757</td><td>7.688215</td><td>10.64256</td><td>6.921805</td><td> 9.116466</td><td>1.831269</td><td>10.81936</td></tr>\n",
       "\t<tr><th scope=row>sample_5</th><td>0</td><td>3.4678533</td><td>3.581918</td><td>6.620243</td><td> 9.706829</td><td>0</td><td>7.758510</td><td>0.0000000</td><td>0</td><td>0</td><td>...</td><td>5.691129</td><td>0.8942939</td><td>9.042770</td><td> 9.719038</td><td>8.373361</td><td>11.21062</td><td>7.328451</td><td> 8.491661</td><td>5.324544</td><td>11.05680</td></tr>\n",
       "</tbody>\n",
       "</table>\n"
      ],
      "text/latex": [
       "A data.frame: 6 × 199\n",
       "\\begin{tabular}{r|lllllllllllllllllllll}\n",
       "  & gene\\_0 & gene\\_1 & gene\\_2 & gene\\_3 & gene\\_4 & gene\\_5 & gene\\_6 & gene\\_7 & gene\\_8 & gene\\_9 & ... & gene\\_189 & gene\\_190 & gene\\_191 & gene\\_192 & gene\\_193 & gene\\_194 & gene\\_195 & gene\\_196 & gene\\_197 & gene\\_198\\\\\n",
       "  & <dbl> & <dbl> & <dbl> & <dbl> & <dbl> & <dbl> & <dbl> & <dbl> & <dbl> & <dbl> & ... & <dbl> & <dbl> & <dbl> & <dbl> & <dbl> & <dbl> & <dbl> & <dbl> & <dbl> & <dbl>\\\\\n",
       "\\hline\n",
       "\tsample\\_0 & 0 & 2.0172093 & 3.265527 & 5.478487 & 10.431999 & 0 & 7.175175 & 0.5918709 & 0 & 0 & ... & 5.305383 & 2.1858983 & 9.149747 & 10.365951 & 9.650743 & 11.16036 & 6.287023 & 10.081177 & 6.865820 & 11.22720\\\\\n",
       "\tsample\\_1 & 0 & 0.5927321 & 1.588421 & 7.586157 &  9.623011 & 0 & 6.816049 & 0.0000000 & 0 & 0 & ... & 5.539965 & 1.1747899 & 8.719560 &  9.347012 & 9.306249 & 10.23886 & 7.213289 &  8.055863 & 1.590818 & 10.79442\\\\\n",
       "\tsample\\_2 & 0 & 3.5117590 & 4.327199 & 6.881787 &  9.870730 & 0 & 6.972130 & 0.4525954 & 0 & 0 & ... & 4.981168 & 1.9811220 & 9.198794 &  8.341470 & 5.363374 & 11.38310 & 0.000000 &  8.841310 & 1.306846 & 11.25683\\\\\n",
       "\tsample\\_3 & 0 & 3.6636179 & 4.507649 & 6.659068 & 10.196184 & 0 & 7.843375 & 0.4348817 & 0 & 0 & ... & 5.285154 & 1.9314183 & 8.948980 &  9.397715 & 8.979462 & 11.02650 & 2.941858 &  9.808412 & 7.257133 & 10.99856\\\\\n",
       "\tsample\\_4 & 0 & 2.6557411 & 2.821547 & 6.539454 &  9.738265 & 0 & 6.566967 & 0.3609822 & 0 & 0 & ... & 8.466717 & 1.0956544 & 8.548953 &  8.324757 & 7.688215 & 10.64256 & 6.921805 &  9.116466 & 1.831269 & 10.81936\\\\\n",
       "\tsample\\_5 & 0 & 3.4678533 & 3.581918 & 6.620243 &  9.706829 & 0 & 7.758510 & 0.0000000 & 0 & 0 & ... & 5.691129 & 0.8942939 & 9.042770 &  9.719038 & 8.373361 & 11.21062 & 7.328451 &  8.491661 & 5.324544 & 11.05680\\\\\n",
       "\\end{tabular}\n"
      ],
      "text/markdown": [
       "\n",
       "A data.frame: 6 × 199\n",
       "\n",
       "| <!--/--> | gene_0 &lt;dbl&gt; | gene_1 &lt;dbl&gt; | gene_2 &lt;dbl&gt; | gene_3 &lt;dbl&gt; | gene_4 &lt;dbl&gt; | gene_5 &lt;dbl&gt; | gene_6 &lt;dbl&gt; | gene_7 &lt;dbl&gt; | gene_8 &lt;dbl&gt; | gene_9 &lt;dbl&gt; | ... ... | gene_189 &lt;dbl&gt; | gene_190 &lt;dbl&gt; | gene_191 &lt;dbl&gt; | gene_192 &lt;dbl&gt; | gene_193 &lt;dbl&gt; | gene_194 &lt;dbl&gt; | gene_195 &lt;dbl&gt; | gene_196 &lt;dbl&gt; | gene_197 &lt;dbl&gt; | gene_198 &lt;dbl&gt; |\n",
       "|---|---|---|---|---|---|---|---|---|---|---|---|---|---|---|---|---|---|---|---|---|---|\n",
       "| sample_0 | 0 | 2.0172093 | 3.265527 | 5.478487 | 10.431999 | 0 | 7.175175 | 0.5918709 | 0 | 0 | ... | 5.305383 | 2.1858983 | 9.149747 | 10.365951 | 9.650743 | 11.16036 | 6.287023 | 10.081177 | 6.865820 | 11.22720 |\n",
       "| sample_1 | 0 | 0.5927321 | 1.588421 | 7.586157 |  9.623011 | 0 | 6.816049 | 0.0000000 | 0 | 0 | ... | 5.539965 | 1.1747899 | 8.719560 |  9.347012 | 9.306249 | 10.23886 | 7.213289 |  8.055863 | 1.590818 | 10.79442 |\n",
       "| sample_2 | 0 | 3.5117590 | 4.327199 | 6.881787 |  9.870730 | 0 | 6.972130 | 0.4525954 | 0 | 0 | ... | 4.981168 | 1.9811220 | 9.198794 |  8.341470 | 5.363374 | 11.38310 | 0.000000 |  8.841310 | 1.306846 | 11.25683 |\n",
       "| sample_3 | 0 | 3.6636179 | 4.507649 | 6.659068 | 10.196184 | 0 | 7.843375 | 0.4348817 | 0 | 0 | ... | 5.285154 | 1.9314183 | 8.948980 |  9.397715 | 8.979462 | 11.02650 | 2.941858 |  9.808412 | 7.257133 | 10.99856 |\n",
       "| sample_4 | 0 | 2.6557411 | 2.821547 | 6.539454 |  9.738265 | 0 | 6.566967 | 0.3609822 | 0 | 0 | ... | 8.466717 | 1.0956544 | 8.548953 |  8.324757 | 7.688215 | 10.64256 | 6.921805 |  9.116466 | 1.831269 | 10.81936 |\n",
       "| sample_5 | 0 | 3.4678533 | 3.581918 | 6.620243 |  9.706829 | 0 | 7.758510 | 0.0000000 | 0 | 0 | ... | 5.691129 | 0.8942939 | 9.042770 |  9.719038 | 8.373361 | 11.21062 | 7.328451 |  8.491661 | 5.324544 | 11.05680 |\n",
       "\n"
      ],
      "text/plain": [
       "         gene_0 gene_1    gene_2   gene_3   gene_4    gene_5 gene_6   gene_7   \n",
       "sample_0 0      2.0172093 3.265527 5.478487 10.431999 0      7.175175 0.5918709\n",
       "sample_1 0      0.5927321 1.588421 7.586157  9.623011 0      6.816049 0.0000000\n",
       "sample_2 0      3.5117590 4.327199 6.881787  9.870730 0      6.972130 0.4525954\n",
       "sample_3 0      3.6636179 4.507649 6.659068 10.196184 0      7.843375 0.4348817\n",
       "sample_4 0      2.6557411 2.821547 6.539454  9.738265 0      6.566967 0.3609822\n",
       "sample_5 0      3.4678533 3.581918 6.620243  9.706829 0      7.758510 0.0000000\n",
       "         gene_8 gene_9 ... gene_189 gene_190  gene_191 gene_192  gene_193\n",
       "sample_0 0      0      ... 5.305383 2.1858983 9.149747 10.365951 9.650743\n",
       "sample_1 0      0      ... 5.539965 1.1747899 8.719560  9.347012 9.306249\n",
       "sample_2 0      0      ... 4.981168 1.9811220 9.198794  8.341470 5.363374\n",
       "sample_3 0      0      ... 5.285154 1.9314183 8.948980  9.397715 8.979462\n",
       "sample_4 0      0      ... 8.466717 1.0956544 8.548953  8.324757 7.688215\n",
       "sample_5 0      0      ... 5.691129 0.8942939 9.042770  9.719038 8.373361\n",
       "         gene_194 gene_195 gene_196  gene_197 gene_198\n",
       "sample_0 11.16036 6.287023 10.081177 6.865820 11.22720\n",
       "sample_1 10.23886 7.213289  8.055863 1.590818 10.79442\n",
       "sample_2 11.38310 0.000000  8.841310 1.306846 11.25683\n",
       "sample_3 11.02650 2.941858  9.808412 7.257133 10.99856\n",
       "sample_4 10.64256 6.921805  9.116466 1.831269 10.81936\n",
       "sample_5 11.21062 7.328451  8.491661 5.324544 11.05680"
      ]
     },
     "metadata": {},
     "output_type": "display_data"
    }
   ],
   "source": [
    "head(d)"
   ]
  },
  {
   "cell_type": "code",
   "execution_count": 4,
   "metadata": {},
   "outputs": [],
   "source": [
    "d = as.matrix(d)"
   ]
  },
  {
   "cell_type": "code",
   "execution_count": 5,
   "metadata": {},
   "outputs": [],
   "source": [
    "w0 = which(apply(d,2,sd)==0)"
   ]
  },
  {
   "cell_type": "code",
   "execution_count": 6,
   "metadata": {},
   "outputs": [
    {
     "data": {
      "text/html": [
       "<style>\n",
       ".list-inline {list-style: none; margin:0; padding: 0}\n",
       ".list-inline>li {display: inline-block}\n",
       ".list-inline>li:not(:last-child)::after {content: \"\\00b7\"; padding: 0 .5ex}\n",
       "</style>\n",
       "<ol class=list-inline><li>99</li><li>195</li></ol>\n"
      ],
      "text/latex": [
       "\\begin{enumerate*}\n",
       "\\item 99\n",
       "\\item 195\n",
       "\\end{enumerate*}\n"
      ],
      "text/markdown": [
       "1. 99\n",
       "2. 195\n",
       "\n",
       "\n"
      ],
      "text/plain": [
       "[1]  99 195"
      ]
     },
     "metadata": {},
     "output_type": "display_data"
    }
   ],
   "source": [
    "d = d[,-w0]\n",
    "dim(d)"
   ]
  },
  {
   "cell_type": "code",
   "execution_count": 7,
   "metadata": {},
   "outputs": [],
   "source": [
    "y = d[,5]\n",
    "X = d[,-5]"
   ]
  },
  {
   "cell_type": "code",
   "execution_count": 8,
   "metadata": {},
   "outputs": [
    {
     "data": {
      "text/html": [
       "<style>\n",
       ".dl-inline {width: auto; margin:0; padding: 0}\n",
       ".dl-inline>dt, .dl-inline>dd {float: none; width: auto; display: inline-block}\n",
       ".dl-inline>dt::after {content: \":\\0020\"; padding-right: .5ex}\n",
       ".dl-inline>dt:not(:first-of-type) {padding-left: .5ex}\n",
       "</style><dl class=dl-inline><dt>sample_0</dt><dd>10.4319989607</dd><dt>sample_1</dt><dd>9.62301085621</dd><dt>sample_2</dt><dd>9.87072997113</dd><dt>sample_3</dt><dd>10.1961840717</dd><dt>sample_4</dt><dd>9.73826456185</dd><dt>sample_5</dt><dd>9.70682924127</dd></dl>\n"
      ],
      "text/latex": [
       "\\begin{description*}\n",
       "\\item[sample\\textbackslash{}\\_0] 10.4319989607\n",
       "\\item[sample\\textbackslash{}\\_1] 9.62301085621\n",
       "\\item[sample\\textbackslash{}\\_2] 9.87072997113\n",
       "\\item[sample\\textbackslash{}\\_3] 10.1961840717\n",
       "\\item[sample\\textbackslash{}\\_4] 9.73826456185\n",
       "\\item[sample\\textbackslash{}\\_5] 9.70682924127\n",
       "\\end{description*}\n"
      ],
      "text/markdown": [
       "sample_0\n",
       ":   10.4319989607sample_1\n",
       ":   9.62301085621sample_2\n",
       ":   9.87072997113sample_3\n",
       ":   10.1961840717sample_4\n",
       ":   9.73826456185sample_5\n",
       ":   9.70682924127\n",
       "\n"
      ],
      "text/plain": [
       " sample_0  sample_1  sample_2  sample_3  sample_4  sample_5 \n",
       "10.431999  9.623011  9.870730 10.196184  9.738265  9.706829 "
      ]
     },
     "metadata": {},
     "output_type": "display_data"
    }
   ],
   "source": [
    "head(y)"
   ]
  },
  {
   "cell_type": "code",
   "execution_count": 9,
   "metadata": {},
   "outputs": [
    {
     "data": {
      "text/html": [
       "<table class=\"dataframe\">\n",
       "<caption>A matrix: 5 × 5 of type dbl</caption>\n",
       "<thead>\n",
       "\t<tr><th></th><th scope=col>gene_0</th><th scope=col>gene_1</th><th scope=col>gene_2</th><th scope=col>gene_3</th><th scope=col>gene_6</th></tr>\n",
       "</thead>\n",
       "<tbody>\n",
       "\t<tr><th scope=row>sample_0</th><td>0</td><td>2.0172093</td><td>3.265527</td><td>5.478487</td><td>7.175175</td></tr>\n",
       "\t<tr><th scope=row>sample_1</th><td>0</td><td>0.5927321</td><td>1.588421</td><td>7.586157</td><td>6.816049</td></tr>\n",
       "\t<tr><th scope=row>sample_2</th><td>0</td><td>3.5117590</td><td>4.327199</td><td>6.881787</td><td>6.972130</td></tr>\n",
       "\t<tr><th scope=row>sample_3</th><td>0</td><td>3.6636179</td><td>4.507649</td><td>6.659068</td><td>7.843375</td></tr>\n",
       "\t<tr><th scope=row>sample_4</th><td>0</td><td>2.6557411</td><td>2.821547</td><td>6.539454</td><td>6.566967</td></tr>\n",
       "</tbody>\n",
       "</table>\n"
      ],
      "text/latex": [
       "A matrix: 5 × 5 of type dbl\n",
       "\\begin{tabular}{r|lllll}\n",
       "  & gene\\_0 & gene\\_1 & gene\\_2 & gene\\_3 & gene\\_6\\\\\n",
       "\\hline\n",
       "\tsample\\_0 & 0 & 2.0172093 & 3.265527 & 5.478487 & 7.175175\\\\\n",
       "\tsample\\_1 & 0 & 0.5927321 & 1.588421 & 7.586157 & 6.816049\\\\\n",
       "\tsample\\_2 & 0 & 3.5117590 & 4.327199 & 6.881787 & 6.972130\\\\\n",
       "\tsample\\_3 & 0 & 3.6636179 & 4.507649 & 6.659068 & 7.843375\\\\\n",
       "\tsample\\_4 & 0 & 2.6557411 & 2.821547 & 6.539454 & 6.566967\\\\\n",
       "\\end{tabular}\n"
      ],
      "text/markdown": [
       "\n",
       "A matrix: 5 × 5 of type dbl\n",
       "\n",
       "| <!--/--> | gene_0 | gene_1 | gene_2 | gene_3 | gene_6 |\n",
       "|---|---|---|---|---|---|\n",
       "| sample_0 | 0 | 2.0172093 | 3.265527 | 5.478487 | 7.175175 |\n",
       "| sample_1 | 0 | 0.5927321 | 1.588421 | 7.586157 | 6.816049 |\n",
       "| sample_2 | 0 | 3.5117590 | 4.327199 | 6.881787 | 6.972130 |\n",
       "| sample_3 | 0 | 3.6636179 | 4.507649 | 6.659068 | 7.843375 |\n",
       "| sample_4 | 0 | 2.6557411 | 2.821547 | 6.539454 | 6.566967 |\n",
       "\n"
      ],
      "text/plain": [
       "         gene_0 gene_1    gene_2   gene_3   gene_6  \n",
       "sample_0 0      2.0172093 3.265527 5.478487 7.175175\n",
       "sample_1 0      0.5927321 1.588421 7.586157 6.816049\n",
       "sample_2 0      3.5117590 4.327199 6.881787 6.972130\n",
       "sample_3 0      3.6636179 4.507649 6.659068 7.843375\n",
       "sample_4 0      2.6557411 2.821547 6.539454 6.566967"
      ]
     },
     "metadata": {},
     "output_type": "display_data"
    }
   ],
   "source": [
    "X[1:5,1:5]"
   ]
  },
  {
   "cell_type": "code",
   "execution_count": 10,
   "metadata": {},
   "outputs": [
    {
     "data": {
      "text/html": [
       "<table class=\"dataframe\">\n",
       "<caption>A matrix: 6 × 194 of type dbl</caption>\n",
       "<thead>\n",
       "\t<tr><th></th><th scope=col>gene_0</th><th scope=col>gene_1</th><th scope=col>gene_2</th><th scope=col>gene_3</th><th scope=col>gene_6</th><th scope=col>gene_7</th><th scope=col>gene_8</th><th scope=col>gene_9</th><th scope=col>gene_10</th><th scope=col>gene_11</th><th scope=col>...</th><th scope=col>gene_189</th><th scope=col>gene_190</th><th scope=col>gene_191</th><th scope=col>gene_192</th><th scope=col>gene_193</th><th scope=col>gene_194</th><th scope=col>gene_195</th><th scope=col>gene_196</th><th scope=col>gene_197</th><th scope=col>gene_198</th></tr>\n",
       "</thead>\n",
       "<tbody>\n",
       "\t<tr><th scope=row>sample_0</th><td>-0.201298</td><td>-0.6515548</td><td> 0.1031693</td><td>-1.68518935</td><td>-0.1591481</td><td> 0.41783825</td><td>-0.1005038</td><td>-0.1005038</td><td>-0.02967068</td><td> 0.6909780</td><td>...</td><td>-0.9583516</td><td> 0.3391115</td><td>-0.045354634</td><td> 2.5271548</td><td> 1.2030218</td><td> 0.7865945</td><td>-0.59002878</td><td> 1.47334000</td><td> 1.8454372</td><td> 0.8856613</td></tr>\n",
       "\t<tr><th scope=row>sample_1</th><td>-0.201298</td><td>-1.7928905</td><td>-1.6704314</td><td> 1.18216889</td><td>-0.5123618</td><td>-0.84960659</td><td>-0.1005038</td><td>-0.1005038</td><td>-0.74504538</td><td>-0.2722345</td><td>...</td><td>-0.8118508</td><td>-0.4816728</td><td>-0.524253111</td><td> 0.9485714</td><td> 0.7410154</td><td>-0.9695351</td><td>-0.11902052</td><td>-1.01847165</td><td>-0.5573988</td><td>-0.1130113</td></tr>\n",
       "\t<tr><th scope=row>sample_2</th><td>-0.201298</td><td> 0.5459252</td><td> 1.2259258</td><td> 0.22391628</td><td>-0.3588509</td><td> 0.11959088</td><td>-0.1005038</td><td>-0.1005038</td><td>-0.74504538</td><td>-0.4467624</td><td>...</td><td>-1.1608302</td><td> 0.1728809</td><td> 0.009245631</td><td>-0.6092584</td><td>-4.5468289</td><td> 1.2110676</td><td>-3.78699535</td><td>-0.05211021</td><td>-0.6867520</td><td> 0.9540422</td></tr>\n",
       "\t<tr><th scope=row>sample_3</th><td>-0.201298</td><td> 0.6675993</td><td> 1.4167583</td><td>-0.07907906</td><td> 0.4980507</td><td> 0.08165835</td><td>-0.1005038</td><td>-0.1005038</td><td>-0.74504538</td><td>-0.4696204</td><td>...</td><td>-0.9709849</td><td> 0.1325331</td><td>-0.268854744</td><td> 1.0271227</td><td> 0.3027578</td><td> 0.5314809</td><td>-2.29105371</td><td> 1.13774847</td><td> 2.0236858</td><td> 0.3580567</td></tr>\n",
       "\t<tr><th scope=row>sample_4</th><td>-0.201298</td><td>-0.1399431</td><td>-0.3663557</td><td>-0.24180771</td><td>-0.7573430</td><td>-0.07659156</td><td>-0.1005038</td><td>-0.1005038</td><td>-0.74504538</td><td> 0.6155652</td><td>...</td><td> 1.0159595</td><td>-0.5459124</td><td>-0.714178499</td><td>-0.6351514</td><td>-1.4289518</td><td>-0.2001985</td><td>-0.26724069</td><td> 0.28642401</td><td>-0.4478698</td><td>-0.0554580</td></tr>\n",
       "\t<tr><th scope=row>sample_5</th><td>-0.201298</td><td> 0.5107466</td><td> 0.4377639</td><td>-0.13189811</td><td> 0.4145829</td><td>-0.84960659</td><td>-0.1005038</td><td>-0.1005038</td><td>-0.12208677</td><td>-0.3657060</td><td>...</td><td>-0.7174461</td><td>-0.7093702</td><td>-0.164444881</td><td> 1.5249297</td><td>-0.5100931</td><td> 0.8823635</td><td>-0.06046058</td><td>-0.48229482</td><td> 1.1433650</td><td> 0.4924463</td></tr>\n",
       "</tbody>\n",
       "</table>\n"
      ],
      "text/latex": [
       "A matrix: 6 × 194 of type dbl\n",
       "\\begin{tabular}{r|lllllllllllllllllllll}\n",
       "  & gene\\_0 & gene\\_1 & gene\\_2 & gene\\_3 & gene\\_6 & gene\\_7 & gene\\_8 & gene\\_9 & gene\\_10 & gene\\_11 & ... & gene\\_189 & gene\\_190 & gene\\_191 & gene\\_192 & gene\\_193 & gene\\_194 & gene\\_195 & gene\\_196 & gene\\_197 & gene\\_198\\\\\n",
       "\\hline\n",
       "\tsample\\_0 & -0.201298 & -0.6515548 &  0.1031693 & -1.68518935 & -0.1591481 &  0.41783825 & -0.1005038 & -0.1005038 & -0.02967068 &  0.6909780 & ... & -0.9583516 &  0.3391115 & -0.045354634 &  2.5271548 &  1.2030218 &  0.7865945 & -0.59002878 &  1.47334000 &  1.8454372 &  0.8856613\\\\\n",
       "\tsample\\_1 & -0.201298 & -1.7928905 & -1.6704314 &  1.18216889 & -0.5123618 & -0.84960659 & -0.1005038 & -0.1005038 & -0.74504538 & -0.2722345 & ... & -0.8118508 & -0.4816728 & -0.524253111 &  0.9485714 &  0.7410154 & -0.9695351 & -0.11902052 & -1.01847165 & -0.5573988 & -0.1130113\\\\\n",
       "\tsample\\_2 & -0.201298 &  0.5459252 &  1.2259258 &  0.22391628 & -0.3588509 &  0.11959088 & -0.1005038 & -0.1005038 & -0.74504538 & -0.4467624 & ... & -1.1608302 &  0.1728809 &  0.009245631 & -0.6092584 & -4.5468289 &  1.2110676 & -3.78699535 & -0.05211021 & -0.6867520 &  0.9540422\\\\\n",
       "\tsample\\_3 & -0.201298 &  0.6675993 &  1.4167583 & -0.07907906 &  0.4980507 &  0.08165835 & -0.1005038 & -0.1005038 & -0.74504538 & -0.4696204 & ... & -0.9709849 &  0.1325331 & -0.268854744 &  1.0271227 &  0.3027578 &  0.5314809 & -2.29105371 &  1.13774847 &  2.0236858 &  0.3580567\\\\\n",
       "\tsample\\_4 & -0.201298 & -0.1399431 & -0.3663557 & -0.24180771 & -0.7573430 & -0.07659156 & -0.1005038 & -0.1005038 & -0.74504538 &  0.6155652 & ... &  1.0159595 & -0.5459124 & -0.714178499 & -0.6351514 & -1.4289518 & -0.2001985 & -0.26724069 &  0.28642401 & -0.4478698 & -0.0554580\\\\\n",
       "\tsample\\_5 & -0.201298 &  0.5107466 &  0.4377639 & -0.13189811 &  0.4145829 & -0.84960659 & -0.1005038 & -0.1005038 & -0.12208677 & -0.3657060 & ... & -0.7174461 & -0.7093702 & -0.164444881 &  1.5249297 & -0.5100931 &  0.8823635 & -0.06046058 & -0.48229482 &  1.1433650 &  0.4924463\\\\\n",
       "\\end{tabular}\n"
      ],
      "text/markdown": [
       "\n",
       "A matrix: 6 × 194 of type dbl\n",
       "\n",
       "| <!--/--> | gene_0 | gene_1 | gene_2 | gene_3 | gene_6 | gene_7 | gene_8 | gene_9 | gene_10 | gene_11 | ... | gene_189 | gene_190 | gene_191 | gene_192 | gene_193 | gene_194 | gene_195 | gene_196 | gene_197 | gene_198 |\n",
       "|---|---|---|---|---|---|---|---|---|---|---|---|---|---|---|---|---|---|---|---|---|---|\n",
       "| sample_0 | -0.201298 | -0.6515548 |  0.1031693 | -1.68518935 | -0.1591481 |  0.41783825 | -0.1005038 | -0.1005038 | -0.02967068 |  0.6909780 | ... | -0.9583516 |  0.3391115 | -0.045354634 |  2.5271548 |  1.2030218 |  0.7865945 | -0.59002878 |  1.47334000 |  1.8454372 |  0.8856613 |\n",
       "| sample_1 | -0.201298 | -1.7928905 | -1.6704314 |  1.18216889 | -0.5123618 | -0.84960659 | -0.1005038 | -0.1005038 | -0.74504538 | -0.2722345 | ... | -0.8118508 | -0.4816728 | -0.524253111 |  0.9485714 |  0.7410154 | -0.9695351 | -0.11902052 | -1.01847165 | -0.5573988 | -0.1130113 |\n",
       "| sample_2 | -0.201298 |  0.5459252 |  1.2259258 |  0.22391628 | -0.3588509 |  0.11959088 | -0.1005038 | -0.1005038 | -0.74504538 | -0.4467624 | ... | -1.1608302 |  0.1728809 |  0.009245631 | -0.6092584 | -4.5468289 |  1.2110676 | -3.78699535 | -0.05211021 | -0.6867520 |  0.9540422 |\n",
       "| sample_3 | -0.201298 |  0.6675993 |  1.4167583 | -0.07907906 |  0.4980507 |  0.08165835 | -0.1005038 | -0.1005038 | -0.74504538 | -0.4696204 | ... | -0.9709849 |  0.1325331 | -0.268854744 |  1.0271227 |  0.3027578 |  0.5314809 | -2.29105371 |  1.13774847 |  2.0236858 |  0.3580567 |\n",
       "| sample_4 | -0.201298 | -0.1399431 | -0.3663557 | -0.24180771 | -0.7573430 | -0.07659156 | -0.1005038 | -0.1005038 | -0.74504538 |  0.6155652 | ... |  1.0159595 | -0.5459124 | -0.714178499 | -0.6351514 | -1.4289518 | -0.2001985 | -0.26724069 |  0.28642401 | -0.4478698 | -0.0554580 |\n",
       "| sample_5 | -0.201298 |  0.5107466 |  0.4377639 | -0.13189811 |  0.4145829 | -0.84960659 | -0.1005038 | -0.1005038 | -0.12208677 | -0.3657060 | ... | -0.7174461 | -0.7093702 | -0.164444881 |  1.5249297 | -0.5100931 |  0.8823635 | -0.06046058 | -0.48229482 |  1.1433650 |  0.4924463 |\n",
       "\n"
      ],
      "text/plain": [
       "         gene_0    gene_1     gene_2     gene_3      gene_6     gene_7     \n",
       "sample_0 -0.201298 -0.6515548  0.1031693 -1.68518935 -0.1591481  0.41783825\n",
       "sample_1 -0.201298 -1.7928905 -1.6704314  1.18216889 -0.5123618 -0.84960659\n",
       "sample_2 -0.201298  0.5459252  1.2259258  0.22391628 -0.3588509  0.11959088\n",
       "sample_3 -0.201298  0.6675993  1.4167583 -0.07907906  0.4980507  0.08165835\n",
       "sample_4 -0.201298 -0.1399431 -0.3663557 -0.24180771 -0.7573430 -0.07659156\n",
       "sample_5 -0.201298  0.5107466  0.4377639 -0.13189811  0.4145829 -0.84960659\n",
       "         gene_8     gene_9     gene_10     gene_11    ... gene_189   gene_190  \n",
       "sample_0 -0.1005038 -0.1005038 -0.02967068  0.6909780 ... -0.9583516  0.3391115\n",
       "sample_1 -0.1005038 -0.1005038 -0.74504538 -0.2722345 ... -0.8118508 -0.4816728\n",
       "sample_2 -0.1005038 -0.1005038 -0.74504538 -0.4467624 ... -1.1608302  0.1728809\n",
       "sample_3 -0.1005038 -0.1005038 -0.74504538 -0.4696204 ... -0.9709849  0.1325331\n",
       "sample_4 -0.1005038 -0.1005038 -0.74504538  0.6155652 ...  1.0159595 -0.5459124\n",
       "sample_5 -0.1005038 -0.1005038 -0.12208677 -0.3657060 ... -0.7174461 -0.7093702\n",
       "         gene_191     gene_192   gene_193   gene_194   gene_195    gene_196   \n",
       "sample_0 -0.045354634  2.5271548  1.2030218  0.7865945 -0.59002878  1.47334000\n",
       "sample_1 -0.524253111  0.9485714  0.7410154 -0.9695351 -0.11902052 -1.01847165\n",
       "sample_2  0.009245631 -0.6092584 -4.5468289  1.2110676 -3.78699535 -0.05211021\n",
       "sample_3 -0.268854744  1.0271227  0.3027578  0.5314809 -2.29105371  1.13774847\n",
       "sample_4 -0.714178499 -0.6351514 -1.4289518 -0.2001985 -0.26724069  0.28642401\n",
       "sample_5 -0.164444881  1.5249297 -0.5100931  0.8823635 -0.06046058 -0.48229482\n",
       "         gene_197   gene_198  \n",
       "sample_0  1.8454372  0.8856613\n",
       "sample_1 -0.5573988 -0.1130113\n",
       "sample_2 -0.6867520  0.9540422\n",
       "sample_3  2.0236858  0.3580567\n",
       "sample_4 -0.4478698 -0.0554580\n",
       "sample_5  1.1433650  0.4924463"
      ]
     },
     "metadata": {},
     "output_type": "display_data"
    }
   ],
   "source": [
    "sigma = apply(X,2,sd)\n",
    "mus = colMeans(X)\n",
    "X = scale(X,scale=TRUE,center=TRUE)\n",
    "head(X)"
   ]
  },
  {
   "cell_type": "code",
   "execution_count": 11,
   "metadata": {},
   "outputs": [
    {
     "data": {
      "text/html": [
       "0"
      ],
      "text/latex": [
       "0"
      ],
      "text/markdown": [
       "0"
      ],
      "text/plain": [
       "[1] 0"
      ]
     },
     "metadata": {},
     "output_type": "display_data"
    }
   ],
   "source": [
    "sum(!is.finite(X))"
   ]
  },
  {
   "cell_type": "markdown",
   "metadata": {},
   "source": [
    "### use regression!?"
   ]
  },
  {
   "cell_type": "code",
   "execution_count": 12,
   "metadata": {},
   "outputs": [
    {
     "data": {
      "text/plain": [
       "\n",
       "Call:\n",
       "lm(formula = y ~ X)\n",
       "\n",
       "Coefficients:\n",
       "(Intercept)      Xgene_0      Xgene_1      Xgene_2      Xgene_3      Xgene_6  \n",
       "    9.87867     -0.24473     -2.57194     -1.46960     -0.43962      2.79716  \n",
       "    Xgene_7      Xgene_8      Xgene_9     Xgene_10     Xgene_11     Xgene_12  \n",
       "   -3.83243      3.84923     -1.01300     -1.74333     -2.51257      0.86318  \n",
       "   Xgene_13     Xgene_14     Xgene_17     Xgene_18     Xgene_19     Xgene_20  \n",
       "    1.79826     -1.44417     -0.13890     -2.99392     -0.28364     -0.44764  \n",
       "   Xgene_21     Xgene_22     Xgene_24     Xgene_25     Xgene_26     Xgene_27  \n",
       "   -0.94017      0.45182      3.46188      2.58434     -2.27134      1.94380  \n",
       "   Xgene_28     Xgene_29     Xgene_30     Xgene_31     Xgene_32     Xgene_33  \n",
       "   -0.04829      2.03449     -0.45545     -1.79201     -0.17453      2.05494  \n",
       "   Xgene_34     Xgene_35     Xgene_36     Xgene_37     Xgene_38     Xgene_39  \n",
       "   -0.89849      3.09927      4.60002      0.18746     -2.15848      2.03269  \n",
       "   Xgene_40     Xgene_41     Xgene_42     Xgene_43     Xgene_44     Xgene_45  \n",
       "    0.05636      0.19092     -0.58297      1.13519     -3.03097     -0.97389  \n",
       "   Xgene_46     Xgene_47     Xgene_48     Xgene_49     Xgene_50     Xgene_51  \n",
       "    3.21574      1.20079      1.34871      1.58247     -1.12912      2.32423  \n",
       "   Xgene_52     Xgene_53     Xgene_54     Xgene_55     Xgene_56     Xgene_57  \n",
       "   -0.13585     -1.05774      0.03207      7.05516     -0.98768     -0.56883  \n",
       "   Xgene_58     Xgene_59     Xgene_60     Xgene_61     Xgene_62     Xgene_63  \n",
       "    0.37408     -1.24370      0.55670      3.44459      4.89102      0.48483  \n",
       "   Xgene_64     Xgene_65     Xgene_66     Xgene_67     Xgene_68     Xgene_69  \n",
       "    0.76909      0.08137     -0.10782     -3.50374      2.24510     -2.92509  \n",
       "   Xgene_70     Xgene_71     Xgene_72     Xgene_73     Xgene_74     Xgene_75  \n",
       "   -2.74933      2.43069     -0.01390      5.42842      3.22400     -3.00599  \n",
       "   Xgene_76     Xgene_77     Xgene_78     Xgene_79     Xgene_80     Xgene_81  \n",
       "    0.92038     -1.21805     -2.82080      4.93351     -1.82062      3.17334  \n",
       "   Xgene_82     Xgene_83     Xgene_84     Xgene_85     Xgene_86     Xgene_87  \n",
       "    7.43689      3.47873     -4.21283      1.44361      1.50511     -2.07444  \n",
       "   Xgene_88     Xgene_89     Xgene_90     Xgene_91     Xgene_92     Xgene_93  \n",
       "    1.74098      0.67843     -2.44062     -9.30908      7.75365     -0.29573  \n",
       "   Xgene_94     Xgene_95     Xgene_96     Xgene_97     Xgene_98     Xgene_99  \n",
       "   -4.02828     -4.12481     -0.59427      3.08084     -3.37576     -0.57720  \n",
       "  Xgene_100    Xgene_101    Xgene_102    Xgene_103    Xgene_104    Xgene_105  \n",
       "   -4.42621     -0.98483      1.41776           NA           NA           NA  \n",
       "  Xgene_106    Xgene_107    Xgene_108    Xgene_109    Xgene_110    Xgene_111  \n",
       "         NA           NA           NA           NA           NA           NA  \n",
       "  Xgene_112    Xgene_113    Xgene_114    Xgene_115    Xgene_116    Xgene_117  \n",
       "         NA           NA           NA           NA           NA           NA  \n",
       "  Xgene_118    Xgene_119    Xgene_120    Xgene_121    Xgene_122    Xgene_123  \n",
       "         NA           NA           NA           NA           NA           NA  \n",
       "  Xgene_124    Xgene_125    Xgene_126    Xgene_127    Xgene_128    Xgene_129  \n",
       "         NA           NA           NA           NA           NA           NA  \n",
       "  Xgene_130    Xgene_131    Xgene_132    Xgene_133    Xgene_134    Xgene_135  \n",
       "         NA           NA           NA           NA           NA           NA  \n",
       "  Xgene_136    Xgene_137    Xgene_138    Xgene_139    Xgene_140    Xgene_141  \n",
       "         NA           NA           NA           NA           NA           NA  \n",
       "  Xgene_142    Xgene_143    Xgene_144    Xgene_145    Xgene_146    Xgene_147  \n",
       "         NA           NA           NA           NA           NA           NA  \n",
       "  Xgene_148    Xgene_149    Xgene_150    Xgene_151    Xgene_152    Xgene_153  \n",
       "         NA           NA           NA           NA           NA           NA  \n",
       "  Xgene_154    Xgene_155    Xgene_156    Xgene_157    Xgene_158    Xgene_159  \n",
       "         NA           NA           NA           NA           NA           NA  \n",
       "  Xgene_160    Xgene_161    Xgene_162    Xgene_163    Xgene_164    Xgene_165  \n",
       "         NA           NA           NA           NA           NA           NA  \n",
       "  Xgene_166    Xgene_167    Xgene_168    Xgene_169    Xgene_170    Xgene_171  \n",
       "         NA           NA           NA           NA           NA           NA  \n",
       "  Xgene_172    Xgene_173    Xgene_174    Xgene_175    Xgene_176    Xgene_177  \n",
       "         NA           NA           NA           NA           NA           NA  \n",
       "  Xgene_178    Xgene_179    Xgene_180    Xgene_181    Xgene_182    Xgene_183  \n",
       "         NA           NA           NA           NA           NA           NA  \n",
       "  Xgene_184    Xgene_185    Xgene_186    Xgene_187    Xgene_188    Xgene_189  \n",
       "         NA           NA           NA           NA           NA           NA  \n",
       "  Xgene_190    Xgene_191    Xgene_192    Xgene_193    Xgene_194    Xgene_195  \n",
       "         NA           NA           NA           NA           NA           NA  \n",
       "  Xgene_196    Xgene_197    Xgene_198  \n",
       "         NA           NA           NA  \n"
      ]
     },
     "metadata": {},
     "output_type": "display_data"
    }
   ],
   "source": [
    "lmod = lm(y~X)\n",
    "lmod"
   ]
  },
  {
   "cell_type": "code",
   "execution_count": 13,
   "metadata": {},
   "outputs": [
    {
     "data": {
      "text/html": [
       "21369709347823116288"
      ],
      "text/latex": [
       "21369709347823116288"
      ],
      "text/markdown": [
       "21369709347823116288"
      ],
      "text/plain": [
       "[1] 2.136971e+19"
      ]
     },
     "metadata": {},
     "output_type": "display_data"
    }
   ],
   "source": [
    "X_design = model.matrix(lmod)\n",
    "kappa(t(X_design)%*%X_design)"
   ]
  },
  {
   "cell_type": "code",
   "execution_count": 14,
   "metadata": {},
   "outputs": [
    {
     "name": "stderr",
     "output_type": "stream",
     "text": [
      "Warning message:\n",
      "\"package 'pls' was built under R version 4.0.4\"\n",
      "\n",
      "Attaching package: 'pls'\n",
      "\n",
      "\n",
      "The following object is masked from 'package:stats':\n",
      "\n",
      "    loadings\n",
      "\n",
      "\n"
     ]
    }
   ],
   "source": [
    "library('pls')"
   ]
  },
  {
   "cell_type": "code",
   "execution_count": 15,
   "metadata": {},
   "outputs": [
    {
     "data": {
      "text/html": [
       "\n",
       "<table width=\"100%\" summary=\"page for mvr {pls}\"><tr><td>mvr {pls}</td><td style=\"text-align: right;\">R Documentation</td></tr></table>\n",
       "\n",
       "<h2>Partial Least Squares and Principal Component Regression</h2>\n",
       "\n",
       "<h3>Description</h3>\n",
       "\n",
       "<p>Functions to perform partial least squares regression (PLSR),\n",
       "canonical powered partial least squares (CPPLS) or\n",
       "principal component regression (PCR), with a formula interface.\n",
       "Cross-validation can be used.  Prediction, model extraction, plot,\n",
       "print and summary methods exist.\n",
       "</p>\n",
       "\n",
       "\n",
       "<h3>Usage</h3>\n",
       "\n",
       "<pre>\n",
       "mvr(formula, ncomp, Y.add, data, subset, na.action,\n",
       "    method = pls.options()$mvralg,\n",
       "    scale = FALSE, center = TRUE, validation = c(\"none\", \"CV\", \"LOO\"),\n",
       "    model = TRUE, x = FALSE, y = FALSE, ...)\n",
       "plsr(..., method = pls.options()$plsralg)\n",
       "cppls(..., Y.add, weights, method = pls.options()$cpplsalg)\n",
       "pcr(..., method = pls.options()$pcralg)\n",
       "</pre>\n",
       "\n",
       "\n",
       "<h3>Arguments</h3>\n",
       "\n",
       "<table summary=\"R argblock\">\n",
       "<tr valign=\"top\"><td><code>formula</code></td>\n",
       "<td>\n",
       "<p>a model formula.  Most of the <code>lm</code> formula\n",
       "constructs are supported.  See below.</p>\n",
       "</td></tr>\n",
       "<tr valign=\"top\"><td><code>ncomp</code></td>\n",
       "<td>\n",
       "<p>the number of components to include in the model (see below).</p>\n",
       "</td></tr>\n",
       "<tr valign=\"top\"><td><code>Y.add</code></td>\n",
       "<td>\n",
       "<p>a vector or matrix of additional responses containing\n",
       "relevant information about the observations.  Only used for <code>cppls</code>.</p>\n",
       "</td></tr>\n",
       "<tr valign=\"top\"><td><code>data</code></td>\n",
       "<td>\n",
       "<p>an optional data frame with the data to fit the model from.</p>\n",
       "</td></tr>\n",
       "<tr valign=\"top\"><td><code>subset</code></td>\n",
       "<td>\n",
       "<p>an optional vector specifying a subset of observations\n",
       "to be used in the fitting process.</p>\n",
       "</td></tr>\n",
       "<tr valign=\"top\"><td><code>na.action</code></td>\n",
       "<td>\n",
       "<p>a function which indicates what should happen when\n",
       "the data contain missing values.  The default is set by\n",
       "the <code>na.action</code> setting of <code>options</code>, and is\n",
       "<code>na.fail</code> if that is unset.  The &lsquo;factory-fresh&rsquo;\n",
       "default is <code>na.omit</code>.  Another possible value is\n",
       "<code>NULL</code>, no action.  Value <code>na.exclude</code> can be\n",
       "useful.  See <code>na.omit</code> for other alternatives.</p>\n",
       "</td></tr>\n",
       "<tr valign=\"top\"><td><code>method</code></td>\n",
       "<td>\n",
       "<p>the multivariate regression method to be used.  If\n",
       "<code>\"model.frame\"</code>, the model frame is returned.</p>\n",
       "</td></tr>\n",
       "<tr valign=\"top\"><td><code>scale</code></td>\n",
       "<td>\n",
       "<p>numeric vector, or logical.  If numeric vector, <i>X</i>\n",
       "is scaled by dividing each variable with the corresponding element\n",
       "of <code>scale</code>.  If <code>scale</code> is <code>TRUE</code>, <i>X</i> is scaled\n",
       "by dividing each variable by its sample standard deviation.  If\n",
       "cross-validation is selected, scaling by the standard deviation is\n",
       "done for every segment.</p>\n",
       "</td></tr>\n",
       "<tr valign=\"top\"><td><code>center</code></td>\n",
       "<td>\n",
       "<p>logical, determines if the <i>X</i> and <i>Y</i> matrices\n",
       "are mean centered or not. Default is to perform mean centering.</p>\n",
       "</td></tr>\n",
       "<tr valign=\"top\"><td><code>validation</code></td>\n",
       "<td>\n",
       "<p>character.  What kind of (internal) validation to\n",
       "use.  See below.</p>\n",
       "</td></tr>\n",
       "<tr valign=\"top\"><td><code>model</code></td>\n",
       "<td>\n",
       "<p>a logical.  If <code>TRUE</code>, the model frame is returned.</p>\n",
       "</td></tr>\n",
       "<tr valign=\"top\"><td><code>x</code></td>\n",
       "<td>\n",
       "<p>a logical.  If <code>TRUE</code>, the model matrix is returned.</p>\n",
       "</td></tr>\n",
       "<tr valign=\"top\"><td><code>y</code></td>\n",
       "<td>\n",
       "<p>a logical.  If <code>TRUE</code>, the response is returned.</p>\n",
       "</td></tr>\n",
       "<tr valign=\"top\"><td><code>weights</code></td>\n",
       "<td>\n",
       "<p>a vector of individual weights for the observations.\n",
       "Only used for <code>cppls</code>.  (Optional)</p>\n",
       "</td></tr>\n",
       "<tr valign=\"top\"><td><code>...</code></td>\n",
       "<td>\n",
       "<p>additional optional arguments, passed to the underlying fit\n",
       "functions, and <code>mvrCv</code>.\n",
       "</p>\n",
       "<p>Currently, the fit functions <code>oscorespls.fit</code> and\n",
       "<code>widekernelpls.fit</code> implement these extra arguments:\n",
       "</p>\n",
       "\n",
       "<dl>\n",
       "<dt>tol:</dt><dd><p>numeric.  Tolerance used for determining convergence.</p>\n",
       "</dd>\n",
       "<dt>maxit:</dt><dd><p>positive integer.  The maximal number of iterations used.</p>\n",
       "</dd>\n",
       "</dl>\n",
       "\n",
       "<p>and <code>cppls.fit</code> implements:\n",
       "</p>\n",
       "\n",
       "<dl>\n",
       "<dt>lower:</dt><dd><p>a vector of lower limits for power optimisation.</p>\n",
       "</dd>\n",
       "<dt>upper:</dt><dd><p>a vector of upper limits for power optimisation.</p>\n",
       "</dd>\n",
       "<dt>trunc.pow:</dt><dd><p>logical. Whether to use an experimental alternative power algorithm.</p>\n",
       "</dd>\n",
       "</dl>\n",
       "\n",
       "<p><code>mvrCv</code> implements several arguments; the following are\n",
       "probably the most useful of them:\n",
       "</p>\n",
       "\n",
       "<dl>\n",
       "<dt>segments:</dt><dd><p>the number of segments to use, or a list with segments.</p>\n",
       "</dd>\n",
       "<dt>segment.type:</dt><dd><p>the type of segments to use.</p>\n",
       "</dd>\n",
       "<dt>length.seg:</dt><dd><p>Positive integer.  The length of the segments to use.</p>\n",
       "</dd>\n",
       "<dt>jackknife:</dt><dd><p>logical.  Whether to perform jackknifing of regression\n",
       "coefficients.</p>\n",
       "</dd>\n",
       "</dl>\n",
       "\n",
       "<p>See the functions' documentation for details.\n",
       "</p>\n",
       "</td></tr>\n",
       "</table>\n",
       "\n",
       "\n",
       "<h3>Details</h3>\n",
       "\n",
       "<p>The functions fit PLSR, CPPLS or PCR models with 1, <i>&hellip;</i>,\n",
       "<code>ncomp</code> number of components.  Multi-response models are fully\n",
       "supported.\n",
       "</p>\n",
       "<p>The type of model to fit is specified with the <code>method</code>\n",
       "argument. Four PLSR algorithms are available: the kernel algorithm\n",
       "(<code>\"kernelpls\"</code>), the wide kernel algorithm (<code>\"widekernelpls\"</code>),\n",
       "SIMPLS (<code>\"simpls\"</code>) and the classical orthogonal scores algorithm\n",
       "(<code>\"oscorespls\"</code>). One CPPLS algorithm is available (<code>\"cppls\"</code>)\n",
       "providing several extensions to PLS. One PCR algorithm\n",
       "is available: using the singular value decomposition (<code>\"svdpc\"</code>).\n",
       "If <code>method</code> is <code>\"model.frame\"</code>, the model frame is returned.\n",
       "The functions <code>pcr</code>, <code>plsr</code> and <code>cppls</code>\n",
       "are wrappers for <code>mvr</code>, with different values for <code>method</code>.\n",
       "</p>\n",
       "<p>The <code>formula</code> argument should be a symbolic formula of the form\n",
       "<code>response ~ terms</code>, where <code>response</code> is the name of the\n",
       "response vector or matrix (for multi-response models) and <code>terms</code>\n",
       "is the name of one or more predictor matrices, usually separated by\n",
       "<code>+</code>, e.g., <code>water ~ FTIR</code> or <code>y ~ X + Z</code>.  See\n",
       "<code>lm</code> for a detailed description.  The named\n",
       "variables should exist in the supplied <code>data</code> data frame or in\n",
       "the global environment.  Note: Do not use <code>mvr(mydata$y ~\n",
       "    mydata$X, ...)</code>, instead use <code>mvr(y ~ X, data = mydata,\n",
       "    ...)</code>.  Otherwise, <code>predict.mvr</code> will not work properly.\n",
       "The chapter <span class=\"samp\">Statistical models in R</span> of the manual <span class=\"samp\">An\n",
       "    Introduction to R</span> distributed with <span style=\"font-family: Courier New, Courier; color: #666666;\"><b>R</b></span> is a good reference on\n",
       "formulas in <span style=\"font-family: Courier New, Courier; color: #666666;\"><b>R</b></span>.\n",
       "</p>\n",
       "<p>The number of components to fit is specified with the argument\n",
       "<code>ncomp</code>.  It this is not supplied, the maximal number of\n",
       "components is used (taking account of any cross-validation).\n",
       "</p>\n",
       "<p>All implemented algorithms mean-center both predictor and response\n",
       "matrices.  This can be turned off by specifying <code>center = FALSE</code>.\n",
       "See Seasholtz and Kowalski for a discussion about centering in PLS\n",
       "regression.\n",
       "</p>\n",
       "<p>If <code>validation = \"CV\"</code>, cross-validation is performed.  The number and\n",
       "type of cross-validation segments are specified with the arguments\n",
       "<code>segments</code> and <code>segment.type</code>.  See <code>mvrCv</code> for\n",
       "details.  If <code>validation = \"LOO\"</code>, leave-one-out cross-validation\n",
       "is performed.  It is an error to specify the segments when\n",
       "<code>validation = \"LOO\"</code> is specified.\n",
       "</p>\n",
       "<p>By default, the cross-validation will be performed serially.  However,\n",
       "it can be done in parallel using functionality in the\n",
       "<code>parallel</code> package by setting the option <code>parallel</code> in\n",
       "<code>pls.options</code>.  See <code>pls.options</code> for the\n",
       "differnt ways to specify the parallelism.  See also Examples below.\n",
       "</p>\n",
       "<p>Note that the cross-validation is optimised for speed, and some\n",
       "generality has been sacrificed.  Especially, the model matrix is\n",
       "calculated only once for the complete cross-validation, so models like\n",
       "<code>y ~ msc(X)</code> will not be properly cross-validated.  However,\n",
       "scaling requested by <code>scale = TRUE</code> is properly cross-validated.\n",
       "For proper cross-validation of models where the model matrix must be\n",
       "updated/regenerated for each segment, use the separate function\n",
       "<code>crossval</code>.\n",
       "</p>\n",
       "\n",
       "\n",
       "<h3>Value</h3>\n",
       "\n",
       "<p>If <code>method = \"model.frame\"</code>, the model frame is returned.\n",
       "Otherwise, an object of class <code>mvr</code> is returned.\n",
       "The object contains all components returned by the underlying fit\n",
       "function.  In addition, it contains the following components:\n",
       "</p>\n",
       "<table summary=\"R valueblock\">\n",
       "<tr valign=\"top\"><td><code>validation</code></td>\n",
       "<td>\n",
       "<p>if validation was requested, the results of the\n",
       "cross-validation.  See <code>mvrCv</code> for details.</p>\n",
       "</td></tr>\n",
       "<tr valign=\"top\"><td><code>fit.time</code></td>\n",
       "<td>\n",
       "<p>the elapsed time for the fit.  This is used by\n",
       "<code>crossval</code> to decide whether to turn on tracing.</p>\n",
       "</td></tr>\n",
       "<tr valign=\"top\"><td><code>na.action</code></td>\n",
       "<td>\n",
       "<p>if observations with missing values were removed,\n",
       "<code>na.action</code> contains a vector with their indices.  The\n",
       "class of this vector is used by functions like <code>fitted</code> to\n",
       "decide how to treat the observations.</p>\n",
       "</td></tr>\n",
       "<tr valign=\"top\"><td><code>ncomp</code></td>\n",
       "<td>\n",
       "<p>the number of components of the model.</p>\n",
       "</td></tr>\n",
       "<tr valign=\"top\"><td><code>method</code></td>\n",
       "<td>\n",
       "<p>the method used to fit the model.  See the argument\n",
       "<code>method</code> for possible values.</p>\n",
       "</td></tr>\n",
       "<tr valign=\"top\"><td><code>scale</code></td>\n",
       "<td>\n",
       "<p>if scaling was requested (with <code>scale</code>), the\n",
       "scaling used.</p>\n",
       "</td></tr>\n",
       "<tr valign=\"top\"><td><code>call</code></td>\n",
       "<td>\n",
       "<p>the function call.</p>\n",
       "</td></tr>\n",
       "<tr valign=\"top\"><td><code>terms</code></td>\n",
       "<td>\n",
       "<p>the model terms.</p>\n",
       "</td></tr>\n",
       "<tr valign=\"top\"><td><code>model</code></td>\n",
       "<td>\n",
       "<p>if <code>model = TRUE</code>, the model frame.</p>\n",
       "</td></tr>\n",
       "<tr valign=\"top\"><td><code>x</code></td>\n",
       "<td>\n",
       "<p>if <code>x = TRUE</code>, the model matrix.</p>\n",
       "</td></tr>\n",
       "<tr valign=\"top\"><td><code>y</code></td>\n",
       "<td>\n",
       "<p>if <code>y = TRUE</code>, the model response.</p>\n",
       "</td></tr>\n",
       "</table>\n",
       "\n",
       "\n",
       "<h3>Author(s)</h3>\n",
       "\n",
       "<p>Ron Wehrens and BjÃ¸rn-Helge Mevik</p>\n",
       "\n",
       "\n",
       "<h3>References</h3>\n",
       "\n",
       "<p>Martens, H., NÃ¦s, T. (1989) <em>Multivariate calibration.</em>\n",
       "Chichester: Wiley.\n",
       "</p>\n",
       "<p>Seasholtz, M. B. and Kowalski, B. R. (1992) The effect of mean\n",
       "centering on prediction in multivariate calibration.  <em>Journal of\n",
       "Chemometrics</em>, <b>6</b>(2), 103&ndash;111.\n",
       "</p>\n",
       "\n",
       "\n",
       "<h3>See Also</h3>\n",
       "\n",
       "<p><code>kernelpls.fit</code>,\n",
       "<code>widekernelpls.fit</code>,\n",
       "<code>simpls.fit</code>,\n",
       "<code>oscorespls.fit</code>,\n",
       "<code>cppls.fit</code>,\n",
       "<code>svdpc.fit</code>,\n",
       "<code>mvrCv</code>,\n",
       "<code>crossval</code>,\n",
       "<code>loadings</code>,\n",
       "<code>scores</code>,\n",
       "<code>loading.weights</code>,\n",
       "<code>coef.mvr</code>,\n",
       "<code>predict.mvr</code>,\n",
       "<code>R2</code>,\n",
       "<code>MSEP</code>,\n",
       "<code>RMSEP</code>,\n",
       "<code>plot.mvr</code></p>\n",
       "\n",
       "\n",
       "<h3>Examples</h3>\n",
       "\n",
       "<pre>\n",
       "data(yarn)\n",
       "## Default methods:\n",
       "yarn.pcr &lt;- pcr(density ~ NIR, 6, data = yarn, validation = \"CV\")\n",
       "yarn.pls &lt;- plsr(density ~ NIR, 6, data = yarn, validation = \"CV\")\n",
       "yarn.cppls &lt;- cppls(density ~ NIR, 6, data = yarn, validation = \"CV\")\n",
       "\n",
       "## Alternative methods:\n",
       "yarn.oscorespls &lt;- mvr(density ~ NIR, 6, data = yarn, validation = \"CV\",\n",
       "                      method = \"oscorespls\")\n",
       "yarn.simpls &lt;- mvr(density ~ NIR, 6, data = yarn, validation = \"CV\",\n",
       "                  method = \"simpls\")\n",
       "\n",
       "## Not run: \n",
       "## Parallelised cross-validation, using transient cluster:\n",
       "pls.options(parallel = 4) # use mclapply\n",
       "pls.options(parallel = quote(makeCluster(4, type = \"PSOCK\"))) # use parLapply\n",
       "## A new cluster is created and stopped for each cross-validation:\n",
       "yarn.pls &lt;- plsr(density ~ NIR, 6, data = yarn, validation = \"CV\")\n",
       "yarn.pcr &lt;- pcr(density ~ NIR, 6, data = yarn, validation = \"CV\")\n",
       "\n",
       "## Parallelised cross-validation, using persistent cluster:\n",
       "library(parallel)\n",
       "## This creates the cluster:\n",
       "pls.options(parallel = makeCluster(4, type = \"PSOCK\"))\n",
       "## The cluster can be used several times:\n",
       "yarn.pls &lt;- plsr(density ~ NIR, 6, data = yarn, validation = \"CV\")\n",
       "yarn.pcr &lt;- pcr(density ~ NIR, 6, data = yarn, validation = \"CV\")\n",
       "## The cluster should be stopped manually afterwards:\n",
       "stopCluster(pls.options()$parallel)\n",
       "\n",
       "## Parallelised cross-validation, using persistent MPI cluster:\n",
       "## This requires the packages snow and Rmpi to be installed\n",
       "library(parallel)\n",
       "## This creates the cluster:\n",
       "pls.options(parallel = makeCluster(4, type = \"MPI\"))\n",
       "## The cluster can be used several times:\n",
       "yarn.pls &lt;- plsr(density ~ NIR, 6, data = yarn, validation = \"CV\")\n",
       "yarn.pcr &lt;- pcr(density ~ NIR, 6, data = yarn, validation = \"CV\")\n",
       "## The cluster should be stopped manually afterwards:\n",
       "stopCluster(pls.options()$parallel)\n",
       "## It is good practice to call mpi.exit() or mpi.quit() afterwards:\n",
       "mpi.exit()\n",
       "\n",
       "## End(Not run)\n",
       "\n",
       "## Multi-response models:\n",
       "data(oliveoil)\n",
       "sens.pcr &lt;- pcr(sensory ~ chemical, ncomp = 4, scale = TRUE, data = oliveoil)\n",
       "sens.pls &lt;- plsr(sensory ~ chemical, ncomp = 4, scale = TRUE, data = oliveoil)\n",
       "\n",
       "## Classification\n",
       "# A classification example utilizing additional response information\n",
       "# (Y.add) is found in the cppls.fit manual ('See also' above).\n",
       "</pre>\n",
       "\n",
       "<hr /><div style=\"text-align: center;\">[Package <em>pls</em> version 2.7-3 ]</div>"
      ],
      "text/latex": [
       "\\inputencoding{utf8}\n",
       "\\HeaderA{mvr}{Partial Least Squares and Principal Component Regression}{mvr}\n",
       "\\aliasA{cppls}{mvr}{cppls}\n",
       "\\aliasA{pcr}{mvr}{pcr}\n",
       "\\aliasA{plsr}{mvr}{plsr}\n",
       "\\keyword{regression}{mvr}\n",
       "\\keyword{multivariate}{mvr}\n",
       "%\n",
       "\\begin{Description}\\relax\n",
       "Functions to perform partial least squares regression (PLSR),\n",
       "canonical powered partial least squares (CPPLS) or\n",
       "principal component regression (PCR), with a formula interface.\n",
       "Cross-validation can be used.  Prediction, model extraction, plot,\n",
       "print and summary methods exist.\n",
       "\\end{Description}\n",
       "%\n",
       "\\begin{Usage}\n",
       "\\begin{verbatim}\n",
       "mvr(formula, ncomp, Y.add, data, subset, na.action,\n",
       "    method = pls.options()$mvralg,\n",
       "    scale = FALSE, center = TRUE, validation = c(\"none\", \"CV\", \"LOO\"),\n",
       "    model = TRUE, x = FALSE, y = FALSE, ...)\n",
       "plsr(..., method = pls.options()$plsralg)\n",
       "cppls(..., Y.add, weights, method = pls.options()$cpplsalg)\n",
       "pcr(..., method = pls.options()$pcralg)\n",
       "\\end{verbatim}\n",
       "\\end{Usage}\n",
       "%\n",
       "\\begin{Arguments}\n",
       "\\begin{ldescription}\n",
       "\\item[\\code{formula}] a model formula.  Most of the \\code{\\LinkA{lm}{lm}} formula\n",
       "constructs are supported.  See below.\n",
       "\\item[\\code{ncomp}] the number of components to include in the model (see below).\n",
       "\\item[\\code{Y.add}] a vector or matrix of additional responses containing\n",
       "relevant information about the observations.  Only used for \\code{cppls}.\n",
       "\\item[\\code{data}] an optional data frame with the data to fit the model from.\n",
       "\\item[\\code{subset}] an optional vector specifying a subset of observations\n",
       "to be used in the fitting process.\n",
       "\\item[\\code{na.action}] a function which indicates what should happen when\n",
       "the data contain missing values.  The default is set by\n",
       "the \\code{na.action} setting of \\code{\\LinkA{options}{options}}, and is\n",
       "\\code{\\LinkA{na.fail}{na.fail}} if that is unset.  The `factory-fresh'\n",
       "default is \\code{\\LinkA{na.omit}{na.omit}}.  Another possible value is\n",
       "\\code{NULL}, no action.  Value \\code{\\LinkA{na.exclude}{na.exclude}} can be\n",
       "useful.  See \\code{\\LinkA{na.omit}{na.omit}} for other alternatives.\n",
       "\\item[\\code{method}] the multivariate regression method to be used.  If\n",
       "\\code{\"model.frame\"}, the model frame is returned.\n",
       "\\item[\\code{scale}] numeric vector, or logical.  If numeric vector, \\eqn{X}{}\n",
       "is scaled by dividing each variable with the corresponding element\n",
       "of \\code{scale}.  If \\code{scale} is \\code{TRUE}, \\eqn{X}{} is scaled\n",
       "by dividing each variable by its sample standard deviation.  If\n",
       "cross-validation is selected, scaling by the standard deviation is\n",
       "done for every segment.\n",
       "\\item[\\code{center}] logical, determines if the \\eqn{X}{} and \\eqn{Y}{} matrices\n",
       "are mean centered or not. Default is to perform mean centering.\n",
       "\\item[\\code{validation}] character.  What kind of (internal) validation to\n",
       "use.  See below.\n",
       "\\item[\\code{model}] a logical.  If \\code{TRUE}, the model frame is returned.\n",
       "\\item[\\code{x}] a logical.  If \\code{TRUE}, the model matrix is returned.\n",
       "\\item[\\code{y}] a logical.  If \\code{TRUE}, the response is returned.\n",
       "\\item[\\code{weights}] a vector of individual weights for the observations.\n",
       "Only used for \\code{cppls}.  (Optional)\n",
       "\\item[\\code{...}] additional optional arguments, passed to the underlying fit\n",
       "functions, and \\code{\\LinkA{mvrCv}{mvrCv}}.\n",
       "\n",
       "Currently, the fit functions \\code{\\LinkA{oscorespls.fit}{oscorespls.fit}} and\n",
       "\\code{\\LinkA{widekernelpls.fit}{widekernelpls.fit}} implement these extra arguments:\n",
       "\\begin{description}\n",
       "\n",
       "\\item[tol:] numeric.  Tolerance used for determining convergence.\n",
       "\\item[maxit:] positive integer.  The maximal number of iterations used.\n",
       "\n",
       "\\end{description}\n",
       "\n",
       "and \\code{\\LinkA{cppls.fit}{cppls.fit}} implements:\n",
       "\\begin{description}\n",
       "\n",
       "\\item[lower:] a vector of lower limits for power optimisation.\n",
       "\\item[upper:] a vector of upper limits for power optimisation.\n",
       "\\item[trunc.pow:] logical. Whether to use an experimental alternative power algorithm.\n",
       "\n",
       "\\end{description}\n",
       "\n",
       "\\code{\\LinkA{mvrCv}{mvrCv}} implements several arguments; the following are\n",
       "probably the most useful of them:\n",
       "\\begin{description}\n",
       "\n",
       "\\item[segments:] the number of segments to use, or a list with segments.\n",
       "\\item[segment.type:] the type of segments to use.\n",
       "\\item[length.seg:] Positive integer.  The length of the segments to use.\n",
       "\\item[jackknife:] logical.  Whether to perform jackknifing of regression\n",
       "coefficients.\n",
       "\n",
       "\\end{description}\n",
       "\n",
       "\n",
       "See the functions' documentation for details.\n",
       "\n",
       "\\end{ldescription}\n",
       "\\end{Arguments}\n",
       "%\n",
       "\\begin{Details}\\relax\n",
       "The functions fit PLSR, CPPLS or PCR models with 1, \\eqn{\\ldots}{},\n",
       "\\code{ncomp} number of components.  Multi-response models are fully\n",
       "supported.\n",
       "\n",
       "The type of model to fit is specified with the \\code{method}\n",
       "argument. Four PLSR algorithms are available: the kernel algorithm\n",
       "(\\code{\"kernelpls\"}), the wide kernel algorithm (\\code{\"widekernelpls\"}),\n",
       "SIMPLS (\\code{\"simpls\"}) and the classical orthogonal scores algorithm\n",
       "(\\code{\"oscorespls\"}). One CPPLS algorithm is available (\\code{\"cppls\"})\n",
       "providing several extensions to PLS. One PCR algorithm\n",
       "is available: using the singular value decomposition (\\code{\"svdpc\"}).\n",
       "If \\code{method} is \\code{\"model.frame\"}, the model frame is returned.\n",
       "The functions \\code{pcr}, \\code{plsr} and \\code{cppls}\n",
       "are wrappers for \\code{mvr}, with different values for \\code{method}.\n",
       "\n",
       "The \\code{formula} argument should be a symbolic formula of the form\n",
       "\\code{response \\textasciitilde{} terms}, where \\code{response} is the name of the\n",
       "response vector or matrix (for multi-response models) and \\code{terms}\n",
       "is the name of one or more predictor matrices, usually separated by\n",
       "\\code{+}, e.g., \\code{water \\textasciitilde{} FTIR} or \\code{y \\textasciitilde{} X + Z}.  See\n",
       "\\code{\\LinkA{lm}{lm}} for a detailed description.  The named\n",
       "variables should exist in the supplied \\code{data} data frame or in\n",
       "the global environment.  Note: Do not use \\code{mvr(mydata\\$y \\textasciitilde{}\n",
       "    mydata\\$X, ...)}, instead use \\code{mvr(y \\textasciitilde{} X, data = mydata,\n",
       "    ...)}.  Otherwise, \\code{\\LinkA{predict.mvr}{predict.mvr}} will not work properly.\n",
       "The chapter \\samp{Statistical models in R} of the manual \\samp{An\n",
       "    Introduction to R} distributed with \\R{} is a good reference on\n",
       "formulas in \\R{}.\n",
       "\n",
       "The number of components to fit is specified with the argument\n",
       "\\code{ncomp}.  It this is not supplied, the maximal number of\n",
       "components is used (taking account of any cross-validation).\n",
       "\n",
       "All implemented algorithms mean-center both predictor and response\n",
       "matrices.  This can be turned off by specifying \\code{center = FALSE}.\n",
       "See Seasholtz and Kowalski for a discussion about centering in PLS\n",
       "regression.\n",
       "\n",
       "If \\code{validation = \"CV\"}, cross-validation is performed.  The number and\n",
       "type of cross-validation segments are specified with the arguments\n",
       "\\code{segments} and \\code{segment.type}.  See \\code{\\LinkA{mvrCv}{mvrCv}} for\n",
       "details.  If \\code{validation = \"LOO\"}, leave-one-out cross-validation\n",
       "is performed.  It is an error to specify the segments when\n",
       "\\code{validation = \"LOO\"} is specified.\n",
       "\n",
       "By default, the cross-validation will be performed serially.  However,\n",
       "it can be done in parallel using functionality in the\n",
       "\\code{\\LinkA{parallel}{parallel}} package by setting the option \\code{parallel} in\n",
       "\\code{\\LinkA{pls.options}{pls.options}}.  See \\code{\\LinkA{pls.options}{pls.options}} for the\n",
       "differnt ways to specify the parallelism.  See also Examples below.\n",
       "\n",
       "Note that the cross-validation is optimised for speed, and some\n",
       "generality has been sacrificed.  Especially, the model matrix is\n",
       "calculated only once for the complete cross-validation, so models like\n",
       "\\code{y \\textasciitilde{} msc(X)} will not be properly cross-validated.  However,\n",
       "scaling requested by \\code{scale = TRUE} is properly cross-validated.\n",
       "For proper cross-validation of models where the model matrix must be\n",
       "updated/regenerated for each segment, use the separate function\n",
       "\\code{\\LinkA{crossval}{crossval}}.\n",
       "\\end{Details}\n",
       "%\n",
       "\\begin{Value}\n",
       "If \\code{method = \"model.frame\"}, the model frame is returned.\n",
       "Otherwise, an object of class \\code{mvr} is returned.\n",
       "The object contains all components returned by the underlying fit\n",
       "function.  In addition, it contains the following components:\n",
       "\\begin{ldescription}\n",
       "\\item[\\code{validation}] if validation was requested, the results of the\n",
       "cross-validation.  See \\code{\\LinkA{mvrCv}{mvrCv}} for details.\n",
       "\\item[\\code{fit.time}] the elapsed time for the fit.  This is used by\n",
       "\\code{\\LinkA{crossval}{crossval}} to decide whether to turn on tracing.\n",
       "\\item[\\code{na.action}] if observations with missing values were removed,\n",
       "\\code{na.action} contains a vector with their indices.  The\n",
       "class of this vector is used by functions like \\code{fitted} to\n",
       "decide how to treat the observations.\n",
       "\\item[\\code{ncomp}] the number of components of the model.\n",
       "\\item[\\code{method}] the method used to fit the model.  See the argument\n",
       "\\code{method} for possible values.\n",
       "\\item[\\code{scale}] if scaling was requested (with \\code{scale}), the\n",
       "scaling used.\n",
       "\\item[\\code{call}] the function call.\n",
       "\\item[\\code{terms}] the model terms.\n",
       "\\item[\\code{model}] if \\code{model = TRUE}, the model frame.\n",
       "\\item[\\code{x}] if \\code{x = TRUE}, the model matrix.\n",
       "\\item[\\code{y}] if \\code{y = TRUE}, the model response.\n",
       "\\end{ldescription}\n",
       "\\end{Value}\n",
       "%\n",
       "\\begin{Author}\\relax\n",
       "Ron Wehrens and BjÃ¸rn-Helge Mevik\n",
       "\\end{Author}\n",
       "%\n",
       "\\begin{References}\\relax\n",
       "Martens, H., NÃ¦s, T. (1989) \\emph{Multivariate calibration.}\n",
       "Chichester: Wiley.\n",
       "\n",
       "Seasholtz, M. B. and Kowalski, B. R. (1992) The effect of mean\n",
       "centering on prediction in multivariate calibration.  \\emph{Journal of\n",
       "Chemometrics}, \\bold{6}(2), 103--111.\n",
       "\\end{References}\n",
       "%\n",
       "\\begin{SeeAlso}\\relax\n",
       "\\code{\\LinkA{kernelpls.fit}{kernelpls.fit}},\n",
       "\\code{\\LinkA{widekernelpls.fit}{widekernelpls.fit}},\n",
       "\\code{\\LinkA{simpls.fit}{simpls.fit}},\n",
       "\\code{\\LinkA{oscorespls.fit}{oscorespls.fit}},\n",
       "\\code{\\LinkA{cppls.fit}{cppls.fit}},\n",
       "\\code{\\LinkA{svdpc.fit}{svdpc.fit}},\n",
       "\\code{\\LinkA{mvrCv}{mvrCv}},\n",
       "\\code{\\LinkA{crossval}{crossval}},\n",
       "\\code{\\LinkA{loadings}{loadings}},\n",
       "\\code{\\LinkA{scores}{scores}},\n",
       "\\code{\\LinkA{loading.weights}{loading.weights}},\n",
       "\\code{\\LinkA{coef.mvr}{coef.mvr}},\n",
       "\\code{\\LinkA{predict.mvr}{predict.mvr}},\n",
       "\\code{\\LinkA{R2}{R2}},\n",
       "\\code{\\LinkA{MSEP}{MSEP}},\n",
       "\\code{\\LinkA{RMSEP}{RMSEP}},\n",
       "\\code{\\LinkA{plot.mvr}{plot.mvr}}\n",
       "\\end{SeeAlso}\n",
       "%\n",
       "\\begin{Examples}\n",
       "\\begin{ExampleCode}\n",
       "data(yarn)\n",
       "## Default methods:\n",
       "yarn.pcr <- pcr(density ~ NIR, 6, data = yarn, validation = \"CV\")\n",
       "yarn.pls <- plsr(density ~ NIR, 6, data = yarn, validation = \"CV\")\n",
       "yarn.cppls <- cppls(density ~ NIR, 6, data = yarn, validation = \"CV\")\n",
       "\n",
       "## Alternative methods:\n",
       "yarn.oscorespls <- mvr(density ~ NIR, 6, data = yarn, validation = \"CV\",\n",
       "                      method = \"oscorespls\")\n",
       "yarn.simpls <- mvr(density ~ NIR, 6, data = yarn, validation = \"CV\",\n",
       "                  method = \"simpls\")\n",
       "\n",
       "## Not run: \n",
       "## Parallelised cross-validation, using transient cluster:\n",
       "pls.options(parallel = 4) # use mclapply\n",
       "pls.options(parallel = quote(makeCluster(4, type = \"PSOCK\"))) # use parLapply\n",
       "## A new cluster is created and stopped for each cross-validation:\n",
       "yarn.pls <- plsr(density ~ NIR, 6, data = yarn, validation = \"CV\")\n",
       "yarn.pcr <- pcr(density ~ NIR, 6, data = yarn, validation = \"CV\")\n",
       "\n",
       "## Parallelised cross-validation, using persistent cluster:\n",
       "library(parallel)\n",
       "## This creates the cluster:\n",
       "pls.options(parallel = makeCluster(4, type = \"PSOCK\"))\n",
       "## The cluster can be used several times:\n",
       "yarn.pls <- plsr(density ~ NIR, 6, data = yarn, validation = \"CV\")\n",
       "yarn.pcr <- pcr(density ~ NIR, 6, data = yarn, validation = \"CV\")\n",
       "## The cluster should be stopped manually afterwards:\n",
       "stopCluster(pls.options()$parallel)\n",
       "\n",
       "## Parallelised cross-validation, using persistent MPI cluster:\n",
       "## This requires the packages snow and Rmpi to be installed\n",
       "library(parallel)\n",
       "## This creates the cluster:\n",
       "pls.options(parallel = makeCluster(4, type = \"MPI\"))\n",
       "## The cluster can be used several times:\n",
       "yarn.pls <- plsr(density ~ NIR, 6, data = yarn, validation = \"CV\")\n",
       "yarn.pcr <- pcr(density ~ NIR, 6, data = yarn, validation = \"CV\")\n",
       "## The cluster should be stopped manually afterwards:\n",
       "stopCluster(pls.options()$parallel)\n",
       "## It is good practice to call mpi.exit() or mpi.quit() afterwards:\n",
       "mpi.exit()\n",
       "\n",
       "## End(Not run)\n",
       "\n",
       "## Multi-response models:\n",
       "data(oliveoil)\n",
       "sens.pcr <- pcr(sensory ~ chemical, ncomp = 4, scale = TRUE, data = oliveoil)\n",
       "sens.pls <- plsr(sensory ~ chemical, ncomp = 4, scale = TRUE, data = oliveoil)\n",
       "\n",
       "## Classification\n",
       "# A classification example utilizing additional response information\n",
       "# (Y.add) is found in the cppls.fit manual ('See also' above).\n",
       "\\end{ExampleCode}\n",
       "\\end{Examples}"
      ],
      "text/plain": [
       "mvr                    package:pls                     R Documentation\n",
       "\n",
       "_\bP_\ba_\br_\bt_\bi_\ba_\bl _\bL_\be_\ba_\bs_\bt _\bS_\bq_\bu_\ba_\br_\be_\bs _\ba_\bn_\bd _\bP_\br_\bi_\bn_\bc_\bi_\bp_\ba_\bl _\bC_\bo_\bm_\bp_\bo_\bn_\be_\bn_\bt _\bR_\be_\bg_\br_\be_\bs_\bs_\bi_\bo_\bn\n",
       "\n",
       "_\bD_\be_\bs_\bc_\br_\bi_\bp_\bt_\bi_\bo_\bn:\n",
       "\n",
       "     Functions to perform partial least squares regression (PLSR),\n",
       "     canonical powered partial least squares (CPPLS) or principal\n",
       "     component regression (PCR), with a formula interface.\n",
       "     Cross-validation can be used.  Prediction, model extraction, plot,\n",
       "     print and summary methods exist.\n",
       "\n",
       "_\bU_\bs_\ba_\bg_\be:\n",
       "\n",
       "     mvr(formula, ncomp, Y.add, data, subset, na.action,\n",
       "         method = pls.options()$mvralg,\n",
       "         scale = FALSE, center = TRUE, validation = c(\"none\", \"CV\", \"LOO\"),\n",
       "         model = TRUE, x = FALSE, y = FALSE, ...)\n",
       "     plsr(..., method = pls.options()$plsralg)\n",
       "     cppls(..., Y.add, weights, method = pls.options()$cpplsalg)\n",
       "     pcr(..., method = pls.options()$pcralg)\n",
       "     \n",
       "_\bA_\br_\bg_\bu_\bm_\be_\bn_\bt_\bs:\n",
       "\n",
       " formula: a model formula.  Most of the 'lm' formula constructs are\n",
       "          supported.  See below.\n",
       "\n",
       "   ncomp: the number of components to include in the model (see below).\n",
       "\n",
       "   Y.add: a vector or matrix of additional responses containing\n",
       "          relevant information about the observations.  Only used for\n",
       "          'cppls'.\n",
       "\n",
       "    data: an optional data frame with the data to fit the model from.\n",
       "\n",
       "  subset: an optional vector specifying a subset of observations to be\n",
       "          used in the fitting process.\n",
       "\n",
       "na.action: a function which indicates what should happen when the data\n",
       "          contain missing values.  The default is set by the\n",
       "          'na.action' setting of 'options', and is 'na.fail' if that is\n",
       "          unset.  The 'factory-fresh' default is 'na.omit'.  Another\n",
       "          possible value is 'NULL', no action.  Value 'na.exclude' can\n",
       "          be useful.  See 'na.omit' for other alternatives.\n",
       "\n",
       "  method: the multivariate regression method to be used.  If\n",
       "          '\"model.frame\"', the model frame is returned.\n",
       "\n",
       "   scale: numeric vector, or logical.  If numeric vector, X is scaled\n",
       "          by dividing each variable with the corresponding element of\n",
       "          'scale'.  If 'scale' is 'TRUE', X is scaled by dividing each\n",
       "          variable by its sample standard deviation.  If\n",
       "          cross-validation is selected, scaling by the standard\n",
       "          deviation is done for every segment.\n",
       "\n",
       "  center: logical, determines if the X and Y matrices are mean centered\n",
       "          or not. Default is to perform mean centering.\n",
       "\n",
       "validation: character.  What kind of (internal) validation to use.  See\n",
       "          below.\n",
       "\n",
       "   model: a logical.  If 'TRUE', the model frame is returned.\n",
       "\n",
       "       x: a logical.  If 'TRUE', the model matrix is returned.\n",
       "\n",
       "       y: a logical.  If 'TRUE', the response is returned.\n",
       "\n",
       " weights: a vector of individual weights for the observations.  Only\n",
       "          used for 'cppls'.  (Optional)\n",
       "\n",
       "     ...: additional optional arguments, passed to the underlying fit\n",
       "          functions, and 'mvrCv'.\n",
       "\n",
       "          Currently, the fit functions 'oscorespls.fit' and\n",
       "          'widekernelpls.fit' implement these extra arguments:\n",
       "\n",
       "          tol: numeric.  Tolerance used for determining convergence.\n",
       "\n",
       "          maxit: positive integer.  The maximal number of iterations\n",
       "              used.\n",
       "\n",
       "          and 'cppls.fit' implements:\n",
       "\n",
       "          lower: a vector of lower limits for power optimisation.\n",
       "\n",
       "          upper: a vector of upper limits for power optimisation.\n",
       "\n",
       "          trunc.pow: logical. Whether to use an experimental\n",
       "              alternative power algorithm.\n",
       "\n",
       "          'mvrCv' implements several arguments; the following are\n",
       "          probably the most useful of them:\n",
       "\n",
       "          segments: the number of segments to use, or a list with\n",
       "              segments.\n",
       "\n",
       "          segment.type: the type of segments to use.\n",
       "\n",
       "          length.seg: Positive integer.  The length of the segments to\n",
       "              use.\n",
       "\n",
       "          jackknife: logical.  Whether to perform jackknifing of\n",
       "              regression coefficients.\n",
       "\n",
       "          See the functions' documentation for details.\n",
       "\n",
       "_\bD_\be_\bt_\ba_\bi_\bl_\bs:\n",
       "\n",
       "     The functions fit PLSR, CPPLS or PCR models with 1, ..., 'ncomp'\n",
       "     number of components.  Multi-response models are fully supported.\n",
       "\n",
       "     The type of model to fit is specified with the 'method' argument.\n",
       "     Four PLSR algorithms are available: the kernel algorithm\n",
       "     ('\"kernelpls\"'), the wide kernel algorithm ('\"widekernelpls\"'),\n",
       "     SIMPLS ('\"simpls\"') and the classical orthogonal scores algorithm\n",
       "     ('\"oscorespls\"'). One CPPLS algorithm is available ('\"cppls\"')\n",
       "     providing several extensions to PLS. One PCR algorithm is\n",
       "     available: using the singular value decomposition ('\"svdpc\"').  If\n",
       "     'method' is '\"model.frame\"', the model frame is returned.  The\n",
       "     functions 'pcr', 'plsr' and 'cppls' are wrappers for 'mvr', with\n",
       "     different values for 'method'.\n",
       "\n",
       "     The 'formula' argument should be a symbolic formula of the form\n",
       "     'response ~ terms', where 'response' is the name of the response\n",
       "     vector or matrix (for multi-response models) and 'terms' is the\n",
       "     name of one or more predictor matrices, usually separated by '+',\n",
       "     e.g., 'water ~ FTIR' or 'y ~ X + Z'.  See 'lm' for a detailed\n",
       "     description.  The named variables should exist in the supplied\n",
       "     'data' data frame or in the global environment.  Note: Do not use\n",
       "     'mvr(mydata$y ~ mydata$X, ...)', instead use 'mvr(y ~ X, data =\n",
       "     mydata, ...)'.  Otherwise, 'predict.mvr' will not work properly.\n",
       "     The chapter 'Statistical models in R' of the manual 'An\n",
       "     Introduction to R' distributed with R is a good reference on\n",
       "     formulas in R.\n",
       "\n",
       "     The number of components to fit is specified with the argument\n",
       "     'ncomp'.  It this is not supplied, the maximal number of\n",
       "     components is used (taking account of any cross-validation).\n",
       "\n",
       "     All implemented algorithms mean-center both predictor and response\n",
       "     matrices.  This can be turned off by specifying 'center = FALSE'.\n",
       "     See Seasholtz and Kowalski for a discussion about centering in PLS\n",
       "     regression.\n",
       "\n",
       "     If 'validation = \"CV\"', cross-validation is performed.  The number\n",
       "     and type of cross-validation segments are specified with the\n",
       "     arguments 'segments' and 'segment.type'.  See 'mvrCv' for details.\n",
       "     If 'validation = \"LOO\"', leave-one-out cross-validation is\n",
       "     performed.  It is an error to specify the segments when\n",
       "     'validation = \"LOO\"' is specified.\n",
       "\n",
       "     By default, the cross-validation will be performed serially.\n",
       "     However, it can be done in parallel using functionality in the\n",
       "     'parallel' package by setting the option 'parallel' in\n",
       "     'pls.options'.  See 'pls.options' for the differnt ways to specify\n",
       "     the parallelism.  See also Examples below.\n",
       "\n",
       "     Note that the cross-validation is optimised for speed, and some\n",
       "     generality has been sacrificed.  Especially, the model matrix is\n",
       "     calculated only once for the complete cross-validation, so models\n",
       "     like 'y ~ msc(X)' will not be properly cross-validated.  However,\n",
       "     scaling requested by 'scale = TRUE' is properly cross-validated.\n",
       "     For proper cross-validation of models where the model matrix must\n",
       "     be updated/regenerated for each segment, use the separate function\n",
       "     'crossval'.\n",
       "\n",
       "_\bV_\ba_\bl_\bu_\be:\n",
       "\n",
       "     If 'method = \"model.frame\"', the model frame is returned.\n",
       "     Otherwise, an object of class 'mvr' is returned.  The object\n",
       "     contains all components returned by the underlying fit function.\n",
       "     In addition, it contains the following components:\n",
       "\n",
       "validation: if validation was requested, the results of the\n",
       "          cross-validation.  See 'mvrCv' for details.\n",
       "\n",
       "fit.time: the elapsed time for the fit.  This is used by 'crossval' to\n",
       "          decide whether to turn on tracing.\n",
       "\n",
       "na.action: if observations with missing values were removed,\n",
       "          'na.action' contains a vector with their indices.  The class\n",
       "          of this vector is used by functions like 'fitted' to decide\n",
       "          how to treat the observations.\n",
       "\n",
       "   ncomp: the number of components of the model.\n",
       "\n",
       "  method: the method used to fit the model.  See the argument 'method'\n",
       "          for possible values.\n",
       "\n",
       "   scale: if scaling was requested (with 'scale'), the scaling used.\n",
       "\n",
       "    call: the function call.\n",
       "\n",
       "   terms: the model terms.\n",
       "\n",
       "   model: if 'model = TRUE', the model frame.\n",
       "\n",
       "       x: if 'x = TRUE', the model matrix.\n",
       "\n",
       "       y: if 'y = TRUE', the model response.\n",
       "\n",
       "_\bA_\bu_\bt_\bh_\bo_\br(_\bs):\n",
       "\n",
       "     Ron Wehrens and BjÃ¸rn-Helge Mevik\n",
       "\n",
       "_\bR_\be_\bf_\be_\br_\be_\bn_\bc_\be_\bs:\n",
       "\n",
       "     Martens, H., NÃ¦s, T. (1989) _Multivariate calibration._\n",
       "     Chichester: Wiley.\n",
       "\n",
       "     Seasholtz, M. B. and Kowalski, B. R. (1992) The effect of mean\n",
       "     centering on prediction in multivariate calibration.  _Journal of\n",
       "     Chemometrics_, *6*(2), 103-111.\n",
       "\n",
       "_\bS_\be_\be _\bA_\bl_\bs_\bo:\n",
       "\n",
       "     'kernelpls.fit', 'widekernelpls.fit', 'simpls.fit',\n",
       "     'oscorespls.fit', 'cppls.fit', 'svdpc.fit', 'mvrCv', 'crossval',\n",
       "     'loadings', 'scores', 'loading.weights', 'coef.mvr',\n",
       "     'predict.mvr', 'R2', 'MSEP', 'RMSEP', 'plot.mvr'\n",
       "\n",
       "_\bE_\bx_\ba_\bm_\bp_\bl_\be_\bs:\n",
       "\n",
       "     data(yarn)\n",
       "     ## Default methods:\n",
       "     yarn.pcr <- pcr(density ~ NIR, 6, data = yarn, validation = \"CV\")\n",
       "     yarn.pls <- plsr(density ~ NIR, 6, data = yarn, validation = \"CV\")\n",
       "     yarn.cppls <- cppls(density ~ NIR, 6, data = yarn, validation = \"CV\")\n",
       "     \n",
       "     ## Alternative methods:\n",
       "     yarn.oscorespls <- mvr(density ~ NIR, 6, data = yarn, validation = \"CV\",\n",
       "                           method = \"oscorespls\")\n",
       "     yarn.simpls <- mvr(density ~ NIR, 6, data = yarn, validation = \"CV\",\n",
       "                       method = \"simpls\")\n",
       "     \n",
       "     ## Not run:\n",
       "     \n",
       "     ## Parallelised cross-validation, using transient cluster:\n",
       "     pls.options(parallel = 4) # use mclapply\n",
       "     pls.options(parallel = quote(makeCluster(4, type = \"PSOCK\"))) # use parLapply\n",
       "     ## A new cluster is created and stopped for each cross-validation:\n",
       "     yarn.pls <- plsr(density ~ NIR, 6, data = yarn, validation = \"CV\")\n",
       "     yarn.pcr <- pcr(density ~ NIR, 6, data = yarn, validation = \"CV\")\n",
       "     \n",
       "     ## Parallelised cross-validation, using persistent cluster:\n",
       "     library(parallel)\n",
       "     ## This creates the cluster:\n",
       "     pls.options(parallel = makeCluster(4, type = \"PSOCK\"))\n",
       "     ## The cluster can be used several times:\n",
       "     yarn.pls <- plsr(density ~ NIR, 6, data = yarn, validation = \"CV\")\n",
       "     yarn.pcr <- pcr(density ~ NIR, 6, data = yarn, validation = \"CV\")\n",
       "     ## The cluster should be stopped manually afterwards:\n",
       "     stopCluster(pls.options()$parallel)\n",
       "     \n",
       "     ## Parallelised cross-validation, using persistent MPI cluster:\n",
       "     ## This requires the packages snow and Rmpi to be installed\n",
       "     library(parallel)\n",
       "     ## This creates the cluster:\n",
       "     pls.options(parallel = makeCluster(4, type = \"MPI\"))\n",
       "     ## The cluster can be used several times:\n",
       "     yarn.pls <- plsr(density ~ NIR, 6, data = yarn, validation = \"CV\")\n",
       "     yarn.pcr <- pcr(density ~ NIR, 6, data = yarn, validation = \"CV\")\n",
       "     ## The cluster should be stopped manually afterwards:\n",
       "     stopCluster(pls.options()$parallel)\n",
       "     ## It is good practice to call mpi.exit() or mpi.quit() afterwards:\n",
       "     mpi.exit()\n",
       "     ## End(Not run)\n",
       "     \n",
       "     \n",
       "     ## Multi-response models:\n",
       "     data(oliveoil)\n",
       "     sens.pcr <- pcr(sensory ~ chemical, ncomp = 4, scale = TRUE, data = oliveoil)\n",
       "     sens.pls <- plsr(sensory ~ chemical, ncomp = 4, scale = TRUE, data = oliveoil)\n",
       "     \n",
       "     ## Classification\n",
       "     # A classification example utilizing additional response information\n",
       "     # (Y.add) is found in the cppls.fit manual ('See also' above).\n",
       "     "
      ]
     },
     "metadata": {},
     "output_type": "display_data"
    }
   ],
   "source": [
    "?pcr"
   ]
  },
  {
   "cell_type": "code",
   "execution_count": 18,
   "metadata": {},
   "outputs": [
    {
     "data": {
      "image/png": "[encoded data removed]",
      "text/plain": [
       "plot without title"
      ]
     },
     "metadata": {
      "image/png": {
       "height": 420,
       "width": 420
      }
     },
     "output_type": "display_data"
    }
   ],
   "source": [
    "vars = svd(X)$d^2\n",
    "cvars = cumsum(vars/sum(vars))\n",
    "plot(cvars)"
   ]
  },
  {
   "cell_type": "code",
   "execution_count": 20,
   "metadata": {},
   "outputs": [
    {
     "data": {
      "text/html": [
       "29"
      ],
      "text/latex": [
       "29"
      ],
      "text/markdown": [
       "29"
      ],
      "text/plain": [
       "[1] 29"
      ]
     },
     "metadata": {},
     "output_type": "display_data"
    }
   ],
   "source": [
    "which.max(cvars>.8)"
   ]
  },
  {
   "cell_type": "code",
   "execution_count": 21,
   "metadata": {},
   "outputs": [],
   "source": [
    "pcrmod = pcr(y~X,ncomp=29)"
   ]
  },
  {
   "cell_type": "code",
   "execution_count": 22,
   "metadata": {},
   "outputs": [
    {
     "name": "stdout",
     "output_type": "stream",
     "text": [
      "Data: \tX dimension: 99 194 \n",
      "\tY dimension: 99 1\n",
      "Fit method: svdpc\n",
      "Number of components considered: 29\n",
      "TRAINING: % variance explained\n",
      "   1 comps  2 comps  3 comps  4 comps  5 comps  6 comps  7 comps  8 comps\n",
      "X    13.31    23.86    32.05    39.20    43.60    47.22    50.19    52.95\n",
      "y    24.15    28.15    28.20    44.02    48.79    54.78    55.60    57.22\n",
      "   9 comps  10 comps  11 comps  12 comps  13 comps  14 comps  15 comps\n",
      "X    55.24     57.35     59.29     61.07     62.54     63.99     65.37\n",
      "y    63.79     66.54     66.54     67.47     69.28     69.28     69.30\n",
      "   16 comps  17 comps  18 comps  19 comps  20 comps  21 comps  22 comps\n",
      "X     66.74     68.01     69.26     70.46     71.60     72.68     73.73\n",
      "y     69.84     70.17     71.30     71.31     72.41     74.86     74.87\n",
      "   23 comps  24 comps  25 comps  26 comps  27 comps  28 comps  29 comps\n",
      "X     74.78     75.78     76.74     77.63     78.51     79.36     80.18\n",
      "y     74.89     75.32     75.92     76.24     78.17     78.94     79.13\n"
     ]
    }
   ],
   "source": [
    "summary(pcrmod)"
   ]
  },
  {
   "cell_type": "code",
   "execution_count": 23,
   "metadata": {},
   "outputs": [],
   "source": [
    "pcr_preds = predict(pcrmod,ncomp=29)"
   ]
  },
  {
   "cell_type": "code",
   "execution_count": 24,
   "metadata": {},
   "outputs": [
    {
     "data": {
      "text/html": [
       "<style>\n",
       ".list-inline {list-style: none; margin:0; padding: 0}\n",
       ".list-inline>li {display: inline-block}\n",
       ".list-inline>li:not(:last-child)::after {content: \"\\00b7\"; padding: 0 .5ex}\n",
       "</style>\n",
       "<ol class=list-inline><li>10.2270829109595</li><li>9.69718045441406</li><li>9.8932885301286</li><li>10.0247309258046</li><li>9.97844874398084</li><li>9.90154673797826</li></ol>\n"
      ],
      "text/latex": [
       "\\begin{enumerate*}\n",
       "\\item 10.2270829109595\n",
       "\\item 9.69718045441406\n",
       "\\item 9.8932885301286\n",
       "\\item 10.0247309258046\n",
       "\\item 9.97844874398084\n",
       "\\item 9.90154673797826\n",
       "\\end{enumerate*}\n"
      ],
      "text/markdown": [
       "1. 10.2270829109595\n",
       "2. 9.69718045441406\n",
       "3. 9.8932885301286\n",
       "4. 10.0247309258046\n",
       "5. 9.97844874398084\n",
       "6. 9.90154673797826\n",
       "\n",
       "\n"
      ],
      "text/plain": [
       ", , 29 comps\n",
       "\n",
       "                 y\n",
       "sample_0 10.227083\n",
       "sample_1  9.697180\n",
       "sample_2  9.893289\n",
       "sample_3 10.024731\n",
       "sample_4  9.978449\n",
       "sample_5  9.901547\n"
      ]
     },
     "metadata": {},
     "output_type": "display_data"
    }
   ],
   "source": [
    "head(pcr_preds)"
   ]
  },
  {
   "cell_type": "markdown",
   "metadata": {},
   "source": [
    "## coding it by hand"
   ]
  },
  {
   "cell_type": "code",
   "execution_count": 25,
   "metadata": {},
   "outputs": [],
   "source": [
    "V = svd(X,nv=29)$v"
   ]
  },
  {
   "cell_type": "code",
   "execution_count": 27,
   "metadata": {},
   "outputs": [],
   "source": [
    "Z = X%*%V"
   ]
  },
  {
   "cell_type": "code",
   "execution_count": 28,
   "metadata": {},
   "outputs": [
    {
     "data": {
      "text/html": [
       "<table class=\"dataframe\">\n",
       "<caption>A matrix: 6 × 29 of type dbl</caption>\n",
       "<tbody>\n",
       "\t<tr><th scope=row>sample_0</th><td>-4.620650</td><td>-10.64170281</td><td> 0.7897304</td><td> 0.2099982</td><td>-1.234794</td><td> 1.1331955</td><td>-1.7878727</td><td> 0.61100176</td><td>-0.06076980</td><td> 2.748160</td><td>...</td><td>-1.7653053</td><td> 0.4734959</td><td>-1.4693989</td><td> 2.11123326</td><td>-0.7032793</td><td> 1.2682798</td><td>-2.313864904</td><td> 0.2387308</td><td> 1.78509946</td><td>-0.95010613</td></tr>\n",
       "\t<tr><th scope=row>sample_1</th><td> 1.048701</td><td>  0.84476895</td><td> 1.8103866</td><td>-4.6252135</td><td> 4.218231</td><td>-0.3973722</td><td>-4.4543360</td><td> 3.69276861</td><td>-2.25202115</td><td> 1.011999</td><td>...</td><td> 1.8853737</td><td>-1.3537319</td><td>-2.7579610</td><td>-2.77343424</td><td>-2.2559403</td><td>-0.5294275</td><td>-1.328856927</td><td>-2.1184743</td><td>-0.08243727</td><td> 1.17082495</td></tr>\n",
       "\t<tr><th scope=row>sample_2</th><td> 5.684205</td><td> -2.35361105</td><td> 7.1867093</td><td> 2.1452923</td><td>-4.449499</td><td> 1.7008605</td><td>-4.9948123</td><td>-2.91686678</td><td>-1.58708800</td><td>-3.362102</td><td>...</td><td> 0.2105591</td><td>-0.4191764</td><td>-2.2951677</td><td>-2.81859312</td><td>-3.0672393</td><td>-0.3059869</td><td>-2.197493728</td><td> 1.7770626</td><td>-0.27544255</td><td>-0.81606174</td></tr>\n",
       "\t<tr><th scope=row>sample_3</th><td> 2.917327</td><td> -6.07003189</td><td> 3.5222048</td><td> 2.8942079</td><td>-2.140674</td><td>-0.8282406</td><td>-1.9995565</td><td> 0.23423597</td><td> 0.03737866</td><td> 1.299863</td><td>...</td><td> 1.8689749</td><td>-2.0151751</td><td> 1.5779600</td><td> 0.56239483</td><td> 0.6804030</td><td> 1.8979143</td><td> 0.167955975</td><td> 0.1097083</td><td> 1.21986995</td><td>-0.07238057</td></tr>\n",
       "\t<tr><th scope=row>sample_4</th><td> 5.441731</td><td> -0.01512706</td><td>-3.1059412</td><td> 0.7610437</td><td>-1.214894</td><td>-0.8747083</td><td>-0.7038480</td><td> 0.01517819</td><td> 0.39499231</td><td>-1.765715</td><td>...</td><td> 1.6942005</td><td> 0.3468748</td><td>-0.2473332</td><td> 1.78483600</td><td>-0.4998608</td><td> 0.6399551</td><td> 0.118868348</td><td>-0.1902847</td><td>-1.12735110</td><td>-2.01141248</td></tr>\n",
       "\t<tr><th scope=row>sample_5</th><td>-2.816385</td><td> -5.38886361</td><td> 2.6437631</td><td> 4.4903463</td><td>-0.247850</td><td> 0.6820079</td><td> 0.8883802</td><td>-0.06665883</td><td>-1.78972216</td><td> 1.851137</td><td>...</td><td> 1.2615412</td><td> 1.4189235</td><td>-1.6166943</td><td>-0.07234497</td><td> 1.4173151</td><td>-4.9913991</td><td> 0.004713527</td><td> 0.8436816</td><td> 1.05780868</td><td>-1.74817593</td></tr>\n",
       "</tbody>\n",
       "</table>\n"
      ],
      "text/latex": [
       "A matrix: 6 × 29 of type dbl\n",
       "\\begin{tabular}{r|lllllllllllllllllllll}\n",
       "\tsample\\_0 & -4.620650 & -10.64170281 &  0.7897304 &  0.2099982 & -1.234794 &  1.1331955 & -1.7878727 &  0.61100176 & -0.06076980 &  2.748160 & ... & -1.7653053 &  0.4734959 & -1.4693989 &  2.11123326 & -0.7032793 &  1.2682798 & -2.313864904 &  0.2387308 &  1.78509946 & -0.95010613\\\\\n",
       "\tsample\\_1 &  1.048701 &   0.84476895 &  1.8103866 & -4.6252135 &  4.218231 & -0.3973722 & -4.4543360 &  3.69276861 & -2.25202115 &  1.011999 & ... &  1.8853737 & -1.3537319 & -2.7579610 & -2.77343424 & -2.2559403 & -0.5294275 & -1.328856927 & -2.1184743 & -0.08243727 &  1.17082495\\\\\n",
       "\tsample\\_2 &  5.684205 &  -2.35361105 &  7.1867093 &  2.1452923 & -4.449499 &  1.7008605 & -4.9948123 & -2.91686678 & -1.58708800 & -3.362102 & ... &  0.2105591 & -0.4191764 & -2.2951677 & -2.81859312 & -3.0672393 & -0.3059869 & -2.197493728 &  1.7770626 & -0.27544255 & -0.81606174\\\\\n",
       "\tsample\\_3 &  2.917327 &  -6.07003189 &  3.5222048 &  2.8942079 & -2.140674 & -0.8282406 & -1.9995565 &  0.23423597 &  0.03737866 &  1.299863 & ... &  1.8689749 & -2.0151751 &  1.5779600 &  0.56239483 &  0.6804030 &  1.8979143 &  0.167955975 &  0.1097083 &  1.21986995 & -0.07238057\\\\\n",
       "\tsample\\_4 &  5.441731 &  -0.01512706 & -3.1059412 &  0.7610437 & -1.214894 & -0.8747083 & -0.7038480 &  0.01517819 &  0.39499231 & -1.765715 & ... &  1.6942005 &  0.3468748 & -0.2473332 &  1.78483600 & -0.4998608 &  0.6399551 &  0.118868348 & -0.1902847 & -1.12735110 & -2.01141248\\\\\n",
       "\tsample\\_5 & -2.816385 &  -5.38886361 &  2.6437631 &  4.4903463 & -0.247850 &  0.6820079 &  0.8883802 & -0.06665883 & -1.78972216 &  1.851137 & ... &  1.2615412 &  1.4189235 & -1.6166943 & -0.07234497 &  1.4173151 & -4.9913991 &  0.004713527 &  0.8436816 &  1.05780868 & -1.74817593\\\\\n",
       "\\end{tabular}\n"
      ],
      "text/markdown": [
       "\n",
       "A matrix: 6 × 29 of type dbl\n",
       "\n",
       "| sample_0 | -4.620650 | -10.64170281 |  0.7897304 |  0.2099982 | -1.234794 |  1.1331955 | -1.7878727 |  0.61100176 | -0.06076980 |  2.748160 | ... | -1.7653053 |  0.4734959 | -1.4693989 |  2.11123326 | -0.7032793 |  1.2682798 | -2.313864904 |  0.2387308 |  1.78509946 | -0.95010613 |\n",
       "| sample_1 |  1.048701 |   0.84476895 |  1.8103866 | -4.6252135 |  4.218231 | -0.3973722 | -4.4543360 |  3.69276861 | -2.25202115 |  1.011999 | ... |  1.8853737 | -1.3537319 | -2.7579610 | -2.77343424 | -2.2559403 | -0.5294275 | -1.328856927 | -2.1184743 | -0.08243727 |  1.17082495 |\n",
       "| sample_2 |  5.684205 |  -2.35361105 |  7.1867093 |  2.1452923 | -4.449499 |  1.7008605 | -4.9948123 | -2.91686678 | -1.58708800 | -3.362102 | ... |  0.2105591 | -0.4191764 | -2.2951677 | -2.81859312 | -3.0672393 | -0.3059869 | -2.197493728 |  1.7770626 | -0.27544255 | -0.81606174 |\n",
       "| sample_3 |  2.917327 |  -6.07003189 |  3.5222048 |  2.8942079 | -2.140674 | -0.8282406 | -1.9995565 |  0.23423597 |  0.03737866 |  1.299863 | ... |  1.8689749 | -2.0151751 |  1.5779600 |  0.56239483 |  0.6804030 |  1.8979143 |  0.167955975 |  0.1097083 |  1.21986995 | -0.07238057 |\n",
       "| sample_4 |  5.441731 |  -0.01512706 | -3.1059412 |  0.7610437 | -1.214894 | -0.8747083 | -0.7038480 |  0.01517819 |  0.39499231 | -1.765715 | ... |  1.6942005 |  0.3468748 | -0.2473332 |  1.78483600 | -0.4998608 |  0.6399551 |  0.118868348 | -0.1902847 | -1.12735110 | -2.01141248 |\n",
       "| sample_5 | -2.816385 |  -5.38886361 |  2.6437631 |  4.4903463 | -0.247850 |  0.6820079 |  0.8883802 | -0.06665883 | -1.78972216 |  1.851137 | ... |  1.2615412 |  1.4189235 | -1.6166943 | -0.07234497 |  1.4173151 | -4.9913991 |  0.004713527 |  0.8436816 |  1.05780868 | -1.74817593 |\n",
       "\n"
      ],
      "text/plain": [
       "         [,1]      [,2]         [,3]       [,4]       [,5]      [,6]      \n",
       "sample_0 -4.620650 -10.64170281  0.7897304  0.2099982 -1.234794  1.1331955\n",
       "sample_1  1.048701   0.84476895  1.8103866 -4.6252135  4.218231 -0.3973722\n",
       "sample_2  5.684205  -2.35361105  7.1867093  2.1452923 -4.449499  1.7008605\n",
       "sample_3  2.917327  -6.07003189  3.5222048  2.8942079 -2.140674 -0.8282406\n",
       "sample_4  5.441731  -0.01512706 -3.1059412  0.7610437 -1.214894 -0.8747083\n",
       "sample_5 -2.816385  -5.38886361  2.6437631  4.4903463 -0.247850  0.6820079\n",
       "         [,7]       [,8]        [,9]        [,10]     [,11] [,12]     \n",
       "sample_0 -1.7878727  0.61100176 -0.06076980  2.748160 ...   -1.7653053\n",
       "sample_1 -4.4543360  3.69276861 -2.25202115  1.011999 ...    1.8853737\n",
       "sample_2 -4.9948123 -2.91686678 -1.58708800 -3.362102 ...    0.2105591\n",
       "sample_3 -1.9995565  0.23423597  0.03737866  1.299863 ...    1.8689749\n",
       "sample_4 -0.7038480  0.01517819  0.39499231 -1.765715 ...    1.6942005\n",
       "sample_5  0.8883802 -0.06665883 -1.78972216  1.851137 ...    1.2615412\n",
       "         [,13]      [,14]      [,15]       [,16]      [,17]      [,18]       \n",
       "sample_0  0.4734959 -1.4693989  2.11123326 -0.7032793  1.2682798 -2.313864904\n",
       "sample_1 -1.3537319 -2.7579610 -2.77343424 -2.2559403 -0.5294275 -1.328856927\n",
       "sample_2 -0.4191764 -2.2951677 -2.81859312 -3.0672393 -0.3059869 -2.197493728\n",
       "sample_3 -2.0151751  1.5779600  0.56239483  0.6804030  1.8979143  0.167955975\n",
       "sample_4  0.3468748 -0.2473332  1.78483600 -0.4998608  0.6399551  0.118868348\n",
       "sample_5  1.4189235 -1.6166943 -0.07234497  1.4173151 -4.9913991  0.004713527\n",
       "         [,19]      [,20]       [,21]      \n",
       "sample_0  0.2387308  1.78509946 -0.95010613\n",
       "sample_1 -2.1184743 -0.08243727  1.17082495\n",
       "sample_2  1.7770626 -0.27544255 -0.81606174\n",
       "sample_3  0.1097083  1.21986995 -0.07238057\n",
       "sample_4 -0.1902847 -1.12735110 -2.01141248\n",
       "sample_5  0.8436816  1.05780868 -1.74817593"
      ]
     },
     "metadata": {},
     "output_type": "display_data"
    }
   ],
   "source": [
    "head(Z)"
   ]
  },
  {
   "cell_type": "code",
   "execution_count": 29,
   "metadata": {},
   "outputs": [
    {
     "data": {
      "text/html": [
       "<style>\n",
       ".list-inline {list-style: none; margin:0; padding: 0}\n",
       ".list-inline>li {display: inline-block}\n",
       ".list-inline>li:not(:last-child)::after {content: \"\\00b7\"; padding: 0 .5ex}\n",
       "</style>\n",
       "<ol class=list-inline><li>99</li><li>29</li></ol>\n"
      ],
      "text/latex": [
       "\\begin{enumerate*}\n",
       "\\item 99\n",
       "\\item 29\n",
       "\\end{enumerate*}\n"
      ],
      "text/markdown": [
       "1. 99\n",
       "2. 29\n",
       "\n",
       "\n"
      ],
      "text/plain": [
       "[1] 99 29"
      ]
     },
     "metadata": {},
     "output_type": "display_data"
    }
   ],
   "source": [
    "dim(Z)"
   ]
  },
  {
   "cell_type": "code",
   "execution_count": 30,
   "metadata": {},
   "outputs": [],
   "source": [
    "hm = lm(y~Z)"
   ]
  },
  {
   "cell_type": "code",
   "execution_count": 31,
   "metadata": {},
   "outputs": [
    {
     "data": {
      "text/plain": [
       "\n",
       "Call:\n",
       "lm(formula = y ~ Z)\n",
       "\n",
       "Residuals:\n",
       "     Min       1Q   Median       3Q      Max \n",
       "-0.80606 -0.14617  0.00703  0.16903  0.68434 \n",
       "\n",
       "Coefficients:\n",
       "              Estimate Std. Error t value Pr(>|t|)    \n",
       "(Intercept)  9.879e+00  2.960e-02 333.749  < 2e-16 ***\n",
       "Z1           5.231e-02  5.854e-03   8.935 3.92e-13 ***\n",
       "Z2          -2.393e-02  6.578e-03  -3.638 0.000527 ***\n",
       "Z3          -2.804e-03  7.461e-03  -0.376 0.708195    \n",
       "Z4          -5.778e-02  7.988e-03  -7.233 5.02e-10 ***\n",
       "Z5          -4.044e-02  1.018e-02  -3.971 0.000173 ***\n",
       "Z6           4.992e-02  1.122e-02   4.448 3.24e-05 ***\n",
       "Z7          -2.045e-02  1.239e-02  -1.651 0.103369    \n",
       "Z8           2.977e-02  1.287e-02   2.312 0.023740 *  \n",
       "Z9           6.572e-02  1.410e-02   4.660 1.49e-05 ***\n",
       "Z10          4.438e-02  1.472e-02   3.015 0.003596 ** \n",
       "Z11         -9.513e-04  1.530e-02  -0.062 0.950594    \n",
       "Z12          2.816e-02  1.604e-02   1.755 0.083620 .  \n",
       "Z13          4.305e-02  1.759e-02   2.447 0.016959 *  \n",
       "Z14          1.719e-05  1.777e-02   0.001 0.999231    \n",
       "Z15         -4.823e-03  1.818e-02  -0.265 0.791536    \n",
       "Z16          2.427e-02  1.823e-02   1.331 0.187437    \n",
       "Z17         -1.995e-02  1.893e-02  -1.054 0.295732    \n",
       "Z18         -3.684e-02  1.910e-02  -1.928 0.057923 .  \n",
       "Z19          4.173e-03  1.949e-02   0.214 0.831083    \n",
       "Z20         -3.819e-02  2.003e-02  -1.906 0.060756 .  \n",
       "Z21          5.855e-02  2.057e-02   2.846 0.005831 ** \n",
       "Z22         -4.024e-03  2.079e-02  -0.194 0.847121    \n",
       "Z23          4.908e-03  2.088e-02   0.235 0.814837    \n",
       "Z24          2.559e-02  2.137e-02   1.198 0.235106    \n",
       "Z25         -3.065e-02  2.182e-02  -1.405 0.164617    \n",
       "Z26          2.338e-02  2.260e-02   1.034 0.304624    \n",
       "Z27          5.759e-02  2.284e-02   2.522 0.013988 *  \n",
       "Z28          3.694e-02  2.305e-02   1.603 0.113590    \n",
       "Z29          1.839e-02  2.367e-02   0.777 0.439811    \n",
       "---\n",
       "Signif. codes:  0 '***' 0.001 '**' 0.01 '*' 0.05 '.' 0.1 ' ' 1\n",
       "\n",
       "Residual standard error: 0.2945 on 69 degrees of freedom\n",
       "Multiple R-squared:  0.7913,\tAdjusted R-squared:  0.7035 \n",
       "F-statistic:  9.02 on 29 and 69 DF,  p-value: 4.877e-14\n"
      ]
     },
     "metadata": {},
     "output_type": "display_data"
    }
   ],
   "source": [
    "summary(hm)"
   ]
  },
  {
   "cell_type": "code",
   "execution_count": 32,
   "metadata": {},
   "outputs": [
    {
     "data": {
      "text/html": [
       "<style>\n",
       ".dl-inline {width: auto; margin:0; padding: 0}\n",
       ".dl-inline>dt, .dl-inline>dd {float: none; width: auto; display: inline-block}\n",
       ".dl-inline>dt::after {content: \":\\0020\"; padding-right: .5ex}\n",
       ".dl-inline>dt:not(:first-of-type) {padding-left: .5ex}\n",
       "</style><dl class=dl-inline><dt>(Intercept)</dt><dd>9.87867385325444</dd><dt>Z1</dt><dd>0.0523051086310352</dd><dt>Z2</dt><dd>-0.0239270307347521</dd><dt>Z3</dt><dd>-0.00280410089810116</dd><dt>Z4</dt><dd>-0.0577791830294463</dd><dt>Z5</dt><dd>-0.0404376380679956</dd></dl>\n"
      ],
      "text/latex": [
       "\\begin{description*}\n",
       "\\item[(Intercept)] 9.87867385325444\n",
       "\\item[Z1] 0.0523051086310352\n",
       "\\item[Z2] -0.0239270307347521\n",
       "\\item[Z3] -0.00280410089810116\n",
       "\\item[Z4] -0.0577791830294463\n",
       "\\item[Z5] -0.0404376380679956\n",
       "\\end{description*}\n"
      ],
      "text/markdown": [
       "(Intercept)\n",
       ":   9.87867385325444Z1\n",
       ":   0.0523051086310352Z2\n",
       ":   -0.0239270307347521Z3\n",
       ":   -0.00280410089810116Z4\n",
       ":   -0.0577791830294463Z5\n",
       ":   -0.0404376380679956\n",
       "\n"
      ],
      "text/plain": [
       " (Intercept)           Z1           Z2           Z3           Z4           Z5 \n",
       " 9.878673853  0.052305109 -0.023927031 -0.002804101 -0.057779183 -0.040437638 "
      ]
     },
     "metadata": {},
     "output_type": "display_data"
    }
   ],
   "source": [
    "head(coef(hm))"
   ]
  },
  {
   "cell_type": "code",
   "execution_count": 33,
   "metadata": {},
   "outputs": [],
   "source": [
    "hm_preds = predict(hm)"
   ]
  },
  {
   "cell_type": "code",
   "execution_count": 34,
   "metadata": {},
   "outputs": [
    {
     "data": {
      "image/png": "[encoded data removed]",
      "text/plain": [
       "plot without title"
      ]
     },
     "metadata": {
      "image/png": {
       "height": 420,
       "width": 420
      }
     },
     "output_type": "display_data"
    }
   ],
   "source": [
    "plot(pcr_preds,hm_preds)"
   ]
  },
  {
   "cell_type": "code",
   "execution_count": 36,
   "metadata": {},
   "outputs": [],
   "source": [
    "beta_pcr = V%*%array(coef(hm)[-1],c(29,1))"
   ]
  },
  {
   "cell_type": "code",
   "execution_count": 37,
   "metadata": {},
   "outputs": [
    {
     "data": {
      "text/html": [
       "<table class=\"dataframe\">\n",
       "<caption>A matrix: 6 × 1 of type dbl</caption>\n",
       "<tbody>\n",
       "\t<tr><td>-0.018057860</td></tr>\n",
       "\t<tr><td>-0.008132180</td></tr>\n",
       "\t<tr><td>-0.006389430</td></tr>\n",
       "\t<tr><td>-0.004879774</td></tr>\n",
       "\t<tr><td>-0.010565601</td></tr>\n",
       "\t<tr><td>-0.022129547</td></tr>\n",
       "</tbody>\n",
       "</table>\n"
      ],
      "text/latex": [
       "A matrix: 6 × 1 of type dbl\n",
       "\\begin{tabular}{l}\n",
       "\t -0.018057860\\\\\n",
       "\t -0.008132180\\\\\n",
       "\t -0.006389430\\\\\n",
       "\t -0.004879774\\\\\n",
       "\t -0.010565601\\\\\n",
       "\t -0.022129547\\\\\n",
       "\\end{tabular}\n"
      ],
      "text/markdown": [
       "\n",
       "A matrix: 6 × 1 of type dbl\n",
       "\n",
       "| -0.018057860 |\n",
       "| -0.008132180 |\n",
       "| -0.006389430 |\n",
       "| -0.004879774 |\n",
       "| -0.010565601 |\n",
       "| -0.022129547 |\n",
       "\n"
      ],
      "text/plain": [
       "     [,1]        \n",
       "[1,] -0.018057860\n",
       "[2,] -0.008132180\n",
       "[3,] -0.006389430\n",
       "[4,] -0.004879774\n",
       "[5,] -0.010565601\n",
       "[6,] -0.022129547"
      ]
     },
     "metadata": {},
     "output_type": "display_data"
    }
   ],
   "source": [
    "head(beta_pcr)"
   ]
  },
  {
   "cell_type": "code",
   "execution_count": 38,
   "metadata": {},
   "outputs": [
    {
     "data": {
      "image/png": "[encoded data removed]",
      "text/plain": [
       "plot without title"
      ]
     },
     "metadata": {
      "image/png": {
       "height": 420,
       "width": 420
      }
     },
     "output_type": "display_data"
    }
   ],
   "source": [
    "plot(predict(pcrmod,ncomp=29),mean(y)+X%*%beta_pcr)"
   ]
  },
  {
   "cell_type": "code",
   "execution_count": 44,
   "metadata": {},
   "outputs": [
    {
     "data": {
      "image/png": "[encoded data removed]",
      "text/plain": [
       "plot without title"
      ]
     },
     "metadata": {
      "image/png": {
       "height": 420,
       "width": 420
      }
     },
     "output_type": "display_data"
    }
   ],
   "source": [
    "plot(predict(pcrmod,ncomp=29),mean(y)+X%*%V%*%array(coef(hm)[-1],c(29,1)))"
   ]
  },
  {
   "cell_type": "code",
   "execution_count": 45,
   "metadata": {},
   "outputs": [
    {
     "data": {
      "text/html": [
       "<table class=\"dataframe\">\n",
       "<caption>A data.frame: 1 × 194</caption>\n",
       "<thead>\n",
       "\t<tr><th></th><th scope=col>gene_0</th><th scope=col>gene_1</th><th scope=col>gene_2</th><th scope=col>gene_3</th><th scope=col>gene_6</th><th scope=col>gene_7</th><th scope=col>gene_8</th><th scope=col>gene_9</th><th scope=col>gene_10</th><th scope=col>gene_11</th><th scope=col>...</th><th scope=col>gene_189</th><th scope=col>gene_190</th><th scope=col>gene_191</th><th scope=col>gene_192</th><th scope=col>gene_193</th><th scope=col>gene_194</th><th scope=col>gene_195</th><th scope=col>gene_196</th><th scope=col>gene_197</th><th scope=col>gene_198</th></tr>\n",
       "\t<tr><th></th><th scope=col>&lt;dbl&gt;</th><th scope=col>&lt;dbl&gt;</th><th scope=col>&lt;dbl&gt;</th><th scope=col>&lt;dbl&gt;</th><th scope=col>&lt;dbl&gt;</th><th scope=col>&lt;dbl&gt;</th><th scope=col>&lt;dbl&gt;</th><th scope=col>&lt;dbl&gt;</th><th scope=col>&lt;dbl&gt;</th><th scope=col>&lt;dbl&gt;</th><th scope=col>...</th><th scope=col>&lt;dbl&gt;</th><th scope=col>&lt;dbl&gt;</th><th scope=col>&lt;dbl&gt;</th><th scope=col>&lt;dbl&gt;</th><th scope=col>&lt;dbl&gt;</th><th scope=col>&lt;dbl&gt;</th><th scope=col>&lt;dbl&gt;</th><th scope=col>&lt;dbl&gt;</th><th scope=col>&lt;dbl&gt;</th><th scope=col>&lt;dbl&gt;</th></tr>\n",
       "</thead>\n",
       "<tbody>\n",
       "\t<tr><th scope=row>1</th><td>-0.4299776</td><td>-0.6010414</td><td>1.381247</td><td>1.479904</td><td>0.7587224</td><td>1.317629</td><td>-0.9424434</td><td>-0.3766649</td><td>-0.1221218</td><td>-0.2796206</td><td>...</td><td>-0.3841245</td><td>0.5434941</td><td>0.6733811</td><td>-1.110408</td><td>0.4510546</td><td>-0.709038</td><td>0.0416571</td><td>-0.3264535</td><td>0.7029621</td><td>-0.4069859</td></tr>\n",
       "</tbody>\n",
       "</table>\n"
      ],
      "text/latex": [
       "A data.frame: 1 × 194\n",
       "\\begin{tabular}{r|lllllllllllllllllllll}\n",
       "  & gene\\_0 & gene\\_1 & gene\\_2 & gene\\_3 & gene\\_6 & gene\\_7 & gene\\_8 & gene\\_9 & gene\\_10 & gene\\_11 & ... & gene\\_189 & gene\\_190 & gene\\_191 & gene\\_192 & gene\\_193 & gene\\_194 & gene\\_195 & gene\\_196 & gene\\_197 & gene\\_198\\\\\n",
       "  & <dbl> & <dbl> & <dbl> & <dbl> & <dbl> & <dbl> & <dbl> & <dbl> & <dbl> & <dbl> & ... & <dbl> & <dbl> & <dbl> & <dbl> & <dbl> & <dbl> & <dbl> & <dbl> & <dbl> & <dbl>\\\\\n",
       "\\hline\n",
       "\t1 & -0.4299776 & -0.6010414 & 1.381247 & 1.479904 & 0.7587224 & 1.317629 & -0.9424434 & -0.3766649 & -0.1221218 & -0.2796206 & ... & -0.3841245 & 0.5434941 & 0.6733811 & -1.110408 & 0.4510546 & -0.709038 & 0.0416571 & -0.3264535 & 0.7029621 & -0.4069859\\\\\n",
       "\\end{tabular}\n"
      ],
      "text/markdown": [
       "\n",
       "A data.frame: 1 × 194\n",
       "\n",
       "| <!--/--> | gene_0 &lt;dbl&gt; | gene_1 &lt;dbl&gt; | gene_2 &lt;dbl&gt; | gene_3 &lt;dbl&gt; | gene_6 &lt;dbl&gt; | gene_7 &lt;dbl&gt; | gene_8 &lt;dbl&gt; | gene_9 &lt;dbl&gt; | gene_10 &lt;dbl&gt; | gene_11 &lt;dbl&gt; | ... ... | gene_189 &lt;dbl&gt; | gene_190 &lt;dbl&gt; | gene_191 &lt;dbl&gt; | gene_192 &lt;dbl&gt; | gene_193 &lt;dbl&gt; | gene_194 &lt;dbl&gt; | gene_195 &lt;dbl&gt; | gene_196 &lt;dbl&gt; | gene_197 &lt;dbl&gt; | gene_198 &lt;dbl&gt; |\n",
       "|---|---|---|---|---|---|---|---|---|---|---|---|---|---|---|---|---|---|---|---|---|---|\n",
       "| 1 | -0.4299776 | -0.6010414 | 1.381247 | 1.479904 | 0.7587224 | 1.317629 | -0.9424434 | -0.3766649 | -0.1221218 | -0.2796206 | ... | -0.3841245 | 0.5434941 | 0.6733811 | -1.110408 | 0.4510546 | -0.709038 | 0.0416571 | -0.3264535 | 0.7029621 | -0.4069859 |\n",
       "\n"
      ],
      "text/plain": [
       "  gene_0     gene_1     gene_2   gene_3   gene_6    gene_7   gene_8    \n",
       "1 -0.4299776 -0.6010414 1.381247 1.479904 0.7587224 1.317629 -0.9424434\n",
       "  gene_9     gene_10    gene_11    ... gene_189   gene_190  gene_191  gene_192 \n",
       "1 -0.3766649 -0.1221218 -0.2796206 ... -0.3841245 0.5434941 0.6733811 -1.110408\n",
       "  gene_193  gene_194  gene_195  gene_196   gene_197  gene_198  \n",
       "1 0.4510546 -0.709038 0.0416571 -0.3264535 0.7029621 -0.4069859"
      ]
     },
     "metadata": {},
     "output_type": "display_data"
    }
   ],
   "source": [
    "newx = rnorm(ncol(X))\n",
    "newx = data.frame(t(newx))\n",
    "colnames(newx) = colnames(X)\n",
    "head(newx)"
   ]
  },
  {
   "cell_type": "code",
   "execution_count": 46,
   "metadata": {},
   "outputs": [
    {
     "data": {
      "text/html": [
       "9.64723918069371"
      ],
      "text/latex": [
       "9.64723918069371"
      ],
      "text/markdown": [
       "9.64723918069371"
      ],
      "text/plain": [
       ", , 29 comps\n",
       "\n",
       "            y\n",
       "[1,] 9.647239\n"
      ]
     },
     "metadata": {},
     "output_type": "display_data"
    }
   ],
   "source": [
    "predict(pcrmod,as.matrix(newx),ncomp=29)"
   ]
  },
  {
   "cell_type": "code",
   "execution_count": 47,
   "metadata": {},
   "outputs": [
    {
     "data": {
      "text/html": [
       "9.64723918069371"
      ],
      "text/latex": [
       "9.64723918069371"
      ],
      "text/markdown": [
       "9.64723918069371"
      ],
      "text/plain": [
       "[1] 9.647239"
      ]
     },
     "metadata": {},
     "output_type": "display_data"
    }
   ],
   "source": [
    "as.numeric(mean(y)+as.matrix(newx)%*%beta_pcr)"
   ]
  },
  {
   "cell_type": "code",
   "execution_count": null,
   "metadata": {},
   "outputs": [],
   "source": []
  }
 ],
 "metadata": {
  "kernelspec": {
   "display_name": "R",
   "language": "R",
   "name": "ir"
  },
  "language_info": {
   "codemirror_mode": "r",
   "file_extension": ".r",
   "mimetype": "text/x-r-source",
   "name": "R",
   "pygments_lexer": "r",
   "version": "4.0.3"
  }
 },
 "nbformat": 4,
 "nbformat_minor": 4
}
