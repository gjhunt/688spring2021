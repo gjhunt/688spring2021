{
 "cells": [
  {
   "cell_type": "markdown",
   "metadata": {},
   "source": [
    "# Lab 3 - More Regression\n",
    "## lecture 3"
   ]
  },
  {
   "cell_type": "code",
   "execution_count": 5,
   "metadata": {},
   "outputs": [],
   "source": [
    "library('MASS')\n",
    "data(Boston)"
   ]
  },
  {
   "cell_type": "code",
   "execution_count": 6,
   "metadata": {},
   "outputs": [
    {
     "data": {
      "text/html": [
       "\n",
       "<table width=\"100%\" summary=\"page for Boston {MASS}\"><tr><td>Boston {MASS}</td><td style=\"text-align: right;\">R Documentation</td></tr></table>\n",
       "\n",
       "<h2>\n",
       "Housing Values in Suburbs of Boston\n",
       "</h2>\n",
       "\n",
       "<h3>Description</h3>\n",
       "\n",
       "<p>The <code>Boston</code> data frame has 506 rows and 14 columns.\n",
       "</p>\n",
       "\n",
       "\n",
       "<h3>Usage</h3>\n",
       "\n",
       "<pre>\n",
       "Boston\n",
       "</pre>\n",
       "\n",
       "\n",
       "<h3>Format</h3>\n",
       "\n",
       "<p>This data frame contains the following columns:\n",
       "</p>\n",
       "\n",
       "<dl>\n",
       "<dt><code>crim</code></dt><dd>\n",
       "<p>per capita crime rate by town.\n",
       "</p>\n",
       "</dd>\n",
       "<dt><code>zn</code></dt><dd>\n",
       "<p>proportion of residential land zoned for lots over 25,000 sq.ft.\n",
       "</p>\n",
       "</dd>\n",
       "<dt><code>indus</code></dt><dd>\n",
       "<p>proportion of non-retail business acres per town.\n",
       "</p>\n",
       "</dd>\n",
       "<dt><code>chas</code></dt><dd>\n",
       "<p>Charles River dummy variable (= 1 if tract bounds river; 0 otherwise).\n",
       "</p>\n",
       "</dd>\n",
       "<dt><code>nox</code></dt><dd>\n",
       "<p>nitrogen oxides concentration (parts per 10 million).\n",
       "</p>\n",
       "</dd>\n",
       "<dt><code>rm</code></dt><dd>\n",
       "<p>average number of rooms per dwelling.\n",
       "</p>\n",
       "</dd>\n",
       "<dt><code>age</code></dt><dd>\n",
       "<p>proportion of owner-occupied units built prior to 1940.\n",
       "</p>\n",
       "</dd>\n",
       "<dt><code>dis</code></dt><dd>\n",
       "<p>weighted mean of distances to five Boston employment centres.\n",
       "</p>\n",
       "</dd>\n",
       "<dt><code>rad</code></dt><dd>\n",
       "<p>index of accessibility to radial highways.\n",
       "</p>\n",
       "</dd>\n",
       "<dt><code>tax</code></dt><dd>\n",
       "<p>full-value property-tax rate per \\$10,000.\n",
       "</p>\n",
       "</dd>\n",
       "<dt><code>ptratio</code></dt><dd>\n",
       "<p>pupil-teacher ratio by town.\n",
       "</p>\n",
       "</dd>\n",
       "<dt><code>black</code></dt><dd>\n",
       "<p><i>1000(Bk - 0.63)^2</i> where <i>Bk</i> is the proportion of blacks\n",
       "by town.\n",
       "</p>\n",
       "</dd>\n",
       "<dt><code>lstat</code></dt><dd>\n",
       "<p>lower status of the population (percent).\n",
       "</p>\n",
       "</dd>\n",
       "<dt><code>medv</code></dt><dd>\n",
       "<p>median value of owner-occupied homes in \\$1000s.\n",
       "</p>\n",
       "</dd>\n",
       "</dl>\n",
       "\n",
       "\n",
       "\n",
       "<h3>Source</h3>\n",
       "\n",
       "<p>Harrison, D. and Rubinfeld, D.L. (1978)\n",
       "Hedonic prices and the demand for clean air.\n",
       "<em>J. Environ. Economics and Management</em>\n",
       "<b>5</b>, 81&ndash;102.\n",
       "</p>\n",
       "<p>Belsley D.A., Kuh, E.  and Welsch, R.E. (1980)\n",
       "<em>Regression Diagnostics. Identifying Influential Data and Sources\n",
       "of Collinearity.</em>\n",
       "New York: Wiley.\n",
       "</p>\n",
       "\n",
       "<hr /><div style=\"text-align: center;\">[Package <em>MASS</em> version 7.3-53 ]</div>"
      ],
      "text/latex": [
       "\\inputencoding{utf8}\n",
       "\\HeaderA{Boston}{Housing Values in Suburbs of Boston}{Boston}\n",
       "\\keyword{datasets}{Boston}\n",
       "%\n",
       "\\begin{Description}\\relax\n",
       "The \\code{Boston} data frame has 506 rows and 14 columns.\n",
       "\\end{Description}\n",
       "%\n",
       "\\begin{Usage}\n",
       "\\begin{verbatim}\n",
       "Boston\n",
       "\\end{verbatim}\n",
       "\\end{Usage}\n",
       "%\n",
       "\\begin{Format}\n",
       "This data frame contains the following columns:\n",
       "\\begin{description}\n",
       "\n",
       "\\item[\\code{crim}] \n",
       "per capita crime rate by town.\n",
       "\n",
       "\\item[\\code{zn}] \n",
       "proportion of residential land zoned for lots over 25,000 sq.ft.\n",
       "\n",
       "\\item[\\code{indus}] \n",
       "proportion of non-retail business acres per town.\n",
       "\n",
       "\\item[\\code{chas}] \n",
       "Charles River dummy variable (= 1 if tract bounds river; 0 otherwise).\n",
       "\n",
       "\\item[\\code{nox}] \n",
       "nitrogen oxides concentration (parts per 10 million).\n",
       "\n",
       "\\item[\\code{rm}] \n",
       "average number of rooms per dwelling.\n",
       "\n",
       "\\item[\\code{age}] \n",
       "proportion of owner-occupied units built prior to 1940.\n",
       "\n",
       "\\item[\\code{dis}] \n",
       "weighted mean of distances to five Boston employment centres.\n",
       "\n",
       "\\item[\\code{rad}] \n",
       "index of accessibility to radial highways.\n",
       "\n",
       "\\item[\\code{tax}] \n",
       "full-value property-tax rate per \\bsl{}\\$10,000.\n",
       "\n",
       "\\item[\\code{ptratio}] \n",
       "pupil-teacher ratio by town.\n",
       "\n",
       "\\item[\\code{black}] \n",
       "\\eqn{1000(Bk - 0.63)^2}{} where \\eqn{Bk}{} is the proportion of blacks\n",
       "by town.\n",
       "\n",
       "\\item[\\code{lstat}] \n",
       "lower status of the population (percent).\n",
       "\n",
       "\\item[\\code{medv}] \n",
       "median value of owner-occupied homes in \\bsl{}\\$1000s.\n",
       "\n",
       "\n",
       "\\end{description}\n",
       "\n",
       "\\end{Format}\n",
       "%\n",
       "\\begin{Source}\\relax\n",
       "Harrison, D. and Rubinfeld, D.L. (1978)\n",
       "Hedonic prices and the demand for clean air.\n",
       "\\emph{J. Environ. Economics and Management}\n",
       "\\bold{5}, 81--102.\n",
       "\n",
       "Belsley D.A., Kuh, E.  and Welsch, R.E. (1980)\n",
       "\\emph{Regression Diagnostics. Identifying Influential Data and Sources\n",
       "of Collinearity.}\n",
       "New York: Wiley.\n",
       "\\end{Source}"
      ],
      "text/plain": [
       "Boston                  package:MASS                   R Documentation\n",
       "\n",
       "_\bH_\bo_\bu_\bs_\bi_\bn_\bg _\bV_\ba_\bl_\bu_\be_\bs _\bi_\bn _\bS_\bu_\bb_\bu_\br_\bb_\bs _\bo_\bf _\bB_\bo_\bs_\bt_\bo_\bn\n",
       "\n",
       "_\bD_\be_\bs_\bc_\br_\bi_\bp_\bt_\bi_\bo_\bn:\n",
       "\n",
       "     The 'Boston' data frame has 506 rows and 14 columns.\n",
       "\n",
       "_\bU_\bs_\ba_\bg_\be:\n",
       "\n",
       "     Boston\n",
       "     \n",
       "_\bF_\bo_\br_\bm_\ba_\bt:\n",
       "\n",
       "     This data frame contains the following columns:\n",
       "\n",
       "     'crim' per capita crime rate by town.\n",
       "\n",
       "     'zn' proportion of residential land zoned for lots over 25,000\n",
       "          sq.ft.\n",
       "\n",
       "     'indus' proportion of non-retail business acres per town.\n",
       "\n",
       "     'chas' Charles River dummy variable (= 1 if tract bounds river; 0\n",
       "          otherwise).\n",
       "\n",
       "     'nox' nitrogen oxides concentration (parts per 10 million).\n",
       "\n",
       "     'rm' average number of rooms per dwelling.\n",
       "\n",
       "     'age' proportion of owner-occupied units built prior to 1940.\n",
       "\n",
       "     'dis' weighted mean of distances to five Boston employment\n",
       "          centres.\n",
       "\n",
       "     'rad' index of accessibility to radial highways.\n",
       "\n",
       "     'tax' full-value property-tax rate per \\$10,000.\n",
       "\n",
       "     'ptratio' pupil-teacher ratio by town.\n",
       "\n",
       "     'black' 1000(Bk - 0.63)^2 where Bk is the proportion of blacks by\n",
       "          town.\n",
       "\n",
       "     'lstat' lower status of the population (percent).\n",
       "\n",
       "     'medv' median value of owner-occupied homes in \\$1000s.\n",
       "\n",
       "_\bS_\bo_\bu_\br_\bc_\be:\n",
       "\n",
       "     Harrison, D. and Rubinfeld, D.L. (1978) Hedonic prices and the\n",
       "     demand for clean air.  _J. Environ. Economics and Management_ *5*,\n",
       "     81-102.\n",
       "\n",
       "     Belsley D.A., Kuh, E.  and Welsch, R.E. (1980) _Regression\n",
       "     Diagnostics. Identifying Influential Data and Sources of\n",
       "     Collinearity._ New York: Wiley.\n"
      ]
     },
     "metadata": {},
     "output_type": "display_data"
    }
   ],
   "source": [
    "?Boston"
   ]
  },
  {
   "cell_type": "code",
   "execution_count": 7,
   "metadata": {},
   "outputs": [
    {
     "data": {
      "text/plain": [
       "\n",
       "Call:\n",
       "lm(formula = medv ~ crim, data = Boston)\n",
       "\n",
       "Residuals:\n",
       "    Min      1Q  Median      3Q     Max \n",
       "-16.957  -5.449  -2.007   2.512  29.800 \n",
       "\n",
       "Coefficients:\n",
       "            Estimate Std. Error t value Pr(>|t|)    \n",
       "(Intercept) 24.03311    0.40914   58.74   <2e-16 ***\n",
       "crim        -0.41519    0.04389   -9.46   <2e-16 ***\n",
       "---\n",
       "Signif. codes:  0 '***' 0.001 '**' 0.01 '*' 0.05 '.' 0.1 ' ' 1\n",
       "\n",
       "Residual standard error: 8.484 on 504 degrees of freedom\n",
       "Multiple R-squared:  0.1508,\tAdjusted R-squared:  0.1491 \n",
       "F-statistic: 89.49 on 1 and 504 DF,  p-value: < 2.2e-16\n"
      ]
     },
     "metadata": {},
     "output_type": "display_data"
    }
   ],
   "source": [
    "mod = lm(medv~crim,data=Boston)\n",
    "summary(mod)"
   ]
  },
  {
   "cell_type": "code",
   "execution_count": 9,
   "metadata": {},
   "outputs": [
    {
     "data": {
      "image/png": "[encoded data removed]",
      "text/plain": [
       "plot without title"
      ]
     },
     "metadata": {
      "image/png": {
       "height": 420,
       "width": 420
      }
     },
     "output_type": "display_data"
    }
   ],
   "source": [
    "y_hat = predict(mod)\n",
    "plot(Boston$crim,y_hat)"
   ]
  },
  {
   "cell_type": "code",
   "execution_count": 12,
   "metadata": {},
   "outputs": [
    {
     "data": {
      "image/png": "[encoded data removed]",
      "text/plain": [
       "plot without title"
      ]
     },
     "metadata": {
      "image/png": {
       "height": 420,
       "width": 420
      }
     },
     "output_type": "display_data"
    }
   ],
   "source": [
    "plot(Boston$crim,Boston$medv)\n",
    "abline(coef=coef(mod),col='red')"
   ]
  },
  {
   "cell_type": "markdown",
   "metadata": {},
   "source": [
    "# covariate transformations"
   ]
  },
  {
   "cell_type": "code",
   "execution_count": 13,
   "metadata": {},
   "outputs": [
    {
     "data": {
      "image/png": "[encoded data removed]",
      "text/plain": [
       "plot without title"
      ]
     },
     "metadata": {
      "image/png": {
       "height": 420,
       "width": 420
      }
     },
     "output_type": "display_data"
    }
   ],
   "source": [
    "plot(log(Boston$crim),log(Boston$medv))"
   ]
  },
  {
   "cell_type": "markdown",
   "metadata": {},
   "source": [
    "## variable transformations"
   ]
  },
  {
   "cell_type": "code",
   "execution_count": 14,
   "metadata": {},
   "outputs": [],
   "source": [
    "mod2 = lm(log(medv)~log(crim),data=Boston)"
   ]
  },
  {
   "cell_type": "code",
   "execution_count": 15,
   "metadata": {},
   "outputs": [
    {
     "data": {
      "text/plain": [
       "\n",
       "Call:\n",
       "lm(formula = log(medv) ~ log(crim), data = Boston)\n",
       "\n",
       "Residuals:\n",
       "     Min       1Q   Median       3Q      Max \n",
       "-1.18682 -0.19996 -0.05263  0.17103  1.19958 \n",
       "\n",
       "Coefficients:\n",
       "             Estimate Std. Error t value Pr(>|t|)    \n",
       "(Intercept)  2.950817   0.015928  185.26   <2e-16 ***\n",
       "log(crim)   -0.107243   0.006935  -15.46   <2e-16 ***\n",
       "---\n",
       "Signif. codes:  0 '***' 0.001 '**' 0.01 '*' 0.05 '.' 0.1 ' ' 1\n",
       "\n",
       "Residual standard error: 0.337 on 504 degrees of freedom\n",
       "Multiple R-squared:  0.3218,\tAdjusted R-squared:  0.3204 \n",
       "F-statistic: 239.1 on 1 and 504 DF,  p-value: < 2.2e-16\n"
      ]
     },
     "metadata": {},
     "output_type": "display_data"
    }
   ],
   "source": [
    "summary(mod2)"
   ]
  },
  {
   "cell_type": "code",
   "execution_count": 18,
   "metadata": {},
   "outputs": [
    {
     "data": {
      "image/png": "[encoded data removed]",
      "text/plain": [
       "plot without title"
      ]
     },
     "metadata": {
      "image/png": {
       "height": 420,
       "width": 420
      }
     },
     "output_type": "display_data"
    }
   ],
   "source": [
    "plot(log(Boston$crim),log(Boston$medv))\n",
    "abline(coef=coef(mod2),col='red')"
   ]
  },
  {
   "cell_type": "code",
   "execution_count": 37,
   "metadata": {},
   "outputs": [
    {
     "data": {
      "image/png": "[encoded data removed]",
      "text/plain": [
       "plot without title"
      ]
     },
     "metadata": {
      "image/png": {
       "height": 420,
       "width": 420
      }
     },
     "output_type": "display_data"
    }
   ],
   "source": [
    "plot(log(Boston$crim),log(Boston$medv))"
   ]
  },
  {
   "cell_type": "code",
   "execution_count": 38,
   "metadata": {},
   "outputs": [],
   "source": [
    "logmedv = array(log(Boston$medv),c(506,1))\n",
    "transf_crim = log(Boston$crim)"
   ]
  },
  {
   "cell_type": "code",
   "execution_count": 39,
   "metadata": {},
   "outputs": [
    {
     "data": {
      "text/plain": [
       "\n",
       "Call:\n",
       "lm(formula = logmedv ~ transf_crim)\n",
       "\n",
       "Residuals:\n",
       "     Min       1Q   Median       3Q      Max \n",
       "-1.18682 -0.19996 -0.05263  0.17103  1.19958 \n",
       "\n",
       "Coefficients:\n",
       "             Estimate Std. Error t value Pr(>|t|)    \n",
       "(Intercept)  2.950817   0.015928  185.26   <2e-16 ***\n",
       "transf_crim -0.107243   0.006935  -15.46   <2e-16 ***\n",
       "---\n",
       "Signif. codes:  0 '***' 0.001 '**' 0.01 '*' 0.05 '.' 0.1 ' ' 1\n",
       "\n",
       "Residual standard error: 0.337 on 504 degrees of freedom\n",
       "Multiple R-squared:  0.3218,\tAdjusted R-squared:  0.3204 \n",
       "F-statistic: 239.1 on 1 and 504 DF,  p-value: < 2.2e-16\n"
      ]
     },
     "metadata": {},
     "output_type": "display_data"
    }
   ],
   "source": [
    "mod3 = lm(logmedv~transf_crim)\n",
    "summary(mod3)"
   ]
  },
  {
   "cell_type": "code",
   "execution_count": 40,
   "metadata": {},
   "outputs": [
    {
     "data": {
      "text/html": [
       "<table class=\"dataframe\">\n",
       "<caption>A matrix: 6 × 2 of type dbl</caption>\n",
       "<thead>\n",
       "\t<tr><th></th><th scope=col>(Intercept)</th><th scope=col>transf_crim</th></tr>\n",
       "</thead>\n",
       "<tbody>\n",
       "\t<tr><th scope=row>1</th><td>1</td><td>-5.064036</td></tr>\n",
       "\t<tr><th scope=row>2</th><td>1</td><td>-3.600502</td></tr>\n",
       "\t<tr><th scope=row>3</th><td>1</td><td>-3.601235</td></tr>\n",
       "\t<tr><th scope=row>4</th><td>1</td><td>-3.430523</td></tr>\n",
       "\t<tr><th scope=row>5</th><td>1</td><td>-2.672924</td></tr>\n",
       "\t<tr><th scope=row>6</th><td>1</td><td>-3.511570</td></tr>\n",
       "</tbody>\n",
       "</table>\n"
      ],
      "text/latex": [
       "A matrix: 6 × 2 of type dbl\n",
       "\\begin{tabular}{r|ll}\n",
       "  & (Intercept) & transf\\_crim\\\\\n",
       "\\hline\n",
       "\t1 & 1 & -5.064036\\\\\n",
       "\t2 & 1 & -3.600502\\\\\n",
       "\t3 & 1 & -3.601235\\\\\n",
       "\t4 & 1 & -3.430523\\\\\n",
       "\t5 & 1 & -2.672924\\\\\n",
       "\t6 & 1 & -3.511570\\\\\n",
       "\\end{tabular}\n"
      ],
      "text/markdown": [
       "\n",
       "A matrix: 6 × 2 of type dbl\n",
       "\n",
       "| <!--/--> | (Intercept) | transf_crim |\n",
       "|---|---|---|\n",
       "| 1 | 1 | -5.064036 |\n",
       "| 2 | 1 | -3.600502 |\n",
       "| 3 | 1 | -3.601235 |\n",
       "| 4 | 1 | -3.430523 |\n",
       "| 5 | 1 | -2.672924 |\n",
       "| 6 | 1 | -3.511570 |\n",
       "\n"
      ],
      "text/plain": [
       "  (Intercept) transf_crim\n",
       "1 1           -5.064036  \n",
       "2 1           -3.600502  \n",
       "3 1           -3.601235  \n",
       "4 1           -3.430523  \n",
       "5 1           -2.672924  \n",
       "6 1           -3.511570  "
      ]
     },
     "metadata": {},
     "output_type": "display_data"
    }
   ],
   "source": [
    "X = model.matrix(mod3)\n",
    "head(X)"
   ]
  },
  {
   "cell_type": "code",
   "execution_count": 41,
   "metadata": {},
   "outputs": [
    {
     "data": {
      "text/html": [
       "<style>\n",
       ".list-inline {list-style: none; margin:0; padding: 0}\n",
       ".list-inline>li {display: inline-block}\n",
       ".list-inline>li:not(:last-child)::after {content: \"\\00b7\"; padding: 0 .5ex}\n",
       "</style>\n",
       "<ol class=list-inline><li>-5.06403607082337</li><li>-3.60050234349652</li><li>-3.60123494426189</li><li>-3.43052321104398</li><li>-2.67292439912684</li><li>-3.51157043914353</li></ol>\n"
      ],
      "text/latex": [
       "\\begin{enumerate*}\n",
       "\\item -5.06403607082337\n",
       "\\item -3.60050234349652\n",
       "\\item -3.60123494426189\n",
       "\\item -3.43052321104398\n",
       "\\item -2.67292439912684\n",
       "\\item -3.51157043914353\n",
       "\\end{enumerate*}\n"
      ],
      "text/markdown": [
       "1. -5.06403607082337\n",
       "2. -3.60050234349652\n",
       "3. -3.60123494426189\n",
       "4. -3.43052321104398\n",
       "5. -2.67292439912684\n",
       "6. -3.51157043914353\n",
       "\n",
       "\n"
      ],
      "text/plain": [
       "[1] -5.064036 -3.600502 -3.601235 -3.430523 -2.672924 -3.511570"
      ]
     },
     "metadata": {},
     "output_type": "display_data"
    }
   ],
   "source": [
    "head(log(Boston$crim))"
   ]
  },
  {
   "cell_type": "code",
   "execution_count": 42,
   "metadata": {},
   "outputs": [],
   "source": [
    "beta_hat = ginv(t(X)%*%X)%*%t(X)%*%logmedv"
   ]
  },
  {
   "cell_type": "code",
   "execution_count": 31,
   "metadata": {},
   "outputs": [
    {
     "data": {
      "text/html": [
       "<style>\n",
       ".dl-inline {width: auto; margin:0; padding: 0}\n",
       ".dl-inline>dt, .dl-inline>dd {float: none; width: auto; display: inline-block}\n",
       ".dl-inline>dt::after {content: \":\\0020\"; padding-right: .5ex}\n",
       ".dl-inline>dt:not(:first-of-type) {padding-left: .5ex}\n",
       "</style><dl class=dl-inline><dt>(Intercept)</dt><dd>2.95081677833745</dd><dt>transf_crim</dt><dd>-0.107242705280088</dd></dl>\n"
      ],
      "text/latex": [
       "\\begin{description*}\n",
       "\\item[(Intercept)] 2.95081677833745\n",
       "\\item[transf\\textbackslash{}\\_crim] -0.107242705280088\n",
       "\\end{description*}\n"
      ],
      "text/markdown": [
       "(Intercept)\n",
       ":   2.95081677833745transf_crim\n",
       ":   -0.107242705280088\n",
       "\n"
      ],
      "text/plain": [
       "(Intercept) transf_crim \n",
       "  2.9508168  -0.1072427 "
      ]
     },
     "metadata": {},
     "output_type": "display_data"
    }
   ],
   "source": [
    "coef(mod3)"
   ]
  },
  {
   "cell_type": "markdown",
   "metadata": {},
   "source": [
    "# categorical variables"
   ]
  },
  {
   "cell_type": "code",
   "execution_count": 44,
   "metadata": {},
   "outputs": [],
   "source": [
    "data(birthwt)"
   ]
  },
  {
   "cell_type": "code",
   "execution_count": 45,
   "metadata": {},
   "outputs": [
    {
     "data": {
      "text/html": [
       "\n",
       "<table width=\"100%\" summary=\"page for birthwt {MASS}\"><tr><td>birthwt {MASS}</td><td style=\"text-align: right;\">R Documentation</td></tr></table>\n",
       "\n",
       "<h2>\n",
       "Risk Factors Associated with Low Infant Birth Weight\n",
       "</h2>\n",
       "\n",
       "<h3>Description</h3>\n",
       "\n",
       "<p>The <code>birthwt</code> data frame has 189 rows and 10 columns.\n",
       "The data were collected at Baystate Medical Center, Springfield, Mass\n",
       "during 1986.\n",
       "</p>\n",
       "\n",
       "\n",
       "<h3>Usage</h3>\n",
       "\n",
       "<pre>\n",
       "birthwt\n",
       "</pre>\n",
       "\n",
       "\n",
       "<h3>Format</h3>\n",
       "\n",
       "<p>This data frame contains the following columns:\n",
       "</p>\n",
       "\n",
       "<dl>\n",
       "<dt><code>low</code></dt><dd><p>indicator of birth weight less than 2.5 kg.</p>\n",
       "</dd>\n",
       "<dt><code>age</code></dt><dd><p>mother's age in years.</p>\n",
       "</dd>\n",
       "<dt><code>lwt</code></dt><dd><p>mother's weight in pounds at last menstrual period.</p>\n",
       "</dd>\n",
       "<dt><code>race</code></dt><dd><p>mother's race (<code>1</code> = white, <code>2</code> = black,\n",
       "<code>3</code> = other).</p>\n",
       "</dd>\n",
       "<dt><code>smoke</code></dt><dd><p>smoking status during pregnancy.</p>\n",
       "</dd>\n",
       "<dt><code>ptl</code></dt><dd><p>number of previous premature labours.</p>\n",
       "</dd>\n",
       "<dt><code>ht</code></dt><dd><p>history of hypertension.</p>\n",
       "</dd>\n",
       "<dt><code>ui</code></dt><dd><p>presence of uterine irritability.</p>\n",
       "</dd>\n",
       "<dt><code>ftv</code></dt><dd><p>number of physician visits during the first trimester.</p>\n",
       "</dd>\n",
       "<dt><code>bwt</code></dt><dd><p>birth weight in grams.</p>\n",
       "</dd>\n",
       "</dl>\n",
       "\n",
       "\n",
       "\n",
       "<h3>Source</h3>\n",
       "\n",
       "<p>Hosmer, D.W. and Lemeshow, S. (1989)\n",
       "<em>Applied Logistic Regression.</em> New York: Wiley\n",
       "</p>\n",
       "\n",
       "\n",
       "<h3>References</h3>\n",
       "\n",
       "<p>Venables, W. N. and Ripley, B. D. (2002)\n",
       "<em>Modern Applied Statistics with S.</em> Fourth edition.  Springer.\n",
       "</p>\n",
       "\n",
       "\n",
       "<h3>Examples</h3>\n",
       "\n",
       "<pre>\n",
       "bwt &lt;- with(birthwt, {\n",
       "race &lt;- factor(race, labels = c(\"white\", \"black\", \"other\"))\n",
       "ptd &lt;- factor(ptl &gt; 0)\n",
       "ftv &lt;- factor(ftv)\n",
       "levels(ftv)[-(1:2)] &lt;- \"2+\"\n",
       "data.frame(low = factor(low), age, lwt, race, smoke = (smoke &gt; 0),\n",
       "           ptd, ht = (ht &gt; 0), ui = (ui &gt; 0), ftv)\n",
       "})\n",
       "options(contrasts = c(\"contr.treatment\", \"contr.poly\"))\n",
       "glm(low ~ ., binomial, bwt)\n",
       "</pre>\n",
       "\n",
       "<hr /><div style=\"text-align: center;\">[Package <em>MASS</em> version 7.3-53 ]</div>"
      ],
      "text/latex": [
       "\\inputencoding{utf8}\n",
       "\\HeaderA{birthwt}{Risk Factors Associated with Low Infant Birth Weight}{birthwt}\n",
       "\\keyword{datasets}{birthwt}\n",
       "%\n",
       "\\begin{Description}\\relax\n",
       "The \\code{birthwt} data frame has 189 rows and 10 columns.\n",
       "The data were collected at Baystate Medical Center, Springfield, Mass\n",
       "during 1986.\n",
       "\\end{Description}\n",
       "%\n",
       "\\begin{Usage}\n",
       "\\begin{verbatim}\n",
       "birthwt\n",
       "\\end{verbatim}\n",
       "\\end{Usage}\n",
       "%\n",
       "\\begin{Format}\n",
       "This data frame contains the following columns:\n",
       "\\begin{description}\n",
       "\n",
       "\\item[\\code{low}] indicator of birth weight less than 2.5 kg.\n",
       "\\item[\\code{age}] mother's age in years.\n",
       "\\item[\\code{lwt}] mother's weight in pounds at last menstrual period.\n",
       "\\item[\\code{race}] mother's race (\\code{1} = white, \\code{2} = black,\n",
       "\\code{3} = other).\n",
       "\\item[\\code{smoke}] smoking status during pregnancy.\n",
       "\\item[\\code{ptl}] number of previous premature labours.\n",
       "\\item[\\code{ht}] history of hypertension.\n",
       "\\item[\\code{ui}] presence of uterine irritability.\n",
       "\\item[\\code{ftv}] number of physician visits during the first trimester.\n",
       "\\item[\\code{bwt}] birth weight in grams.\n",
       "\n",
       "\\end{description}\n",
       "\n",
       "\\end{Format}\n",
       "%\n",
       "\\begin{Source}\\relax\n",
       "Hosmer, D.W. and Lemeshow, S. (1989)\n",
       "\\emph{Applied Logistic Regression.} New York: Wiley\n",
       "\\end{Source}\n",
       "%\n",
       "\\begin{References}\\relax\n",
       "Venables, W. N. and Ripley, B. D. (2002)\n",
       "\\emph{Modern Applied Statistics with S.} Fourth edition.  Springer.\n",
       "\\end{References}\n",
       "%\n",
       "\\begin{Examples}\n",
       "\\begin{ExampleCode}\n",
       "bwt <- with(birthwt, {\n",
       "race <- factor(race, labels = c(\"white\", \"black\", \"other\"))\n",
       "ptd <- factor(ptl > 0)\n",
       "ftv <- factor(ftv)\n",
       "levels(ftv)[-(1:2)] <- \"2+\"\n",
       "data.frame(low = factor(low), age, lwt, race, smoke = (smoke > 0),\n",
       "           ptd, ht = (ht > 0), ui = (ui > 0), ftv)\n",
       "})\n",
       "options(contrasts = c(\"contr.treatment\", \"contr.poly\"))\n",
       "glm(low ~ ., binomial, bwt)\n",
       "\\end{ExampleCode}\n",
       "\\end{Examples}"
      ],
      "text/plain": [
       "birthwt                  package:MASS                  R Documentation\n",
       "\n",
       "_\bR_\bi_\bs_\bk _\bF_\ba_\bc_\bt_\bo_\br_\bs _\bA_\bs_\bs_\bo_\bc_\bi_\ba_\bt_\be_\bd _\bw_\bi_\bt_\bh _\bL_\bo_\bw _\bI_\bn_\bf_\ba_\bn_\bt _\bB_\bi_\br_\bt_\bh _\bW_\be_\bi_\bg_\bh_\bt\n",
       "\n",
       "_\bD_\be_\bs_\bc_\br_\bi_\bp_\bt_\bi_\bo_\bn:\n",
       "\n",
       "     The 'birthwt' data frame has 189 rows and 10 columns.  The data\n",
       "     were collected at Baystate Medical Center, Springfield, Mass\n",
       "     during 1986.\n",
       "\n",
       "_\bU_\bs_\ba_\bg_\be:\n",
       "\n",
       "     birthwt\n",
       "     \n",
       "_\bF_\bo_\br_\bm_\ba_\bt:\n",
       "\n",
       "     This data frame contains the following columns:\n",
       "\n",
       "     'low' indicator of birth weight less than 2.5 kg.\n",
       "\n",
       "     'age' mother's age in years.\n",
       "\n",
       "     'lwt' mother's weight in pounds at last menstrual period.\n",
       "\n",
       "     'race' mother's race ('1' = white, '2' = black, '3' = other).\n",
       "\n",
       "     'smoke' smoking status during pregnancy.\n",
       "\n",
       "     'ptl' number of previous premature labours.\n",
       "\n",
       "     'ht' history of hypertension.\n",
       "\n",
       "     'ui' presence of uterine irritability.\n",
       "\n",
       "     'ftv' number of physician visits during the first trimester.\n",
       "\n",
       "     'bwt' birth weight in grams.\n",
       "\n",
       "_\bS_\bo_\bu_\br_\bc_\be:\n",
       "\n",
       "     Hosmer, D.W. and Lemeshow, S. (1989) _Applied Logistic\n",
       "     Regression._ New York: Wiley\n",
       "\n",
       "_\bR_\be_\bf_\be_\br_\be_\bn_\bc_\be_\bs:\n",
       "\n",
       "     Venables, W. N. and Ripley, B. D. (2002) _Modern Applied\n",
       "     Statistics with S._ Fourth edition.  Springer.\n",
       "\n",
       "_\bE_\bx_\ba_\bm_\bp_\bl_\be_\bs:\n",
       "\n",
       "     bwt <- with(birthwt, {\n",
       "     race <- factor(race, labels = c(\"white\", \"black\", \"other\"))\n",
       "     ptd <- factor(ptl > 0)\n",
       "     ftv <- factor(ftv)\n",
       "     levels(ftv)[-(1:2)] <- \"2+\"\n",
       "     data.frame(low = factor(low), age, lwt, race, smoke = (smoke > 0),\n",
       "                ptd, ht = (ht > 0), ui = (ui > 0), ftv)\n",
       "     })\n",
       "     options(contrasts = c(\"contr.treatment\", \"contr.poly\"))\n",
       "     glm(low ~ ., binomial, bwt)\n",
       "     "
      ]
     },
     "metadata": {},
     "output_type": "display_data"
    }
   ],
   "source": [
    "?birthwt"
   ]
  },
  {
   "cell_type": "code",
   "execution_count": 46,
   "metadata": {},
   "outputs": [
    {
     "data": {
      "text/html": [
       "<table class=\"dataframe\">\n",
       "<caption>A data.frame: 6 × 10</caption>\n",
       "<thead>\n",
       "\t<tr><th></th><th scope=col>low</th><th scope=col>age</th><th scope=col>lwt</th><th scope=col>race</th><th scope=col>smoke</th><th scope=col>ptl</th><th scope=col>ht</th><th scope=col>ui</th><th scope=col>ftv</th><th scope=col>bwt</th></tr>\n",
       "\t<tr><th></th><th scope=col>&lt;int&gt;</th><th scope=col>&lt;int&gt;</th><th scope=col>&lt;int&gt;</th><th scope=col>&lt;int&gt;</th><th scope=col>&lt;int&gt;</th><th scope=col>&lt;int&gt;</th><th scope=col>&lt;int&gt;</th><th scope=col>&lt;int&gt;</th><th scope=col>&lt;int&gt;</th><th scope=col>&lt;int&gt;</th></tr>\n",
       "</thead>\n",
       "<tbody>\n",
       "\t<tr><th scope=row>85</th><td>0</td><td>19</td><td>182</td><td>2</td><td>0</td><td>0</td><td>0</td><td>1</td><td>0</td><td>2523</td></tr>\n",
       "\t<tr><th scope=row>86</th><td>0</td><td>33</td><td>155</td><td>3</td><td>0</td><td>0</td><td>0</td><td>0</td><td>3</td><td>2551</td></tr>\n",
       "\t<tr><th scope=row>87</th><td>0</td><td>20</td><td>105</td><td>1</td><td>1</td><td>0</td><td>0</td><td>0</td><td>1</td><td>2557</td></tr>\n",
       "\t<tr><th scope=row>88</th><td>0</td><td>21</td><td>108</td><td>1</td><td>1</td><td>0</td><td>0</td><td>1</td><td>2</td><td>2594</td></tr>\n",
       "\t<tr><th scope=row>89</th><td>0</td><td>18</td><td>107</td><td>1</td><td>1</td><td>0</td><td>0</td><td>1</td><td>0</td><td>2600</td></tr>\n",
       "\t<tr><th scope=row>91</th><td>0</td><td>21</td><td>124</td><td>3</td><td>0</td><td>0</td><td>0</td><td>0</td><td>0</td><td>2622</td></tr>\n",
       "</tbody>\n",
       "</table>\n"
      ],
      "text/latex": [
       "A data.frame: 6 × 10\n",
       "\\begin{tabular}{r|llllllllll}\n",
       "  & low & age & lwt & race & smoke & ptl & ht & ui & ftv & bwt\\\\\n",
       "  & <int> & <int> & <int> & <int> & <int> & <int> & <int> & <int> & <int> & <int>\\\\\n",
       "\\hline\n",
       "\t85 & 0 & 19 & 182 & 2 & 0 & 0 & 0 & 1 & 0 & 2523\\\\\n",
       "\t86 & 0 & 33 & 155 & 3 & 0 & 0 & 0 & 0 & 3 & 2551\\\\\n",
       "\t87 & 0 & 20 & 105 & 1 & 1 & 0 & 0 & 0 & 1 & 2557\\\\\n",
       "\t88 & 0 & 21 & 108 & 1 & 1 & 0 & 0 & 1 & 2 & 2594\\\\\n",
       "\t89 & 0 & 18 & 107 & 1 & 1 & 0 & 0 & 1 & 0 & 2600\\\\\n",
       "\t91 & 0 & 21 & 124 & 3 & 0 & 0 & 0 & 0 & 0 & 2622\\\\\n",
       "\\end{tabular}\n"
      ],
      "text/markdown": [
       "\n",
       "A data.frame: 6 × 10\n",
       "\n",
       "| <!--/--> | low &lt;int&gt; | age &lt;int&gt; | lwt &lt;int&gt; | race &lt;int&gt; | smoke &lt;int&gt; | ptl &lt;int&gt; | ht &lt;int&gt; | ui &lt;int&gt; | ftv &lt;int&gt; | bwt &lt;int&gt; |\n",
       "|---|---|---|---|---|---|---|---|---|---|---|\n",
       "| 85 | 0 | 19 | 182 | 2 | 0 | 0 | 0 | 1 | 0 | 2523 |\n",
       "| 86 | 0 | 33 | 155 | 3 | 0 | 0 | 0 | 0 | 3 | 2551 |\n",
       "| 87 | 0 | 20 | 105 | 1 | 1 | 0 | 0 | 0 | 1 | 2557 |\n",
       "| 88 | 0 | 21 | 108 | 1 | 1 | 0 | 0 | 1 | 2 | 2594 |\n",
       "| 89 | 0 | 18 | 107 | 1 | 1 | 0 | 0 | 1 | 0 | 2600 |\n",
       "| 91 | 0 | 21 | 124 | 3 | 0 | 0 | 0 | 0 | 0 | 2622 |\n",
       "\n"
      ],
      "text/plain": [
       "   low age lwt race smoke ptl ht ui ftv bwt \n",
       "85 0   19  182 2    0     0   0  1  0   2523\n",
       "86 0   33  155 3    0     0   0  0  3   2551\n",
       "87 0   20  105 1    1     0   0  0  1   2557\n",
       "88 0   21  108 1    1     0   0  1  2   2594\n",
       "89 0   18  107 1    1     0   0  1  0   2600\n",
       "91 0   21  124 3    0     0   0  0  0   2622"
      ]
     },
     "metadata": {},
     "output_type": "display_data"
    }
   ],
   "source": [
    "head(birthwt)"
   ]
  },
  {
   "cell_type": "code",
   "execution_count": 47,
   "metadata": {},
   "outputs": [
    {
     "data": {
      "text/html": [
       "<style>\n",
       ".list-inline {list-style: none; margin:0; padding: 0}\n",
       ".list-inline>li {display: inline-block}\n",
       ".list-inline>li:not(:last-child)::after {content: \"\\00b7\"; padding: 0 .5ex}\n",
       "</style>\n",
       "<ol class=list-inline><li>2</li><li>3</li><li>1</li><li>1</li><li>1</li><li>3</li></ol>\n"
      ],
      "text/latex": [
       "\\begin{enumerate*}\n",
       "\\item 2\n",
       "\\item 3\n",
       "\\item 1\n",
       "\\item 1\n",
       "\\item 1\n",
       "\\item 3\n",
       "\\end{enumerate*}\n"
      ],
      "text/markdown": [
       "1. 2\n",
       "2. 3\n",
       "3. 1\n",
       "4. 1\n",
       "5. 1\n",
       "6. 3\n",
       "\n",
       "\n"
      ],
      "text/plain": [
       "[1] 2 3 1 1 1 3"
      ]
     },
     "metadata": {},
     "output_type": "display_data"
    }
   ],
   "source": [
    "head(birthwt$race)"
   ]
  },
  {
   "cell_type": "code",
   "execution_count": 50,
   "metadata": {},
   "outputs": [
    {
     "data": {
      "text/html": [
       "<style>\n",
       ".list-inline {list-style: none; margin:0; padding: 0}\n",
       ".list-inline>li {display: inline-block}\n",
       ".list-inline>li:not(:last-child)::after {content: \"\\00b7\"; padding: 0 .5ex}\n",
       "</style>\n",
       "<ol class=list-inline><li>2</li><li>3</li><li>1</li><li>1</li><li>1</li><li>3</li></ol>\n",
       "\n",
       "<details>\n",
       "\t<summary style=display:list-item;cursor:pointer>\n",
       "\t\t<strong>Levels</strong>:\n",
       "\t</summary>\n",
       "\t<style>\n",
       "\t.list-inline {list-style: none; margin:0; padding: 0}\n",
       "\t.list-inline>li {display: inline-block}\n",
       "\t.list-inline>li:not(:last-child)::after {content: \"\\00b7\"; padding: 0 .5ex}\n",
       "\t</style>\n",
       "\t<ol class=list-inline><li>'1'</li><li>'2'</li><li>'3'</li></ol>\n",
       "</details>"
      ],
      "text/latex": [
       "\\begin{enumerate*}\n",
       "\\item 2\n",
       "\\item 3\n",
       "\\item 1\n",
       "\\item 1\n",
       "\\item 1\n",
       "\\item 3\n",
       "\\end{enumerate*}\n",
       "\n",
       "\\emph{Levels}: \\begin{enumerate*}\n",
       "\\item '1'\n",
       "\\item '2'\n",
       "\\item '3'\n",
       "\\end{enumerate*}\n"
      ],
      "text/markdown": [
       "1. 2\n",
       "2. 3\n",
       "3. 1\n",
       "4. 1\n",
       "5. 1\n",
       "6. 3\n",
       "\n",
       "\n",
       "\n",
       "**Levels**: 1. '1'\n",
       "2. '2'\n",
       "3. '3'\n",
       "\n",
       "\n"
      ],
      "text/plain": [
       "[1] 2 3 1 1 1 3\n",
       "Levels: 1 2 3"
      ]
     },
     "metadata": {},
     "output_type": "display_data"
    }
   ],
   "source": [
    "racef = as.factor(birthwt$race)\n",
    "head(racef)"
   ]
  },
  {
   "cell_type": "code",
   "execution_count": 51,
   "metadata": {},
   "outputs": [],
   "source": [
    "levels(racef) = c(\"White\",\"Black\",\"Other\")"
   ]
  },
  {
   "cell_type": "code",
   "execution_count": 52,
   "metadata": {},
   "outputs": [
    {
     "data": {
      "text/html": [
       "<style>\n",
       ".list-inline {list-style: none; margin:0; padding: 0}\n",
       ".list-inline>li {display: inline-block}\n",
       ".list-inline>li:not(:last-child)::after {content: \"\\00b7\"; padding: 0 .5ex}\n",
       "</style>\n",
       "<ol class=list-inline><li>Black</li><li>Other</li><li>White</li><li>White</li><li>White</li><li>Other</li></ol>\n",
       "\n",
       "<details>\n",
       "\t<summary style=display:list-item;cursor:pointer>\n",
       "\t\t<strong>Levels</strong>:\n",
       "\t</summary>\n",
       "\t<style>\n",
       "\t.list-inline {list-style: none; margin:0; padding: 0}\n",
       "\t.list-inline>li {display: inline-block}\n",
       "\t.list-inline>li:not(:last-child)::after {content: \"\\00b7\"; padding: 0 .5ex}\n",
       "\t</style>\n",
       "\t<ol class=list-inline><li>'White'</li><li>'Black'</li><li>'Other'</li></ol>\n",
       "</details>"
      ],
      "text/latex": [
       "\\begin{enumerate*}\n",
       "\\item Black\n",
       "\\item Other\n",
       "\\item White\n",
       "\\item White\n",
       "\\item White\n",
       "\\item Other\n",
       "\\end{enumerate*}\n",
       "\n",
       "\\emph{Levels}: \\begin{enumerate*}\n",
       "\\item 'White'\n",
       "\\item 'Black'\n",
       "\\item 'Other'\n",
       "\\end{enumerate*}\n"
      ],
      "text/markdown": [
       "1. Black\n",
       "2. Other\n",
       "3. White\n",
       "4. White\n",
       "5. White\n",
       "6. Other\n",
       "\n",
       "\n",
       "\n",
       "**Levels**: 1. 'White'\n",
       "2. 'Black'\n",
       "3. 'Other'\n",
       "\n",
       "\n"
      ],
      "text/plain": [
       "[1] Black Other White White White Other\n",
       "Levels: White Black Other"
      ]
     },
     "metadata": {},
     "output_type": "display_data"
    }
   ],
   "source": [
    "head(racef)"
   ]
  },
  {
   "cell_type": "code",
   "execution_count": 54,
   "metadata": {},
   "outputs": [
    {
     "data": {
      "text/plain": [
       "\n",
       "Call:\n",
       "lm(formula = bwt ~ race, data = birthwt)\n",
       "\n",
       "Residuals:\n",
       "     Min       1Q   Median       3Q      Max \n",
       "-2096.28  -502.72   -12.72   526.28  1887.28 \n",
       "\n",
       "Coefficients:\n",
       "            Estimate Std. Error t value Pr(>|t|)    \n",
       "(Intercept)  3102.72      72.92  42.548  < 2e-16 ***\n",
       "raceBlack    -383.03     157.96  -2.425  0.01627 *  \n",
       "raceOther    -297.44     113.74  -2.615  0.00965 ** \n",
       "---\n",
       "Signif. codes:  0 '***' 0.001 '**' 0.01 '*' 0.05 '.' 0.1 ' ' 1\n",
       "\n",
       "Residual standard error: 714.5 on 186 degrees of freedom\n",
       "Multiple R-squared:  0.05017,\tAdjusted R-squared:  0.03996 \n",
       "F-statistic: 4.913 on 2 and 186 DF,  p-value: 0.008336\n"
      ]
     },
     "metadata": {},
     "output_type": "display_data"
    }
   ],
   "source": [
    "birthwt$race = racef\n",
    "mod = lm(bwt~race,data=birthwt)\n",
    "summary(mod)"
   ]
  },
  {
   "cell_type": "code",
   "execution_count": 55,
   "metadata": {},
   "outputs": [
    {
     "data": {
      "text/html": [
       "<table class=\"dataframe\">\n",
       "<caption>A matrix: 6 × 3 of type dbl</caption>\n",
       "<thead>\n",
       "\t<tr><th></th><th scope=col>(Intercept)</th><th scope=col>raceBlack</th><th scope=col>raceOther</th></tr>\n",
       "</thead>\n",
       "<tbody>\n",
       "\t<tr><th scope=row>85</th><td>1</td><td>1</td><td>0</td></tr>\n",
       "\t<tr><th scope=row>86</th><td>1</td><td>0</td><td>1</td></tr>\n",
       "\t<tr><th scope=row>87</th><td>1</td><td>0</td><td>0</td></tr>\n",
       "\t<tr><th scope=row>88</th><td>1</td><td>0</td><td>0</td></tr>\n",
       "\t<tr><th scope=row>89</th><td>1</td><td>0</td><td>0</td></tr>\n",
       "\t<tr><th scope=row>91</th><td>1</td><td>0</td><td>1</td></tr>\n",
       "</tbody>\n",
       "</table>\n"
      ],
      "text/latex": [
       "A matrix: 6 × 3 of type dbl\n",
       "\\begin{tabular}{r|lll}\n",
       "  & (Intercept) & raceBlack & raceOther\\\\\n",
       "\\hline\n",
       "\t85 & 1 & 1 & 0\\\\\n",
       "\t86 & 1 & 0 & 1\\\\\n",
       "\t87 & 1 & 0 & 0\\\\\n",
       "\t88 & 1 & 0 & 0\\\\\n",
       "\t89 & 1 & 0 & 0\\\\\n",
       "\t91 & 1 & 0 & 1\\\\\n",
       "\\end{tabular}\n"
      ],
      "text/markdown": [
       "\n",
       "A matrix: 6 × 3 of type dbl\n",
       "\n",
       "| <!--/--> | (Intercept) | raceBlack | raceOther |\n",
       "|---|---|---|---|\n",
       "| 85 | 1 | 1 | 0 |\n",
       "| 86 | 1 | 0 | 1 |\n",
       "| 87 | 1 | 0 | 0 |\n",
       "| 88 | 1 | 0 | 0 |\n",
       "| 89 | 1 | 0 | 0 |\n",
       "| 91 | 1 | 0 | 1 |\n",
       "\n"
      ],
      "text/plain": [
       "   (Intercept) raceBlack raceOther\n",
       "85 1           1         0        \n",
       "86 1           0         1        \n",
       "87 1           0         0        \n",
       "88 1           0         0        \n",
       "89 1           0         0        \n",
       "91 1           0         1        "
      ]
     },
     "metadata": {},
     "output_type": "display_data"
    }
   ],
   "source": [
    "head(model.matrix(mod))"
   ]
  },
  {
   "cell_type": "code",
   "execution_count": null,
   "metadata": {},
   "outputs": [],
   "source": []
  }
 ],
 "metadata": {
  "jupytext": {
   "formats": "ipynb,Rmd,R"
  },
  "kernelspec": {
   "display_name": "R",
   "language": "R",
   "name": "ir"
  },
  "language_info": {
   "codemirror_mode": "r",
   "file_extension": ".r",
   "mimetype": "text/x-r-source",
   "name": "R",
   "pygments_lexer": "r",
   "version": "4.0.3"
  }
 },
 "nbformat": 4,
 "nbformat_minor": 4
}
