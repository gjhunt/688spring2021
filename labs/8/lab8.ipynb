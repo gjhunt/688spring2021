{
 "cells": [
  {
   "cell_type": "markdown",
   "metadata": {},
   "source": [
    "# Lab - KNN Classification\n",
    "## Lecture 8 "
   ]
  },
  {
   "cell_type": "code",
   "execution_count": 3,
   "metadata": {},
   "outputs": [],
   "source": [
    "data(iris)"
   ]
  },
  {
   "cell_type": "code",
   "execution_count": 4,
   "metadata": {},
   "outputs": [
    {
     "data": {
      "text/html": [
       "<table class=\"dataframe\">\n",
       "<caption>A data.frame: 150 × 5</caption>\n",
       "<thead>\n",
       "\t<tr><th scope=col>Sepal.Length</th><th scope=col>Sepal.Width</th><th scope=col>Petal.Length</th><th scope=col>Petal.Width</th><th scope=col>Species</th></tr>\n",
       "\t<tr><th scope=col>&lt;dbl&gt;</th><th scope=col>&lt;dbl&gt;</th><th scope=col>&lt;dbl&gt;</th><th scope=col>&lt;dbl&gt;</th><th scope=col>&lt;fct&gt;</th></tr>\n",
       "</thead>\n",
       "<tbody>\n",
       "\t<tr><td>5.1</td><td>3.5</td><td>1.4</td><td>0.2</td><td>setosa</td></tr>\n",
       "\t<tr><td>4.9</td><td>3.0</td><td>1.4</td><td>0.2</td><td>setosa</td></tr>\n",
       "\t<tr><td>4.7</td><td>3.2</td><td>1.3</td><td>0.2</td><td>setosa</td></tr>\n",
       "\t<tr><td>4.6</td><td>3.1</td><td>1.5</td><td>0.2</td><td>setosa</td></tr>\n",
       "\t<tr><td>5.0</td><td>3.6</td><td>1.4</td><td>0.2</td><td>setosa</td></tr>\n",
       "\t<tr><td>5.4</td><td>3.9</td><td>1.7</td><td>0.4</td><td>setosa</td></tr>\n",
       "\t<tr><td>4.6</td><td>3.4</td><td>1.4</td><td>0.3</td><td>setosa</td></tr>\n",
       "\t<tr><td>5.0</td><td>3.4</td><td>1.5</td><td>0.2</td><td>setosa</td></tr>\n",
       "\t<tr><td>4.4</td><td>2.9</td><td>1.4</td><td>0.2</td><td>setosa</td></tr>\n",
       "\t<tr><td>4.9</td><td>3.1</td><td>1.5</td><td>0.1</td><td>setosa</td></tr>\n",
       "\t<tr><td>5.4</td><td>3.7</td><td>1.5</td><td>0.2</td><td>setosa</td></tr>\n",
       "\t<tr><td>4.8</td><td>3.4</td><td>1.6</td><td>0.2</td><td>setosa</td></tr>\n",
       "\t<tr><td>4.8</td><td>3.0</td><td>1.4</td><td>0.1</td><td>setosa</td></tr>\n",
       "\t<tr><td>4.3</td><td>3.0</td><td>1.1</td><td>0.1</td><td>setosa</td></tr>\n",
       "\t<tr><td>5.8</td><td>4.0</td><td>1.2</td><td>0.2</td><td>setosa</td></tr>\n",
       "\t<tr><td>5.7</td><td>4.4</td><td>1.5</td><td>0.4</td><td>setosa</td></tr>\n",
       "\t<tr><td>5.4</td><td>3.9</td><td>1.3</td><td>0.4</td><td>setosa</td></tr>\n",
       "\t<tr><td>5.1</td><td>3.5</td><td>1.4</td><td>0.3</td><td>setosa</td></tr>\n",
       "\t<tr><td>5.7</td><td>3.8</td><td>1.7</td><td>0.3</td><td>setosa</td></tr>\n",
       "\t<tr><td>5.1</td><td>3.8</td><td>1.5</td><td>0.3</td><td>setosa</td></tr>\n",
       "\t<tr><td>5.4</td><td>3.4</td><td>1.7</td><td>0.2</td><td>setosa</td></tr>\n",
       "\t<tr><td>5.1</td><td>3.7</td><td>1.5</td><td>0.4</td><td>setosa</td></tr>\n",
       "\t<tr><td>4.6</td><td>3.6</td><td>1.0</td><td>0.2</td><td>setosa</td></tr>\n",
       "\t<tr><td>5.1</td><td>3.3</td><td>1.7</td><td>0.5</td><td>setosa</td></tr>\n",
       "\t<tr><td>4.8</td><td>3.4</td><td>1.9</td><td>0.2</td><td>setosa</td></tr>\n",
       "\t<tr><td>5.0</td><td>3.0</td><td>1.6</td><td>0.2</td><td>setosa</td></tr>\n",
       "\t<tr><td>5.0</td><td>3.4</td><td>1.6</td><td>0.4</td><td>setosa</td></tr>\n",
       "\t<tr><td>5.2</td><td>3.5</td><td>1.5</td><td>0.2</td><td>setosa</td></tr>\n",
       "\t<tr><td>5.2</td><td>3.4</td><td>1.4</td><td>0.2</td><td>setosa</td></tr>\n",
       "\t<tr><td>4.7</td><td>3.2</td><td>1.6</td><td>0.2</td><td>setosa</td></tr>\n",
       "\t<tr><td>...</td><td>...</td><td>...</td><td>...</td><td>...</td></tr>\n",
       "\t<tr><td>6.9</td><td>3.2</td><td>5.7</td><td>2.3</td><td>virginica</td></tr>\n",
       "\t<tr><td>5.6</td><td>2.8</td><td>4.9</td><td>2.0</td><td>virginica</td></tr>\n",
       "\t<tr><td>7.7</td><td>2.8</td><td>6.7</td><td>2.0</td><td>virginica</td></tr>\n",
       "\t<tr><td>6.3</td><td>2.7</td><td>4.9</td><td>1.8</td><td>virginica</td></tr>\n",
       "\t<tr><td>6.7</td><td>3.3</td><td>5.7</td><td>2.1</td><td>virginica</td></tr>\n",
       "\t<tr><td>7.2</td><td>3.2</td><td>6.0</td><td>1.8</td><td>virginica</td></tr>\n",
       "\t<tr><td>6.2</td><td>2.8</td><td>4.8</td><td>1.8</td><td>virginica</td></tr>\n",
       "\t<tr><td>6.1</td><td>3.0</td><td>4.9</td><td>1.8</td><td>virginica</td></tr>\n",
       "\t<tr><td>6.4</td><td>2.8</td><td>5.6</td><td>2.1</td><td>virginica</td></tr>\n",
       "\t<tr><td>7.2</td><td>3.0</td><td>5.8</td><td>1.6</td><td>virginica</td></tr>\n",
       "\t<tr><td>7.4</td><td>2.8</td><td>6.1</td><td>1.9</td><td>virginica</td></tr>\n",
       "\t<tr><td>7.9</td><td>3.8</td><td>6.4</td><td>2.0</td><td>virginica</td></tr>\n",
       "\t<tr><td>6.4</td><td>2.8</td><td>5.6</td><td>2.2</td><td>virginica</td></tr>\n",
       "\t<tr><td>6.3</td><td>2.8</td><td>5.1</td><td>1.5</td><td>virginica</td></tr>\n",
       "\t<tr><td>6.1</td><td>2.6</td><td>5.6</td><td>1.4</td><td>virginica</td></tr>\n",
       "\t<tr><td>7.7</td><td>3.0</td><td>6.1</td><td>2.3</td><td>virginica</td></tr>\n",
       "\t<tr><td>6.3</td><td>3.4</td><td>5.6</td><td>2.4</td><td>virginica</td></tr>\n",
       "\t<tr><td>6.4</td><td>3.1</td><td>5.5</td><td>1.8</td><td>virginica</td></tr>\n",
       "\t<tr><td>6.0</td><td>3.0</td><td>4.8</td><td>1.8</td><td>virginica</td></tr>\n",
       "\t<tr><td>6.9</td><td>3.1</td><td>5.4</td><td>2.1</td><td>virginica</td></tr>\n",
       "\t<tr><td>6.7</td><td>3.1</td><td>5.6</td><td>2.4</td><td>virginica</td></tr>\n",
       "\t<tr><td>6.9</td><td>3.1</td><td>5.1</td><td>2.3</td><td>virginica</td></tr>\n",
       "\t<tr><td>5.8</td><td>2.7</td><td>5.1</td><td>1.9</td><td>virginica</td></tr>\n",
       "\t<tr><td>6.8</td><td>3.2</td><td>5.9</td><td>2.3</td><td>virginica</td></tr>\n",
       "\t<tr><td>6.7</td><td>3.3</td><td>5.7</td><td>2.5</td><td>virginica</td></tr>\n",
       "\t<tr><td>6.7</td><td>3.0</td><td>5.2</td><td>2.3</td><td>virginica</td></tr>\n",
       "\t<tr><td>6.3</td><td>2.5</td><td>5.0</td><td>1.9</td><td>virginica</td></tr>\n",
       "\t<tr><td>6.5</td><td>3.0</td><td>5.2</td><td>2.0</td><td>virginica</td></tr>\n",
       "\t<tr><td>6.2</td><td>3.4</td><td>5.4</td><td>2.3</td><td>virginica</td></tr>\n",
       "\t<tr><td>5.9</td><td>3.0</td><td>5.1</td><td>1.8</td><td>virginica</td></tr>\n",
       "</tbody>\n",
       "</table>\n"
      ],
      "text/latex": [
       "A data.frame: 150 × 5\n",
       "\\begin{tabular}{lllll}\n",
       " Sepal.Length & Sepal.Width & Petal.Length & Petal.Width & Species\\\\\n",
       " <dbl> & <dbl> & <dbl> & <dbl> & <fct>\\\\\n",
       "\\hline\n",
       "\t 5.1 & 3.5 & 1.4 & 0.2 & setosa\\\\\n",
       "\t 4.9 & 3.0 & 1.4 & 0.2 & setosa\\\\\n",
       "\t 4.7 & 3.2 & 1.3 & 0.2 & setosa\\\\\n",
       "\t 4.6 & 3.1 & 1.5 & 0.2 & setosa\\\\\n",
       "\t 5.0 & 3.6 & 1.4 & 0.2 & setosa\\\\\n",
       "\t 5.4 & 3.9 & 1.7 & 0.4 & setosa\\\\\n",
       "\t 4.6 & 3.4 & 1.4 & 0.3 & setosa\\\\\n",
       "\t 5.0 & 3.4 & 1.5 & 0.2 & setosa\\\\\n",
       "\t 4.4 & 2.9 & 1.4 & 0.2 & setosa\\\\\n",
       "\t 4.9 & 3.1 & 1.5 & 0.1 & setosa\\\\\n",
       "\t 5.4 & 3.7 & 1.5 & 0.2 & setosa\\\\\n",
       "\t 4.8 & 3.4 & 1.6 & 0.2 & setosa\\\\\n",
       "\t 4.8 & 3.0 & 1.4 & 0.1 & setosa\\\\\n",
       "\t 4.3 & 3.0 & 1.1 & 0.1 & setosa\\\\\n",
       "\t 5.8 & 4.0 & 1.2 & 0.2 & setosa\\\\\n",
       "\t 5.7 & 4.4 & 1.5 & 0.4 & setosa\\\\\n",
       "\t 5.4 & 3.9 & 1.3 & 0.4 & setosa\\\\\n",
       "\t 5.1 & 3.5 & 1.4 & 0.3 & setosa\\\\\n",
       "\t 5.7 & 3.8 & 1.7 & 0.3 & setosa\\\\\n",
       "\t 5.1 & 3.8 & 1.5 & 0.3 & setosa\\\\\n",
       "\t 5.4 & 3.4 & 1.7 & 0.2 & setosa\\\\\n",
       "\t 5.1 & 3.7 & 1.5 & 0.4 & setosa\\\\\n",
       "\t 4.6 & 3.6 & 1.0 & 0.2 & setosa\\\\\n",
       "\t 5.1 & 3.3 & 1.7 & 0.5 & setosa\\\\\n",
       "\t 4.8 & 3.4 & 1.9 & 0.2 & setosa\\\\\n",
       "\t 5.0 & 3.0 & 1.6 & 0.2 & setosa\\\\\n",
       "\t 5.0 & 3.4 & 1.6 & 0.4 & setosa\\\\\n",
       "\t 5.2 & 3.5 & 1.5 & 0.2 & setosa\\\\\n",
       "\t 5.2 & 3.4 & 1.4 & 0.2 & setosa\\\\\n",
       "\t 4.7 & 3.2 & 1.6 & 0.2 & setosa\\\\\n",
       "\t ... & ... & ... & ... & ...\\\\\n",
       "\t 6.9 & 3.2 & 5.7 & 2.3 & virginica\\\\\n",
       "\t 5.6 & 2.8 & 4.9 & 2.0 & virginica\\\\\n",
       "\t 7.7 & 2.8 & 6.7 & 2.0 & virginica\\\\\n",
       "\t 6.3 & 2.7 & 4.9 & 1.8 & virginica\\\\\n",
       "\t 6.7 & 3.3 & 5.7 & 2.1 & virginica\\\\\n",
       "\t 7.2 & 3.2 & 6.0 & 1.8 & virginica\\\\\n",
       "\t 6.2 & 2.8 & 4.8 & 1.8 & virginica\\\\\n",
       "\t 6.1 & 3.0 & 4.9 & 1.8 & virginica\\\\\n",
       "\t 6.4 & 2.8 & 5.6 & 2.1 & virginica\\\\\n",
       "\t 7.2 & 3.0 & 5.8 & 1.6 & virginica\\\\\n",
       "\t 7.4 & 2.8 & 6.1 & 1.9 & virginica\\\\\n",
       "\t 7.9 & 3.8 & 6.4 & 2.0 & virginica\\\\\n",
       "\t 6.4 & 2.8 & 5.6 & 2.2 & virginica\\\\\n",
       "\t 6.3 & 2.8 & 5.1 & 1.5 & virginica\\\\\n",
       "\t 6.1 & 2.6 & 5.6 & 1.4 & virginica\\\\\n",
       "\t 7.7 & 3.0 & 6.1 & 2.3 & virginica\\\\\n",
       "\t 6.3 & 3.4 & 5.6 & 2.4 & virginica\\\\\n",
       "\t 6.4 & 3.1 & 5.5 & 1.8 & virginica\\\\\n",
       "\t 6.0 & 3.0 & 4.8 & 1.8 & virginica\\\\\n",
       "\t 6.9 & 3.1 & 5.4 & 2.1 & virginica\\\\\n",
       "\t 6.7 & 3.1 & 5.6 & 2.4 & virginica\\\\\n",
       "\t 6.9 & 3.1 & 5.1 & 2.3 & virginica\\\\\n",
       "\t 5.8 & 2.7 & 5.1 & 1.9 & virginica\\\\\n",
       "\t 6.8 & 3.2 & 5.9 & 2.3 & virginica\\\\\n",
       "\t 6.7 & 3.3 & 5.7 & 2.5 & virginica\\\\\n",
       "\t 6.7 & 3.0 & 5.2 & 2.3 & virginica\\\\\n",
       "\t 6.3 & 2.5 & 5.0 & 1.9 & virginica\\\\\n",
       "\t 6.5 & 3.0 & 5.2 & 2.0 & virginica\\\\\n",
       "\t 6.2 & 3.4 & 5.4 & 2.3 & virginica\\\\\n",
       "\t 5.9 & 3.0 & 5.1 & 1.8 & virginica\\\\\n",
       "\\end{tabular}\n"
      ],
      "text/markdown": [
       "\n",
       "A data.frame: 150 × 5\n",
       "\n",
       "| Sepal.Length &lt;dbl&gt; | Sepal.Width &lt;dbl&gt; | Petal.Length &lt;dbl&gt; | Petal.Width &lt;dbl&gt; | Species &lt;fct&gt; |\n",
       "|---|---|---|---|---|\n",
       "| 5.1 | 3.5 | 1.4 | 0.2 | setosa |\n",
       "| 4.9 | 3.0 | 1.4 | 0.2 | setosa |\n",
       "| 4.7 | 3.2 | 1.3 | 0.2 | setosa |\n",
       "| 4.6 | 3.1 | 1.5 | 0.2 | setosa |\n",
       "| 5.0 | 3.6 | 1.4 | 0.2 | setosa |\n",
       "| 5.4 | 3.9 | 1.7 | 0.4 | setosa |\n",
       "| 4.6 | 3.4 | 1.4 | 0.3 | setosa |\n",
       "| 5.0 | 3.4 | 1.5 | 0.2 | setosa |\n",
       "| 4.4 | 2.9 | 1.4 | 0.2 | setosa |\n",
       "| 4.9 | 3.1 | 1.5 | 0.1 | setosa |\n",
       "| 5.4 | 3.7 | 1.5 | 0.2 | setosa |\n",
       "| 4.8 | 3.4 | 1.6 | 0.2 | setosa |\n",
       "| 4.8 | 3.0 | 1.4 | 0.1 | setosa |\n",
       "| 4.3 | 3.0 | 1.1 | 0.1 | setosa |\n",
       "| 5.8 | 4.0 | 1.2 | 0.2 | setosa |\n",
       "| 5.7 | 4.4 | 1.5 | 0.4 | setosa |\n",
       "| 5.4 | 3.9 | 1.3 | 0.4 | setosa |\n",
       "| 5.1 | 3.5 | 1.4 | 0.3 | setosa |\n",
       "| 5.7 | 3.8 | 1.7 | 0.3 | setosa |\n",
       "| 5.1 | 3.8 | 1.5 | 0.3 | setosa |\n",
       "| 5.4 | 3.4 | 1.7 | 0.2 | setosa |\n",
       "| 5.1 | 3.7 | 1.5 | 0.4 | setosa |\n",
       "| 4.6 | 3.6 | 1.0 | 0.2 | setosa |\n",
       "| 5.1 | 3.3 | 1.7 | 0.5 | setosa |\n",
       "| 4.8 | 3.4 | 1.9 | 0.2 | setosa |\n",
       "| 5.0 | 3.0 | 1.6 | 0.2 | setosa |\n",
       "| 5.0 | 3.4 | 1.6 | 0.4 | setosa |\n",
       "| 5.2 | 3.5 | 1.5 | 0.2 | setosa |\n",
       "| 5.2 | 3.4 | 1.4 | 0.2 | setosa |\n",
       "| 4.7 | 3.2 | 1.6 | 0.2 | setosa |\n",
       "| ... | ... | ... | ... | ... |\n",
       "| 6.9 | 3.2 | 5.7 | 2.3 | virginica |\n",
       "| 5.6 | 2.8 | 4.9 | 2.0 | virginica |\n",
       "| 7.7 | 2.8 | 6.7 | 2.0 | virginica |\n",
       "| 6.3 | 2.7 | 4.9 | 1.8 | virginica |\n",
       "| 6.7 | 3.3 | 5.7 | 2.1 | virginica |\n",
       "| 7.2 | 3.2 | 6.0 | 1.8 | virginica |\n",
       "| 6.2 | 2.8 | 4.8 | 1.8 | virginica |\n",
       "| 6.1 | 3.0 | 4.9 | 1.8 | virginica |\n",
       "| 6.4 | 2.8 | 5.6 | 2.1 | virginica |\n",
       "| 7.2 | 3.0 | 5.8 | 1.6 | virginica |\n",
       "| 7.4 | 2.8 | 6.1 | 1.9 | virginica |\n",
       "| 7.9 | 3.8 | 6.4 | 2.0 | virginica |\n",
       "| 6.4 | 2.8 | 5.6 | 2.2 | virginica |\n",
       "| 6.3 | 2.8 | 5.1 | 1.5 | virginica |\n",
       "| 6.1 | 2.6 | 5.6 | 1.4 | virginica |\n",
       "| 7.7 | 3.0 | 6.1 | 2.3 | virginica |\n",
       "| 6.3 | 3.4 | 5.6 | 2.4 | virginica |\n",
       "| 6.4 | 3.1 | 5.5 | 1.8 | virginica |\n",
       "| 6.0 | 3.0 | 4.8 | 1.8 | virginica |\n",
       "| 6.9 | 3.1 | 5.4 | 2.1 | virginica |\n",
       "| 6.7 | 3.1 | 5.6 | 2.4 | virginica |\n",
       "| 6.9 | 3.1 | 5.1 | 2.3 | virginica |\n",
       "| 5.8 | 2.7 | 5.1 | 1.9 | virginica |\n",
       "| 6.8 | 3.2 | 5.9 | 2.3 | virginica |\n",
       "| 6.7 | 3.3 | 5.7 | 2.5 | virginica |\n",
       "| 6.7 | 3.0 | 5.2 | 2.3 | virginica |\n",
       "| 6.3 | 2.5 | 5.0 | 1.9 | virginica |\n",
       "| 6.5 | 3.0 | 5.2 | 2.0 | virginica |\n",
       "| 6.2 | 3.4 | 5.4 | 2.3 | virginica |\n",
       "| 5.9 | 3.0 | 5.1 | 1.8 | virginica |\n",
       "\n"
      ],
      "text/plain": [
       "    Sepal.Length Sepal.Width Petal.Length Petal.Width Species  \n",
       "1   5.1          3.5         1.4          0.2         setosa   \n",
       "2   4.9          3.0         1.4          0.2         setosa   \n",
       "3   4.7          3.2         1.3          0.2         setosa   \n",
       "4   4.6          3.1         1.5          0.2         setosa   \n",
       "5   5.0          3.6         1.4          0.2         setosa   \n",
       "6   5.4          3.9         1.7          0.4         setosa   \n",
       "7   4.6          3.4         1.4          0.3         setosa   \n",
       "8   5.0          3.4         1.5          0.2         setosa   \n",
       "9   4.4          2.9         1.4          0.2         setosa   \n",
       "10  4.9          3.1         1.5          0.1         setosa   \n",
       "11  5.4          3.7         1.5          0.2         setosa   \n",
       "12  4.8          3.4         1.6          0.2         setosa   \n",
       "13  4.8          3.0         1.4          0.1         setosa   \n",
       "14  4.3          3.0         1.1          0.1         setosa   \n",
       "15  5.8          4.0         1.2          0.2         setosa   \n",
       "16  5.7          4.4         1.5          0.4         setosa   \n",
       "17  5.4          3.9         1.3          0.4         setosa   \n",
       "18  5.1          3.5         1.4          0.3         setosa   \n",
       "19  5.7          3.8         1.7          0.3         setosa   \n",
       "20  5.1          3.8         1.5          0.3         setosa   \n",
       "21  5.4          3.4         1.7          0.2         setosa   \n",
       "22  5.1          3.7         1.5          0.4         setosa   \n",
       "23  4.6          3.6         1.0          0.2         setosa   \n",
       "24  5.1          3.3         1.7          0.5         setosa   \n",
       "25  4.8          3.4         1.9          0.2         setosa   \n",
       "26  5.0          3.0         1.6          0.2         setosa   \n",
       "27  5.0          3.4         1.6          0.4         setosa   \n",
       "28  5.2          3.5         1.5          0.2         setosa   \n",
       "29  5.2          3.4         1.4          0.2         setosa   \n",
       "30  4.7          3.2         1.6          0.2         setosa   \n",
       "... ...          ...         ...          ...         ...      \n",
       "121 6.9          3.2         5.7          2.3         virginica\n",
       "122 5.6          2.8         4.9          2.0         virginica\n",
       "123 7.7          2.8         6.7          2.0         virginica\n",
       "124 6.3          2.7         4.9          1.8         virginica\n",
       "125 6.7          3.3         5.7          2.1         virginica\n",
       "126 7.2          3.2         6.0          1.8         virginica\n",
       "127 6.2          2.8         4.8          1.8         virginica\n",
       "128 6.1          3.0         4.9          1.8         virginica\n",
       "129 6.4          2.8         5.6          2.1         virginica\n",
       "130 7.2          3.0         5.8          1.6         virginica\n",
       "131 7.4          2.8         6.1          1.9         virginica\n",
       "132 7.9          3.8         6.4          2.0         virginica\n",
       "133 6.4          2.8         5.6          2.2         virginica\n",
       "134 6.3          2.8         5.1          1.5         virginica\n",
       "135 6.1          2.6         5.6          1.4         virginica\n",
       "136 7.7          3.0         6.1          2.3         virginica\n",
       "137 6.3          3.4         5.6          2.4         virginica\n",
       "138 6.4          3.1         5.5          1.8         virginica\n",
       "139 6.0          3.0         4.8          1.8         virginica\n",
       "140 6.9          3.1         5.4          2.1         virginica\n",
       "141 6.7          3.1         5.6          2.4         virginica\n",
       "142 6.9          3.1         5.1          2.3         virginica\n",
       "143 5.8          2.7         5.1          1.9         virginica\n",
       "144 6.8          3.2         5.9          2.3         virginica\n",
       "145 6.7          3.3         5.7          2.5         virginica\n",
       "146 6.7          3.0         5.2          2.3         virginica\n",
       "147 6.3          2.5         5.0          1.9         virginica\n",
       "148 6.5          3.0         5.2          2.0         virginica\n",
       "149 6.2          3.4         5.4          2.3         virginica\n",
       "150 5.9          3.0         5.1          1.8         virginica"
      ]
     },
     "metadata": {},
     "output_type": "display_data"
    }
   ],
   "source": [
    "iris"
   ]
  },
  {
   "cell_type": "code",
   "execution_count": 5,
   "metadata": {},
   "outputs": [
    {
     "data": {
      "text/plain": [
       "  Sepal.Length    Sepal.Width     Petal.Length    Petal.Width   \n",
       " Min.   :4.300   Min.   :2.000   Min.   :1.000   Min.   :0.100  \n",
       " 1st Qu.:5.100   1st Qu.:2.800   1st Qu.:1.600   1st Qu.:0.300  \n",
       " Median :5.800   Median :3.000   Median :4.350   Median :1.300  \n",
       " Mean   :5.843   Mean   :3.057   Mean   :3.758   Mean   :1.199  \n",
       " 3rd Qu.:6.400   3rd Qu.:3.300   3rd Qu.:5.100   3rd Qu.:1.800  \n",
       " Max.   :7.900   Max.   :4.400   Max.   :6.900   Max.   :2.500  \n",
       "       Species  \n",
       " setosa    :50  \n",
       " versicolor:50  \n",
       " virginica :50  \n",
       "                \n",
       "                \n",
       "                "
      ]
     },
     "metadata": {},
     "output_type": "display_data"
    }
   ],
   "source": [
    "summary(iris)"
   ]
  },
  {
   "cell_type": "code",
   "execution_count": 6,
   "metadata": {},
   "outputs": [],
   "source": [
    "library('class')"
   ]
  },
  {
   "cell_type": "code",
   "execution_count": 7,
   "metadata": {},
   "outputs": [
    {
     "data": {
      "text/html": [
       "\n",
       "<table width=\"100%\" summary=\"page for knn {class}\"><tr><td>knn {class}</td><td style=\"text-align: right;\">R Documentation</td></tr></table>\n",
       "\n",
       "<h2>\n",
       "k-Nearest Neighbour Classification\n",
       "</h2>\n",
       "\n",
       "<h3>Description</h3>\n",
       "\n",
       "<p>k-nearest neighbour classification for test set from training set. For\n",
       "each row of the test set, the <code>k</code> nearest (in Euclidean distance)\n",
       "training set vectors are found, and the classification is decided by\n",
       "majority vote, with ties broken at random. If there are ties for the\n",
       "<code>k</code>th nearest vector, all candidates are included in the vote.\n",
       "</p>\n",
       "\n",
       "\n",
       "<h3>Usage</h3>\n",
       "\n",
       "<pre>\n",
       "knn(train, test, cl, k = 1, l = 0, prob = FALSE, use.all = TRUE)\n",
       "</pre>\n",
       "\n",
       "\n",
       "<h3>Arguments</h3>\n",
       "\n",
       "<table summary=\"R argblock\">\n",
       "<tr valign=\"top\"><td><code>train</code></td>\n",
       "<td>\n",
       "\n",
       "<p>matrix or data frame of training set cases.\n",
       "</p>\n",
       "</td></tr>\n",
       "<tr valign=\"top\"><td><code>test</code></td>\n",
       "<td>\n",
       "\n",
       "<p>matrix or data frame of test set cases. A vector will be interpreted\n",
       "as a row vector for a single case.\n",
       "</p>\n",
       "</td></tr>\n",
       "<tr valign=\"top\"><td><code>cl</code></td>\n",
       "<td>\n",
       "\n",
       "<p>factor of true classifications of training set\n",
       "</p>\n",
       "</td></tr>\n",
       "<tr valign=\"top\"><td><code>k</code></td>\n",
       "<td>\n",
       "\n",
       "<p>number of neighbours considered.\n",
       "</p>\n",
       "</td></tr>\n",
       "<tr valign=\"top\"><td><code>l</code></td>\n",
       "<td>\n",
       "\n",
       "<p>minimum vote for definite decision, otherwise <code>doubt</code>. (More\n",
       "precisely, less than <code>k-l</code> dissenting votes are allowed, even if <code>k</code>\n",
       "is increased by ties.)\n",
       "</p>\n",
       "</td></tr>\n",
       "<tr valign=\"top\"><td><code>prob</code></td>\n",
       "<td>\n",
       "\n",
       "<p>If this is true, the proportion of the votes for the winning class\n",
       "are returned as attribute <code>prob</code>.\n",
       "</p>\n",
       "</td></tr>\n",
       "<tr valign=\"top\"><td><code>use.all</code></td>\n",
       "<td>\n",
       "\n",
       "<p>controls handling of ties. If true, all distances equal to the <code>k</code>th\n",
       "largest are included. If false, a random selection of distances\n",
       "equal to the <code>k</code>th is chosen to use exactly <code>k</code> neighbours.\n",
       "</p>\n",
       "</td></tr></table>\n",
       "\n",
       "\n",
       "<h3>Value</h3>\n",
       "\n",
       "<p>Factor of classifications of test set. <code>doubt</code> will be returned as <code>NA</code>.\n",
       "</p>\n",
       "\n",
       "\n",
       "<h3>References</h3>\n",
       "\n",
       "<p>Ripley, B. D. (1996)\n",
       "<em>Pattern Recognition and Neural Networks.</em> Cambridge.\n",
       "</p>\n",
       "<p>Venables, W. N. and Ripley, B. D. (2002)\n",
       "<em>Modern Applied Statistics with S.</em> Fourth edition.  Springer.\n",
       "</p>\n",
       "\n",
       "\n",
       "<h3>See Also</h3>\n",
       "\n",
       "<p><code>knn1</code>, <code>knn.cv</code>\n",
       "</p>\n",
       "\n",
       "\n",
       "<h3>Examples</h3>\n",
       "\n",
       "<pre>\n",
       "train &lt;- rbind(iris3[1:25,,1], iris3[1:25,,2], iris3[1:25,,3])\n",
       "test &lt;- rbind(iris3[26:50,,1], iris3[26:50,,2], iris3[26:50,,3])\n",
       "cl &lt;- factor(c(rep(\"s\",25), rep(\"c\",25), rep(\"v\",25)))\n",
       "knn(train, test, cl, k = 3, prob=TRUE)\n",
       "attributes(.Last.value)\n",
       "</pre>\n",
       "\n",
       "<hr /><div style=\"text-align: center;\">[Package <em>class</em> version 7.3-17 ]</div>"
      ],
      "text/latex": [
       "\\inputencoding{utf8}\n",
       "\\HeaderA{knn}{k-Nearest Neighbour Classification}{knn}\n",
       "\\keyword{classif}{knn}\n",
       "%\n",
       "\\begin{Description}\\relax\n",
       "k-nearest neighbour classification for test set from training set. For\n",
       "each row of the test set, the \\code{k} nearest (in Euclidean distance)\n",
       "training set vectors are found, and the classification is decided by\n",
       "majority vote, with ties broken at random. If there are ties for the\n",
       "\\code{k}th nearest vector, all candidates are included in the vote.\n",
       "\\end{Description}\n",
       "%\n",
       "\\begin{Usage}\n",
       "\\begin{verbatim}\n",
       "knn(train, test, cl, k = 1, l = 0, prob = FALSE, use.all = TRUE)\n",
       "\\end{verbatim}\n",
       "\\end{Usage}\n",
       "%\n",
       "\\begin{Arguments}\n",
       "\\begin{ldescription}\n",
       "\\item[\\code{train}] \n",
       "matrix or data frame of training set cases.\n",
       "\n",
       "\\item[\\code{test}] \n",
       "matrix or data frame of test set cases. A vector will be interpreted\n",
       "as a row vector for a single case.\n",
       "\n",
       "\\item[\\code{cl}] \n",
       "factor of true classifications of training set\n",
       "\n",
       "\\item[\\code{k}] \n",
       "number of neighbours considered.\n",
       "\n",
       "\\item[\\code{l}] \n",
       "minimum vote for definite decision, otherwise \\code{doubt}. (More\n",
       "precisely, less than \\code{k-l} dissenting votes are allowed, even if \\code{k}\n",
       "is increased by ties.)\n",
       "\n",
       "\\item[\\code{prob}] \n",
       "If this is true, the proportion of the votes for the winning class\n",
       "are returned as attribute \\code{prob}.\n",
       "\n",
       "\\item[\\code{use.all}] \n",
       "controls handling of ties. If true, all distances equal to the \\code{k}th\n",
       "largest are included. If false, a random selection of distances\n",
       "equal to the \\code{k}th is chosen to use exactly \\code{k} neighbours.\n",
       "\\end{ldescription}\n",
       "\\end{Arguments}\n",
       "%\n",
       "\\begin{Value}\n",
       "Factor of classifications of test set. \\code{doubt} will be returned as \\code{NA}.\n",
       "\\end{Value}\n",
       "%\n",
       "\\begin{References}\\relax\n",
       "Ripley, B. D. (1996)\n",
       "\\emph{Pattern Recognition and Neural Networks.} Cambridge.\n",
       "\n",
       "Venables, W. N. and Ripley, B. D. (2002)\n",
       "\\emph{Modern Applied Statistics with S.} Fourth edition.  Springer.\n",
       "\\end{References}\n",
       "%\n",
       "\\begin{SeeAlso}\\relax\n",
       "\\code{\\LinkA{knn1}{knn1}}, \\code{\\LinkA{knn.cv}{knn.cv}}\n",
       "\\end{SeeAlso}\n",
       "%\n",
       "\\begin{Examples}\n",
       "\\begin{ExampleCode}\n",
       "train <- rbind(iris3[1:25,,1], iris3[1:25,,2], iris3[1:25,,3])\n",
       "test <- rbind(iris3[26:50,,1], iris3[26:50,,2], iris3[26:50,,3])\n",
       "cl <- factor(c(rep(\"s\",25), rep(\"c\",25), rep(\"v\",25)))\n",
       "knn(train, test, cl, k = 3, prob=TRUE)\n",
       "attributes(.Last.value)\n",
       "\\end{ExampleCode}\n",
       "\\end{Examples}"
      ],
      "text/plain": [
       "knn                   package:class                    R Documentation\n",
       "\n",
       "_\bk-_\bN_\be_\ba_\br_\be_\bs_\bt _\bN_\be_\bi_\bg_\bh_\bb_\bo_\bu_\br _\bC_\bl_\ba_\bs_\bs_\bi_\bf_\bi_\bc_\ba_\bt_\bi_\bo_\bn\n",
       "\n",
       "_\bD_\be_\bs_\bc_\br_\bi_\bp_\bt_\bi_\bo_\bn:\n",
       "\n",
       "     k-nearest neighbour classification for test set from training set.\n",
       "     For each row of the test set, the 'k' nearest (in Euclidean\n",
       "     distance) training set vectors are found, and the classification\n",
       "     is decided by majority vote, with ties broken at random. If there\n",
       "     are ties for the 'k'th nearest vector, all candidates are included\n",
       "     in the vote.\n",
       "\n",
       "_\bU_\bs_\ba_\bg_\be:\n",
       "\n",
       "     knn(train, test, cl, k = 1, l = 0, prob = FALSE, use.all = TRUE)\n",
       "     \n",
       "_\bA_\br_\bg_\bu_\bm_\be_\bn_\bt_\bs:\n",
       "\n",
       "   train: matrix or data frame of training set cases.\n",
       "\n",
       "    test: matrix or data frame of test set cases. A vector will be\n",
       "          interpreted as a row vector for a single case.\n",
       "\n",
       "      cl: factor of true classifications of training set\n",
       "\n",
       "       k: number of neighbours considered.\n",
       "\n",
       "       l: minimum vote for definite decision, otherwise 'doubt'. (More\n",
       "          precisely, less than 'k-l' dissenting votes are allowed, even\n",
       "          if 'k' is increased by ties.)\n",
       "\n",
       "    prob: If this is true, the proportion of the votes for the winning\n",
       "          class are returned as attribute 'prob'.\n",
       "\n",
       " use.all: controls handling of ties. If true, all distances equal to\n",
       "          the 'k'th largest are included. If false, a random selection\n",
       "          of distances equal to the 'k'th is chosen to use exactly 'k'\n",
       "          neighbours.\n",
       "\n",
       "_\bV_\ba_\bl_\bu_\be:\n",
       "\n",
       "     Factor of classifications of test set. 'doubt' will be returned as\n",
       "     'NA'.\n",
       "\n",
       "_\bR_\be_\bf_\be_\br_\be_\bn_\bc_\be_\bs:\n",
       "\n",
       "     Ripley, B. D. (1996) _Pattern Recognition and Neural Networks._\n",
       "     Cambridge.\n",
       "\n",
       "     Venables, W. N. and Ripley, B. D. (2002) _Modern Applied\n",
       "     Statistics with S._ Fourth edition.  Springer.\n",
       "\n",
       "_\bS_\be_\be _\bA_\bl_\bs_\bo:\n",
       "\n",
       "     'knn1', 'knn.cv'\n",
       "\n",
       "_\bE_\bx_\ba_\bm_\bp_\bl_\be_\bs:\n",
       "\n",
       "     train <- rbind(iris3[1:25,,1], iris3[1:25,,2], iris3[1:25,,3])\n",
       "     test <- rbind(iris3[26:50,,1], iris3[26:50,,2], iris3[26:50,,3])\n",
       "     cl <- factor(c(rep(\"s\",25), rep(\"c\",25), rep(\"v\",25)))\n",
       "     knn(train, test, cl, k = 3, prob=TRUE)\n",
       "     attributes(.Last.value)\n",
       "     "
      ]
     },
     "metadata": {},
     "output_type": "display_data"
    }
   ],
   "source": [
    "?knn"
   ]
  },
  {
   "cell_type": "code",
   "execution_count": 8,
   "metadata": {},
   "outputs": [
    {
     "data": {
      "text/html": [
       "<table class=\"dataframe\">\n",
       "<caption>A data.frame: 6 × 3</caption>\n",
       "<thead>\n",
       "\t<tr><th></th><th scope=col>Species</th><th scope=col>Sepal.Length</th><th scope=col>Sepal.Width</th></tr>\n",
       "\t<tr><th></th><th scope=col>&lt;fct&gt;</th><th scope=col>&lt;dbl&gt;</th><th scope=col>&lt;dbl&gt;</th></tr>\n",
       "</thead>\n",
       "<tbody>\n",
       "\t<tr><th scope=row>1</th><td>setosa</td><td>5.1</td><td>3.5</td></tr>\n",
       "\t<tr><th scope=row>2</th><td>setosa</td><td>4.9</td><td>3.0</td></tr>\n",
       "\t<tr><th scope=row>3</th><td>setosa</td><td>4.7</td><td>3.2</td></tr>\n",
       "\t<tr><th scope=row>4</th><td>setosa</td><td>4.6</td><td>3.1</td></tr>\n",
       "\t<tr><th scope=row>5</th><td>setosa</td><td>5.0</td><td>3.6</td></tr>\n",
       "\t<tr><th scope=row>6</th><td>setosa</td><td>5.4</td><td>3.9</td></tr>\n",
       "</tbody>\n",
       "</table>\n"
      ],
      "text/latex": [
       "A data.frame: 6 × 3\n",
       "\\begin{tabular}{r|lll}\n",
       "  & Species & Sepal.Length & Sepal.Width\\\\\n",
       "  & <fct> & <dbl> & <dbl>\\\\\n",
       "\\hline\n",
       "\t1 & setosa & 5.1 & 3.5\\\\\n",
       "\t2 & setosa & 4.9 & 3.0\\\\\n",
       "\t3 & setosa & 4.7 & 3.2\\\\\n",
       "\t4 & setosa & 4.6 & 3.1\\\\\n",
       "\t5 & setosa & 5.0 & 3.6\\\\\n",
       "\t6 & setosa & 5.4 & 3.9\\\\\n",
       "\\end{tabular}\n"
      ],
      "text/markdown": [
       "\n",
       "A data.frame: 6 × 3\n",
       "\n",
       "| <!--/--> | Species &lt;fct&gt; | Sepal.Length &lt;dbl&gt; | Sepal.Width &lt;dbl&gt; |\n",
       "|---|---|---|---|\n",
       "| 1 | setosa | 5.1 | 3.5 |\n",
       "| 2 | setosa | 4.9 | 3.0 |\n",
       "| 3 | setosa | 4.7 | 3.2 |\n",
       "| 4 | setosa | 4.6 | 3.1 |\n",
       "| 5 | setosa | 5.0 | 3.6 |\n",
       "| 6 | setosa | 5.4 | 3.9 |\n",
       "\n"
      ],
      "text/plain": [
       "  Species Sepal.Length Sepal.Width\n",
       "1 setosa  5.1          3.5        \n",
       "2 setosa  4.9          3.0        \n",
       "3 setosa  4.7          3.2        \n",
       "4 setosa  4.6          3.1        \n",
       "5 setosa  5.0          3.6        \n",
       "6 setosa  5.4          3.9        "
      ]
     },
     "metadata": {},
     "output_type": "display_data"
    }
   ],
   "source": [
    "dset = iris[,c('Species','Sepal.Length','Sepal.Width')]\n",
    "head(dset)"
   ]
  },
  {
   "cell_type": "code",
   "execution_count": 9,
   "metadata": {},
   "outputs": [
    {
     "data": {
      "text/html": [
       "<style>\n",
       ".list-inline {list-style: none; margin:0; padding: 0}\n",
       ".list-inline>li {display: inline-block}\n",
       ".list-inline>li:not(:last-child)::after {content: \"\\00b7\"; padding: 0 .5ex}\n",
       "</style>\n",
       "<ol class=list-inline><li>7</li><li>147</li><li>100</li><li>75</li><li>142</li><li>111</li><li>145</li><li>105</li><li>86</li><li>43</li><li>76</li><li>10</li><li>40</li><li>146</li><li>58</li><li>5</li><li>144</li><li>69</li><li>24</li><li>50</li><li>31</li><li>140</li><li>35</li><li>6</li><li>123</li><li>110</li><li>138</li><li>1</li><li>19</li><li>42</li><li>36</li><li>91</li><li>61</li><li>79</li><li>38</li><li>47</li><li>54</li><li>18</li><li>125</li><li>62</li><li>60</li><li>16</li><li>9</li><li>93</li><li>73</li><li>127</li><li>63</li><li>116</li><li>20</li><li>83</li><li>96</li><li>87</li><li>80</li><li>118</li><li>55</li><li>29</li><li>120</li><li>49</li><li>121</li><li>126</li><li>102</li><li>33</li><li>26</li><li>149</li><li>12</li><li>57</li><li>56</li><li>17</li><li>71</li><li>122</li><li>15</li><li>128</li><li>39</li><li>77</li><li>130</li><li>101</li><li>131</li><li>72</li><li>114</li><li>82</li><li>106</li><li>25</li><li>107</li><li>137</li><li>45</li><li>70</li><li>34</li><li>143</li><li>98</li><li>133</li><li>8</li><li>150</li><li>109</li><li>81</li><li>22</li><li>129</li><li>95</li><li>52</li><li>23</li><li>108</li><li>30</li><li>48</li><li>21</li><li>94</li><li>92</li><li>64</li><li>53</li><li>104</li><li>124</li><li>113</li><li>148</li><li>89</li><li>32</li><li>14</li><li>136</li><li>28</li><li>66</li><li>134</li><li>139</li><li>65</li><li>97</li><li>88</li><li>27</li><li>84</li><li>67</li><li>99</li><li>117</li><li>103</li><li>2</li><li>68</li><li>59</li><li>4</li><li>46</li><li>74</li><li>13</li><li>141</li><li>112</li><li>115</li><li>41</li><li>44</li><li>37</li><li>132</li><li>135</li><li>119</li><li>85</li><li>51</li><li>3</li><li>78</li><li>11</li><li>90</li></ol>\n"
      ],
      "text/latex": [
       "\\begin{enumerate*}\n",
       "\\item 7\n",
       "\\item 147\n",
       "\\item 100\n",
       "\\item 75\n",
       "\\item 142\n",
       "\\item 111\n",
       "\\item 145\n",
       "\\item 105\n",
       "\\item 86\n",
       "\\item 43\n",
       "\\item 76\n",
       "\\item 10\n",
       "\\item 40\n",
       "\\item 146\n",
       "\\item 58\n",
       "\\item 5\n",
       "\\item 144\n",
       "\\item 69\n",
       "\\item 24\n",
       "\\item 50\n",
       "\\item 31\n",
       "\\item 140\n",
       "\\item 35\n",
       "\\item 6\n",
       "\\item 123\n",
       "\\item 110\n",
       "\\item 138\n",
       "\\item 1\n",
       "\\item 19\n",
       "\\item 42\n",
       "\\item 36\n",
       "\\item 91\n",
       "\\item 61\n",
       "\\item 79\n",
       "\\item 38\n",
       "\\item 47\n",
       "\\item 54\n",
       "\\item 18\n",
       "\\item 125\n",
       "\\item 62\n",
       "\\item 60\n",
       "\\item 16\n",
       "\\item 9\n",
       "\\item 93\n",
       "\\item 73\n",
       "\\item 127\n",
       "\\item 63\n",
       "\\item 116\n",
       "\\item 20\n",
       "\\item 83\n",
       "\\item 96\n",
       "\\item 87\n",
       "\\item 80\n",
       "\\item 118\n",
       "\\item 55\n",
       "\\item 29\n",
       "\\item 120\n",
       "\\item 49\n",
       "\\item 121\n",
       "\\item 126\n",
       "\\item 102\n",
       "\\item 33\n",
       "\\item 26\n",
       "\\item 149\n",
       "\\item 12\n",
       "\\item 57\n",
       "\\item 56\n",
       "\\item 17\n",
       "\\item 71\n",
       "\\item 122\n",
       "\\item 15\n",
       "\\item 128\n",
       "\\item 39\n",
       "\\item 77\n",
       "\\item 130\n",
       "\\item 101\n",
       "\\item 131\n",
       "\\item 72\n",
       "\\item 114\n",
       "\\item 82\n",
       "\\item 106\n",
       "\\item 25\n",
       "\\item 107\n",
       "\\item 137\n",
       "\\item 45\n",
       "\\item 70\n",
       "\\item 34\n",
       "\\item 143\n",
       "\\item 98\n",
       "\\item 133\n",
       "\\item 8\n",
       "\\item 150\n",
       "\\item 109\n",
       "\\item 81\n",
       "\\item 22\n",
       "\\item 129\n",
       "\\item 95\n",
       "\\item 52\n",
       "\\item 23\n",
       "\\item 108\n",
       "\\item 30\n",
       "\\item 48\n",
       "\\item 21\n",
       "\\item 94\n",
       "\\item 92\n",
       "\\item 64\n",
       "\\item 53\n",
       "\\item 104\n",
       "\\item 124\n",
       "\\item 113\n",
       "\\item 148\n",
       "\\item 89\n",
       "\\item 32\n",
       "\\item 14\n",
       "\\item 136\n",
       "\\item 28\n",
       "\\item 66\n",
       "\\item 134\n",
       "\\item 139\n",
       "\\item 65\n",
       "\\item 97\n",
       "\\item 88\n",
       "\\item 27\n",
       "\\item 84\n",
       "\\item 67\n",
       "\\item 99\n",
       "\\item 117\n",
       "\\item 103\n",
       "\\item 2\n",
       "\\item 68\n",
       "\\item 59\n",
       "\\item 4\n",
       "\\item 46\n",
       "\\item 74\n",
       "\\item 13\n",
       "\\item 141\n",
       "\\item 112\n",
       "\\item 115\n",
       "\\item 41\n",
       "\\item 44\n",
       "\\item 37\n",
       "\\item 132\n",
       "\\item 135\n",
       "\\item 119\n",
       "\\item 85\n",
       "\\item 51\n",
       "\\item 3\n",
       "\\item 78\n",
       "\\item 11\n",
       "\\item 90\n",
       "\\end{enumerate*}\n"
      ],
      "text/markdown": [
       "1. 7\n",
       "2. 147\n",
       "3. 100\n",
       "4. 75\n",
       "5. 142\n",
       "6. 111\n",
       "7. 145\n",
       "8. 105\n",
       "9. 86\n",
       "10. 43\n",
       "11. 76\n",
       "12. 10\n",
       "13. 40\n",
       "14. 146\n",
       "15. 58\n",
       "16. 5\n",
       "17. 144\n",
       "18. 69\n",
       "19. 24\n",
       "20. 50\n",
       "21. 31\n",
       "22. 140\n",
       "23. 35\n",
       "24. 6\n",
       "25. 123\n",
       "26. 110\n",
       "27. 138\n",
       "28. 1\n",
       "29. 19\n",
       "30. 42\n",
       "31. 36\n",
       "32. 91\n",
       "33. 61\n",
       "34. 79\n",
       "35. 38\n",
       "36. 47\n",
       "37. 54\n",
       "38. 18\n",
       "39. 125\n",
       "40. 62\n",
       "41. 60\n",
       "42. 16\n",
       "43. 9\n",
       "44. 93\n",
       "45. 73\n",
       "46. 127\n",
       "47. 63\n",
       "48. 116\n",
       "49. 20\n",
       "50. 83\n",
       "51. 96\n",
       "52. 87\n",
       "53. 80\n",
       "54. 118\n",
       "55. 55\n",
       "56. 29\n",
       "57. 120\n",
       "58. 49\n",
       "59. 121\n",
       "60. 126\n",
       "61. 102\n",
       "62. 33\n",
       "63. 26\n",
       "64. 149\n",
       "65. 12\n",
       "66. 57\n",
       "67. 56\n",
       "68. 17\n",
       "69. 71\n",
       "70. 122\n",
       "71. 15\n",
       "72. 128\n",
       "73. 39\n",
       "74. 77\n",
       "75. 130\n",
       "76. 101\n",
       "77. 131\n",
       "78. 72\n",
       "79. 114\n",
       "80. 82\n",
       "81. 106\n",
       "82. 25\n",
       "83. 107\n",
       "84. 137\n",
       "85. 45\n",
       "86. 70\n",
       "87. 34\n",
       "88. 143\n",
       "89. 98\n",
       "90. 133\n",
       "91. 8\n",
       "92. 150\n",
       "93. 109\n",
       "94. 81\n",
       "95. 22\n",
       "96. 129\n",
       "97. 95\n",
       "98. 52\n",
       "99. 23\n",
       "100. 108\n",
       "101. 30\n",
       "102. 48\n",
       "103. 21\n",
       "104. 94\n",
       "105. 92\n",
       "106. 64\n",
       "107. 53\n",
       "108. 104\n",
       "109. 124\n",
       "110. 113\n",
       "111. 148\n",
       "112. 89\n",
       "113. 32\n",
       "114. 14\n",
       "115. 136\n",
       "116. 28\n",
       "117. 66\n",
       "118. 134\n",
       "119. 139\n",
       "120. 65\n",
       "121. 97\n",
       "122. 88\n",
       "123. 27\n",
       "124. 84\n",
       "125. 67\n",
       "126. 99\n",
       "127. 117\n",
       "128. 103\n",
       "129. 2\n",
       "130. 68\n",
       "131. 59\n",
       "132. 4\n",
       "133. 46\n",
       "134. 74\n",
       "135. 13\n",
       "136. 141\n",
       "137. 112\n",
       "138. 115\n",
       "139. 41\n",
       "140. 44\n",
       "141. 37\n",
       "142. 132\n",
       "143. 135\n",
       "144. 119\n",
       "145. 85\n",
       "146. 51\n",
       "147. 3\n",
       "148. 78\n",
       "149. 11\n",
       "150. 90\n",
       "\n",
       "\n"
      ],
      "text/plain": [
       "  [1]   7 147 100  75 142 111 145 105  86  43  76  10  40 146  58   5 144  69\n",
       " [19]  24  50  31 140  35   6 123 110 138   1  19  42  36  91  61  79  38  47\n",
       " [37]  54  18 125  62  60  16   9  93  73 127  63 116  20  83  96  87  80 118\n",
       " [55]  55  29 120  49 121 126 102  33  26 149  12  57  56  17  71 122  15 128\n",
       " [73]  39  77 130 101 131  72 114  82 106  25 107 137  45  70  34 143  98 133\n",
       " [91]   8 150 109  81  22 129  95  52  23 108  30  48  21  94  92  64  53 104\n",
       "[109] 124 113 148  89  32  14 136  28  66 134 139  65  97  88  27  84  67  99\n",
       "[127] 117 103   2  68  59   4  46  74  13 141 112 115  41  44  37 132 135 119\n",
       "[145]  85  51   3  78  11  90"
      ]
     },
     "metadata": {},
     "output_type": "display_data"
    }
   ],
   "source": [
    "set.seed(12093)\n",
    "randomized = sample(1:nrow(dset))\n",
    "randomized"
   ]
  },
  {
   "cell_type": "code",
   "execution_count": 10,
   "metadata": {},
   "outputs": [
    {
     "data": {
      "text/html": [
       "<style>\n",
       ".list-inline {list-style: none; margin:0; padding: 0}\n",
       ".list-inline>li {display: inline-block}\n",
       ".list-inline>li:not(:last-child)::after {content: \"\\00b7\"; padding: 0 .5ex}\n",
       "</style>\n",
       "<ol class=list-inline><li>7</li><li>147</li><li>100</li><li>75</li><li>142</li><li>111</li></ol>\n"
      ],
      "text/latex": [
       "\\begin{enumerate*}\n",
       "\\item 7\n",
       "\\item 147\n",
       "\\item 100\n",
       "\\item 75\n",
       "\\item 142\n",
       "\\item 111\n",
       "\\end{enumerate*}\n"
      ],
      "text/markdown": [
       "1. 7\n",
       "2. 147\n",
       "3. 100\n",
       "4. 75\n",
       "5. 142\n",
       "6. 111\n",
       "\n",
       "\n"
      ],
      "text/plain": [
       "[1]   7 147 100  75 142 111"
      ]
     },
     "metadata": {},
     "output_type": "display_data"
    },
    {
     "data": {
      "text/html": [
       "<style>\n",
       ".list-inline {list-style: none; margin:0; padding: 0}\n",
       ".list-inline>li {display: inline-block}\n",
       ".list-inline>li:not(:last-child)::after {content: \"\\00b7\"; padding: 0 .5ex}\n",
       "</style>\n",
       "<ol class=list-inline><li>2</li><li>3</li><li>4</li><li>8</li><li>11</li><li>12</li></ol>\n"
      ],
      "text/latex": [
       "\\begin{enumerate*}\n",
       "\\item 2\n",
       "\\item 3\n",
       "\\item 4\n",
       "\\item 8\n",
       "\\item 11\n",
       "\\item 12\n",
       "\\end{enumerate*}\n"
      ],
      "text/markdown": [
       "1. 2\n",
       "2. 3\n",
       "3. 4\n",
       "4. 8\n",
       "5. 11\n",
       "6. 12\n",
       "\n",
       "\n"
      ],
      "text/plain": [
       "[1]  2  3  4  8 11 12"
      ]
     },
     "metadata": {},
     "output_type": "display_data"
    }
   ],
   "source": [
    "train_ss = randomized[1:floor(nrow(dset)/3)]\n",
    "test_ss = setdiff(1:nrow(dset),train_ss)\n",
    "head(train_ss)\n",
    "head(test_ss)"
   ]
  },
  {
   "cell_type": "code",
   "execution_count": 11,
   "metadata": {},
   "outputs": [],
   "source": [
    "trainx = dset[train_ss,-1]\n",
    "trainy = dset[train_ss,1]\n",
    "testx = dset[test_ss,-1]\n",
    "testy = dset[test_ss,1]"
   ]
  },
  {
   "cell_type": "markdown",
   "metadata": {},
   "source": [
    "### let's build our knn model!"
   ]
  },
  {
   "cell_type": "code",
   "execution_count": 12,
   "metadata": {},
   "outputs": [
    {
     "data": {
      "text/html": [
       "<style>\n",
       ".list-inline {list-style: none; margin:0; padding: 0}\n",
       ".list-inline>li {display: inline-block}\n",
       ".list-inline>li:not(:last-child)::after {content: \"\\00b7\"; padding: 0 .5ex}\n",
       "</style>\n",
       "<ol class=list-inline><li>setosa</li><li>setosa</li><li>setosa</li><li>setosa</li><li>setosa</li><li>setosa</li></ol>\n",
       "\n",
       "<details>\n",
       "\t<summary style=display:list-item;cursor:pointer>\n",
       "\t\t<strong>Levels</strong>:\n",
       "\t</summary>\n",
       "\t<style>\n",
       "\t.list-inline {list-style: none; margin:0; padding: 0}\n",
       "\t.list-inline>li {display: inline-block}\n",
       "\t.list-inline>li:not(:last-child)::after {content: \"\\00b7\"; padding: 0 .5ex}\n",
       "\t</style>\n",
       "\t<ol class=list-inline><li>'setosa'</li><li>'versicolor'</li><li>'virginica'</li></ol>\n",
       "</details>"
      ],
      "text/latex": [
       "\\begin{enumerate*}\n",
       "\\item setosa\n",
       "\\item setosa\n",
       "\\item setosa\n",
       "\\item setosa\n",
       "\\item setosa\n",
       "\\item setosa\n",
       "\\end{enumerate*}\n",
       "\n",
       "\\emph{Levels}: \\begin{enumerate*}\n",
       "\\item 'setosa'\n",
       "\\item 'versicolor'\n",
       "\\item 'virginica'\n",
       "\\end{enumerate*}\n"
      ],
      "text/markdown": [
       "1. setosa\n",
       "2. setosa\n",
       "3. setosa\n",
       "4. setosa\n",
       "5. setosa\n",
       "6. setosa\n",
       "\n",
       "\n",
       "\n",
       "**Levels**: 1. 'setosa'\n",
       "2. 'versicolor'\n",
       "3. 'virginica'\n",
       "\n",
       "\n"
      ],
      "text/plain": [
       "[1] setosa setosa setosa setosa setosa setosa\n",
       "Levels: setosa versicolor virginica"
      ]
     },
     "metadata": {},
     "output_type": "display_data"
    }
   ],
   "source": [
    "pred_y = knn(train=trainx,testx,cl=trainy,k=5)\n",
    "head(pred_y)"
   ]
  },
  {
   "cell_type": "code",
   "execution_count": 13,
   "metadata": {},
   "outputs": [
    {
     "data": {
      "text/plain": [
       "pred_y\n",
       "    setosa versicolor  virginica \n",
       "        31         35         34 "
      ]
     },
     "metadata": {},
     "output_type": "display_data"
    }
   ],
   "source": [
    "table(pred_y)"
   ]
  },
  {
   "cell_type": "code",
   "execution_count": 14,
   "metadata": {},
   "outputs": [
    {
     "data": {
      "text/plain": [
       "testy\n",
       "    setosa versicolor  virginica \n",
       "        30         34         36 "
      ]
     },
     "metadata": {},
     "output_type": "display_data"
    }
   ],
   "source": [
    "table(testy)"
   ]
  },
  {
   "cell_type": "code",
   "execution_count": 15,
   "metadata": {},
   "outputs": [
    {
     "data": {
      "text/html": [
       "0.76"
      ],
      "text/latex": [
       "0.76"
      ],
      "text/markdown": [
       "0.76"
      ],
      "text/plain": [
       "[1] 0.76"
      ]
     },
     "metadata": {},
     "output_type": "display_data"
    }
   ],
   "source": [
    "acc = mean(testy==pred_y)\n",
    "acc"
   ]
  },
  {
   "cell_type": "markdown",
   "metadata": {},
   "source": [
    "# Evaluation metrics"
   ]
  },
  {
   "cell_type": "code",
   "execution_count": 16,
   "metadata": {
    "collapsed": true,
    "jupyter": {
     "outputs_hidden": true
    }
   },
   "outputs": [
    {
     "name": "stderr",
     "output_type": "stream",
     "text": [
      "Loading required package: lattice\n",
      "\n",
      "Loading required package: ggplot2\n",
      "\n"
     ]
    },
    {
     "data": {
      "text/html": [
       "\n",
       "<table width=\"100%\" summary=\"page for confusionMatrix {caret}\"><tr><td>confusionMatrix {caret}</td><td style=\"text-align: right;\">R Documentation</td></tr></table>\n",
       "\n",
       "<h2>Create a confusion matrix</h2>\n",
       "\n",
       "<h3>Description</h3>\n",
       "\n",
       "<p>Calculates a cross-tabulation of observed and predicted classes with\n",
       "associated statistics.\n",
       "</p>\n",
       "\n",
       "\n",
       "<h3>Usage</h3>\n",
       "\n",
       "<pre>\n",
       "confusionMatrix(data, ...)\n",
       "\n",
       "## Default S3 method:\n",
       "confusionMatrix(\n",
       "  data,\n",
       "  reference,\n",
       "  positive = NULL,\n",
       "  dnn = c(\"Prediction\", \"Reference\"),\n",
       "  prevalence = NULL,\n",
       "  mode = \"sens_spec\",\n",
       "  ...\n",
       ")\n",
       "\n",
       "## S3 method for class 'table'\n",
       "confusionMatrix(\n",
       "  data,\n",
       "  positive = NULL,\n",
       "  prevalence = NULL,\n",
       "  mode = \"sens_spec\",\n",
       "  ...\n",
       ")\n",
       "</pre>\n",
       "\n",
       "\n",
       "<h3>Arguments</h3>\n",
       "\n",
       "<table summary=\"R argblock\">\n",
       "<tr valign=\"top\"><td><code>data</code></td>\n",
       "<td>\n",
       "<p>a factor of predicted classes (for the default method) or an\n",
       "object of class <code>table</code>.</p>\n",
       "</td></tr>\n",
       "<tr valign=\"top\"><td><code>...</code></td>\n",
       "<td>\n",
       "<p>options to be passed to <code>table</code>. NOTE: do not include\n",
       "<code>dnn</code> here</p>\n",
       "</td></tr>\n",
       "<tr valign=\"top\"><td><code>reference</code></td>\n",
       "<td>\n",
       "<p>a factor of classes to be used as the true results</p>\n",
       "</td></tr>\n",
       "<tr valign=\"top\"><td><code>positive</code></td>\n",
       "<td>\n",
       "<p>an optional character string for the factor level that\n",
       "corresponds to a &quot;positive&quot; result (if that makes sense for your data). If\n",
       "there are only two factor levels, the first level will be used as the\n",
       "&quot;positive&quot; result. When <code>mode = \"prec_recall\"</code>, <code>positive</code> is the\n",
       "same value used for <code>relevant</code> for functions <code>precision</code>,\n",
       "<code>recall</code>, and <code>F_meas.table</code>.</p>\n",
       "</td></tr>\n",
       "<tr valign=\"top\"><td><code>dnn</code></td>\n",
       "<td>\n",
       "<p>a character vector of dimnames for the table</p>\n",
       "</td></tr>\n",
       "<tr valign=\"top\"><td><code>prevalence</code></td>\n",
       "<td>\n",
       "<p>a numeric value or matrix for the rate of the &quot;positive&quot;\n",
       "class of the data. When <code>data</code> has two levels, <code>prevalence</code> should\n",
       "be a single numeric value. Otherwise, it should be a vector of numeric\n",
       "values with elements for each class. The vector should have names\n",
       "corresponding to the classes.</p>\n",
       "</td></tr>\n",
       "<tr valign=\"top\"><td><code>mode</code></td>\n",
       "<td>\n",
       "<p>a single character string either &quot;sens_spec&quot;, &quot;prec_recall&quot;, or\n",
       "&quot;everything&quot;</p>\n",
       "</td></tr>\n",
       "</table>\n",
       "\n",
       "\n",
       "<h3>Details</h3>\n",
       "\n",
       "<p>The functions requires that the factors have exactly the same levels.\n",
       "</p>\n",
       "<p>For two class problems, the sensitivity, specificity, positive predictive\n",
       "value and negative predictive value is calculated using the <code>positive</code>\n",
       "argument. Also, the prevalence of the &quot;event&quot; is computed from the data\n",
       "(unless passed in as an argument), the detection rate (the rate of true\n",
       "events also predicted to be events) and the detection prevalence (the\n",
       "prevalence of predicted events).\n",
       "</p>\n",
       "<p>Suppose a 2x2 table with notation\n",
       "</p>\n",
       "\n",
       "<table summary=\"Rd table\">\n",
       "<tr>\n",
       " <td style=\"text-align: right;\"> </td><td style=\"text-align: center;\"> Reference </td><td style=\"text-align: center;\"> </td>\n",
       "</tr>\n",
       "<tr>\n",
       " <td style=\"text-align: right;\"> Predicted </td><td style=\"text-align: center;\"> Event </td><td style=\"text-align: center;\"> No Event\n",
       "</td>\n",
       "</tr>\n",
       "<tr>\n",
       " <td style=\"text-align: right;\"> Event </td><td style=\"text-align: center;\"> A </td><td style=\"text-align: center;\"> B </td>\n",
       "</tr>\n",
       "<tr>\n",
       " <td style=\"text-align: right;\"> No Event </td><td style=\"text-align: center;\"> C </td><td style=\"text-align: center;\"> D </td>\n",
       "</tr>\n",
       "<tr>\n",
       " <td style=\"text-align: right;\"> </td>\n",
       "</tr>\n",
       "\n",
       "</table>\n",
       "\n",
       "<p>The formulas used here are: </p>\n",
       "<p style=\"text-align: center;\"><i>Sensitivity = A/(A+C)</i></p>\n",
       " <p style=\"text-align: center;\"><i>Specificity =\n",
       "D/(B+D)</i></p>\n",
       " <p style=\"text-align: center;\"><i>Prevalence = (A+C)/(A+B+C+D)</i></p>\n",
       " <p style=\"text-align: center;\"><i>PPV = (sensitivity *\n",
       "prevalence)/((sensitivity*prevalence) + ((1-specificity)*(1-prevalence)))</i></p>\n",
       "\n",
       "<p style=\"text-align: center;\"><i>NPV = (specificity * (1-prevalence))/(((1-sensitivity)*prevalence) +\n",
       "((specificity)*(1-prevalence)))</i></p>\n",
       " <p style=\"text-align: center;\"><i>Detection Rate = A/(A+B+C+D)</i></p>\n",
       "\n",
       "<p style=\"text-align: center;\"><i>Detection Prevalence = (A+B)/(A+B+C+D)</i></p>\n",
       " <p style=\"text-align: center;\"><i>Balanced Accuracy =\n",
       "(sensitivity+specificity)/2</i></p>\n",
       "\n",
       "<p style=\"text-align: center;\"><i>Precision = A/(A+B)</i></p>\n",
       " <p style=\"text-align: center;\"><i>Recall = A/(A+C)</i></p>\n",
       " <p style=\"text-align: center;\"><i>F1 =\n",
       "(1+beta^2)*precision*recall/((beta^2 * precision)+recall)</i></p>\n",
       "\n",
       "<p>where <code>beta = 1</code> for this function.\n",
       "</p>\n",
       "<p>See the references for discussions of the first five formulas.\n",
       "</p>\n",
       "<p>For more than two classes, these results are calculated comparing each\n",
       "factor level to the remaining levels (i.e. a &quot;one versus all&quot; approach).\n",
       "</p>\n",
       "<p>The overall accuracy and unweighted Kappa statistic are calculated. A\n",
       "p-value from McNemar's test is also computed using\n",
       "<code>mcnemar.test</code> (which can produce <code>NA</code> values with\n",
       "sparse tables).\n",
       "</p>\n",
       "<p>The overall accuracy rate is computed along with a 95 percent confidence\n",
       "interval for this rate (using <code>binom.test</code>) and a\n",
       "one-sided test to see if the accuracy is better than the &quot;no information\n",
       "rate,&quot; which is taken to be the largest class percentage in the data.\n",
       "</p>\n",
       "\n",
       "\n",
       "<h3>Value</h3>\n",
       "\n",
       "<p>a list with elements </p>\n",
       "<table summary=\"R valueblock\">\n",
       "<tr valign=\"top\"><td><code>table</code></td>\n",
       "<td>\n",
       "<p>the results of <code>table</code> on\n",
       "<code>data</code> and <code>reference</code></p>\n",
       "</td></tr> <tr valign=\"top\"><td><code>positive</code></td>\n",
       "<td>\n",
       "<p>the positive result level</p>\n",
       "</td></tr>\n",
       "<tr valign=\"top\"><td><code>overall</code></td>\n",
       "<td>\n",
       "<p>a numeric vector with overall accuracy and Kappa statistic\n",
       "values</p>\n",
       "</td></tr> <tr valign=\"top\"><td><code>byClass</code></td>\n",
       "<td>\n",
       "<p>the sensitivity, specificity, positive predictive\n",
       "value, negative predictive value, precision, recall, F1, prevalence,\n",
       "detection rate, detection prevalence and balanced accuracy for each class.\n",
       "For two class systems, this is calculated once using the <code>positive</code>\n",
       "argument</p>\n",
       "</td></tr>\n",
       "</table>\n",
       "\n",
       "\n",
       "<h3>Note</h3>\n",
       "\n",
       "<p>If the reference and data factors have the same levels, but in the\n",
       "incorrect order, the function will reorder them to the order of the data and\n",
       "issue a warning.\n",
       "</p>\n",
       "\n",
       "\n",
       "<h3>Author(s)</h3>\n",
       "\n",
       "<p>Max Kuhn\n",
       "</p>\n",
       "\n",
       "\n",
       "<h3>References</h3>\n",
       "\n",
       "<p>Kuhn, M. (2008), &ldquo;Building predictive models in R using the\n",
       "caret package, &rdquo; <em>Journal of Statistical Software</em>,\n",
       "(<a href=\"http://www.jstatsoft.org/article/view/v028i05/v28i05.pdf\">http://www.jstatsoft.org/article/view/v028i05/v28i05.pdf</a>).\n",
       "</p>\n",
       "<p>Altman, D.G., Bland, J.M. (1994) &ldquo;Diagnostic tests 1: sensitivity and\n",
       "specificity,&rdquo; <em>British Medical Journal</em>, vol 308, 1552.\n",
       "</p>\n",
       "<p>Altman, D.G., Bland, J.M. (1994) &ldquo;Diagnostic tests 2: predictive values,&rdquo;\n",
       "<em>British Medical Journal</em>, vol 309, 102.\n",
       "</p>\n",
       "<p>Velez, D.R., et. al. (2008) &ldquo;A balanced accuracy function for epistasis\n",
       "modeling in imbalanced datasets using multifactor dimensionality\n",
       "reduction.,&rdquo; <em>Genetic Epidemiology</em>, vol 4, 306.\n",
       "</p>\n",
       "\n",
       "\n",
       "<h3>See Also</h3>\n",
       "\n",
       "<p><code>as.table.confusionMatrix</code>,\n",
       "<code>as.matrix.confusionMatrix</code>, <code>sensitivity</code>,\n",
       "<code>specificity</code>, <code>posPredValue</code>,\n",
       "<code>negPredValue</code>, <code>print.confusionMatrix</code>,\n",
       "<code>binom.test</code>\n",
       "</p>\n",
       "\n",
       "\n",
       "<h3>Examples</h3>\n",
       "\n",
       "<pre>\n",
       "\n",
       "###################\n",
       "## 2 class example\n",
       "\n",
       "lvs &lt;- c(\"normal\", \"abnormal\")\n",
       "truth &lt;- factor(rep(lvs, times = c(86, 258)),\n",
       "                levels = rev(lvs))\n",
       "pred &lt;- factor(\n",
       "               c(\n",
       "                 rep(lvs, times = c(54, 32)),\n",
       "                 rep(lvs, times = c(27, 231))),\n",
       "               levels = rev(lvs))\n",
       "\n",
       "xtab &lt;- table(pred, truth)\n",
       "\n",
       "confusionMatrix(xtab)\n",
       "confusionMatrix(pred, truth)\n",
       "confusionMatrix(xtab, prevalence = 0.25)\n",
       "\n",
       "###################\n",
       "## 3 class example\n",
       "\n",
       "confusionMatrix(iris$Species, sample(iris$Species))\n",
       "\n",
       "newPrior &lt;- c(.05, .8, .15)\n",
       "names(newPrior) &lt;- levels(iris$Species)\n",
       "\n",
       "confusionMatrix(iris$Species, sample(iris$Species))\n",
       "\n",
       "\n",
       "</pre>\n",
       "\n",
       "<hr /><div style=\"text-align: center;\">[Package <em>caret</em> version 6.0-86 ]</div>"
      ],
      "text/latex": [
       "\\inputencoding{utf8}\n",
       "\\HeaderA{confusionMatrix}{Create a confusion matrix}{confusionMatrix}\n",
       "\\methaliasA{confusionMatrix.default}{confusionMatrix}{confusionMatrix.default}\n",
       "\\methaliasA{confusionMatrix.table}{confusionMatrix}{confusionMatrix.table}\n",
       "\\keyword{utilities}{confusionMatrix}\n",
       "%\n",
       "\\begin{Description}\\relax\n",
       "Calculates a cross-tabulation of observed and predicted classes with\n",
       "associated statistics.\n",
       "\\end{Description}\n",
       "%\n",
       "\\begin{Usage}\n",
       "\\begin{verbatim}\n",
       "confusionMatrix(data, ...)\n",
       "\n",
       "## Default S3 method:\n",
       "confusionMatrix(\n",
       "  data,\n",
       "  reference,\n",
       "  positive = NULL,\n",
       "  dnn = c(\"Prediction\", \"Reference\"),\n",
       "  prevalence = NULL,\n",
       "  mode = \"sens_spec\",\n",
       "  ...\n",
       ")\n",
       "\n",
       "## S3 method for class 'table'\n",
       "confusionMatrix(\n",
       "  data,\n",
       "  positive = NULL,\n",
       "  prevalence = NULL,\n",
       "  mode = \"sens_spec\",\n",
       "  ...\n",
       ")\n",
       "\\end{verbatim}\n",
       "\\end{Usage}\n",
       "%\n",
       "\\begin{Arguments}\n",
       "\\begin{ldescription}\n",
       "\\item[\\code{data}] a factor of predicted classes (for the default method) or an\n",
       "object of class \\code{\\LinkA{table}{table}}.\n",
       "\n",
       "\\item[\\code{...}] options to be passed to \\code{table}. NOTE: do not include\n",
       "\\code{dnn} here\n",
       "\n",
       "\\item[\\code{reference}] a factor of classes to be used as the true results\n",
       "\n",
       "\\item[\\code{positive}] an optional character string for the factor level that\n",
       "corresponds to a \"positive\" result (if that makes sense for your data). If\n",
       "there are only two factor levels, the first level will be used as the\n",
       "\"positive\" result. When \\code{mode = \"prec\\_recall\"}, \\code{positive} is the\n",
       "same value used for \\code{relevant} for functions \\code{\\LinkA{precision}{precision}},\n",
       "\\code{\\LinkA{recall}{recall}}, and \\code{\\LinkA{F\\_meas.table}{F.Rul.meas.table}}.\n",
       "\n",
       "\\item[\\code{dnn}] a character vector of dimnames for the table\n",
       "\n",
       "\\item[\\code{prevalence}] a numeric value or matrix for the rate of the \"positive\"\n",
       "class of the data. When \\code{data} has two levels, \\code{prevalence} should\n",
       "be a single numeric value. Otherwise, it should be a vector of numeric\n",
       "values with elements for each class. The vector should have names\n",
       "corresponding to the classes.\n",
       "\n",
       "\\item[\\code{mode}] a single character string either \"sens\\_spec\", \"prec\\_recall\", or\n",
       "\"everything\"\n",
       "\\end{ldescription}\n",
       "\\end{Arguments}\n",
       "%\n",
       "\\begin{Details}\\relax\n",
       "The functions requires that the factors have exactly the same levels.\n",
       "\n",
       "For two class problems, the sensitivity, specificity, positive predictive\n",
       "value and negative predictive value is calculated using the \\code{positive}\n",
       "argument. Also, the prevalence of the \"event\" is computed from the data\n",
       "(unless passed in as an argument), the detection rate (the rate of true\n",
       "events also predicted to be events) and the detection prevalence (the\n",
       "prevalence of predicted events).\n",
       "\n",
       "Suppose a 2x2 table with notation\n",
       "\n",
       "\n",
       "\\Tabular{rcc}{ & Reference & \\\\{} Predicted & Event & No Event\n",
       "\\\\{} Event & A & B \\\\{} No Event & C & D \\\\{} }\n",
       "\n",
       "The formulas used here are: \\deqn{Sensitivity = A/(A+C)}{} \\deqn{Specificity =\n",
       "D/(B+D)}{} \\deqn{Prevalence = (A+C)/(A+B+C+D)}{} \\deqn{PPV = (sensitivity *\n",
       "prevalence)/((sensitivity*prevalence) + ((1-specificity)*(1-prevalence)))}{}\n",
       "\\deqn{NPV = (specificity * (1-prevalence))/(((1-sensitivity)*prevalence) +\n",
       "((specificity)*(1-prevalence)))}{} \\deqn{Detection Rate = A/(A+B+C+D)}{}\n",
       "\\deqn{Detection Prevalence = (A+B)/(A+B+C+D)}{} \\deqn{Balanced Accuracy =\n",
       "(sensitivity+specificity)/2}{}\n",
       "\n",
       "\\deqn{Precision = A/(A+B)}{} \\deqn{Recall = A/(A+C)}{} \\deqn{F1 =\n",
       "(1+beta^2)*precision*recall/((beta^2 * precision)+recall)}{}\n",
       "\n",
       "where \\code{beta = 1} for this function.\n",
       "\n",
       "See the references for discussions of the first five formulas.\n",
       "\n",
       "For more than two classes, these results are calculated comparing each\n",
       "factor level to the remaining levels (i.e. a \"one versus all\" approach).\n",
       "\n",
       "The overall accuracy and unweighted Kappa statistic are calculated. A\n",
       "p-value from McNemar's test is also computed using\n",
       "\\code{\\LinkA{mcnemar.test}{mcnemar.test}} (which can produce \\code{NA} values with\n",
       "sparse tables).\n",
       "\n",
       "The overall accuracy rate is computed along with a 95 percent confidence\n",
       "interval for this rate (using \\code{\\LinkA{binom.test}{binom.test}}) and a\n",
       "one-sided test to see if the accuracy is better than the \"no information\n",
       "rate,\" which is taken to be the largest class percentage in the data.\n",
       "\\end{Details}\n",
       "%\n",
       "\\begin{Value}\n",
       "a list with elements \\begin{ldescription}\n",
       "\\item[\\code{table}] the results of \\code{table} on\n",
       "\\code{data} and \\code{reference}\\item[\\code{positive}] the positive result level\n",
       "\\item[\\code{overall}] a numeric vector with overall accuracy and Kappa statistic\n",
       "values\\item[\\code{byClass}] the sensitivity, specificity, positive predictive\n",
       "value, negative predictive value, precision, recall, F1, prevalence,\n",
       "detection rate, detection prevalence and balanced accuracy for each class.\n",
       "For two class systems, this is calculated once using the \\code{positive}\n",
       "argument\n",
       "\\end{ldescription}\n",
       "\\end{Value}\n",
       "%\n",
       "\\begin{Note}\\relax\n",
       "If the reference and data factors have the same levels, but in the\n",
       "incorrect order, the function will reorder them to the order of the data and\n",
       "issue a warning.\n",
       "\\end{Note}\n",
       "%\n",
       "\\begin{Author}\\relax\n",
       "Max Kuhn\n",
       "\\end{Author}\n",
       "%\n",
       "\\begin{References}\\relax\n",
       "Kuhn, M. (2008), ``Building predictive models in R using the\n",
       "caret package, '' \\emph{Journal of Statistical Software},\n",
       "(\\url{http://www.jstatsoft.org/article/view/v028i05/v28i05.pdf}).\n",
       "\n",
       "Altman, D.G., Bland, J.M. (1994) ``Diagnostic tests 1: sensitivity and\n",
       "specificity,'' \\emph{British Medical Journal}, vol 308, 1552.\n",
       "\n",
       "Altman, D.G., Bland, J.M. (1994) ``Diagnostic tests 2: predictive values,''\n",
       "\\emph{British Medical Journal}, vol 309, 102.\n",
       "\n",
       "Velez, D.R., et. al. (2008) ``A balanced accuracy function for epistasis\n",
       "modeling in imbalanced datasets using multifactor dimensionality\n",
       "reduction.,'' \\emph{Genetic Epidemiology}, vol 4, 306.\n",
       "\\end{References}\n",
       "%\n",
       "\\begin{SeeAlso}\\relax\n",
       "\\code{\\LinkA{as.table.confusionMatrix}{as.table.confusionMatrix}},\n",
       "\\code{\\LinkA{as.matrix.confusionMatrix}{as.matrix.confusionMatrix}}, \\code{\\LinkA{sensitivity}{sensitivity}},\n",
       "\\code{\\LinkA{specificity}{specificity}}, \\code{\\LinkA{posPredValue}{posPredValue}},\n",
       "\\code{\\LinkA{negPredValue}{negPredValue}}, \\code{\\LinkA{print.confusionMatrix}{print.confusionMatrix}},\n",
       "\\code{\\LinkA{binom.test}{binom.test}}\n",
       "\\end{SeeAlso}\n",
       "%\n",
       "\\begin{Examples}\n",
       "\\begin{ExampleCode}\n",
       "\n",
       "###################\n",
       "## 2 class example\n",
       "\n",
       "lvs <- c(\"normal\", \"abnormal\")\n",
       "truth <- factor(rep(lvs, times = c(86, 258)),\n",
       "                levels = rev(lvs))\n",
       "pred <- factor(\n",
       "               c(\n",
       "                 rep(lvs, times = c(54, 32)),\n",
       "                 rep(lvs, times = c(27, 231))),\n",
       "               levels = rev(lvs))\n",
       "\n",
       "xtab <- table(pred, truth)\n",
       "\n",
       "confusionMatrix(xtab)\n",
       "confusionMatrix(pred, truth)\n",
       "confusionMatrix(xtab, prevalence = 0.25)\n",
       "\n",
       "###################\n",
       "## 3 class example\n",
       "\n",
       "confusionMatrix(iris$Species, sample(iris$Species))\n",
       "\n",
       "newPrior <- c(.05, .8, .15)\n",
       "names(newPrior) <- levels(iris$Species)\n",
       "\n",
       "confusionMatrix(iris$Species, sample(iris$Species))\n",
       "\n",
       "\n",
       "\\end{ExampleCode}\n",
       "\\end{Examples}"
      ],
      "text/plain": [
       "confusionMatrix             package:caret              R Documentation\n",
       "\n",
       "_\bC_\br_\be_\ba_\bt_\be _\ba _\bc_\bo_\bn_\bf_\bu_\bs_\bi_\bo_\bn _\bm_\ba_\bt_\br_\bi_\bx\n",
       "\n",
       "_\bD_\be_\bs_\bc_\br_\bi_\bp_\bt_\bi_\bo_\bn:\n",
       "\n",
       "     Calculates a cross-tabulation of observed and predicted classes\n",
       "     with associated statistics.\n",
       "\n",
       "_\bU_\bs_\ba_\bg_\be:\n",
       "\n",
       "     confusionMatrix(data, ...)\n",
       "     \n",
       "     ## Default S3 method:\n",
       "     confusionMatrix(\n",
       "       data,\n",
       "       reference,\n",
       "       positive = NULL,\n",
       "       dnn = c(\"Prediction\", \"Reference\"),\n",
       "       prevalence = NULL,\n",
       "       mode = \"sens_spec\",\n",
       "       ...\n",
       "     )\n",
       "     \n",
       "     ## S3 method for class 'table'\n",
       "     confusionMatrix(\n",
       "       data,\n",
       "       positive = NULL,\n",
       "       prevalence = NULL,\n",
       "       mode = \"sens_spec\",\n",
       "       ...\n",
       "     )\n",
       "     \n",
       "_\bA_\br_\bg_\bu_\bm_\be_\bn_\bt_\bs:\n",
       "\n",
       "    data: a factor of predicted classes (for the default method) or an\n",
       "          object of class 'table'.\n",
       "\n",
       "     ...: options to be passed to 'table'. NOTE: do not include 'dnn'\n",
       "          here\n",
       "\n",
       "reference: a factor of classes to be used as the true results\n",
       "\n",
       "positive: an optional character string for the factor level that\n",
       "          corresponds to a \"positive\" result (if that makes sense for\n",
       "          your data). If there are only two factor levels, the first\n",
       "          level will be used as the \"positive\" result. When 'mode =\n",
       "          \"prec_recall\"', 'positive' is the same value used for\n",
       "          'relevant' for functions 'precision', 'recall', and\n",
       "          'F_meas.table'.\n",
       "\n",
       "     dnn: a character vector of dimnames for the table\n",
       "\n",
       "prevalence: a numeric value or matrix for the rate of the \"positive\"\n",
       "          class of the data. When 'data' has two levels, 'prevalence'\n",
       "          should be a single numeric value. Otherwise, it should be a\n",
       "          vector of numeric values with elements for each class. The\n",
       "          vector should have names corresponding to the classes.\n",
       "\n",
       "    mode: a single character string either \"sens_spec\", \"prec_recall\",\n",
       "          or \"everything\"\n",
       "\n",
       "_\bD_\be_\bt_\ba_\bi_\bl_\bs:\n",
       "\n",
       "     The functions requires that the factors have exactly the same\n",
       "     levels.\n",
       "\n",
       "     For two class problems, the sensitivity, specificity, positive\n",
       "     predictive value and negative predictive value is calculated using\n",
       "     the 'positive' argument. Also, the prevalence of the \"event\" is\n",
       "     computed from the data (unless passed in as an argument), the\n",
       "     detection rate (the rate of true events also predicted to be\n",
       "     events) and the detection prevalence (the prevalence of predicted\n",
       "     events).\n",
       "\n",
       "     Suppose a 2x2 table with notation\n",
       "\n",
       "                  Reference           \n",
       "       Predicted    Event    No Event \n",
       "           Event      A         B     \n",
       "        No Event      C         D     \n",
       "      \n",
       "     The formulas used here are:\n",
       "\n",
       "                            Sensitivity = A/(A+C)                       \n",
       "     \n",
       "                            Specificity =D/(B+D)                        \n",
       "     \n",
       "                        Prevalence = (A+C)/(A+B+C+D)                    \n",
       "     \n",
       "     PPV = (sensitivity *\n",
       "     prevalence)/((sensitivity*prevalence) + ((1-specificity)*(1-prevalence)))\n",
       "     \n",
       "     NPV = (specificity * (1-prevalence))/(((1-sensitivity)*prevalence) +\n",
       "     ((specificity)*(1-prevalence)))\n",
       "     \n",
       "                        Detection Rate = A/(A+B+C+D)                    \n",
       "     \n",
       "                   Detection Prevalence = (A+B)/(A+B+C+D)               \n",
       "     \n",
       "               Balanced Accuracy =(sensitivity+specificity)/2           \n",
       "     \n",
       "                             Precision = A/(A+B)                        \n",
       "     \n",
       "                              Recall = A/(A+C)                          \n",
       "     \n",
       "        F1 =(1+beta^2)*precision*recall/((beta^2 * precision)+recall)   \n",
       "     \n",
       "     where 'beta = 1' for this function.\n",
       "\n",
       "     See the references for discussions of the first five formulas.\n",
       "\n",
       "     For more than two classes, these results are calculated comparing\n",
       "     each factor level to the remaining levels (i.e. a \"one versus all\"\n",
       "     approach).\n",
       "\n",
       "     The overall accuracy and unweighted Kappa statistic are\n",
       "     calculated. A p-value from McNemar's test is also computed using\n",
       "     'mcnemar.test' (which can produce 'NA' values with sparse tables).\n",
       "\n",
       "     The overall accuracy rate is computed along with a 95 percent\n",
       "     confidence interval for this rate (using 'binom.test') and a\n",
       "     one-sided test to see if the accuracy is better than the \"no\n",
       "     information rate,\" which is taken to be the largest class\n",
       "     percentage in the data.\n",
       "\n",
       "_\bV_\ba_\bl_\bu_\be:\n",
       "\n",
       "     a list with elements\n",
       "\n",
       "   table: the results of 'table' on 'data' and 'reference'\n",
       "\n",
       "positive: the positive result level\n",
       "\n",
       " overall: a numeric vector with overall accuracy and Kappa statistic\n",
       "          values\n",
       "\n",
       " byClass: the sensitivity, specificity, positive predictive value,\n",
       "          negative predictive value, precision, recall, F1, prevalence,\n",
       "          detection rate, detection prevalence and balanced accuracy\n",
       "          for each class. For two class systems, this is calculated\n",
       "          once using the 'positive' argument\n",
       "\n",
       "_\bN_\bo_\bt_\be:\n",
       "\n",
       "     If the reference and data factors have the same levels, but in the\n",
       "     incorrect order, the function will reorder them to the order of\n",
       "     the data and issue a warning.\n",
       "\n",
       "_\bA_\bu_\bt_\bh_\bo_\br(_\bs):\n",
       "\n",
       "     Max Kuhn\n",
       "\n",
       "_\bR_\be_\bf_\be_\br_\be_\bn_\bc_\be_\bs:\n",
       "\n",
       "     Kuhn, M. (2008), ``Building predictive models in R using the caret\n",
       "     package, '' _Journal of Statistical Software_, (<URL:\n",
       "     http://www.jstatsoft.org/article/view/v028i05/v28i05.pdf>).\n",
       "\n",
       "     Altman, D.G., Bland, J.M. (1994) ``Diagnostic tests 1: sensitivity\n",
       "     and specificity,'' _British Medical Journal_, vol 308, 1552.\n",
       "\n",
       "     Altman, D.G., Bland, J.M. (1994) ``Diagnostic tests 2: predictive\n",
       "     values,'' _British Medical Journal_, vol 309, 102.\n",
       "\n",
       "     Velez, D.R., et. al. (2008) ``A balanced accuracy function for\n",
       "     epistasis modeling in imbalanced datasets using multifactor\n",
       "     dimensionality reduction.,'' _Genetic Epidemiology_, vol 4, 306.\n",
       "\n",
       "_\bS_\be_\be _\bA_\bl_\bs_\bo:\n",
       "\n",
       "     'as.table.confusionMatrix', 'as.matrix.confusionMatrix',\n",
       "     'sensitivity', 'specificity', 'posPredValue', 'negPredValue',\n",
       "     'print.confusionMatrix', 'binom.test'\n",
       "\n",
       "_\bE_\bx_\ba_\bm_\bp_\bl_\be_\bs:\n",
       "\n",
       "     ###################\n",
       "     ## 2 class example\n",
       "     \n",
       "     lvs <- c(\"normal\", \"abnormal\")\n",
       "     truth <- factor(rep(lvs, times = c(86, 258)),\n",
       "                     levels = rev(lvs))\n",
       "     pred <- factor(\n",
       "                    c(\n",
       "                      rep(lvs, times = c(54, 32)),\n",
       "                      rep(lvs, times = c(27, 231))),\n",
       "                    levels = rev(lvs))\n",
       "     \n",
       "     xtab <- table(pred, truth)\n",
       "     \n",
       "     confusionMatrix(xtab)\n",
       "     confusionMatrix(pred, truth)\n",
       "     confusionMatrix(xtab, prevalence = 0.25)\n",
       "     \n",
       "     ###################\n",
       "     ## 3 class example\n",
       "     \n",
       "     confusionMatrix(iris$Species, sample(iris$Species))\n",
       "     \n",
       "     newPrior <- c(.05, .8, .15)\n",
       "     names(newPrior) <- levels(iris$Species)\n",
       "     \n",
       "     confusionMatrix(iris$Species, sample(iris$Species))\n",
       "     "
      ]
     },
     "metadata": {},
     "output_type": "display_data"
    }
   ],
   "source": [
    "library('caret')\n",
    "?confusionMatrix"
   ]
  },
  {
   "cell_type": "code",
   "execution_count": 17,
   "metadata": {},
   "outputs": [
    {
     "ename": "ERROR",
     "evalue": "Error in head(pred): object 'pred' not found\n",
     "output_type": "error",
     "traceback": [
      "Error in head(pred): object 'pred' not found\nTraceback:\n",
      "1. head(pred)"
     ]
    }
   ],
   "source": [
    "head(pred)"
   ]
  },
  {
   "cell_type": "code",
   "execution_count": 21,
   "metadata": {},
   "outputs": [],
   "source": [
    "cmtx = confusionMatrix(data=pred_y,reference=testy)"
   ]
  },
  {
   "cell_type": "code",
   "execution_count": 22,
   "metadata": {},
   "outputs": [
    {
     "data": {
      "text/html": [
       "<style>\n",
       ".list-inline {list-style: none; margin:0; padding: 0}\n",
       ".list-inline>li {display: inline-block}\n",
       ".list-inline>li:not(:last-child)::after {content: \"\\00b7\"; padding: 0 .5ex}\n",
       "</style>\n",
       "<ol class=list-inline><li>'positive'</li><li>'table'</li><li>'overall'</li><li>'byClass'</li><li>'mode'</li><li>'dots'</li></ol>\n"
      ],
      "text/latex": [
       "\\begin{enumerate*}\n",
       "\\item 'positive'\n",
       "\\item 'table'\n",
       "\\item 'overall'\n",
       "\\item 'byClass'\n",
       "\\item 'mode'\n",
       "\\item 'dots'\n",
       "\\end{enumerate*}\n"
      ],
      "text/markdown": [
       "1. 'positive'\n",
       "2. 'table'\n",
       "3. 'overall'\n",
       "4. 'byClass'\n",
       "5. 'mode'\n",
       "6. 'dots'\n",
       "\n",
       "\n"
      ],
      "text/plain": [
       "[1] \"positive\" \"table\"    \"overall\"  \"byClass\"  \"mode\"     \"dots\"    "
      ]
     },
     "metadata": {},
     "output_type": "display_data"
    }
   ],
   "source": [
    "names(cmtx)"
   ]
  },
  {
   "cell_type": "code",
   "execution_count": 25,
   "metadata": {},
   "outputs": [
    {
     "data": {
      "text/plain": [
       "            Reference\n",
       "Prediction   setosa versicolor virginica\n",
       "  setosa         30          0         1\n",
       "  versicolor      0         23        12\n",
       "  virginica       0         11        23"
      ]
     },
     "metadata": {},
     "output_type": "display_data"
    }
   ],
   "source": [
    "cmtx$table"
   ]
  },
  {
   "cell_type": "code",
   "execution_count": 26,
   "metadata": {},
   "outputs": [
    {
     "data": {
      "text/plain": [
       "Confusion Matrix and Statistics\n",
       "\n",
       "            Reference\n",
       "Prediction   setosa versicolor virginica\n",
       "  setosa         30          0         1\n",
       "  versicolor      0         23        12\n",
       "  virginica       0         11        23\n",
       "\n",
       "Overall Statistics\n",
       "                                          \n",
       "               Accuracy : 0.76            \n",
       "                 95% CI : (0.6643, 0.8398)\n",
       "    No Information Rate : 0.36            \n",
       "    P-Value [Acc > NIR] : 4.091e-16       \n",
       "                                          \n",
       "                  Kappa : 0.6394          \n",
       "                                          \n",
       " Mcnemar's Test P-Value : NA              \n",
       "\n",
       "Statistics by Class:\n",
       "\n",
       "                     Class: setosa Class: versicolor Class: virginica\n",
       "Sensitivity                 1.0000            0.6765           0.6389\n",
       "Specificity                 0.9857            0.8182           0.8281\n",
       "Pos Pred Value              0.9677            0.6571           0.6765\n",
       "Neg Pred Value              1.0000            0.8308           0.8030\n",
       "Prevalence                  0.3000            0.3400           0.3600\n",
       "Detection Rate              0.3000            0.2300           0.2300\n",
       "Detection Prevalence        0.3100            0.3500           0.3400\n",
       "Balanced Accuracy           0.9929            0.7473           0.7335"
      ]
     },
     "metadata": {},
     "output_type": "display_data"
    }
   ],
   "source": [
    "cmtx"
   ]
  },
  {
   "cell_type": "code",
   "execution_count": 29,
   "metadata": {},
   "outputs": [
    {
     "data": {
      "text/html": [
       "0.76"
      ],
      "text/latex": [
       "0.76"
      ],
      "text/markdown": [
       "0.76"
      ],
      "text/plain": [
       "[1] 0.76"
      ]
     },
     "metadata": {},
     "output_type": "display_data"
    }
   ],
   "source": [
    "#overall accuracy\n",
    "sum(diag(cmtx$table))/sum(cmtx$table)"
   ]
  },
  {
   "cell_type": "code",
   "execution_count": 31,
   "metadata": {},
   "outputs": [
    {
     "data": {
      "text/html": [
       "<style>\n",
       ".dl-inline {width: auto; margin:0; padding: 0}\n",
       ".dl-inline>dt, .dl-inline>dd {float: none; width: auto; display: inline-block}\n",
       ".dl-inline>dt::after {content: \":\\0020\"; padding-right: .5ex}\n",
       ".dl-inline>dt:not(:first-of-type) {padding-left: .5ex}\n",
       "</style><dl class=dl-inline><dt>setosa</dt><dd>1</dd><dt>versicolor</dt><dd>0.67647</dd><dt>virginica</dt><dd>0.63889</dd></dl>\n"
      ],
      "text/latex": [
       "\\begin{description*}\n",
       "\\item[setosa] 1\n",
       "\\item[versicolor] 0.67647\n",
       "\\item[virginica] 0.63889\n",
       "\\end{description*}\n"
      ],
      "text/markdown": [
       "setosa\n",
       ":   1versicolor\n",
       ":   0.67647virginica\n",
       ":   0.63889\n",
       "\n"
      ],
      "text/plain": [
       "    setosa versicolor  virginica \n",
       "   1.00000    0.67647    0.63889 "
      ]
     },
     "metadata": {},
     "output_type": "display_data"
    }
   ],
   "source": [
    "# per class accuracy \n",
    "round(diag(cmtx$table)/colSums(cmtx$table),5)"
   ]
  },
  {
   "cell_type": "code",
   "execution_count": 33,
   "metadata": {},
   "outputs": [
    {
     "data": {
      "text/html": [
       "<table class=\"dataframe\">\n",
       "<caption>A matrix: 3 × 11 of type dbl</caption>\n",
       "<thead>\n",
       "\t<tr><th></th><th scope=col>Sensitivity</th><th scope=col>Specificity</th><th scope=col>Pos Pred Value</th><th scope=col>Neg Pred Value</th><th scope=col>Precision</th><th scope=col>Recall</th><th scope=col>F1</th><th scope=col>Prevalence</th><th scope=col>Detection Rate</th><th scope=col>Detection Prevalence</th><th scope=col>Balanced Accuracy</th></tr>\n",
       "</thead>\n",
       "<tbody>\n",
       "\t<tr><th scope=row>Class: setosa</th><td>1.0000000</td><td>0.9857143</td><td>0.9677419</td><td>1.0000000</td><td>0.9677419</td><td>1.0000000</td><td>0.9836066</td><td>0.30</td><td>0.30</td><td>0.31</td><td>0.9928571</td></tr>\n",
       "\t<tr><th scope=row>Class: versicolor</th><td>0.6764706</td><td>0.8181818</td><td>0.6571429</td><td>0.8307692</td><td>0.6571429</td><td>0.6764706</td><td>0.6666667</td><td>0.34</td><td>0.23</td><td>0.35</td><td>0.7473262</td></tr>\n",
       "\t<tr><th scope=row>Class: virginica</th><td>0.6388889</td><td>0.8281250</td><td>0.6764706</td><td>0.8030303</td><td>0.6764706</td><td>0.6388889</td><td>0.6571429</td><td>0.36</td><td>0.23</td><td>0.34</td><td>0.7335069</td></tr>\n",
       "</tbody>\n",
       "</table>\n"
      ],
      "text/latex": [
       "A matrix: 3 × 11 of type dbl\n",
       "\\begin{tabular}{r|lllllllllll}\n",
       "  & Sensitivity & Specificity & Pos Pred Value & Neg Pred Value & Precision & Recall & F1 & Prevalence & Detection Rate & Detection Prevalence & Balanced Accuracy\\\\\n",
       "\\hline\n",
       "\tClass: setosa & 1.0000000 & 0.9857143 & 0.9677419 & 1.0000000 & 0.9677419 & 1.0000000 & 0.9836066 & 0.30 & 0.30 & 0.31 & 0.9928571\\\\\n",
       "\tClass: versicolor & 0.6764706 & 0.8181818 & 0.6571429 & 0.8307692 & 0.6571429 & 0.6764706 & 0.6666667 & 0.34 & 0.23 & 0.35 & 0.7473262\\\\\n",
       "\tClass: virginica & 0.6388889 & 0.8281250 & 0.6764706 & 0.8030303 & 0.6764706 & 0.6388889 & 0.6571429 & 0.36 & 0.23 & 0.34 & 0.7335069\\\\\n",
       "\\end{tabular}\n"
      ],
      "text/markdown": [
       "\n",
       "A matrix: 3 × 11 of type dbl\n",
       "\n",
       "| <!--/--> | Sensitivity | Specificity | Pos Pred Value | Neg Pred Value | Precision | Recall | F1 | Prevalence | Detection Rate | Detection Prevalence | Balanced Accuracy |\n",
       "|---|---|---|---|---|---|---|---|---|---|---|---|\n",
       "| Class: setosa | 1.0000000 | 0.9857143 | 0.9677419 | 1.0000000 | 0.9677419 | 1.0000000 | 0.9836066 | 0.30 | 0.30 | 0.31 | 0.9928571 |\n",
       "| Class: versicolor | 0.6764706 | 0.8181818 | 0.6571429 | 0.8307692 | 0.6571429 | 0.6764706 | 0.6666667 | 0.34 | 0.23 | 0.35 | 0.7473262 |\n",
       "| Class: virginica | 0.6388889 | 0.8281250 | 0.6764706 | 0.8030303 | 0.6764706 | 0.6388889 | 0.6571429 | 0.36 | 0.23 | 0.34 | 0.7335069 |\n",
       "\n"
      ],
      "text/plain": [
       "                  Sensitivity Specificity Pos Pred Value Neg Pred Value\n",
       "Class: setosa     1.0000000   0.9857143   0.9677419      1.0000000     \n",
       "Class: versicolor 0.6764706   0.8181818   0.6571429      0.8307692     \n",
       "Class: virginica  0.6388889   0.8281250   0.6764706      0.8030303     \n",
       "                  Precision Recall    F1        Prevalence Detection Rate\n",
       "Class: setosa     0.9677419 1.0000000 0.9836066 0.30       0.30          \n",
       "Class: versicolor 0.6571429 0.6764706 0.6666667 0.34       0.23          \n",
       "Class: virginica  0.6764706 0.6388889 0.6571429 0.36       0.23          \n",
       "                  Detection Prevalence Balanced Accuracy\n",
       "Class: setosa     0.31                 0.9928571        \n",
       "Class: versicolor 0.35                 0.7473262        \n",
       "Class: virginica  0.34                 0.7335069        "
      ]
     },
     "metadata": {},
     "output_type": "display_data"
    }
   ],
   "source": [
    "cmtx$byClass"
   ]
  },
  {
   "cell_type": "code",
   "execution_count": 34,
   "metadata": {},
   "outputs": [
    {
     "data": {
      "text/html": [
       "<style>\n",
       ".dl-inline {width: auto; margin:0; padding: 0}\n",
       ".dl-inline>dt, .dl-inline>dd {float: none; width: auto; display: inline-block}\n",
       ".dl-inline>dt::after {content: \":\\0020\"; padding-right: .5ex}\n",
       ".dl-inline>dt:not(:first-of-type) {padding-left: .5ex}\n",
       "</style><dl class=dl-inline><dt>Accuracy</dt><dd>0.76</dd><dt>Kappa</dt><dd>0.639423076923077</dd><dt>AccuracyLower</dt><dd>0.664264510729002</dd><dt>AccuracyUpper</dt><dd>0.839775386828553</dd><dt>AccuracyNull</dt><dd>0.36</dd><dt>AccuracyPValue</dt><dd>4.09142127685162e-16</dd><dt>McnemarPValue</dt><dd>NaN</dd></dl>\n"
      ],
      "text/latex": [
       "\\begin{description*}\n",
       "\\item[Accuracy] 0.76\n",
       "\\item[Kappa] 0.639423076923077\n",
       "\\item[AccuracyLower] 0.664264510729002\n",
       "\\item[AccuracyUpper] 0.839775386828553\n",
       "\\item[AccuracyNull] 0.36\n",
       "\\item[AccuracyPValue] 4.09142127685162e-16\n",
       "\\item[McnemarPValue] NaN\n",
       "\\end{description*}\n"
      ],
      "text/markdown": [
       "Accuracy\n",
       ":   0.76Kappa\n",
       ":   0.639423076923077AccuracyLower\n",
       ":   0.664264510729002AccuracyUpper\n",
       ":   0.839775386828553AccuracyNull\n",
       ":   0.36AccuracyPValue\n",
       ":   4.09142127685162e-16McnemarPValue\n",
       ":   NaN\n",
       "\n"
      ],
      "text/plain": [
       "      Accuracy          Kappa  AccuracyLower  AccuracyUpper   AccuracyNull \n",
       "  7.600000e-01   6.394231e-01   6.642645e-01   8.397754e-01   3.600000e-01 \n",
       "AccuracyPValue  McnemarPValue \n",
       "  4.091421e-16            NaN "
      ]
     },
     "metadata": {},
     "output_type": "display_data"
    }
   ],
   "source": [
    "cmtx$overall"
   ]
  },
  {
   "cell_type": "code",
   "execution_count": 36,
   "metadata": {},
   "outputs": [
    {
     "data": {
      "text/html": [
       "<strong>Accuracy:</strong> 0.76"
      ],
      "text/latex": [
       "\\textbf{Accuracy:} 0.76"
      ],
      "text/markdown": [
       "**Accuracy:** 0.76"
      ],
      "text/plain": [
       "Accuracy \n",
       "    0.76 "
      ]
     },
     "metadata": {},
     "output_type": "display_data"
    }
   ],
   "source": [
    "cmtx$overall[\"Accuracy\"]"
   ]
  },
  {
   "cell_type": "markdown",
   "metadata": {},
   "source": [
    "# Visualization"
   ]
  },
  {
   "cell_type": "code",
   "execution_count": 42,
   "metadata": {},
   "outputs": [
    {
     "data": {
      "text/html": [
       "<table class=\"dataframe\">\n",
       "<caption>A data.frame: 6 × 2</caption>\n",
       "<thead>\n",
       "\t<tr><th></th><th scope=col>Var1</th><th scope=col>Var2</th></tr>\n",
       "\t<tr><th></th><th scope=col>&lt;dbl&gt;</th><th scope=col>&lt;dbl&gt;</th></tr>\n",
       "</thead>\n",
       "<tbody>\n",
       "\t<tr><th scope=row>1</th><td>4.3</td><td>2</td></tr>\n",
       "\t<tr><th scope=row>2</th><td>4.4</td><td>2</td></tr>\n",
       "\t<tr><th scope=row>3</th><td>4.5</td><td>2</td></tr>\n",
       "\t<tr><th scope=row>4</th><td>4.6</td><td>2</td></tr>\n",
       "\t<tr><th scope=row>5</th><td>4.7</td><td>2</td></tr>\n",
       "\t<tr><th scope=row>6</th><td>4.8</td><td>2</td></tr>\n",
       "</tbody>\n",
       "</table>\n"
      ],
      "text/latex": [
       "A data.frame: 6 × 2\n",
       "\\begin{tabular}{r|ll}\n",
       "  & Var1 & Var2\\\\\n",
       "  & <dbl> & <dbl>\\\\\n",
       "\\hline\n",
       "\t1 & 4.3 & 2\\\\\n",
       "\t2 & 4.4 & 2\\\\\n",
       "\t3 & 4.5 & 2\\\\\n",
       "\t4 & 4.6 & 2\\\\\n",
       "\t5 & 4.7 & 2\\\\\n",
       "\t6 & 4.8 & 2\\\\\n",
       "\\end{tabular}\n"
      ],
      "text/markdown": [
       "\n",
       "A data.frame: 6 × 2\n",
       "\n",
       "| <!--/--> | Var1 &lt;dbl&gt; | Var2 &lt;dbl&gt; |\n",
       "|---|---|---|\n",
       "| 1 | 4.3 | 2 |\n",
       "| 2 | 4.4 | 2 |\n",
       "| 3 | 4.5 | 2 |\n",
       "| 4 | 4.6 | 2 |\n",
       "| 5 | 4.7 | 2 |\n",
       "| 6 | 4.8 | 2 |\n",
       "\n"
      ],
      "text/plain": [
       "  Var1 Var2\n",
       "1 4.3  2   \n",
       "2 4.4  2   \n",
       "3 4.5  2   \n",
       "4 4.6  2   \n",
       "5 4.7  2   \n",
       "6 4.8  2   "
      ]
     },
     "metadata": {},
     "output_type": "display_data"
    }
   ],
   "source": [
    "x1r = range(iris$Sepal.Length)\n",
    "x2r = range(iris$Sepal.Width)\n",
    "x1s = seq(x1r[1],x1r[2],.1)\n",
    "x2s = seq(x2r[1],x2r[2],.1)\n",
    "grd = expand.grid(x1s,x2s)\n",
    "head(grd)"
   ]
  },
  {
   "cell_type": "code",
   "execution_count": 44,
   "metadata": {},
   "outputs": [
    {
     "data": {
      "image/png": "[encoded data removed]",
      "text/plain": [
       "plot without title"
      ]
     },
     "metadata": {
      "image/png": {
       "height": 420,
       "width": 420
      }
     },
     "output_type": "display_data"
    }
   ],
   "source": [
    "library('ggplot2')\n",
    "ggplot(data=grd,mapping=aes(x=Var1,y=Var2))+geom_point()"
   ]
  },
  {
   "cell_type": "code",
   "execution_count": 47,
   "metadata": {},
   "outputs": [
    {
     "data": {
      "text/html": [
       "<table class=\"dataframe\">\n",
       "<caption>A data.frame: 6 × 3</caption>\n",
       "<thead>\n",
       "\t<tr><th></th><th scope=col>Sepal.Length</th><th scope=col>Sepal.Width</th><th scope=col>Pred</th></tr>\n",
       "\t<tr><th></th><th scope=col>&lt;dbl&gt;</th><th scope=col>&lt;dbl&gt;</th><th scope=col>&lt;fct&gt;</th></tr>\n",
       "</thead>\n",
       "<tbody>\n",
       "\t<tr><th scope=row>1</th><td>4.3</td><td>2</td><td>versicolor</td></tr>\n",
       "\t<tr><th scope=row>2</th><td>4.4</td><td>2</td><td>versicolor</td></tr>\n",
       "\t<tr><th scope=row>3</th><td>4.5</td><td>2</td><td>versicolor</td></tr>\n",
       "\t<tr><th scope=row>4</th><td>4.6</td><td>2</td><td>versicolor</td></tr>\n",
       "\t<tr><th scope=row>5</th><td>4.7</td><td>2</td><td>versicolor</td></tr>\n",
       "\t<tr><th scope=row>6</th><td>4.8</td><td>2</td><td>versicolor</td></tr>\n",
       "</tbody>\n",
       "</table>\n"
      ],
      "text/latex": [
       "A data.frame: 6 × 3\n",
       "\\begin{tabular}{r|lll}\n",
       "  & Sepal.Length & Sepal.Width & Pred\\\\\n",
       "  & <dbl> & <dbl> & <fct>\\\\\n",
       "\\hline\n",
       "\t1 & 4.3 & 2 & versicolor\\\\\n",
       "\t2 & 4.4 & 2 & versicolor\\\\\n",
       "\t3 & 4.5 & 2 & versicolor\\\\\n",
       "\t4 & 4.6 & 2 & versicolor\\\\\n",
       "\t5 & 4.7 & 2 & versicolor\\\\\n",
       "\t6 & 4.8 & 2 & versicolor\\\\\n",
       "\\end{tabular}\n"
      ],
      "text/markdown": [
       "\n",
       "A data.frame: 6 × 3\n",
       "\n",
       "| <!--/--> | Sepal.Length &lt;dbl&gt; | Sepal.Width &lt;dbl&gt; | Pred &lt;fct&gt; |\n",
       "|---|---|---|---|\n",
       "| 1 | 4.3 | 2 | versicolor |\n",
       "| 2 | 4.4 | 2 | versicolor |\n",
       "| 3 | 4.5 | 2 | versicolor |\n",
       "| 4 | 4.6 | 2 | versicolor |\n",
       "| 5 | 4.7 | 2 | versicolor |\n",
       "| 6 | 4.8 | 2 | versicolor |\n",
       "\n"
      ],
      "text/plain": [
       "  Sepal.Length Sepal.Width Pred      \n",
       "1 4.3          2           versicolor\n",
       "2 4.4          2           versicolor\n",
       "3 4.5          2           versicolor\n",
       "4 4.6          2           versicolor\n",
       "5 4.7          2           versicolor\n",
       "6 4.8          2           versicolor"
      ]
     },
     "metadata": {},
     "output_type": "display_data"
    }
   ],
   "source": [
    "pred_y = knn(train=trainx,test=grd,cl=trainy,k=5)\n",
    "grd_pred = cbind(grd,pred_y)\n",
    "colnames(grd_pred) <- c('Sepal.Length','Sepal.Width','Pred')\n",
    "head(grd_pred)"
   ]
  },
  {
   "cell_type": "code",
   "execution_count": 49,
   "metadata": {},
   "outputs": [
    {
     "data": {
      "image/png": "[encoded data removed]",
      "text/plain": [
       "plot without title"
      ]
     },
     "metadata": {
      "image/png": {
       "height": 420,
       "width": 420
      }
     },
     "output_type": "display_data"
    }
   ],
   "source": [
    "ggplot(data=grd_pred,mapping=aes(x=Sepal.Length,y=Sepal.Width,fill=Pred))+geom_tile()"
   ]
  },
  {
   "cell_type": "code",
   "execution_count": 53,
   "metadata": {},
   "outputs": [
    {
     "data": {
      "text/html": [
       "<table class=\"dataframe\">\n",
       "<caption>A data.frame: 6 × 3</caption>\n",
       "<thead>\n",
       "\t<tr><th></th><th scope=col>Sepal.Length</th><th scope=col>Sepal.Width</th><th scope=col>y</th></tr>\n",
       "\t<tr><th></th><th scope=col>&lt;dbl&gt;</th><th scope=col>&lt;dbl&gt;</th><th scope=col>&lt;fct&gt;</th></tr>\n",
       "</thead>\n",
       "<tbody>\n",
       "\t<tr><th scope=row>1</th><td>4.6</td><td>3.4</td><td>setosa    </td></tr>\n",
       "\t<tr><th scope=row>2</th><td>6.3</td><td>2.5</td><td>virginica </td></tr>\n",
       "\t<tr><th scope=row>3</th><td>5.7</td><td>2.8</td><td>versicolor</td></tr>\n",
       "\t<tr><th scope=row>4</th><td>6.4</td><td>2.9</td><td>versicolor</td></tr>\n",
       "\t<tr><th scope=row>5</th><td>6.9</td><td>3.1</td><td>virginica </td></tr>\n",
       "\t<tr><th scope=row>6</th><td>6.5</td><td>3.2</td><td>virginica </td></tr>\n",
       "</tbody>\n",
       "</table>\n"
      ],
      "text/latex": [
       "A data.frame: 6 × 3\n",
       "\\begin{tabular}{r|lll}\n",
       "  & Sepal.Length & Sepal.Width & y\\\\\n",
       "  & <dbl> & <dbl> & <fct>\\\\\n",
       "\\hline\n",
       "\t1 & 4.6 & 3.4 & setosa    \\\\\n",
       "\t2 & 6.3 & 2.5 & virginica \\\\\n",
       "\t3 & 5.7 & 2.8 & versicolor\\\\\n",
       "\t4 & 6.4 & 2.9 & versicolor\\\\\n",
       "\t5 & 6.9 & 3.1 & virginica \\\\\n",
       "\t6 & 6.5 & 3.2 & virginica \\\\\n",
       "\\end{tabular}\n"
      ],
      "text/markdown": [
       "\n",
       "A data.frame: 6 × 3\n",
       "\n",
       "| <!--/--> | Sepal.Length &lt;dbl&gt; | Sepal.Width &lt;dbl&gt; | y &lt;fct&gt; |\n",
       "|---|---|---|---|\n",
       "| 1 | 4.6 | 3.4 | setosa     |\n",
       "| 2 | 6.3 | 2.5 | virginica  |\n",
       "| 3 | 5.7 | 2.8 | versicolor |\n",
       "| 4 | 6.4 | 2.9 | versicolor |\n",
       "| 5 | 6.9 | 3.1 | virginica  |\n",
       "| 6 | 6.5 | 3.2 | virginica  |\n",
       "\n"
      ],
      "text/plain": [
       "  Sepal.Length Sepal.Width y         \n",
       "1 4.6          3.4         setosa    \n",
       "2 6.3          2.5         virginica \n",
       "3 5.7          2.8         versicolor\n",
       "4 6.4          2.9         versicolor\n",
       "5 6.9          3.1         virginica \n",
       "6 6.5          3.2         virginica "
      ]
     },
     "metadata": {},
     "output_type": "display_data"
    }
   ],
   "source": [
    "train_df = data.frame(Sepal.Length=trainx$Sepal.Length,\n",
    "                      Sepal.Width=trainx$Sepal.Width,\n",
    "                      y=trainy\n",
    ")\n",
    "head(train_df)"
   ]
  },
  {
   "cell_type": "code",
   "execution_count": 54,
   "metadata": {},
   "outputs": [
    {
     "data": {
      "text/html": [
       "<table class=\"dataframe\">\n",
       "<caption>A data.frame: 6 × 3</caption>\n",
       "<thead>\n",
       "\t<tr><th></th><th scope=col>Sepal.Length</th><th scope=col>Sepal.Width</th><th scope=col>y</th></tr>\n",
       "\t<tr><th></th><th scope=col>&lt;dbl&gt;</th><th scope=col>&lt;dbl&gt;</th><th scope=col>&lt;fct&gt;</th></tr>\n",
       "</thead>\n",
       "<tbody>\n",
       "\t<tr><th scope=row>1</th><td>4.9</td><td>3.0</td><td>setosa</td></tr>\n",
       "\t<tr><th scope=row>2</th><td>4.7</td><td>3.2</td><td>setosa</td></tr>\n",
       "\t<tr><th scope=row>3</th><td>4.6</td><td>3.1</td><td>setosa</td></tr>\n",
       "\t<tr><th scope=row>4</th><td>5.0</td><td>3.4</td><td>setosa</td></tr>\n",
       "\t<tr><th scope=row>5</th><td>5.4</td><td>3.7</td><td>setosa</td></tr>\n",
       "\t<tr><th scope=row>6</th><td>4.8</td><td>3.4</td><td>setosa</td></tr>\n",
       "</tbody>\n",
       "</table>\n"
      ],
      "text/latex": [
       "A data.frame: 6 × 3\n",
       "\\begin{tabular}{r|lll}\n",
       "  & Sepal.Length & Sepal.Width & y\\\\\n",
       "  & <dbl> & <dbl> & <fct>\\\\\n",
       "\\hline\n",
       "\t1 & 4.9 & 3.0 & setosa\\\\\n",
       "\t2 & 4.7 & 3.2 & setosa\\\\\n",
       "\t3 & 4.6 & 3.1 & setosa\\\\\n",
       "\t4 & 5.0 & 3.4 & setosa\\\\\n",
       "\t5 & 5.4 & 3.7 & setosa\\\\\n",
       "\t6 & 4.8 & 3.4 & setosa\\\\\n",
       "\\end{tabular}\n"
      ],
      "text/markdown": [
       "\n",
       "A data.frame: 6 × 3\n",
       "\n",
       "| <!--/--> | Sepal.Length &lt;dbl&gt; | Sepal.Width &lt;dbl&gt; | y &lt;fct&gt; |\n",
       "|---|---|---|---|\n",
       "| 1 | 4.9 | 3.0 | setosa |\n",
       "| 2 | 4.7 | 3.2 | setosa |\n",
       "| 3 | 4.6 | 3.1 | setosa |\n",
       "| 4 | 5.0 | 3.4 | setosa |\n",
       "| 5 | 5.4 | 3.7 | setosa |\n",
       "| 6 | 4.8 | 3.4 | setosa |\n",
       "\n"
      ],
      "text/plain": [
       "  Sepal.Length Sepal.Width y     \n",
       "1 4.9          3.0         setosa\n",
       "2 4.7          3.2         setosa\n",
       "3 4.6          3.1         setosa\n",
       "4 5.0          3.4         setosa\n",
       "5 5.4          3.7         setosa\n",
       "6 4.8          3.4         setosa"
      ]
     },
     "metadata": {},
     "output_type": "display_data"
    }
   ],
   "source": [
    "test_df = data.frame(Sepal.Length=testx$Sepal.Length,\n",
    "                      Sepal.Width=testx$Sepal.Width,\n",
    "                      y=testy\n",
    ")\n",
    "head(test_df)"
   ]
  },
  {
   "cell_type": "code",
   "execution_count": 57,
   "metadata": {},
   "outputs": [
    {
     "data": {
      "image/png": "[encoded data removed]",
      "text/plain": [
       "plot without title"
      ]
     },
     "metadata": {
      "image/png": {
       "height": 420,
       "width": 420
      }
     },
     "output_type": "display_data"
    }
   ],
   "source": [
    "ggplot(data=grd_pred,mapping=aes(x=Sepal.Length,y=Sepal.Width,fill=Pred))+geom_tile()+\n",
    "geom_point(data=train_df,mapping=aes(x=Sepal.Length,y=Sepal.Width,shape=y),inherit.aes=FALSE)"
   ]
  },
  {
   "cell_type": "code",
   "execution_count": 59,
   "metadata": {},
   "outputs": [
    {
     "data": {
      "image/png": "[encoded data removed]",
      "text/plain": [
       "plot without title"
      ]
     },
     "metadata": {
      "image/png": {
       "height": 420,
       "width": 420
      }
     },
     "output_type": "display_data"
    }
   ],
   "source": [
    "ggplot(data=grd_pred,mapping=aes(x=Sepal.Length,y=Sepal.Width,fill=Pred))+geom_tile()+\n",
    "geom_point(data=train_df,mapping=aes(x=Sepal.Length,y=Sepal.Width,shape=y),inherit.aes=FALSE)+\n",
    "geom_point(data=test_df,mapping=aes(x=Sepal.Length,y=Sepal.Width,fill=y),inherit.aes=FALSE,\n",
    "pch=21)"
   ]
  },
  {
   "cell_type": "code",
   "execution_count": 60,
   "metadata": {},
   "outputs": [],
   "source": [
    "plot_K = function(K){\n",
    "    pred_y = knn(train=trainx,test=grd,cl=trainy,k=K)\n",
    "    grd_pred = cbind(grd,pred_y)\n",
    "    colnames(grd_pred) <- c('Sepal.Length','Sepal.Width','Pred')\n",
    "\n",
    "    ggplot(data=grd_pred,mapping=aes(x=Sepal.Length,y=Sepal.Width,fill=Pred))+geom_tile()+\n",
    "    geom_point(data=train_df,mapping=aes(x=Sepal.Length,y=Sepal.Width,shape=y),inherit.aes=FALSE)+\n",
    "    geom_point(data=test_df,mapping=aes(x=Sepal.Length,y=Sepal.Width,fill=y),inherit.aes=FALSE,\n",
    "    pch=21)\n",
    "}"
   ]
  },
  {
   "cell_type": "code",
   "execution_count": 62,
   "metadata": {},
   "outputs": [
    {
     "data": {
      "image/png": "[encoded data removed]",
      "text/plain": [
       "plot without title"
      ]
     },
     "metadata": {
      "image/png": {
       "height": 420,
       "width": 420
      }
     },
     "output_type": "display_data"
    }
   ],
   "source": [
    "plot_K(1)"
   ]
  },
  {
   "cell_type": "code",
   "execution_count": 69,
   "metadata": {},
   "outputs": [
    {
     "data": {
      "image/png": "[encoded data removed]",
      "text/plain": [
       "plot without title"
      ]
     },
     "metadata": {
      "image/png": {
       "height": 420,
       "width": 420
      }
     },
     "output_type": "display_data"
    }
   ],
   "source": [
    "plot_K(15)"
   ]
  },
  {
   "cell_type": "code",
   "execution_count": 73,
   "metadata": {},
   "outputs": [
    {
     "data": {
      "image/png": "[encoded data removed]",
      "text/plain": [
       "plot without title"
      ]
     },
     "metadata": {
      "image/png": {
       "height": 420,
       "width": 420
      }
     },
     "output_type": "display_data"
    }
   ],
   "source": [
    "plot_K(50)"
   ]
  },
  {
   "cell_type": "code",
   "execution_count": 74,
   "metadata": {},
   "outputs": [
    {
     "data": {
      "image/png": "[encoded data removed]",
      "text/plain": [
       "plot without title"
      ]
     },
     "metadata": {
      "image/png": {
       "height": 420,
       "width": 420
      }
     },
     "output_type": "display_data"
    }
   ],
   "source": [
    "plot_K(45)"
   ]
  },
  {
   "cell_type": "code",
   "execution_count": null,
   "metadata": {},
   "outputs": [],
   "source": []
  }
 ],
 "metadata": {
  "jupytext": {
   "formats": "ipynb,Rmd,R",
   "main_language": "python"
  },
  "kernelspec": {
   "display_name": "",
   "name": ""
  },
  "language_info": {
   "name": ""
  }
 },
 "nbformat": 4,
 "nbformat_minor": 4
}
