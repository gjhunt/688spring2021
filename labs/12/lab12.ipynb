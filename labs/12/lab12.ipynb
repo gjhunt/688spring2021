{
 "cells": [
  {
   "cell_type": "markdown",
   "metadata": {},
   "source": [
    "# Lab 12 - Variable Selection\n",
    "## Lecture "
   ]
  },
  {
   "cell_type": "code",
   "execution_count": 1,
   "metadata": {},
   "outputs": [
    {
     "name": "stderr",
     "output_type": "stream",
     "text": [
      "Warning message:\n",
      "\"package 'leaps' was built under R version 4.0.4\"\n"
     ]
    }
   ],
   "source": [
    "library('MASS')\n",
    "library('leaps')"
   ]
  },
  {
   "cell_type": "code",
   "execution_count": 2,
   "metadata": {},
   "outputs": [],
   "source": [
    "data(mtcars)"
   ]
  },
  {
   "cell_type": "code",
   "execution_count": 3,
   "metadata": {},
   "outputs": [
    {
     "data": {
      "text/html": [
       "<table class=\"dataframe\">\n",
       "<caption>A data.frame: 6 × 11</caption>\n",
       "<thead>\n",
       "\t<tr><th></th><th scope=col>mpg</th><th scope=col>cyl</th><th scope=col>disp</th><th scope=col>hp</th><th scope=col>drat</th><th scope=col>wt</th><th scope=col>qsec</th><th scope=col>vs</th><th scope=col>am</th><th scope=col>gear</th><th scope=col>carb</th></tr>\n",
       "\t<tr><th></th><th scope=col>&lt;dbl&gt;</th><th scope=col>&lt;dbl&gt;</th><th scope=col>&lt;dbl&gt;</th><th scope=col>&lt;dbl&gt;</th><th scope=col>&lt;dbl&gt;</th><th scope=col>&lt;dbl&gt;</th><th scope=col>&lt;dbl&gt;</th><th scope=col>&lt;dbl&gt;</th><th scope=col>&lt;dbl&gt;</th><th scope=col>&lt;dbl&gt;</th><th scope=col>&lt;dbl&gt;</th></tr>\n",
       "</thead>\n",
       "<tbody>\n",
       "\t<tr><th scope=row>Mazda RX4</th><td>21.0</td><td>6</td><td>160</td><td>110</td><td>3.90</td><td>2.620</td><td>16.46</td><td>0</td><td>1</td><td>4</td><td>4</td></tr>\n",
       "\t<tr><th scope=row>Mazda RX4 Wag</th><td>21.0</td><td>6</td><td>160</td><td>110</td><td>3.90</td><td>2.875</td><td>17.02</td><td>0</td><td>1</td><td>4</td><td>4</td></tr>\n",
       "\t<tr><th scope=row>Datsun 710</th><td>22.8</td><td>4</td><td>108</td><td> 93</td><td>3.85</td><td>2.320</td><td>18.61</td><td>1</td><td>1</td><td>4</td><td>1</td></tr>\n",
       "\t<tr><th scope=row>Hornet 4 Drive</th><td>21.4</td><td>6</td><td>258</td><td>110</td><td>3.08</td><td>3.215</td><td>19.44</td><td>1</td><td>0</td><td>3</td><td>1</td></tr>\n",
       "\t<tr><th scope=row>Hornet Sportabout</th><td>18.7</td><td>8</td><td>360</td><td>175</td><td>3.15</td><td>3.440</td><td>17.02</td><td>0</td><td>0</td><td>3</td><td>2</td></tr>\n",
       "\t<tr><th scope=row>Valiant</th><td>18.1</td><td>6</td><td>225</td><td>105</td><td>2.76</td><td>3.460</td><td>20.22</td><td>1</td><td>0</td><td>3</td><td>1</td></tr>\n",
       "</tbody>\n",
       "</table>\n"
      ],
      "text/latex": [
       "A data.frame: 6 × 11\n",
       "\\begin{tabular}{r|lllllllllll}\n",
       "  & mpg & cyl & disp & hp & drat & wt & qsec & vs & am & gear & carb\\\\\n",
       "  & <dbl> & <dbl> & <dbl> & <dbl> & <dbl> & <dbl> & <dbl> & <dbl> & <dbl> & <dbl> & <dbl>\\\\\n",
       "\\hline\n",
       "\tMazda RX4 & 21.0 & 6 & 160 & 110 & 3.90 & 2.620 & 16.46 & 0 & 1 & 4 & 4\\\\\n",
       "\tMazda RX4 Wag & 21.0 & 6 & 160 & 110 & 3.90 & 2.875 & 17.02 & 0 & 1 & 4 & 4\\\\\n",
       "\tDatsun 710 & 22.8 & 4 & 108 &  93 & 3.85 & 2.320 & 18.61 & 1 & 1 & 4 & 1\\\\\n",
       "\tHornet 4 Drive & 21.4 & 6 & 258 & 110 & 3.08 & 3.215 & 19.44 & 1 & 0 & 3 & 1\\\\\n",
       "\tHornet Sportabout & 18.7 & 8 & 360 & 175 & 3.15 & 3.440 & 17.02 & 0 & 0 & 3 & 2\\\\\n",
       "\tValiant & 18.1 & 6 & 225 & 105 & 2.76 & 3.460 & 20.22 & 1 & 0 & 3 & 1\\\\\n",
       "\\end{tabular}\n"
      ],
      "text/markdown": [
       "\n",
       "A data.frame: 6 × 11\n",
       "\n",
       "| <!--/--> | mpg &lt;dbl&gt; | cyl &lt;dbl&gt; | disp &lt;dbl&gt; | hp &lt;dbl&gt; | drat &lt;dbl&gt; | wt &lt;dbl&gt; | qsec &lt;dbl&gt; | vs &lt;dbl&gt; | am &lt;dbl&gt; | gear &lt;dbl&gt; | carb &lt;dbl&gt; |\n",
       "|---|---|---|---|---|---|---|---|---|---|---|---|\n",
       "| Mazda RX4 | 21.0 | 6 | 160 | 110 | 3.90 | 2.620 | 16.46 | 0 | 1 | 4 | 4 |\n",
       "| Mazda RX4 Wag | 21.0 | 6 | 160 | 110 | 3.90 | 2.875 | 17.02 | 0 | 1 | 4 | 4 |\n",
       "| Datsun 710 | 22.8 | 4 | 108 |  93 | 3.85 | 2.320 | 18.61 | 1 | 1 | 4 | 1 |\n",
       "| Hornet 4 Drive | 21.4 | 6 | 258 | 110 | 3.08 | 3.215 | 19.44 | 1 | 0 | 3 | 1 |\n",
       "| Hornet Sportabout | 18.7 | 8 | 360 | 175 | 3.15 | 3.440 | 17.02 | 0 | 0 | 3 | 2 |\n",
       "| Valiant | 18.1 | 6 | 225 | 105 | 2.76 | 3.460 | 20.22 | 1 | 0 | 3 | 1 |\n",
       "\n"
      ],
      "text/plain": [
       "                  mpg  cyl disp hp  drat wt    qsec  vs am gear carb\n",
       "Mazda RX4         21.0 6   160  110 3.90 2.620 16.46 0  1  4    4   \n",
       "Mazda RX4 Wag     21.0 6   160  110 3.90 2.875 17.02 0  1  4    4   \n",
       "Datsun 710        22.8 4   108   93 3.85 2.320 18.61 1  1  4    1   \n",
       "Hornet 4 Drive    21.4 6   258  110 3.08 3.215 19.44 1  0  3    1   \n",
       "Hornet Sportabout 18.7 8   360  175 3.15 3.440 17.02 0  0  3    2   \n",
       "Valiant           18.1 6   225  105 2.76 3.460 20.22 1  0  3    1   "
      ]
     },
     "metadata": {},
     "output_type": "display_data"
    }
   ],
   "source": [
    "head(mtcars)"
   ]
  },
  {
   "cell_type": "code",
   "execution_count": 4,
   "metadata": {},
   "outputs": [
    {
     "data": {
      "text/html": [
       "\n",
       "<table width=\"100%\" summary=\"page for mtcars {datasets}\"><tr><td>mtcars {datasets}</td><td style=\"text-align: right;\">R Documentation</td></tr></table>\n",
       "\n",
       "<h2>Motor Trend Car Road Tests</h2>\n",
       "\n",
       "<h3>Description</h3>\n",
       "\n",
       "<p>The data was extracted from the 1974 <em>Motor Trend</em> US magazine,\n",
       "and comprises fuel consumption and 10 aspects of\n",
       "automobile design and performance for 32 automobiles (1973&ndash;74\n",
       "models).\n",
       "</p>\n",
       "\n",
       "\n",
       "<h3>Usage</h3>\n",
       "\n",
       "<pre>mtcars</pre>\n",
       "\n",
       "\n",
       "<h3>Format</h3>\n",
       "\n",
       "<p>A data frame with 32 observations on 11 (numeric) variables.\n",
       "</p>\n",
       "\n",
       "<table summary=\"Rd table\">\n",
       "<tr>\n",
       " <td style=\"text-align: right;\">\n",
       "    [, 1] </td><td style=\"text-align: left;\"> mpg  </td><td style=\"text-align: left;\"> Miles/(US) gallon </td>\n",
       "</tr>\n",
       "<tr>\n",
       " <td style=\"text-align: right;\">\n",
       "    [, 2] </td><td style=\"text-align: left;\"> cyl  </td><td style=\"text-align: left;\"> Number of cylinders </td>\n",
       "</tr>\n",
       "<tr>\n",
       " <td style=\"text-align: right;\">\n",
       "    [, 3] </td><td style=\"text-align: left;\"> disp </td><td style=\"text-align: left;\"> Displacement (cu.in.) </td>\n",
       "</tr>\n",
       "<tr>\n",
       " <td style=\"text-align: right;\">\n",
       "    [, 4] </td><td style=\"text-align: left;\"> hp   </td><td style=\"text-align: left;\"> Gross horsepower </td>\n",
       "</tr>\n",
       "<tr>\n",
       " <td style=\"text-align: right;\">\n",
       "    [, 5] </td><td style=\"text-align: left;\"> drat </td><td style=\"text-align: left;\"> Rear axle ratio </td>\n",
       "</tr>\n",
       "<tr>\n",
       " <td style=\"text-align: right;\">\n",
       "    [, 6] </td><td style=\"text-align: left;\"> wt   </td><td style=\"text-align: left;\"> Weight (1000 lbs) </td>\n",
       "</tr>\n",
       "<tr>\n",
       " <td style=\"text-align: right;\">\n",
       "    [, 7] </td><td style=\"text-align: left;\"> qsec </td><td style=\"text-align: left;\"> 1/4 mile time </td>\n",
       "</tr>\n",
       "<tr>\n",
       " <td style=\"text-align: right;\">\n",
       "    [, 8] </td><td style=\"text-align: left;\"> vs   </td><td style=\"text-align: left;\"> Engine (0 = V-shaped, 1 = straight) </td>\n",
       "</tr>\n",
       "<tr>\n",
       " <td style=\"text-align: right;\">\n",
       "    [, 9] </td><td style=\"text-align: left;\"> am   </td><td style=\"text-align: left;\"> Transmission (0 = automatic, 1 = manual) </td>\n",
       "</tr>\n",
       "<tr>\n",
       " <td style=\"text-align: right;\">\n",
       "    [,10] </td><td style=\"text-align: left;\"> gear </td><td style=\"text-align: left;\"> Number of forward gears </td>\n",
       "</tr>\n",
       "<tr>\n",
       " <td style=\"text-align: right;\">\n",
       "    [,11] </td><td style=\"text-align: left;\"> carb </td><td style=\"text-align: left;\"> Number of carburetors\n",
       "  </td>\n",
       "</tr>\n",
       "\n",
       "</table>\n",
       "\n",
       "\n",
       "\n",
       "<h3>Note</h3>\n",
       "\n",
       "<p>Henderson and Velleman (1981) comment in a footnote to Table 1:\n",
       "&lsquo;Hocking [original transcriber]'s noncrucial coding of the\n",
       "Mazda's rotary engine as a straight six-cylinder engine and the\n",
       "Porsche's flat engine as a V engine, as well as the inclusion of the\n",
       "diesel Mercedes 240D, have been retained to enable direct comparisons\n",
       "to be made with previous analyses.&rsquo;\n",
       "</p>\n",
       "\n",
       "\n",
       "<h3>Source</h3>\n",
       "\n",
       "<p>Henderson and Velleman (1981),\n",
       "Building multiple regression models interactively.\n",
       "<em>Biometrics</em>, <b>37</b>, 391&ndash;411.\n",
       "</p>\n",
       "\n",
       "\n",
       "<h3>Examples</h3>\n",
       "\n",
       "<pre>\n",
       "require(graphics)\n",
       "pairs(mtcars, main = \"mtcars data\", gap = 1/4)\n",
       "coplot(mpg ~ disp | as.factor(cyl), data = mtcars,\n",
       "       panel = panel.smooth, rows = 1)\n",
       "## possibly more meaningful, e.g., for summary() or bivariate plots:\n",
       "mtcars2 &lt;- within(mtcars, {\n",
       "   vs &lt;- factor(vs, labels = c(\"V\", \"S\"))\n",
       "   am &lt;- factor(am, labels = c(\"automatic\", \"manual\"))\n",
       "   cyl  &lt;- ordered(cyl)\n",
       "   gear &lt;- ordered(gear)\n",
       "   carb &lt;- ordered(carb)\n",
       "})\n",
       "summary(mtcars2)\n",
       "</pre>\n",
       "\n",
       "<hr /><div style=\"text-align: center;\">[Package <em>datasets</em> version 4.0.3 ]</div>"
      ],
      "text/latex": [
       "\\inputencoding{utf8}\n",
       "\\HeaderA{mtcars}{Motor Trend Car Road Tests}{mtcars}\n",
       "\\keyword{datasets}{mtcars}\n",
       "%\n",
       "\\begin{Description}\\relax\n",
       "The data was extracted from the 1974 \\emph{Motor Trend} US magazine,\n",
       "and comprises fuel consumption and 10 aspects of\n",
       "automobile design and performance for 32 automobiles (1973--74\n",
       "models).\n",
       "\\end{Description}\n",
       "%\n",
       "\\begin{Usage}\n",
       "\\begin{verbatim}\n",
       "mtcars\n",
       "\\end{verbatim}\n",
       "\\end{Usage}\n",
       "%\n",
       "\\begin{Format}\n",
       "A data frame with 32 observations on 11 (numeric) variables.\n",
       "\n",
       "\\Tabular{rll}{\n",
       "[, 1] & mpg  & Miles/(US) gallon \\\\{}\n",
       "[, 2] & cyl  & Number of cylinders \\\\{}\n",
       "[, 3] & disp & Displacement (cu.in.) \\\\{}\n",
       "[, 4] & hp   & Gross horsepower \\\\{}\n",
       "[, 5] & drat & Rear axle ratio \\\\{}\n",
       "[, 6] & wt   & Weight (1000 lbs) \\\\{}\n",
       "[, 7] & qsec & 1/4 mile time \\\\{}\n",
       "[, 8] & vs   & Engine (0 = V-shaped, 1 = straight) \\\\{}\n",
       "[, 9] & am   & Transmission (0 = automatic, 1 = manual) \\\\{}\n",
       "[,10] & gear & Number of forward gears \\\\{}\n",
       "[,11] & carb & Number of carburetors\n",
       "}\n",
       "\\end{Format}\n",
       "%\n",
       "\\begin{Note}\\relax\n",
       "Henderson and Velleman (1981) comment in a footnote to Table 1:\n",
       "`Hocking [original transcriber]'s noncrucial coding of the\n",
       "Mazda's rotary engine as a straight six-cylinder engine and the\n",
       "Porsche's flat engine as a V engine, as well as the inclusion of the\n",
       "diesel Mercedes 240D, have been retained to enable direct comparisons\n",
       "to be made with previous analyses.'\n",
       "\\end{Note}\n",
       "%\n",
       "\\begin{Source}\\relax\n",
       "Henderson and Velleman (1981),\n",
       "Building multiple regression models interactively.\n",
       "\\emph{Biometrics}, \\bold{37}, 391--411.\n",
       "\\end{Source}\n",
       "%\n",
       "\\begin{Examples}\n",
       "\\begin{ExampleCode}\n",
       "require(graphics)\n",
       "pairs(mtcars, main = \"mtcars data\", gap = 1/4)\n",
       "coplot(mpg ~ disp | as.factor(cyl), data = mtcars,\n",
       "       panel = panel.smooth, rows = 1)\n",
       "## possibly more meaningful, e.g., for summary() or bivariate plots:\n",
       "mtcars2 <- within(mtcars, {\n",
       "   vs <- factor(vs, labels = c(\"V\", \"S\"))\n",
       "   am <- factor(am, labels = c(\"automatic\", \"manual\"))\n",
       "   cyl  <- ordered(cyl)\n",
       "   gear <- ordered(gear)\n",
       "   carb <- ordered(carb)\n",
       "})\n",
       "summary(mtcars2)\n",
       "\\end{ExampleCode}\n",
       "\\end{Examples}"
      ],
      "text/plain": [
       "mtcars                package:datasets                 R Documentation\n",
       "\n",
       "_\bM_\bo_\bt_\bo_\br _\bT_\br_\be_\bn_\bd _\bC_\ba_\br _\bR_\bo_\ba_\bd _\bT_\be_\bs_\bt_\bs\n",
       "\n",
       "_\bD_\be_\bs_\bc_\br_\bi_\bp_\bt_\bi_\bo_\bn:\n",
       "\n",
       "     The data was extracted from the 1974 _Motor Trend_ US magazine,\n",
       "     and comprises fuel consumption and 10 aspects of automobile design\n",
       "     and performance for 32 automobiles (1973-74 models).\n",
       "\n",
       "_\bU_\bs_\ba_\bg_\be:\n",
       "\n",
       "     mtcars\n",
       "     \n",
       "_\bF_\bo_\br_\bm_\ba_\bt:\n",
       "\n",
       "     A data frame with 32 observations on 11 (numeric) variables.\n",
       "\n",
       "       [, 1]  mpg   Miles/(US) gallon                        \n",
       "       [, 2]  cyl   Number of cylinders                      \n",
       "       [, 3]  disp  Displacement (cu.in.)                    \n",
       "       [, 4]  hp    Gross horsepower                         \n",
       "       [, 5]  drat  Rear axle ratio                          \n",
       "       [, 6]  wt    Weight (1000 lbs)                        \n",
       "       [, 7]  qsec  1/4 mile time                            \n",
       "       [, 8]  vs    Engine (0 = V-shaped, 1 = straight)      \n",
       "       [, 9]  am    Transmission (0 = automatic, 1 = manual) \n",
       "       [,10]  gear  Number of forward gears                  \n",
       "       [,11]  carb  Number of carburetors                    \n",
       "      \n",
       "_\bN_\bo_\bt_\be:\n",
       "\n",
       "     Henderson and Velleman (1981) comment in a footnote to Table 1:\n",
       "     'Hocking [original transcriber]'s noncrucial coding of the Mazda's\n",
       "     rotary engine as a straight six-cylinder engine and the Porsche's\n",
       "     flat engine as a V engine, as well as the inclusion of the diesel\n",
       "     Mercedes 240D, have been retained to enable direct comparisons to\n",
       "     be made with previous analyses.'\n",
       "\n",
       "_\bS_\bo_\bu_\br_\bc_\be:\n",
       "\n",
       "     Henderson and Velleman (1981), Building multiple regression models\n",
       "     interactively.  _Biometrics_, *37*, 391-411.\n",
       "\n",
       "_\bE_\bx_\ba_\bm_\bp_\bl_\be_\bs:\n",
       "\n",
       "     require(graphics)\n",
       "     pairs(mtcars, main = \"mtcars data\", gap = 1/4)\n",
       "     coplot(mpg ~ disp | as.factor(cyl), data = mtcars,\n",
       "            panel = panel.smooth, rows = 1)\n",
       "     ## possibly more meaningful, e.g., for summary() or bivariate plots:\n",
       "     mtcars2 <- within(mtcars, {\n",
       "        vs <- factor(vs, labels = c(\"V\", \"S\"))\n",
       "        am <- factor(am, labels = c(\"automatic\", \"manual\"))\n",
       "        cyl  <- ordered(cyl)\n",
       "        gear <- ordered(gear)\n",
       "        carb <- ordered(carb)\n",
       "     })\n",
       "     summary(mtcars2)\n",
       "     "
      ]
     },
     "metadata": {},
     "output_type": "display_data"
    }
   ],
   "source": [
    "?mtcars"
   ]
  },
  {
   "cell_type": "code",
   "execution_count": 5,
   "metadata": {},
   "outputs": [
    {
     "data": {
      "text/html": [
       "\n",
       "<table width=\"100%\" summary=\"page for regsubsets {leaps}\"><tr><td>regsubsets {leaps}</td><td style=\"text-align: right;\">R Documentation</td></tr></table>\n",
       "\n",
       "<h2>functions for model selection</h2>\n",
       "\n",
       "<h3>Description</h3>\n",
       "\n",
       "<p>Model selection by exhaustive search, forward or backward\n",
       "stepwise, or sequential replacement</p>\n",
       "\n",
       "\n",
       "<h3>Usage</h3>\n",
       "\n",
       "<pre>\n",
       "regsubsets(x=, ...)\n",
       "\n",
       "## S3 method for class 'formula'\n",
       "regsubsets(x=, data=, weights=NULL, nbest=1, nvmax=8,\n",
       " force.in=NULL, force.out=NULL, intercept=TRUE,\n",
       " method=c(\"exhaustive\", \"backward\", \"forward\", \"seqrep\"),\n",
       " really.big=FALSE,\n",
       " nested=(nbest==1),...)\n",
       "\n",
       "## Default S3 method:\n",
       "regsubsets(x=, y=, weights=rep(1, length(y)), nbest=1, nvmax=8,\n",
       "force.in=NULL, force.out=NULL, intercept=TRUE,\n",
       " method=c(\"exhaustive\",\"backward\", \"forward\", \"seqrep\"),\n",
       "really.big=FALSE,nested=(nbest==1),...)\n",
       "\n",
       "## S3 method for class 'biglm'\n",
       "regsubsets(x,nbest=1,nvmax=8,force.in=NULL,\n",
       "method=c(\"exhaustive\",\"backward\", \"forward\", \"seqrep\"),\n",
       "really.big=FALSE,nested=(nbest==1),...)\n",
       "\n",
       "## S3 method for class 'regsubsets'\n",
       "summary(object,all.best=TRUE,matrix=TRUE,matrix.logical=FALSE,df=NULL,...)\n",
       "\n",
       "## S3 method for class 'regsubsets'\n",
       "coef(object,id,vcov=FALSE,...)\n",
       "## S3 method for class 'regsubsets'\n",
       "vcov(object,id,...)\n",
       "\n",
       "</pre>\n",
       "\n",
       "\n",
       "<h3>Arguments</h3>\n",
       "\n",
       "<table summary=\"R argblock\">\n",
       "<tr valign=\"top\"><td><code>x</code></td>\n",
       "<td>\n",
       "<p>design matrix or model formula for full model, or <code>biglm</code> object</p>\n",
       "</td></tr>\n",
       "<tr valign=\"top\"><td><code>data</code></td>\n",
       "<td>\n",
       "<p>Optional data frame</p>\n",
       "</td></tr>\n",
       "<tr valign=\"top\"><td><code>y</code></td>\n",
       "<td>\n",
       "<p>response vector</p>\n",
       "</td></tr>\n",
       "<tr valign=\"top\"><td><code>weights</code></td>\n",
       "<td>\n",
       "<p>weight vector</p>\n",
       "</td></tr>\n",
       "<tr valign=\"top\"><td><code>nbest</code></td>\n",
       "<td>\n",
       "<p>number of subsets of each size to record</p>\n",
       "</td></tr>\n",
       "<tr valign=\"top\"><td><code>nvmax</code></td>\n",
       "<td>\n",
       "<p>maximum size of subsets to examine</p>\n",
       "</td></tr>\n",
       "<tr valign=\"top\"><td><code>force.in</code></td>\n",
       "<td>\n",
       "<p>index to columns of design matrix that should be in all models</p>\n",
       "</td></tr>\n",
       "<tr valign=\"top\"><td><code>force.out</code></td>\n",
       "<td>\n",
       "<p>index to columns of design matrix that should be in no models</p>\n",
       "</td></tr>\n",
       "<tr valign=\"top\"><td><code>intercept</code></td>\n",
       "<td>\n",
       "<p>Add an intercept?</p>\n",
       "</td></tr>\n",
       "<tr valign=\"top\"><td><code>method</code></td>\n",
       "<td>\n",
       "<p>Use exhaustive search, forward selection, backward selection or sequential replacement to search.</p>\n",
       "</td></tr>\n",
       "<tr valign=\"top\"><td><code>really.big</code></td>\n",
       "<td>\n",
       "<p>Must be TRUE to perform exhaustive search on more than\n",
       "50 variables.</p>\n",
       "</td></tr>\n",
       "<tr valign=\"top\"><td><code>nested</code></td>\n",
       "<td>\n",
       "<p>See the Note below: if <code>nested=FALSE</code>, models with\n",
       "columns 1, 1 and 2, 1-3, and so on, will also be considered</p>\n",
       "</td></tr> \n",
       "<tr valign=\"top\"><td><code>object</code></td>\n",
       "<td>\n",
       "<p>regsubsets object</p>\n",
       "</td></tr>\n",
       "<tr valign=\"top\"><td><code>all.best</code></td>\n",
       "<td>\n",
       "<p>Show all the best subsets or just one of each size</p>\n",
       "</td></tr>\n",
       "<tr valign=\"top\"><td><code>matrix</code></td>\n",
       "<td>\n",
       "<p>Show a matrix of the variables in each model or just summary\n",
       "statistics</p>\n",
       "</td></tr>\n",
       "<tr valign=\"top\"><td><code>matrix.logical</code></td>\n",
       "<td>\n",
       "<p>With <code>matrix=TRUE</code>, the matrix is logical\n",
       "<code>TRUE</code>/<code>FALSE</code> or string <code>\"*\"</code>/<code>\" \"</code></p>\n",
       "</td></tr>\n",
       "<tr valign=\"top\"><td><code>df</code></td>\n",
       "<td>\n",
       "<p>Specify a number of degrees of freedom for the summary\n",
       "statistics. The default is <code>n-1</code></p>\n",
       "</td></tr>\n",
       "<tr valign=\"top\"><td><code>id</code></td>\n",
       "<td>\n",
       "<p>Which model or models (ordered as in the summary output) to\n",
       "return coefficients and variance matrix for</p>\n",
       "</td></tr>\n",
       "<tr valign=\"top\"><td><code>vcov</code></td>\n",
       "<td>\n",
       "<p>If <code>TRUE</code>, return the variance-covariance matrix as an attribute</p>\n",
       "</td></tr>\n",
       "<tr valign=\"top\"><td><code>...</code></td>\n",
       "<td>\n",
       "<p>Other arguments for future methods</p>\n",
       "</td></tr>\n",
       "</table>\n",
       "\n",
       "\n",
       "<h3>Details</h3>\n",
       "\n",
       "<p>Since this function returns separate best models of all sizes up to\n",
       "<code>nvmax</code> and since different model selection criteria such as AIC,\n",
       "BIC, CIC, DIC, ... differ only in how models of different sizes are compared, the\n",
       "results do not depend on the choice of cost-complexity tradeoff.\n",
       "</p>\n",
       "<p>When <code>x</code> is a <code>biglm</code> object it is assumed to be the full\n",
       "model, so <code>force.out</code> is not relevant. If there is an intercept it\n",
       "is forced in by default; specify a <code>force.in</code> as a logical vector\n",
       "with <code>FALSE</code> as the first element to allow the intercept to be\n",
       "dropped.\n",
       "</p>\n",
       "<p>The model search does not actually fit each model, so the returned\n",
       "object does not contain coefficients or standard errors.  Coefficients\n",
       "and the variance-covariance matrix for one or model models can be\n",
       "obtained with the <code>coef</code> and <code>vcov</code> methods.\n",
       "</p>\n",
       "\n",
       "\n",
       "<h3>Value</h3>\n",
       "\n",
       "<p><code>regsubsets</code> returns an object of class &quot;regsubsets&quot; containing no\n",
       "user-serviceable parts. It is designed to be processed by\n",
       "<code>summary.regsubsets</code>.\n",
       "</p>\n",
       "<p><code>summary.regsubsets</code> returns an object with elements\n",
       "</p>\n",
       "<table summary=\"R valueblock\">\n",
       "<tr valign=\"top\"><td><code>which</code></td>\n",
       "<td>\n",
       "<p>A logical matrix indicating which elements are in each\n",
       "model</p>\n",
       "</td></tr>\n",
       "<tr valign=\"top\"><td><code>rsq</code></td>\n",
       "<td>\n",
       "<p>The r-squared for each model</p>\n",
       "</td></tr>\n",
       "<tr valign=\"top\"><td><code>rss</code></td>\n",
       "<td>\n",
       "<p>Residual sum of squares for each model</p>\n",
       "</td></tr>\n",
       "<tr valign=\"top\"><td><code>adjr2</code></td>\n",
       "<td>\n",
       "<p>Adjusted r-squared</p>\n",
       "</td></tr>\n",
       "<tr valign=\"top\"><td><code>cp</code></td>\n",
       "<td>\n",
       "<p>Mallows' Cp</p>\n",
       "</td></tr>\n",
       "<tr valign=\"top\"><td><code>bic</code></td>\n",
       "<td>\n",
       "<p>Schwartz's information criterion, BIC</p>\n",
       "</td></tr>\n",
       "<tr valign=\"top\"><td><code>outmat</code></td>\n",
       "<td>\n",
       "<p>A version of the <code>which</code> component that is formatted\n",
       "for printing</p>\n",
       "</td></tr>\n",
       "<tr valign=\"top\"><td><code>obj</code></td>\n",
       "<td>\n",
       "<p>A copy of the <code>regsubsets</code> object</p>\n",
       "</td></tr>\n",
       "</table>\n",
       "<p>The <code>coef</code> method returns a coefficient vector or list of vectors,\n",
       "the <code>vcov</code> method returns a matrix or list of matrices.\n",
       "</p>\n",
       "\n",
       "\n",
       "<h3>Note</h3>\n",
       "\n",
       "<p>As part of the setup process, the code initially fits models with the\n",
       "first variable in <code>x</code>, the first two, the first three, and so on.\n",
       "For forward and backward selection it is possible that the model with the <code>k</code>\n",
       "first variables will be better than the model with <code>k</code>\n",
       "variables from the selection algorithm. If it is, the model with the\n",
       "first <code>k</code> variables will be returned, with a warning. This can\n",
       "happen for forward and backward selection. It (obviously) can't for\n",
       "exhaustive search.\n",
       "</p>\n",
       "<p>With <code>nbest=1</code> you can avoid these extra models with\n",
       "<code>nested=TRUE</code>, which is the default.\n",
       "</p>\n",
       "\n",
       "\n",
       "<h3>See Also</h3>\n",
       "\n",
       "<p><code>leaps</code>\n",
       "</p>\n",
       "\n",
       "\n",
       "<h3>Examples</h3>\n",
       "\n",
       "<pre>\n",
       "data(swiss)\n",
       "a&lt;-regsubsets(as.matrix(swiss[,-1]),swiss[,1])\n",
       "summary(a)\n",
       "b&lt;-regsubsets(Fertility~.,data=swiss,nbest=2)\n",
       "summary(b)\n",
       "\n",
       "coef(a, 1:3)\n",
       "vcov(a, 3)\n",
       "</pre>\n",
       "\n",
       "<hr /><div style=\"text-align: center;\">[Package <em>leaps</em> version 3.1 ]</div>"
      ],
      "text/latex": [
       "\\inputencoding{utf8}\n",
       "\\HeaderA{regsubsets}{functions for model selection}{regsubsets}\n",
       "\\aliasA{coef.regsubsets}{regsubsets}{coef.regsubsets}\n",
       "\\aliasA{print.regsubsets}{regsubsets}{print.regsubsets}\n",
       "\\aliasA{print.summary.regsubsets}{regsubsets}{print.summary.regsubsets}\n",
       "\\methaliasA{regsubsets.biglm}{regsubsets}{regsubsets.biglm}\n",
       "\\methaliasA{regsubsets.default}{regsubsets}{regsubsets.default}\n",
       "\\methaliasA{regsubsets.formula}{regsubsets}{regsubsets.formula}\n",
       "\\aliasA{summary.regsubsets}{regsubsets}{summary.regsubsets}\n",
       "\\aliasA{vcov.regsubsets}{regsubsets}{vcov.regsubsets}\n",
       "\\keyword{regression}{regsubsets}\n",
       "%\n",
       "\\begin{Description}\\relax\n",
       "Model selection by exhaustive search, forward or backward\n",
       "stepwise, or sequential replacement\n",
       "\\end{Description}\n",
       "%\n",
       "\\begin{Usage}\n",
       "\\begin{verbatim}\n",
       "regsubsets(x=, ...)\n",
       "\n",
       "## S3 method for class 'formula'\n",
       "regsubsets(x=, data=, weights=NULL, nbest=1, nvmax=8,\n",
       " force.in=NULL, force.out=NULL, intercept=TRUE,\n",
       " method=c(\"exhaustive\", \"backward\", \"forward\", \"seqrep\"),\n",
       " really.big=FALSE,\n",
       " nested=(nbest==1),...)\n",
       "\n",
       "## Default S3 method:\n",
       "regsubsets(x=, y=, weights=rep(1, length(y)), nbest=1, nvmax=8,\n",
       "force.in=NULL, force.out=NULL, intercept=TRUE,\n",
       " method=c(\"exhaustive\",\"backward\", \"forward\", \"seqrep\"),\n",
       "really.big=FALSE,nested=(nbest==1),...)\n",
       "\n",
       "## S3 method for class 'biglm'\n",
       "regsubsets(x,nbest=1,nvmax=8,force.in=NULL,\n",
       "method=c(\"exhaustive\",\"backward\", \"forward\", \"seqrep\"),\n",
       "really.big=FALSE,nested=(nbest==1),...)\n",
       "\n",
       "## S3 method for class 'regsubsets'\n",
       "summary(object,all.best=TRUE,matrix=TRUE,matrix.logical=FALSE,df=NULL,...)\n",
       "\n",
       "## S3 method for class 'regsubsets'\n",
       "coef(object,id,vcov=FALSE,...)\n",
       "## S3 method for class 'regsubsets'\n",
       "vcov(object,id,...)\n",
       "\n",
       "\\end{verbatim}\n",
       "\\end{Usage}\n",
       "%\n",
       "\\begin{Arguments}\n",
       "\\begin{ldescription}\n",
       "\\item[\\code{x}] design matrix or model formula for full model, or \\code{biglm} object\n",
       "\\item[\\code{data}] Optional data frame\n",
       "\\item[\\code{y}] response vector\n",
       "\\item[\\code{weights}] weight vector\n",
       "\\item[\\code{nbest}] number of subsets of each size to record\n",
       "\\item[\\code{nvmax}] maximum size of subsets to examine\n",
       "\\item[\\code{force.in}] index to columns of design matrix that should be in all models\n",
       "\\item[\\code{force.out}] index to columns of design matrix that should be in no models\n",
       "\\item[\\code{intercept}] Add an intercept?\n",
       "\\item[\\code{method}] Use exhaustive search, forward selection, backward selection or sequential replacement to search.\n",
       "\\item[\\code{really.big}] Must be TRUE to perform exhaustive search on more than\n",
       "50 variables.\n",
       "\\item[\\code{nested}] See the Note below: if \\code{nested=FALSE}, models with\n",
       "columns 1, 1 and 2, 1-3, and so on, will also be considered\n",
       "\n",
       "\\item[\\code{object}] regsubsets object\n",
       "\\item[\\code{all.best}] Show all the best subsets or just one of each size\n",
       "\\item[\\code{matrix}] Show a matrix of the variables in each model or just summary\n",
       "statistics\n",
       "\\item[\\code{matrix.logical}] With \\code{matrix=TRUE}, the matrix is logical\n",
       "\\code{TRUE}/\\code{FALSE} or string \\code{\"*\"}/\\code{\" \"}\n",
       "\\item[\\code{df}] Specify a number of degrees of freedom for the summary\n",
       "statistics. The default is \\code{n-1}\n",
       "\\item[\\code{id}] Which model or models (ordered as in the summary output) to\n",
       "return coefficients and variance matrix for\n",
       "\\item[\\code{vcov}] If \\code{TRUE}, return the variance-covariance matrix as an attribute\n",
       "\\item[\\code{...}] Other arguments for future methods\n",
       "\\end{ldescription}\n",
       "\\end{Arguments}\n",
       "%\n",
       "\\begin{Details}\\relax\n",
       "\n",
       "Since this function returns separate best models of all sizes up to\n",
       "\\code{nvmax} and since different model selection criteria such as AIC,\n",
       "BIC, CIC, DIC, ... differ only in how models of different sizes are compared, the\n",
       "results do not depend on the choice of cost-complexity tradeoff.\n",
       "\n",
       "When \\code{x} is a \\code{biglm} object it is assumed to be the full\n",
       "model, so \\code{force.out} is not relevant. If there is an intercept it\n",
       "is forced in by default; specify a \\code{force.in} as a logical vector\n",
       "with \\code{FALSE} as the first element to allow the intercept to be\n",
       "dropped.\n",
       "\n",
       "The model search does not actually fit each model, so the returned\n",
       "object does not contain coefficients or standard errors.  Coefficients\n",
       "and the variance-covariance matrix for one or model models can be\n",
       "obtained with the \\code{coef} and \\code{vcov} methods.\n",
       "\\end{Details}\n",
       "%\n",
       "\\begin{Value}\n",
       "\\code{regsubsets} returns an object of class \"regsubsets\" containing no\n",
       "user-serviceable parts. It is designed to be processed by\n",
       "\\code{\\LinkA{summary.regsubsets}{summary.regsubsets}}.\n",
       "\n",
       "\\code{summary.regsubsets} returns an object with elements\n",
       "\\begin{ldescription}\n",
       "\\item[\\code{which}] A logical matrix indicating which elements are in each\n",
       "model\n",
       "\\item[\\code{rsq}] The r-squared for each model\n",
       "\\item[\\code{rss}] Residual sum of squares for each model\n",
       "\\item[\\code{adjr2}] Adjusted r-squared\n",
       "\\item[\\code{cp}] Mallows' Cp\n",
       "\\item[\\code{bic}] Schwartz's information criterion, BIC\n",
       "\\item[\\code{outmat}] A version of the \\code{which} component that is formatted\n",
       "for printing\n",
       "\\item[\\code{obj}] A copy of the \\code{regsubsets} object\n",
       "\n",
       "\\end{ldescription}\n",
       "The \\code{coef} method returns a coefficient vector or list of vectors,\n",
       "the \\code{vcov} method returns a matrix or list of matrices.\n",
       "\\end{Value}\n",
       "%\n",
       "\\begin{Note}\\relax\n",
       "As part of the setup process, the code initially fits models with the\n",
       "first variable in \\code{x}, the first two, the first three, and so on.\n",
       "For forward and backward selection it is possible that the model with the \\code{k}\n",
       "first variables will be better than the model with \\code{k}\n",
       "variables from the selection algorithm. If it is, the model with the\n",
       "first \\code{k} variables will be returned, with a warning. This can\n",
       "happen for forward and backward selection. It (obviously) can't for\n",
       "exhaustive search.\n",
       "\n",
       "With \\code{nbest=1} you can avoid these extra models with\n",
       "\\code{nested=TRUE}, which is the default.\n",
       "\n",
       "\\end{Note}\n",
       "%\n",
       "\\begin{SeeAlso}\\relax\n",
       "\\code{\\LinkA{leaps}{leaps}}\n",
       "\\end{SeeAlso}\n",
       "%\n",
       "\\begin{Examples}\n",
       "\\begin{ExampleCode}\n",
       "data(swiss)\n",
       "a<-regsubsets(as.matrix(swiss[,-1]),swiss[,1])\n",
       "summary(a)\n",
       "b<-regsubsets(Fertility~.,data=swiss,nbest=2)\n",
       "summary(b)\n",
       "\n",
       "coef(a, 1:3)\n",
       "vcov(a, 3)\n",
       "\\end{ExampleCode}\n",
       "\\end{Examples}"
      ],
      "text/plain": [
       "regsubsets                package:leaps                R Documentation\n",
       "\n",
       "_\bf_\bu_\bn_\bc_\bt_\bi_\bo_\bn_\bs _\bf_\bo_\br _\bm_\bo_\bd_\be_\bl _\bs_\be_\bl_\be_\bc_\bt_\bi_\bo_\bn\n",
       "\n",
       "_\bD_\be_\bs_\bc_\br_\bi_\bp_\bt_\bi_\bo_\bn:\n",
       "\n",
       "     Model selection by exhaustive search, forward or backward\n",
       "     stepwise, or sequential replacement\n",
       "\n",
       "_\bU_\bs_\ba_\bg_\be:\n",
       "\n",
       "     regsubsets(x=, ...)\n",
       "     \n",
       "     ## S3 method for class 'formula'\n",
       "     regsubsets(x=, data=, weights=NULL, nbest=1, nvmax=8,\n",
       "      force.in=NULL, force.out=NULL, intercept=TRUE,\n",
       "      method=c(\"exhaustive\", \"backward\", \"forward\", \"seqrep\"),\n",
       "      really.big=FALSE,\n",
       "      nested=(nbest==1),...)\n",
       "     \n",
       "     ## Default S3 method:\n",
       "     regsubsets(x=, y=, weights=rep(1, length(y)), nbest=1, nvmax=8,\n",
       "     force.in=NULL, force.out=NULL, intercept=TRUE,\n",
       "      method=c(\"exhaustive\",\"backward\", \"forward\", \"seqrep\"),\n",
       "     really.big=FALSE,nested=(nbest==1),...)\n",
       "     \n",
       "     ## S3 method for class 'biglm'\n",
       "     regsubsets(x,nbest=1,nvmax=8,force.in=NULL,\n",
       "     method=c(\"exhaustive\",\"backward\", \"forward\", \"seqrep\"),\n",
       "     really.big=FALSE,nested=(nbest==1),...)\n",
       "     \n",
       "     ## S3 method for class 'regsubsets'\n",
       "     summary(object,all.best=TRUE,matrix=TRUE,matrix.logical=FALSE,df=NULL,...)\n",
       "     \n",
       "     ## S3 method for class 'regsubsets'\n",
       "     coef(object,id,vcov=FALSE,...)\n",
       "     ## S3 method for class 'regsubsets'\n",
       "     vcov(object,id,...)\n",
       "     \n",
       "_\bA_\br_\bg_\bu_\bm_\be_\bn_\bt_\bs:\n",
       "\n",
       "       x: design matrix or model formula for full model, or 'biglm'\n",
       "          object\n",
       "\n",
       "    data: Optional data frame\n",
       "\n",
       "       y: response vector\n",
       "\n",
       " weights: weight vector\n",
       "\n",
       "   nbest: number of subsets of each size to record\n",
       "\n",
       "   nvmax: maximum size of subsets to examine\n",
       "\n",
       "force.in: index to columns of design matrix that should be in all\n",
       "          models\n",
       "\n",
       "force.out: index to columns of design matrix that should be in no\n",
       "          models\n",
       "\n",
       "intercept: Add an intercept?\n",
       "\n",
       "  method: Use exhaustive search, forward selection, backward selection\n",
       "          or sequential replacement to search.\n",
       "\n",
       "really.big: Must be TRUE to perform exhaustive search on more than 50\n",
       "          variables.\n",
       "\n",
       "  nested: See the Note below: if 'nested=FALSE', models with columns 1,\n",
       "          1 and 2, 1-3, and so on, will also be considered\n",
       "\n",
       "  object: regsubsets object\n",
       "\n",
       "all.best: Show all the best subsets or just one of each size\n",
       "\n",
       "  matrix: Show a matrix of the variables in each model or just summary\n",
       "          statistics\n",
       "\n",
       "matrix.logical: With 'matrix=TRUE', the matrix is logical\n",
       "          'TRUE'/'FALSE' or string '\"*\"'/'\" \"'\n",
       "\n",
       "      df: Specify a number of degrees of freedom for the summary\n",
       "          statistics. The default is 'n-1'\n",
       "\n",
       "      id: Which model or models (ordered as in the summary output) to\n",
       "          return coefficients and variance matrix for\n",
       "\n",
       "    vcov: If 'TRUE', return the variance-covariance matrix as an\n",
       "          attribute\n",
       "\n",
       "     ...: Other arguments for future methods\n",
       "\n",
       "_\bD_\be_\bt_\ba_\bi_\bl_\bs:\n",
       "\n",
       "     Since this function returns separate best models of all sizes up\n",
       "     to 'nvmax' and since different model selection criteria such as\n",
       "     AIC, BIC, CIC, DIC, ... differ only in how models of different\n",
       "     sizes are compared, the results do not depend on the choice of\n",
       "     cost-complexity tradeoff.\n",
       "\n",
       "     When 'x' is a 'biglm' object it is assumed to be the full model,\n",
       "     so 'force.out' is not relevant. If there is an intercept it is\n",
       "     forced in by default; specify a 'force.in' as a logical vector\n",
       "     with 'FALSE' as the first element to allow the intercept to be\n",
       "     dropped.\n",
       "\n",
       "     The model search does not actually fit each model, so the returned\n",
       "     object does not contain coefficients or standard errors.\n",
       "     Coefficients and the variance-covariance matrix for one or model\n",
       "     models can be obtained with the 'coef' and 'vcov' methods.\n",
       "\n",
       "_\bV_\ba_\bl_\bu_\be:\n",
       "\n",
       "     'regsubsets' returns an object of class \"regsubsets\" containing no\n",
       "     user-serviceable parts. It is designed to be processed by\n",
       "     'summary.regsubsets'.\n",
       "\n",
       "     'summary.regsubsets' returns an object with elements\n",
       "\n",
       "   which: A logical matrix indicating which elements are in each model\n",
       "\n",
       "     rsq: The r-squared for each model\n",
       "\n",
       "     rss: Residual sum of squares for each model\n",
       "\n",
       "   adjr2: Adjusted r-squared\n",
       "\n",
       "      cp: Mallows' Cp\n",
       "\n",
       "     bic: Schwartz's information criterion, BIC\n",
       "\n",
       "  outmat: A version of the 'which' component that is formatted for\n",
       "          printing\n",
       "\n",
       "     obj: A copy of the 'regsubsets' object\n",
       "     The 'coef' method returns a coefficient vector or list of vectors,\n",
       "     the 'vcov' method returns a matrix or list of matrices.\n",
       "\n",
       "_\bN_\bo_\bt_\be:\n",
       "\n",
       "     As part of the setup process, the code initially fits models with\n",
       "     the first variable in 'x', the first two, the first three, and so\n",
       "     on. For forward and backward selection it is possible that the\n",
       "     model with the 'k' first variables will be better than the model\n",
       "     with 'k' variables from the selection algorithm. If it is, the\n",
       "     model with the first 'k' variables will be returned, with a\n",
       "     warning. This can happen for forward and backward selection. It\n",
       "     (obviously) can't for exhaustive search.\n",
       "\n",
       "     With 'nbest=1' you can avoid these extra models with\n",
       "     'nested=TRUE', which is the default.\n",
       "\n",
       "_\bS_\be_\be _\bA_\bl_\bs_\bo:\n",
       "\n",
       "     'leaps'\n",
       "\n",
       "_\bE_\bx_\ba_\bm_\bp_\bl_\be_\bs:\n",
       "\n",
       "     data(swiss)\n",
       "     a<-regsubsets(as.matrix(swiss[,-1]),swiss[,1])\n",
       "     summary(a)\n",
       "     b<-regsubsets(Fertility~.,data=swiss,nbest=2)\n",
       "     summary(b)\n",
       "     \n",
       "     coef(a, 1:3)\n",
       "     vcov(a, 3)\n",
       "     "
      ]
     },
     "metadata": {},
     "output_type": "display_data"
    }
   ],
   "source": [
    "?regsubsets"
   ]
  },
  {
   "cell_type": "code",
   "execution_count": 6,
   "metadata": {},
   "outputs": [
    {
     "data": {
      "text/html": [
       "<style>\n",
       ".list-inline {list-style: none; margin:0; padding: 0}\n",
       ".list-inline>li {display: inline-block}\n",
       ".list-inline>li:not(:last-child)::after {content: \"\\00b7\"; padding: 0 .5ex}\n",
       "</style>\n",
       "<ol class=list-inline><li>32</li><li>11</li></ol>\n"
      ],
      "text/latex": [
       "\\begin{enumerate*}\n",
       "\\item 32\n",
       "\\item 11\n",
       "\\end{enumerate*}\n"
      ],
      "text/markdown": [
       "1. 32\n",
       "2. 11\n",
       "\n",
       "\n"
      ],
      "text/plain": [
       "[1] 32 11"
      ]
     },
     "metadata": {},
     "output_type": "display_data"
    }
   ],
   "source": [
    "dim(mtcars)"
   ]
  },
  {
   "cell_type": "code",
   "execution_count": 7,
   "metadata": {},
   "outputs": [],
   "source": [
    "ss_mods = regsubsets(mpg~.,data=mtcars,method=\"forward\",nvmax=10)"
   ]
  },
  {
   "cell_type": "code",
   "execution_count": 8,
   "metadata": {},
   "outputs": [
    {
     "data": {
      "text/plain": [
       "Subset selection object\n",
       "Call: regsubsets.formula(mpg ~ ., data = mtcars, method = \"forward\", \n",
       "    nvmax = 10)\n",
       "10 Variables  (and intercept)\n",
       "     Forced in Forced out\n",
       "cyl      FALSE      FALSE\n",
       "disp     FALSE      FALSE\n",
       "hp       FALSE      FALSE\n",
       "drat     FALSE      FALSE\n",
       "wt       FALSE      FALSE\n",
       "qsec     FALSE      FALSE\n",
       "vs       FALSE      FALSE\n",
       "am       FALSE      FALSE\n",
       "gear     FALSE      FALSE\n",
       "carb     FALSE      FALSE\n",
       "1 subsets of each size up to 10\n",
       "Selection Algorithm: forward\n",
       "          cyl disp hp  drat wt  qsec vs  am  gear carb\n",
       "1  ( 1 )  \" \" \" \"  \" \" \" \"  \"*\" \" \"  \" \" \" \" \" \"  \" \" \n",
       "2  ( 1 )  \"*\" \" \"  \" \" \" \"  \"*\" \" \"  \" \" \" \" \" \"  \" \" \n",
       "3  ( 1 )  \"*\" \" \"  \"*\" \" \"  \"*\" \" \"  \" \" \" \" \" \"  \" \" \n",
       "4  ( 1 )  \"*\" \" \"  \"*\" \" \"  \"*\" \" \"  \" \" \"*\" \" \"  \" \" \n",
       "5  ( 1 )  \"*\" \" \"  \"*\" \" \"  \"*\" \"*\"  \" \" \"*\" \" \"  \" \" \n",
       "6  ( 1 )  \"*\" \"*\"  \"*\" \" \"  \"*\" \"*\"  \" \" \"*\" \" \"  \" \" \n",
       "7  ( 1 )  \"*\" \"*\"  \"*\" \"*\"  \"*\" \"*\"  \" \" \"*\" \" \"  \" \" \n",
       "8  ( 1 )  \"*\" \"*\"  \"*\" \"*\"  \"*\" \"*\"  \" \" \"*\" \"*\"  \" \" \n",
       "9  ( 1 )  \"*\" \"*\"  \"*\" \"*\"  \"*\" \"*\"  \" \" \"*\" \"*\"  \"*\" \n",
       "10  ( 1 ) \"*\" \"*\"  \"*\" \"*\"  \"*\" \"*\"  \"*\" \"*\" \"*\"  \"*\" "
      ]
     },
     "metadata": {},
     "output_type": "display_data"
    }
   ],
   "source": [
    "summary(ss_mods)"
   ]
  },
  {
   "cell_type": "code",
   "execution_count": 9,
   "metadata": {},
   "outputs": [],
   "source": [
    "ss_mods = regsubsets(mpg~.,data=mtcars,method=\"backward\",nvmax=10)"
   ]
  },
  {
   "cell_type": "code",
   "execution_count": 10,
   "metadata": {},
   "outputs": [
    {
     "data": {
      "text/plain": [
       "Subset selection object\n",
       "Call: regsubsets.formula(mpg ~ ., data = mtcars, method = \"backward\", \n",
       "    nvmax = 10)\n",
       "10 Variables  (and intercept)\n",
       "     Forced in Forced out\n",
       "cyl      FALSE      FALSE\n",
       "disp     FALSE      FALSE\n",
       "hp       FALSE      FALSE\n",
       "drat     FALSE      FALSE\n",
       "wt       FALSE      FALSE\n",
       "qsec     FALSE      FALSE\n",
       "vs       FALSE      FALSE\n",
       "am       FALSE      FALSE\n",
       "gear     FALSE      FALSE\n",
       "carb     FALSE      FALSE\n",
       "1 subsets of each size up to 10\n",
       "Selection Algorithm: backward\n",
       "          cyl disp hp  drat wt  qsec vs  am  gear carb\n",
       "1  ( 1 )  \" \" \" \"  \" \" \" \"  \"*\" \" \"  \" \" \" \" \" \"  \" \" \n",
       "2  ( 1 )  \" \" \" \"  \" \" \" \"  \"*\" \"*\"  \" \" \" \" \" \"  \" \" \n",
       "3  ( 1 )  \" \" \" \"  \" \" \" \"  \"*\" \"*\"  \" \" \"*\" \" \"  \" \" \n",
       "4  ( 1 )  \" \" \" \"  \"*\" \" \"  \"*\" \"*\"  \" \" \"*\" \" \"  \" \" \n",
       "5  ( 1 )  \" \" \"*\"  \"*\" \" \"  \"*\" \"*\"  \" \" \"*\" \" \"  \" \" \n",
       "6  ( 1 )  \" \" \"*\"  \"*\" \"*\"  \"*\" \"*\"  \" \" \"*\" \" \"  \" \" \n",
       "7  ( 1 )  \" \" \"*\"  \"*\" \"*\"  \"*\" \"*\"  \" \" \"*\" \"*\"  \" \" \n",
       "8  ( 1 )  \" \" \"*\"  \"*\" \"*\"  \"*\" \"*\"  \" \" \"*\" \"*\"  \"*\" \n",
       "9  ( 1 )  \" \" \"*\"  \"*\" \"*\"  \"*\" \"*\"  \"*\" \"*\" \"*\"  \"*\" \n",
       "10  ( 1 ) \"*\" \"*\"  \"*\" \"*\"  \"*\" \"*\"  \"*\" \"*\" \"*\"  \"*\" "
      ]
     },
     "metadata": {},
     "output_type": "display_data"
    }
   ],
   "source": [
    "summary(ss_mods)"
   ]
  },
  {
   "cell_type": "code",
   "execution_count": 11,
   "metadata": {},
   "outputs": [],
   "source": [
    "ss_mods = regsubsets(mpg~.,data=mtcars,method=\"exhaustive\",nvmax=10)"
   ]
  },
  {
   "cell_type": "code",
   "execution_count": 12,
   "metadata": {},
   "outputs": [
    {
     "data": {
      "text/plain": [
       "Subset selection object\n",
       "Call: regsubsets.formula(mpg ~ ., data = mtcars, method = \"exhaustive\", \n",
       "    nvmax = 10)\n",
       "10 Variables  (and intercept)\n",
       "     Forced in Forced out\n",
       "cyl      FALSE      FALSE\n",
       "disp     FALSE      FALSE\n",
       "hp       FALSE      FALSE\n",
       "drat     FALSE      FALSE\n",
       "wt       FALSE      FALSE\n",
       "qsec     FALSE      FALSE\n",
       "vs       FALSE      FALSE\n",
       "am       FALSE      FALSE\n",
       "gear     FALSE      FALSE\n",
       "carb     FALSE      FALSE\n",
       "1 subsets of each size up to 10\n",
       "Selection Algorithm: exhaustive\n",
       "          cyl disp hp  drat wt  qsec vs  am  gear carb\n",
       "1  ( 1 )  \" \" \" \"  \" \" \" \"  \"*\" \" \"  \" \" \" \" \" \"  \" \" \n",
       "2  ( 1 )  \"*\" \" \"  \" \" \" \"  \"*\" \" \"  \" \" \" \" \" \"  \" \" \n",
       "3  ( 1 )  \" \" \" \"  \" \" \" \"  \"*\" \"*\"  \" \" \"*\" \" \"  \" \" \n",
       "4  ( 1 )  \" \" \" \"  \"*\" \" \"  \"*\" \"*\"  \" \" \"*\" \" \"  \" \" \n",
       "5  ( 1 )  \" \" \"*\"  \"*\" \" \"  \"*\" \"*\"  \" \" \"*\" \" \"  \" \" \n",
       "6  ( 1 )  \" \" \"*\"  \"*\" \"*\"  \"*\" \"*\"  \" \" \"*\" \" \"  \" \" \n",
       "7  ( 1 )  \" \" \"*\"  \"*\" \"*\"  \"*\" \"*\"  \" \" \"*\" \"*\"  \" \" \n",
       "8  ( 1 )  \" \" \"*\"  \"*\" \"*\"  \"*\" \"*\"  \" \" \"*\" \"*\"  \"*\" \n",
       "9  ( 1 )  \" \" \"*\"  \"*\" \"*\"  \"*\" \"*\"  \"*\" \"*\" \"*\"  \"*\" \n",
       "10  ( 1 ) \"*\" \"*\"  \"*\" \"*\"  \"*\" \"*\"  \"*\" \"*\" \"*\"  \"*\" "
      ]
     },
     "metadata": {},
     "output_type": "display_data"
    }
   ],
   "source": [
    "summary(ss_mods)"
   ]
  },
  {
   "cell_type": "code",
   "execution_count": 13,
   "metadata": {},
   "outputs": [],
   "source": [
    "smry = summary(ss_mods)"
   ]
  },
  {
   "cell_type": "code",
   "execution_count": 14,
   "metadata": {},
   "outputs": [
    {
     "data": {
      "text/html": [
       "<style>\n",
       ".list-inline {list-style: none; margin:0; padding: 0}\n",
       ".list-inline>li {display: inline-block}\n",
       ".list-inline>li:not(:last-child)::after {content: \"\\00b7\"; padding: 0 .5ex}\n",
       "</style>\n",
       "<ol class=list-inline><li>'which'</li><li>'rsq'</li><li>'rss'</li><li>'adjr2'</li><li>'cp'</li><li>'bic'</li><li>'outmat'</li><li>'obj'</li></ol>\n"
      ],
      "text/latex": [
       "\\begin{enumerate*}\n",
       "\\item 'which'\n",
       "\\item 'rsq'\n",
       "\\item 'rss'\n",
       "\\item 'adjr2'\n",
       "\\item 'cp'\n",
       "\\item 'bic'\n",
       "\\item 'outmat'\n",
       "\\item 'obj'\n",
       "\\end{enumerate*}\n"
      ],
      "text/markdown": [
       "1. 'which'\n",
       "2. 'rsq'\n",
       "3. 'rss'\n",
       "4. 'adjr2'\n",
       "5. 'cp'\n",
       "6. 'bic'\n",
       "7. 'outmat'\n",
       "8. 'obj'\n",
       "\n",
       "\n"
      ],
      "text/plain": [
       "[1] \"which\"  \"rsq\"    \"rss\"    \"adjr2\"  \"cp\"     \"bic\"    \"outmat\" \"obj\"   "
      ]
     },
     "metadata": {},
     "output_type": "display_data"
    }
   ],
   "source": [
    "names(smry)"
   ]
  },
  {
   "cell_type": "code",
   "execution_count": 15,
   "metadata": {},
   "outputs": [
    {
     "data": {
      "text/html": [
       "<table class=\"dataframe\">\n",
       "<caption>A matrix: 10 × 11 of type lgl</caption>\n",
       "<thead>\n",
       "\t<tr><th></th><th scope=col>(Intercept)</th><th scope=col>cyl</th><th scope=col>disp</th><th scope=col>hp</th><th scope=col>drat</th><th scope=col>wt</th><th scope=col>qsec</th><th scope=col>vs</th><th scope=col>am</th><th scope=col>gear</th><th scope=col>carb</th></tr>\n",
       "</thead>\n",
       "<tbody>\n",
       "\t<tr><th scope=row>1</th><td>TRUE</td><td>FALSE</td><td>FALSE</td><td>FALSE</td><td>FALSE</td><td>TRUE</td><td>FALSE</td><td>FALSE</td><td>FALSE</td><td>FALSE</td><td>FALSE</td></tr>\n",
       "\t<tr><th scope=row>2</th><td>TRUE</td><td> TRUE</td><td>FALSE</td><td>FALSE</td><td>FALSE</td><td>TRUE</td><td>FALSE</td><td>FALSE</td><td>FALSE</td><td>FALSE</td><td>FALSE</td></tr>\n",
       "\t<tr><th scope=row>3</th><td>TRUE</td><td>FALSE</td><td>FALSE</td><td>FALSE</td><td>FALSE</td><td>TRUE</td><td> TRUE</td><td>FALSE</td><td> TRUE</td><td>FALSE</td><td>FALSE</td></tr>\n",
       "\t<tr><th scope=row>4</th><td>TRUE</td><td>FALSE</td><td>FALSE</td><td> TRUE</td><td>FALSE</td><td>TRUE</td><td> TRUE</td><td>FALSE</td><td> TRUE</td><td>FALSE</td><td>FALSE</td></tr>\n",
       "\t<tr><th scope=row>5</th><td>TRUE</td><td>FALSE</td><td> TRUE</td><td> TRUE</td><td>FALSE</td><td>TRUE</td><td> TRUE</td><td>FALSE</td><td> TRUE</td><td>FALSE</td><td>FALSE</td></tr>\n",
       "\t<tr><th scope=row>6</th><td>TRUE</td><td>FALSE</td><td> TRUE</td><td> TRUE</td><td> TRUE</td><td>TRUE</td><td> TRUE</td><td>FALSE</td><td> TRUE</td><td>FALSE</td><td>FALSE</td></tr>\n",
       "\t<tr><th scope=row>7</th><td>TRUE</td><td>FALSE</td><td> TRUE</td><td> TRUE</td><td> TRUE</td><td>TRUE</td><td> TRUE</td><td>FALSE</td><td> TRUE</td><td> TRUE</td><td>FALSE</td></tr>\n",
       "\t<tr><th scope=row>8</th><td>TRUE</td><td>FALSE</td><td> TRUE</td><td> TRUE</td><td> TRUE</td><td>TRUE</td><td> TRUE</td><td>FALSE</td><td> TRUE</td><td> TRUE</td><td> TRUE</td></tr>\n",
       "\t<tr><th scope=row>9</th><td>TRUE</td><td>FALSE</td><td> TRUE</td><td> TRUE</td><td> TRUE</td><td>TRUE</td><td> TRUE</td><td> TRUE</td><td> TRUE</td><td> TRUE</td><td> TRUE</td></tr>\n",
       "\t<tr><th scope=row>10</th><td>TRUE</td><td> TRUE</td><td> TRUE</td><td> TRUE</td><td> TRUE</td><td>TRUE</td><td> TRUE</td><td> TRUE</td><td> TRUE</td><td> TRUE</td><td> TRUE</td></tr>\n",
       "</tbody>\n",
       "</table>\n"
      ],
      "text/latex": [
       "A matrix: 10 × 11 of type lgl\n",
       "\\begin{tabular}{r|lllllllllll}\n",
       "  & (Intercept) & cyl & disp & hp & drat & wt & qsec & vs & am & gear & carb\\\\\n",
       "\\hline\n",
       "\t1 & TRUE & FALSE & FALSE & FALSE & FALSE & TRUE & FALSE & FALSE & FALSE & FALSE & FALSE\\\\\n",
       "\t2 & TRUE &  TRUE & FALSE & FALSE & FALSE & TRUE & FALSE & FALSE & FALSE & FALSE & FALSE\\\\\n",
       "\t3 & TRUE & FALSE & FALSE & FALSE & FALSE & TRUE &  TRUE & FALSE &  TRUE & FALSE & FALSE\\\\\n",
       "\t4 & TRUE & FALSE & FALSE &  TRUE & FALSE & TRUE &  TRUE & FALSE &  TRUE & FALSE & FALSE\\\\\n",
       "\t5 & TRUE & FALSE &  TRUE &  TRUE & FALSE & TRUE &  TRUE & FALSE &  TRUE & FALSE & FALSE\\\\\n",
       "\t6 & TRUE & FALSE &  TRUE &  TRUE &  TRUE & TRUE &  TRUE & FALSE &  TRUE & FALSE & FALSE\\\\\n",
       "\t7 & TRUE & FALSE &  TRUE &  TRUE &  TRUE & TRUE &  TRUE & FALSE &  TRUE &  TRUE & FALSE\\\\\n",
       "\t8 & TRUE & FALSE &  TRUE &  TRUE &  TRUE & TRUE &  TRUE & FALSE &  TRUE &  TRUE &  TRUE\\\\\n",
       "\t9 & TRUE & FALSE &  TRUE &  TRUE &  TRUE & TRUE &  TRUE &  TRUE &  TRUE &  TRUE &  TRUE\\\\\n",
       "\t10 & TRUE &  TRUE &  TRUE &  TRUE &  TRUE & TRUE &  TRUE &  TRUE &  TRUE &  TRUE &  TRUE\\\\\n",
       "\\end{tabular}\n"
      ],
      "text/markdown": [
       "\n",
       "A matrix: 10 × 11 of type lgl\n",
       "\n",
       "| <!--/--> | (Intercept) | cyl | disp | hp | drat | wt | qsec | vs | am | gear | carb |\n",
       "|---|---|---|---|---|---|---|---|---|---|---|---|\n",
       "| 1 | TRUE | FALSE | FALSE | FALSE | FALSE | TRUE | FALSE | FALSE | FALSE | FALSE | FALSE |\n",
       "| 2 | TRUE |  TRUE | FALSE | FALSE | FALSE | TRUE | FALSE | FALSE | FALSE | FALSE | FALSE |\n",
       "| 3 | TRUE | FALSE | FALSE | FALSE | FALSE | TRUE |  TRUE | FALSE |  TRUE | FALSE | FALSE |\n",
       "| 4 | TRUE | FALSE | FALSE |  TRUE | FALSE | TRUE |  TRUE | FALSE |  TRUE | FALSE | FALSE |\n",
       "| 5 | TRUE | FALSE |  TRUE |  TRUE | FALSE | TRUE |  TRUE | FALSE |  TRUE | FALSE | FALSE |\n",
       "| 6 | TRUE | FALSE |  TRUE |  TRUE |  TRUE | TRUE |  TRUE | FALSE |  TRUE | FALSE | FALSE |\n",
       "| 7 | TRUE | FALSE |  TRUE |  TRUE |  TRUE | TRUE |  TRUE | FALSE |  TRUE |  TRUE | FALSE |\n",
       "| 8 | TRUE | FALSE |  TRUE |  TRUE |  TRUE | TRUE |  TRUE | FALSE |  TRUE |  TRUE |  TRUE |\n",
       "| 9 | TRUE | FALSE |  TRUE |  TRUE |  TRUE | TRUE |  TRUE |  TRUE |  TRUE |  TRUE |  TRUE |\n",
       "| 10 | TRUE |  TRUE |  TRUE |  TRUE |  TRUE | TRUE |  TRUE |  TRUE |  TRUE |  TRUE |  TRUE |\n",
       "\n"
      ],
      "text/plain": [
       "   (Intercept) cyl   disp  hp    drat  wt   qsec  vs    am    gear  carb \n",
       "1  TRUE        FALSE FALSE FALSE FALSE TRUE FALSE FALSE FALSE FALSE FALSE\n",
       "2  TRUE         TRUE FALSE FALSE FALSE TRUE FALSE FALSE FALSE FALSE FALSE\n",
       "3  TRUE        FALSE FALSE FALSE FALSE TRUE  TRUE FALSE  TRUE FALSE FALSE\n",
       "4  TRUE        FALSE FALSE  TRUE FALSE TRUE  TRUE FALSE  TRUE FALSE FALSE\n",
       "5  TRUE        FALSE  TRUE  TRUE FALSE TRUE  TRUE FALSE  TRUE FALSE FALSE\n",
       "6  TRUE        FALSE  TRUE  TRUE  TRUE TRUE  TRUE FALSE  TRUE FALSE FALSE\n",
       "7  TRUE        FALSE  TRUE  TRUE  TRUE TRUE  TRUE FALSE  TRUE  TRUE FALSE\n",
       "8  TRUE        FALSE  TRUE  TRUE  TRUE TRUE  TRUE FALSE  TRUE  TRUE  TRUE\n",
       "9  TRUE        FALSE  TRUE  TRUE  TRUE TRUE  TRUE  TRUE  TRUE  TRUE  TRUE\n",
       "10 TRUE         TRUE  TRUE  TRUE  TRUE TRUE  TRUE  TRUE  TRUE  TRUE  TRUE"
      ]
     },
     "metadata": {},
     "output_type": "display_data"
    }
   ],
   "source": [
    "smry$which"
   ]
  },
  {
   "cell_type": "code",
   "execution_count": 16,
   "metadata": {},
   "outputs": [
    {
     "data": {
      "text/html": [
       "<style>\n",
       ".list-inline {list-style: none; margin:0; padding: 0}\n",
       ".list-inline>li {display: inline-block}\n",
       ".list-inline>li:not(:last-child)::after {content: \"\\00b7\"; padding: 0 .5ex}\n",
       "</style>\n",
       "<ol class=list-inline><li>0.752832793658264</li><li>0.830227393329409</li><li>0.849663556361707</li><li>0.857851019062361</li><li>0.863737676177572</li><li>0.866707845819489</li><li>0.868097637068196</li><li>0.868706368905678</li><li>0.868944833872251</li><li>0.869015764477765</li></ol>\n"
      ],
      "text/latex": [
       "\\begin{enumerate*}\n",
       "\\item 0.752832793658264\n",
       "\\item 0.830227393329409\n",
       "\\item 0.849663556361707\n",
       "\\item 0.857851019062361\n",
       "\\item 0.863737676177572\n",
       "\\item 0.866707845819489\n",
       "\\item 0.868097637068196\n",
       "\\item 0.868706368905678\n",
       "\\item 0.868944833872251\n",
       "\\item 0.869015764477765\n",
       "\\end{enumerate*}\n"
      ],
      "text/markdown": [
       "1. 0.752832793658264\n",
       "2. 0.830227393329409\n",
       "3. 0.849663556361707\n",
       "4. 0.857851019062361\n",
       "5. 0.863737676177572\n",
       "6. 0.866707845819489\n",
       "7. 0.868097637068196\n",
       "8. 0.868706368905678\n",
       "9. 0.868944833872251\n",
       "10. 0.869015764477765\n",
       "\n",
       "\n"
      ],
      "text/plain": [
       " [1] 0.7528328 0.8302274 0.8496636 0.8578510 0.8637377 0.8667078 0.8680976\n",
       " [8] 0.8687064 0.8689448 0.8690158"
      ]
     },
     "metadata": {},
     "output_type": "display_data"
    }
   ],
   "source": [
    "smry$rsq"
   ]
  },
  {
   "cell_type": "code",
   "execution_count": 17,
   "metadata": {},
   "outputs": [
    {
     "data": {
      "image/png": "[encoded data removed]",
      "text/plain": [
       "plot without title"
      ]
     },
     "metadata": {
      "image/png": {
       "height": 420,
       "width": 420
      }
     },
     "output_type": "display_data"
    }
   ],
   "source": [
    "plot(smry$rsq)"
   ]
  },
  {
   "cell_type": "code",
   "execution_count": 18,
   "metadata": {},
   "outputs": [
    {
     "data": {
      "image/png": "[encoded data removed]",
      "text/plain": [
       "plot without title"
      ]
     },
     "metadata": {
      "image/png": {
       "height": 420,
       "width": 420
      }
     },
     "output_type": "display_data"
    }
   ],
   "source": [
    "plot(smry$rss)"
   ]
  },
  {
   "cell_type": "code",
   "execution_count": 19,
   "metadata": {},
   "outputs": [
    {
     "data": {
      "text/html": [
       "<style>\n",
       ".list-inline {list-style: none; margin:0; padding: 0}\n",
       ".list-inline>li {display: inline-block}\n",
       ".list-inline>li:not(:last-child)::after {content: \"\\00b7\"; padding: 0 .5ex}\n",
       "</style>\n",
       "<ol class=list-inline><li>0.744593886780206</li><li>0.818518937696955</li><li>0.833556080257604</li><li>0.836791910775303</li><li>0.837533383134798</li><li>0.834717728816166</li><li>0.829626114546419</li><li>0.823039018959826</li><li>0.81533135681999</li><li>0.806642318990986</li></ol>\n"
      ],
      "text/latex": [
       "\\begin{enumerate*}\n",
       "\\item 0.744593886780206\n",
       "\\item 0.818518937696955\n",
       "\\item 0.833556080257604\n",
       "\\item 0.836791910775303\n",
       "\\item 0.837533383134798\n",
       "\\item 0.834717728816166\n",
       "\\item 0.829626114546419\n",
       "\\item 0.823039018959826\n",
       "\\item 0.81533135681999\n",
       "\\item 0.806642318990986\n",
       "\\end{enumerate*}\n"
      ],
      "text/markdown": [
       "1. 0.744593886780206\n",
       "2. 0.818518937696955\n",
       "3. 0.833556080257604\n",
       "4. 0.836791910775303\n",
       "5. 0.837533383134798\n",
       "6. 0.834717728816166\n",
       "7. 0.829626114546419\n",
       "8. 0.823039018959826\n",
       "9. 0.81533135681999\n",
       "10. 0.806642318990986\n",
       "\n",
       "\n"
      ],
      "text/plain": [
       " [1] 0.7445939 0.8185189 0.8335561 0.8367919 0.8375334 0.8347177 0.8296261\n",
       " [8] 0.8230390 0.8153314 0.8066423"
      ]
     },
     "metadata": {},
     "output_type": "display_data"
    }
   ],
   "source": [
    "smry$adjr2"
   ]
  },
  {
   "cell_type": "code",
   "execution_count": 20,
   "metadata": {},
   "outputs": [
    {
     "data": {
      "image/png": "[encoded data removed]",
      "text/plain": [
       "plot without title"
      ]
     },
     "metadata": {
      "image/png": {
       "height": 420,
       "width": 420
      }
     },
     "output_type": "display_data"
    }
   ],
   "source": [
    "plot(smry$adjr2)"
   ]
  },
  {
   "cell_type": "code",
   "execution_count": 21,
   "metadata": {},
   "outputs": [
    {
     "data": {
      "text/html": [
       "5"
      ],
      "text/latex": [
       "5"
      ],
      "text/markdown": [
       "5"
      ],
      "text/plain": [
       "[1] 5"
      ]
     },
     "metadata": {},
     "output_type": "display_data"
    }
   ],
   "source": [
    "ii = which.max(smry$adjr2)\n",
    "ii"
   ]
  },
  {
   "cell_type": "code",
   "execution_count": 22,
   "metadata": {},
   "outputs": [
    {
     "data": {
      "text/html": [
       "<style>\n",
       ".list-inline {list-style: none; margin:0; padding: 0}\n",
       ".list-inline>li {display: inline-block}\n",
       ".list-inline>li:not(:last-child)::after {content: \"\\00b7\"; padding: 0 .5ex}\n",
       "</style>\n",
       "<ol class=list-inline><li>'disp'</li><li>'hp'</li><li>'wt'</li><li>'qsec'</li><li>'am'</li></ol>\n"
      ],
      "text/latex": [
       "\\begin{enumerate*}\n",
       "\\item 'disp'\n",
       "\\item 'hp'\n",
       "\\item 'wt'\n",
       "\\item 'qsec'\n",
       "\\item 'am'\n",
       "\\end{enumerate*}\n"
      ],
      "text/markdown": [
       "1. 'disp'\n",
       "2. 'hp'\n",
       "3. 'wt'\n",
       "4. 'qsec'\n",
       "5. 'am'\n",
       "\n",
       "\n"
      ],
      "text/plain": [
       "[1] \"disp\" \"hp\"   \"wt\"   \"qsec\" \"am\"  "
      ]
     },
     "metadata": {},
     "output_type": "display_data"
    }
   ],
   "source": [
    "best_vars = colnames(smry$which)[smry$which[ii,]][-1]\n",
    "best_vars"
   ]
  },
  {
   "cell_type": "code",
   "execution_count": 23,
   "metadata": {},
   "outputs": [
    {
     "data": {
      "text/html": [
       "'mpg~disp+hp+wt+qsec+am'"
      ],
      "text/latex": [
       "'mpg\\textasciitilde{}disp+hp+wt+qsec+am'"
      ],
      "text/markdown": [
       "'mpg~disp+hp+wt+qsec+am'"
      ],
      "text/plain": [
       "[1] \"mpg~disp+hp+wt+qsec+am\""
      ]
     },
     "metadata": {},
     "output_type": "display_data"
    }
   ],
   "source": [
    "fmla = paste0(\"mpg~\",paste(best_vars,collapse=\"+\"))\n",
    "fmla"
   ]
  },
  {
   "cell_type": "code",
   "execution_count": 24,
   "metadata": {},
   "outputs": [],
   "source": [
    "best_mod = lm(as.formula(fmla),data=mtcars)"
   ]
  },
  {
   "cell_type": "code",
   "execution_count": 25,
   "metadata": {},
   "outputs": [
    {
     "data": {
      "image/png": "[encoded data removed]",
      "text/plain": [
       "plot without title"
      ]
     },
     "metadata": {
      "image/png": {
       "height": 420,
       "width": 420
      }
     },
     "output_type": "display_data"
    }
   ],
   "source": [
    "plot(mtcars$mpg,predict(best_mod))\n",
    "abline(coef=c(0,1))"
   ]
  },
  {
   "cell_type": "markdown",
   "metadata": {},
   "source": [
    "### Ted Talks Datset"
   ]
  },
  {
   "cell_type": "code",
   "execution_count": 26,
   "metadata": {},
   "outputs": [],
   "source": [
    "ted = readRDS('data/ted/ted_talks.rds')"
   ]
  },
  {
   "cell_type": "code",
   "execution_count": 27,
   "metadata": {},
   "outputs": [
    {
     "data": {
      "text/html": [
       "<style>\n",
       ".list-inline {list-style: none; margin:0; padding: 0}\n",
       ".list-inline>li {display: inline-block}\n",
       ".list-inline>li:not(:last-child)::after {content: \"\\00b7\"; padding: 0 .5ex}\n",
       "</style>\n",
       "<ol class=list-inline><li>2550</li><li>452</li></ol>\n"
      ],
      "text/latex": [
       "\\begin{enumerate*}\n",
       "\\item 2550\n",
       "\\item 452\n",
       "\\end{enumerate*}\n"
      ],
      "text/markdown": [
       "1. 2550\n",
       "2. 452\n",
       "\n",
       "\n"
      ],
      "text/plain": [
       "[1] 2550  452"
      ]
     },
     "metadata": {},
     "output_type": "display_data"
    }
   ],
   "source": [
    "dim(ted)"
   ]
  },
  {
   "cell_type": "code",
   "execution_count": 28,
   "metadata": {},
   "outputs": [
    {
     "data": {
      "text/html": [
       "<table class=\"dataframe\">\n",
       "<caption>A data.frame: 6 × 452</caption>\n",
       "<thead>\n",
       "\t<tr><th></th><th scope=col>duration</th><th scope=col>film_date</th><th scope=col>num_speaker</th><th scope=col>published_date</th><th scope=col>views</th><th scope=col>wordfreq_children</th><th scope=col>wordfreq_creativity</th><th scope=col>wordfreq_culture</th><th scope=col>wordfreq_dance</th><th scope=col>wordfreq_education</th><th scope=col>...</th><th scope=col>ratingfreq_Longwinded</th><th scope=col>ratingfreq_Confusing</th><th scope=col>ratingfreq_Informative</th><th scope=col>ratingfreq_Fascinating</th><th scope=col>ratingfreq_Unconvincing</th><th scope=col>ratingfreq_Persuasive</th><th scope=col>ratingfreq_Jaw.dropping</th><th scope=col>ratingfreq_OK</th><th scope=col>ratingfreq_Obnoxious</th><th scope=col>ratingfreq_Inspiring</th></tr>\n",
       "\t<tr><th></th><th scope=col>&lt;int&gt;</th><th scope=col>&lt;int&gt;</th><th scope=col>&lt;int&gt;</th><th scope=col>&lt;int&gt;</th><th scope=col>&lt;int&gt;</th><th scope=col>&lt;dbl&gt;</th><th scope=col>&lt;dbl&gt;</th><th scope=col>&lt;dbl&gt;</th><th scope=col>&lt;dbl&gt;</th><th scope=col>&lt;dbl&gt;</th><th scope=col>...</th><th scope=col>&lt;dbl&gt;</th><th scope=col>&lt;dbl&gt;</th><th scope=col>&lt;dbl&gt;</th><th scope=col>&lt;dbl&gt;</th><th scope=col>&lt;dbl&gt;</th><th scope=col>&lt;dbl&gt;</th><th scope=col>&lt;dbl&gt;</th><th scope=col>&lt;dbl&gt;</th><th scope=col>&lt;dbl&gt;</th><th scope=col>&lt;dbl&gt;</th></tr>\n",
       "</thead>\n",
       "<tbody>\n",
       "\t<tr><th scope=row>1</th><td>1164</td><td>1140825600</td><td>1</td><td>1151367060</td><td>47227110</td><td>1</td><td>1</td><td>1</td><td>1</td><td>1</td><td>...</td><td>0.004123601</td><td>0.002578583</td><td>0.078273841</td><td>0.11274374</td><td>0.00319659</td><td>0.114054342</td><td>0.04729888</td><td>0.01250932</td><td>0.002226958</td><td>0.265572722</td></tr>\n",
       "\t<tr><th scope=row>2</th><td> 977</td><td>1140825600</td><td>1</td><td>1151367060</td><td> 3200520</td><td>0</td><td>0</td><td>1</td><td>0</td><td>0</td><td>...</td><td>0.087874659</td><td>0.038487738</td><td>0.150885559</td><td>0.14066757</td><td>0.04495913</td><td>0.019073569</td><td>0.09128065</td><td>0.03950954</td><td>0.044618529</td><td>0.069141689</td></tr>\n",
       "\t<tr><th scope=row>3</th><td>1286</td><td>1140739200</td><td>1</td><td>1151367060</td><td> 1636292</td><td>0</td><td>0</td><td>0</td><td>0</td><td>0</td><td>...</td><td>0.036827195</td><td>0.027620397</td><td>0.139872521</td><td>0.08144476</td><td>0.05878187</td><td>0.009560907</td><td>0.05169972</td><td>0.08144476</td><td>0.019121813</td><td>0.050283286</td></tr>\n",
       "\t<tr><th scope=row>4</th><td>1116</td><td>1140912000</td><td>1</td><td>1151367060</td><td> 1697550</td><td>0</td><td>0</td><td>0</td><td>0</td><td>0</td><td>...</td><td>0.028165236</td><td>0.009656652</td><td>0.014216738</td><td>0.10193133</td><td>0.28701717</td><td>0.035407725</td><td>0.12339056</td><td>0.06169528</td><td>0.009388412</td><td>0.022800429</td></tr>\n",
       "\t<tr><th scope=row>5</th><td>1190</td><td>1140566400</td><td>1</td><td>1151440680</td><td>12005869</td><td>0</td><td>0</td><td>0</td><td>0</td><td>0</td><td>...</td><td>0.004293521</td><td>0.002810304</td><td>0.002615144</td><td>0.21206089</td><td>0.11291959</td><td>0.179781421</td><td>0.14582358</td><td>0.09921936</td><td>0.009679938</td><td>0.002380952</td></tr>\n",
       "\t<tr><th scope=row>6</th><td>1305</td><td>1138838400</td><td>1</td><td>1151440680</td><td>20685401</td><td>0</td><td>0</td><td>1</td><td>0</td><td>0</td><td>...</td><td>0.045975514</td><td>0.025853087</td><td>0.018559521</td><td>0.06759573</td><td>0.33934618</td><td>0.087913519</td><td>0.15778849</td><td>0.02871842</td><td>0.043566033</td><td>0.021815577</td></tr>\n",
       "</tbody>\n",
       "</table>\n"
      ],
      "text/latex": [
       "A data.frame: 6 × 452\n",
       "\\begin{tabular}{r|lllllllllllllllllllll}\n",
       "  & duration & film\\_date & num\\_speaker & published\\_date & views & wordfreq\\_children & wordfreq\\_creativity & wordfreq\\_culture & wordfreq\\_dance & wordfreq\\_education & ... & ratingfreq\\_Longwinded & ratingfreq\\_Confusing & ratingfreq\\_Informative & ratingfreq\\_Fascinating & ratingfreq\\_Unconvincing & ratingfreq\\_Persuasive & ratingfreq\\_Jaw.dropping & ratingfreq\\_OK & ratingfreq\\_Obnoxious & ratingfreq\\_Inspiring\\\\\n",
       "  & <int> & <int> & <int> & <int> & <int> & <dbl> & <dbl> & <dbl> & <dbl> & <dbl> & ... & <dbl> & <dbl> & <dbl> & <dbl> & <dbl> & <dbl> & <dbl> & <dbl> & <dbl> & <dbl>\\\\\n",
       "\\hline\n",
       "\t1 & 1164 & 1140825600 & 1 & 1151367060 & 47227110 & 1 & 1 & 1 & 1 & 1 & ... & 0.004123601 & 0.002578583 & 0.078273841 & 0.11274374 & 0.00319659 & 0.114054342 & 0.04729888 & 0.01250932 & 0.002226958 & 0.265572722\\\\\n",
       "\t2 &  977 & 1140825600 & 1 & 1151367060 &  3200520 & 0 & 0 & 1 & 0 & 0 & ... & 0.087874659 & 0.038487738 & 0.150885559 & 0.14066757 & 0.04495913 & 0.019073569 & 0.09128065 & 0.03950954 & 0.044618529 & 0.069141689\\\\\n",
       "\t3 & 1286 & 1140739200 & 1 & 1151367060 &  1636292 & 0 & 0 & 0 & 0 & 0 & ... & 0.036827195 & 0.027620397 & 0.139872521 & 0.08144476 & 0.05878187 & 0.009560907 & 0.05169972 & 0.08144476 & 0.019121813 & 0.050283286\\\\\n",
       "\t4 & 1116 & 1140912000 & 1 & 1151367060 &  1697550 & 0 & 0 & 0 & 0 & 0 & ... & 0.028165236 & 0.009656652 & 0.014216738 & 0.10193133 & 0.28701717 & 0.035407725 & 0.12339056 & 0.06169528 & 0.009388412 & 0.022800429\\\\\n",
       "\t5 & 1190 & 1140566400 & 1 & 1151440680 & 12005869 & 0 & 0 & 0 & 0 & 0 & ... & 0.004293521 & 0.002810304 & 0.002615144 & 0.21206089 & 0.11291959 & 0.179781421 & 0.14582358 & 0.09921936 & 0.009679938 & 0.002380952\\\\\n",
       "\t6 & 1305 & 1138838400 & 1 & 1151440680 & 20685401 & 0 & 0 & 1 & 0 & 0 & ... & 0.045975514 & 0.025853087 & 0.018559521 & 0.06759573 & 0.33934618 & 0.087913519 & 0.15778849 & 0.02871842 & 0.043566033 & 0.021815577\\\\\n",
       "\\end{tabular}\n"
      ],
      "text/markdown": [
       "\n",
       "A data.frame: 6 × 452\n",
       "\n",
       "| <!--/--> | duration &lt;int&gt; | film_date &lt;int&gt; | num_speaker &lt;int&gt; | published_date &lt;int&gt; | views &lt;int&gt; | wordfreq_children &lt;dbl&gt; | wordfreq_creativity &lt;dbl&gt; | wordfreq_culture &lt;dbl&gt; | wordfreq_dance &lt;dbl&gt; | wordfreq_education &lt;dbl&gt; | ... ... | ratingfreq_Longwinded &lt;dbl&gt; | ratingfreq_Confusing &lt;dbl&gt; | ratingfreq_Informative &lt;dbl&gt; | ratingfreq_Fascinating &lt;dbl&gt; | ratingfreq_Unconvincing &lt;dbl&gt; | ratingfreq_Persuasive &lt;dbl&gt; | ratingfreq_Jaw.dropping &lt;dbl&gt; | ratingfreq_OK &lt;dbl&gt; | ratingfreq_Obnoxious &lt;dbl&gt; | ratingfreq_Inspiring &lt;dbl&gt; |\n",
       "|---|---|---|---|---|---|---|---|---|---|---|---|---|---|---|---|---|---|---|---|---|---|\n",
       "| 1 | 1164 | 1140825600 | 1 | 1151367060 | 47227110 | 1 | 1 | 1 | 1 | 1 | ... | 0.004123601 | 0.002578583 | 0.078273841 | 0.11274374 | 0.00319659 | 0.114054342 | 0.04729888 | 0.01250932 | 0.002226958 | 0.265572722 |\n",
       "| 2 |  977 | 1140825600 | 1 | 1151367060 |  3200520 | 0 | 0 | 1 | 0 | 0 | ... | 0.087874659 | 0.038487738 | 0.150885559 | 0.14066757 | 0.04495913 | 0.019073569 | 0.09128065 | 0.03950954 | 0.044618529 | 0.069141689 |\n",
       "| 3 | 1286 | 1140739200 | 1 | 1151367060 |  1636292 | 0 | 0 | 0 | 0 | 0 | ... | 0.036827195 | 0.027620397 | 0.139872521 | 0.08144476 | 0.05878187 | 0.009560907 | 0.05169972 | 0.08144476 | 0.019121813 | 0.050283286 |\n",
       "| 4 | 1116 | 1140912000 | 1 | 1151367060 |  1697550 | 0 | 0 | 0 | 0 | 0 | ... | 0.028165236 | 0.009656652 | 0.014216738 | 0.10193133 | 0.28701717 | 0.035407725 | 0.12339056 | 0.06169528 | 0.009388412 | 0.022800429 |\n",
       "| 5 | 1190 | 1140566400 | 1 | 1151440680 | 12005869 | 0 | 0 | 0 | 0 | 0 | ... | 0.004293521 | 0.002810304 | 0.002615144 | 0.21206089 | 0.11291959 | 0.179781421 | 0.14582358 | 0.09921936 | 0.009679938 | 0.002380952 |\n",
       "| 6 | 1305 | 1138838400 | 1 | 1151440680 | 20685401 | 0 | 0 | 1 | 0 | 0 | ... | 0.045975514 | 0.025853087 | 0.018559521 | 0.06759573 | 0.33934618 | 0.087913519 | 0.15778849 | 0.02871842 | 0.043566033 | 0.021815577 |\n",
       "\n"
      ],
      "text/plain": [
       "  duration film_date  num_speaker published_date views    wordfreq_children\n",
       "1 1164     1140825600 1           1151367060     47227110 1                \n",
       "2  977     1140825600 1           1151367060      3200520 0                \n",
       "3 1286     1140739200 1           1151367060      1636292 0                \n",
       "4 1116     1140912000 1           1151367060      1697550 0                \n",
       "5 1190     1140566400 1           1151440680     12005869 0                \n",
       "6 1305     1138838400 1           1151440680     20685401 0                \n",
       "  wordfreq_creativity wordfreq_culture wordfreq_dance wordfreq_education ...\n",
       "1 1                   1                1              1                  ...\n",
       "2 0                   1                0              0                  ...\n",
       "3 0                   0                0              0                  ...\n",
       "4 0                   0                0              0                  ...\n",
       "5 0                   0                0              0                  ...\n",
       "6 0                   1                0              0                  ...\n",
       "  ratingfreq_Longwinded ratingfreq_Confusing ratingfreq_Informative\n",
       "1 0.004123601           0.002578583          0.078273841           \n",
       "2 0.087874659           0.038487738          0.150885559           \n",
       "3 0.036827195           0.027620397          0.139872521           \n",
       "4 0.028165236           0.009656652          0.014216738           \n",
       "5 0.004293521           0.002810304          0.002615144           \n",
       "6 0.045975514           0.025853087          0.018559521           \n",
       "  ratingfreq_Fascinating ratingfreq_Unconvincing ratingfreq_Persuasive\n",
       "1 0.11274374             0.00319659              0.114054342          \n",
       "2 0.14066757             0.04495913              0.019073569          \n",
       "3 0.08144476             0.05878187              0.009560907          \n",
       "4 0.10193133             0.28701717              0.035407725          \n",
       "5 0.21206089             0.11291959              0.179781421          \n",
       "6 0.06759573             0.33934618              0.087913519          \n",
       "  ratingfreq_Jaw.dropping ratingfreq_OK ratingfreq_Obnoxious\n",
       "1 0.04729888              0.01250932    0.002226958         \n",
       "2 0.09128065              0.03950954    0.044618529         \n",
       "3 0.05169972              0.08144476    0.019121813         \n",
       "4 0.12339056              0.06169528    0.009388412         \n",
       "5 0.14582358              0.09921936    0.009679938         \n",
       "6 0.15778849              0.02871842    0.043566033         \n",
       "  ratingfreq_Inspiring\n",
       "1 0.265572722         \n",
       "2 0.069141689         \n",
       "3 0.050283286         \n",
       "4 0.022800429         \n",
       "5 0.002380952         \n",
       "6 0.021815577         "
      ]
     },
     "metadata": {},
     "output_type": "display_data"
    }
   ],
   "source": [
    "head(ted)"
   ]
  },
  {
   "cell_type": "code",
   "execution_count": 29,
   "metadata": {},
   "outputs": [
    {
     "data": {
      "text/html": [
       "<style>\n",
       ".list-inline {list-style: none; margin:0; padding: 0}\n",
       ".list-inline>li {display: inline-block}\n",
       ".list-inline>li:not(:last-child)::after {content: \"\\00b7\"; padding: 0 .5ex}\n",
       "</style>\n",
       "<ol class=list-inline><li>'duration'</li><li>'film_date'</li><li>'num_speaker'</li><li>'published_date'</li><li>'views'</li><li>'wordfreq_children'</li></ol>\n"
      ],
      "text/latex": [
       "\\begin{enumerate*}\n",
       "\\item 'duration'\n",
       "\\item 'film\\_date'\n",
       "\\item 'num\\_speaker'\n",
       "\\item 'published\\_date'\n",
       "\\item 'views'\n",
       "\\item 'wordfreq\\_children'\n",
       "\\end{enumerate*}\n"
      ],
      "text/markdown": [
       "1. 'duration'\n",
       "2. 'film_date'\n",
       "3. 'num_speaker'\n",
       "4. 'published_date'\n",
       "5. 'views'\n",
       "6. 'wordfreq_children'\n",
       "\n",
       "\n"
      ],
      "text/plain": [
       "[1] \"duration\"          \"film_date\"         \"num_speaker\"      \n",
       "[4] \"published_date\"    \"views\"             \"wordfreq_children\""
      ]
     },
     "metadata": {},
     "output_type": "display_data"
    }
   ],
   "source": [
    "head(colnames(ted))"
   ]
  },
  {
   "cell_type": "code",
   "execution_count": 30,
   "metadata": {},
   "outputs": [
    {
     "data": {
      "image/png": "[encoded data removed]",
      "text/plain": [
       "Plot with title \"Histogram of ted$views\""
      ]
     },
     "metadata": {
      "image/png": {
       "height": 420,
       "width": 420
      }
     },
     "output_type": "display_data"
    }
   ],
   "source": [
    "hist(ted$views)"
   ]
  },
  {
   "cell_type": "code",
   "execution_count": 31,
   "metadata": {},
   "outputs": [
    {
     "data": {
      "image/png": "[encoded data removed]",
      "text/plain": [
       "Plot with title \"Histogram of log(ted$views)\""
      ]
     },
     "metadata": {
      "image/png": {
       "height": 420,
       "width": 420
      }
     },
     "output_type": "display_data"
    }
   ],
   "source": [
    "hist(log(ted$views))"
   ]
  },
  {
   "cell_type": "code",
   "execution_count": 32,
   "metadata": {},
   "outputs": [],
   "source": [
    "tdm = ted[,grep(\"word\",colnames(ted),value=TRUE)]\n",
    "df = data.frame(views=ted$views,tdm)\n",
    "df = head(df,n=100)"
   ]
  },
  {
   "cell_type": "code",
   "execution_count": 33,
   "metadata": {},
   "outputs": [
    {
     "data": {
      "text/html": [
       "<table class=\"dataframe\">\n",
       "<caption>A data.frame: 6 × 434</caption>\n",
       "<thead>\n",
       "\t<tr><th></th><th scope=col>views</th><th scope=col>wordfreq_children</th><th scope=col>wordfreq_creativity</th><th scope=col>wordfreq_culture</th><th scope=col>wordfreq_dance</th><th scope=col>wordfreq_education</th><th scope=col>wordfreq_parenting</th><th scope=col>wordfreq_teaching</th><th scope=col>wordfreq_alternative</th><th scope=col>wordfreq_cars</th><th scope=col>...</th><th scope=col>wordfreq_capitalism</th><th scope=col>wordfreq_refugees</th><th scope=col>wordfreq_grammar</th><th scope=col>wordfreq_discovery</th><th scope=col>wordfreq_blockchain</th><th scope=col>wordfreq_tednyc</th><th scope=col>wordfreq_residency</th><th scope=col>wordfreq_biosphere</th><th scope=col>wordfreq_epidemiology</th><th scope=col>wordfreq_funny</th></tr>\n",
       "\t<tr><th></th><th scope=col>&lt;int&gt;</th><th scope=col>&lt;dbl&gt;</th><th scope=col>&lt;dbl&gt;</th><th scope=col>&lt;dbl&gt;</th><th scope=col>&lt;dbl&gt;</th><th scope=col>&lt;dbl&gt;</th><th scope=col>&lt;dbl&gt;</th><th scope=col>&lt;dbl&gt;</th><th scope=col>&lt;dbl&gt;</th><th scope=col>&lt;dbl&gt;</th><th scope=col>...</th><th scope=col>&lt;dbl&gt;</th><th scope=col>&lt;dbl&gt;</th><th scope=col>&lt;dbl&gt;</th><th scope=col>&lt;dbl&gt;</th><th scope=col>&lt;dbl&gt;</th><th scope=col>&lt;dbl&gt;</th><th scope=col>&lt;dbl&gt;</th><th scope=col>&lt;dbl&gt;</th><th scope=col>&lt;dbl&gt;</th><th scope=col>&lt;dbl&gt;</th></tr>\n",
       "</thead>\n",
       "<tbody>\n",
       "\t<tr><th scope=row>1</th><td>47227110</td><td>1</td><td>1</td><td>1</td><td>1</td><td>1</td><td>1</td><td>1</td><td>0</td><td>0</td><td>...</td><td>0</td><td>0</td><td>0</td><td>0</td><td>0</td><td>0</td><td>0</td><td>0</td><td>0</td><td>0</td></tr>\n",
       "\t<tr><th scope=row>2</th><td> 3200520</td><td>0</td><td>0</td><td>1</td><td>0</td><td>0</td><td>0</td><td>0</td><td>1</td><td>1</td><td>...</td><td>0</td><td>0</td><td>0</td><td>0</td><td>0</td><td>0</td><td>0</td><td>0</td><td>0</td><td>0</td></tr>\n",
       "\t<tr><th scope=row>3</th><td> 1636292</td><td>0</td><td>0</td><td>0</td><td>0</td><td>0</td><td>0</td><td>0</td><td>0</td><td>0</td><td>...</td><td>0</td><td>0</td><td>0</td><td>0</td><td>0</td><td>0</td><td>0</td><td>0</td><td>0</td><td>0</td></tr>\n",
       "\t<tr><th scope=row>4</th><td> 1697550</td><td>0</td><td>0</td><td>0</td><td>0</td><td>0</td><td>0</td><td>0</td><td>0</td><td>0</td><td>...</td><td>0</td><td>0</td><td>0</td><td>0</td><td>0</td><td>0</td><td>0</td><td>0</td><td>0</td><td>0</td></tr>\n",
       "\t<tr><th scope=row>5</th><td>12005869</td><td>0</td><td>0</td><td>0</td><td>0</td><td>0</td><td>0</td><td>0</td><td>0</td><td>0</td><td>...</td><td>0</td><td>0</td><td>0</td><td>0</td><td>0</td><td>0</td><td>0</td><td>0</td><td>0</td><td>0</td></tr>\n",
       "\t<tr><th scope=row>6</th><td>20685401</td><td>0</td><td>0</td><td>1</td><td>0</td><td>0</td><td>0</td><td>0</td><td>0</td><td>0</td><td>...</td><td>0</td><td>0</td><td>0</td><td>0</td><td>0</td><td>0</td><td>0</td><td>0</td><td>0</td><td>0</td></tr>\n",
       "</tbody>\n",
       "</table>\n"
      ],
      "text/latex": [
       "A data.frame: 6 × 434\n",
       "\\begin{tabular}{r|lllllllllllllllllllll}\n",
       "  & views & wordfreq\\_children & wordfreq\\_creativity & wordfreq\\_culture & wordfreq\\_dance & wordfreq\\_education & wordfreq\\_parenting & wordfreq\\_teaching & wordfreq\\_alternative & wordfreq\\_cars & ... & wordfreq\\_capitalism & wordfreq\\_refugees & wordfreq\\_grammar & wordfreq\\_discovery & wordfreq\\_blockchain & wordfreq\\_tednyc & wordfreq\\_residency & wordfreq\\_biosphere & wordfreq\\_epidemiology & wordfreq\\_funny\\\\\n",
       "  & <int> & <dbl> & <dbl> & <dbl> & <dbl> & <dbl> & <dbl> & <dbl> & <dbl> & <dbl> & ... & <dbl> & <dbl> & <dbl> & <dbl> & <dbl> & <dbl> & <dbl> & <dbl> & <dbl> & <dbl>\\\\\n",
       "\\hline\n",
       "\t1 & 47227110 & 1 & 1 & 1 & 1 & 1 & 1 & 1 & 0 & 0 & ... & 0 & 0 & 0 & 0 & 0 & 0 & 0 & 0 & 0 & 0\\\\\n",
       "\t2 &  3200520 & 0 & 0 & 1 & 0 & 0 & 0 & 0 & 1 & 1 & ... & 0 & 0 & 0 & 0 & 0 & 0 & 0 & 0 & 0 & 0\\\\\n",
       "\t3 &  1636292 & 0 & 0 & 0 & 0 & 0 & 0 & 0 & 0 & 0 & ... & 0 & 0 & 0 & 0 & 0 & 0 & 0 & 0 & 0 & 0\\\\\n",
       "\t4 &  1697550 & 0 & 0 & 0 & 0 & 0 & 0 & 0 & 0 & 0 & ... & 0 & 0 & 0 & 0 & 0 & 0 & 0 & 0 & 0 & 0\\\\\n",
       "\t5 & 12005869 & 0 & 0 & 0 & 0 & 0 & 0 & 0 & 0 & 0 & ... & 0 & 0 & 0 & 0 & 0 & 0 & 0 & 0 & 0 & 0\\\\\n",
       "\t6 & 20685401 & 0 & 0 & 1 & 0 & 0 & 0 & 0 & 0 & 0 & ... & 0 & 0 & 0 & 0 & 0 & 0 & 0 & 0 & 0 & 0\\\\\n",
       "\\end{tabular}\n"
      ],
      "text/markdown": [
       "\n",
       "A data.frame: 6 × 434\n",
       "\n",
       "| <!--/--> | views &lt;int&gt; | wordfreq_children &lt;dbl&gt; | wordfreq_creativity &lt;dbl&gt; | wordfreq_culture &lt;dbl&gt; | wordfreq_dance &lt;dbl&gt; | wordfreq_education &lt;dbl&gt; | wordfreq_parenting &lt;dbl&gt; | wordfreq_teaching &lt;dbl&gt; | wordfreq_alternative &lt;dbl&gt; | wordfreq_cars &lt;dbl&gt; | ... ... | wordfreq_capitalism &lt;dbl&gt; | wordfreq_refugees &lt;dbl&gt; | wordfreq_grammar &lt;dbl&gt; | wordfreq_discovery &lt;dbl&gt; | wordfreq_blockchain &lt;dbl&gt; | wordfreq_tednyc &lt;dbl&gt; | wordfreq_residency &lt;dbl&gt; | wordfreq_biosphere &lt;dbl&gt; | wordfreq_epidemiology &lt;dbl&gt; | wordfreq_funny &lt;dbl&gt; |\n",
       "|---|---|---|---|---|---|---|---|---|---|---|---|---|---|---|---|---|---|---|---|---|---|\n",
       "| 1 | 47227110 | 1 | 1 | 1 | 1 | 1 | 1 | 1 | 0 | 0 | ... | 0 | 0 | 0 | 0 | 0 | 0 | 0 | 0 | 0 | 0 |\n",
       "| 2 |  3200520 | 0 | 0 | 1 | 0 | 0 | 0 | 0 | 1 | 1 | ... | 0 | 0 | 0 | 0 | 0 | 0 | 0 | 0 | 0 | 0 |\n",
       "| 3 |  1636292 | 0 | 0 | 0 | 0 | 0 | 0 | 0 | 0 | 0 | ... | 0 | 0 | 0 | 0 | 0 | 0 | 0 | 0 | 0 | 0 |\n",
       "| 4 |  1697550 | 0 | 0 | 0 | 0 | 0 | 0 | 0 | 0 | 0 | ... | 0 | 0 | 0 | 0 | 0 | 0 | 0 | 0 | 0 | 0 |\n",
       "| 5 | 12005869 | 0 | 0 | 0 | 0 | 0 | 0 | 0 | 0 | 0 | ... | 0 | 0 | 0 | 0 | 0 | 0 | 0 | 0 | 0 | 0 |\n",
       "| 6 | 20685401 | 0 | 0 | 1 | 0 | 0 | 0 | 0 | 0 | 0 | ... | 0 | 0 | 0 | 0 | 0 | 0 | 0 | 0 | 0 | 0 |\n",
       "\n"
      ],
      "text/plain": [
       "  views    wordfreq_children wordfreq_creativity wordfreq_culture\n",
       "1 47227110 1                 1                   1               \n",
       "2  3200520 0                 0                   1               \n",
       "3  1636292 0                 0                   0               \n",
       "4  1697550 0                 0                   0               \n",
       "5 12005869 0                 0                   0               \n",
       "6 20685401 0                 0                   1               \n",
       "  wordfreq_dance wordfreq_education wordfreq_parenting wordfreq_teaching\n",
       "1 1              1                  1                  1                \n",
       "2 0              0                  0                  0                \n",
       "3 0              0                  0                  0                \n",
       "4 0              0                  0                  0                \n",
       "5 0              0                  0                  0                \n",
       "6 0              0                  0                  0                \n",
       "  wordfreq_alternative wordfreq_cars ... wordfreq_capitalism wordfreq_refugees\n",
       "1 0                    0             ... 0                   0                \n",
       "2 1                    1             ... 0                   0                \n",
       "3 0                    0             ... 0                   0                \n",
       "4 0                    0             ... 0                   0                \n",
       "5 0                    0             ... 0                   0                \n",
       "6 0                    0             ... 0                   0                \n",
       "  wordfreq_grammar wordfreq_discovery wordfreq_blockchain wordfreq_tednyc\n",
       "1 0                0                  0                   0              \n",
       "2 0                0                  0                   0              \n",
       "3 0                0                  0                   0              \n",
       "4 0                0                  0                   0              \n",
       "5 0                0                  0                   0              \n",
       "6 0                0                  0                   0              \n",
       "  wordfreq_residency wordfreq_biosphere wordfreq_epidemiology wordfreq_funny\n",
       "1 0                  0                  0                     0             \n",
       "2 0                  0                  0                     0             \n",
       "3 0                  0                  0                     0             \n",
       "4 0                  0                  0                     0             \n",
       "5 0                  0                  0                     0             \n",
       "6 0                  0                  0                     0             "
      ]
     },
     "metadata": {},
     "output_type": "display_data"
    }
   ],
   "source": [
    "head(df)"
   ]
  },
  {
   "cell_type": "code",
   "execution_count": 34,
   "metadata": {},
   "outputs": [
    {
     "data": {
      "text/html": [
       "<style>\n",
       ".list-inline {list-style: none; margin:0; padding: 0}\n",
       ".list-inline>li {display: inline-block}\n",
       ".list-inline>li:not(:last-child)::after {content: \"\\00b7\"; padding: 0 .5ex}\n",
       "</style>\n",
       "<ol class=list-inline><li>100</li><li>434</li></ol>\n"
      ],
      "text/latex": [
       "\\begin{enumerate*}\n",
       "\\item 100\n",
       "\\item 434\n",
       "\\end{enumerate*}\n"
      ],
      "text/markdown": [
       "1. 100\n",
       "2. 434\n",
       "\n",
       "\n"
      ],
      "text/plain": [
       "[1] 100 434"
      ]
     },
     "metadata": {},
     "output_type": "display_data"
    }
   ],
   "source": [
    "dim(df)"
   ]
  },
  {
   "cell_type": "code",
   "execution_count": 35,
   "metadata": {},
   "outputs": [
    {
     "data": {
      "text/plain": [
       "\n",
       "Call:\n",
       "lm(formula = views ~ ., data = df)\n",
       "\n",
       "Coefficients:\n",
       "              (Intercept)          wordfreq_children  \n",
       "                 -2178927                  -23288624  \n",
       "      wordfreq_creativity           wordfreq_culture  \n",
       "                  3722392                    2475058  \n",
       "           wordfreq_dance         wordfreq_education  \n",
       "                 14038882                   24523062  \n",
       "       wordfreq_parenting          wordfreq_teaching  \n",
       "                -13738145                   41673411  \n",
       "     wordfreq_alternative              wordfreq_cars  \n",
       "                 -2114709                   -4721885  \n",
       "          wordfreq_change           wordfreq_climate  \n",
       "                   820363                    6818497  \n",
       "          wordfreq_energy       wordfreq_environment  \n",
       "                       NA                    1428897  \n",
       "          wordfreq_global            wordfreq_issues  \n",
       "                  8185934                   -8348732  \n",
       "         wordfreq_science    wordfreq_sustainability  \n",
       "                 -2427424                    1025324  \n",
       "      wordfreq_technology         wordfreq_computers  \n",
       "                  2238125                  -27220013  \n",
       "          wordfreq_design     wordfreq_entertainment  \n",
       "                  2701933                    8875091  \n",
       "       wordfreq_interface             wordfreq_media  \n",
       "                 17749782                    4053195  \n",
       "           wordfreq_music       wordfreq_performance  \n",
       "                    44467                   -6341918  \n",
       "      wordfreq_simplicity          wordfreq_software  \n",
       "                  3470024                   -1755467  \n",
       "        wordfreq_activism          wordfreq_business  \n",
       "                  -984151                    -942817  \n",
       "          wordfreq_cities             wordfreq_grant  \n",
       "                 -5891766                   -6807494  \n",
       "           wordfreq_green        wordfreq_inequality  \n",
       "                  5674211                         NA  \n",
       "       wordfreq_macarthur          wordfreq_politics  \n",
       "                       NA                    1550885  \n",
       "       wordfreq_pollution            wordfreq_africa  \n",
       "                  9848712                   -2988109  \n",
       "            wordfreq_asia              wordfreq_demo  \n",
       "                 37573960                  -18681826  \n",
       "     wordfreq_development         wordfreq_economics  \n",
       "                       NA                   -6486098  \n",
       "          wordfreq_google            wordfreq_health  \n",
       "                       NA                   14028281  \n",
       "            wordfreq_math        wordfreq_statistics  \n",
       "                       NA                     946926  \n",
       "  wordfreq_visualizations       wordfreq_goalsetting  \n",
       "                -18231472                   17226077  \n",
       "      wordfreq_motivation         wordfreq_potential  \n",
       "                -12848267                    9352906  \n",
       "      wordfreq_psychology           wordfreq_atheism  \n",
       "                 -1273720                  -11599768  \n",
       "    wordfreq_christianity            wordfreq_comedy  \n",
       "                 -3681428                    6654874  \n",
       "             wordfreq_god             wordfreq_humor  \n",
       "                 19485012                         NA  \n",
       "        wordfreq_religion      wordfreq_storytelling  \n",
       "                 -1379159                     336243  \n",
       "    wordfreq_architecture     wordfreq_collaboration  \n",
       "                   733362                    2230567  \n",
       "         wordfreq_library             wordfreq_brain  \n",
       "                 -4994253                    6832951  \n",
       "       wordfreq_cognitive     wordfreq_consciousness  \n",
       "                 -3990965                    4454936  \n",
       "       wordfreq_evolution        wordfreq_philosophy  \n",
       "                 -1582061                   -5495717  \n",
       "             wordfreq_ted             wordfreq_trust  \n",
       "                 -5132855                   -1251016  \n",
       "       wordfreq_happiness        wordfreq_leadership  \n",
       "                  3886524                         NA  \n",
       "    wordfreq_philanthropy          wordfreq_disaster  \n",
       "                 -2662819                   -6063541  \n",
       "       wordfreq_invention        wordfreq_opensource  \n",
       "                  2821249                    2301484  \n",
       "          wordfreq_relief               wordfreq_art  \n",
       "                       NA                   -3096308  \n",
       "            wordfreq_film            wordfreq_movies  \n",
       "                   970622                   -2518611  \n",
       "           wordfreq_peace             wordfreq_prize  \n",
       "                       NA                         NA  \n",
       "          wordfreq_social           wordfreq_disease  \n",
       "                       NA                   -8022636  \n",
       "           wordfreq_ebola      wordfreq_entrepreneur  \n",
       "                   121009                   -1632010  \n",
       "          wordfreq_violin        wordfreq_wunderkind  \n",
       "                  4910909                   -2607152  \n",
       "           wordfreq_youth             wordfreq_piano  \n",
       "                       NA                     114959  \n",
       "     wordfreq_engineering        wordfreq_industrial  \n",
       "                  -359679                    1344192  \n",
       "             wordfreq_and           wordfreq_biology  \n",
       "                 -8906770                    3483307  \n",
       "             wordfreq_dna            wordfreq_nature  \n",
       "                 -1743416                    5516305  \n",
       "         wordfreq_product         wordfreq_wikipedia  \n",
       "                 -5566318                  -11891373  \n",
       "       wordfreq_community     wordfreq_communication  \n",
       "                   825106                   -9817596  \n",
       "          wordfreq_gender              wordfreq_love  \n",
       "                -19816407                    4527489  \n",
       "   wordfreq_relationships           wordfreq_theater  \n",
       "                 35955144                   14058999  \n",
       "           wordfreq_women            wordfreq_cosmos  \n",
       "                       NA                   17228320  \n",
       "         wordfreq_physics          wordfreq_universe  \n",
       "                 -3945107                  -21198140  \n",
       "       wordfreq_astronomy         wordfreq_narcotics  \n",
       "                       NA                   15887764  \n",
       "            wordfreq_race            wordfreq_choice  \n",
       "                       NA                    8507819  \n",
       "     wordfreq_consumerism              wordfreq_food  \n",
       "                 19775570                  -15440569  \n",
       "       wordfreq_marketing    wordfreq_decisionmaking  \n",
       "                 -3075912                   15277948  \n",
       "          wordfreq_growth          wordfreq_personal  \n",
       "                -18617992                         NA  \n",
       "          wordfreq_cancer             wordfreq_aging  \n",
       "                       NA                         NA  \n",
       "         wordfreq_biotech              wordfreq_care  \n",
       "                       NA                         NA  \n",
       "          wordfreq_future        wordfreq_investment  \n",
       "                       NA                         NA  \n",
       "    wordfreq_microfinance           wordfreq_poverty  \n",
       "                       NA                         NA  \n",
       "         wordfreq_telecom    wordfreq_transportation  \n",
       "                       NA                         NA  \n",
       "      wordfreq_corruption          wordfreq_military  \n",
       "                       NA                         NA  \n",
       "          wordfreq_policy          wordfreq_aircraft  \n",
       "                       NA                         NA  \n",
       "          wordfreq_flight              wordfreq_nasa  \n",
       "                       NA                         NA  \n",
       "          wordfreq_rocket       wordfreq_exploration  \n",
       "                       NA                         NA  \n",
       "          wordfreq_sports            wordfreq_travel  \n",
       "                       NA                         NA  \n",
       "            wordfreq_aids       wordfreq_photography  \n",
       "                       NA                         NA  \n",
       "        wordfreq_medicine          wordfreq_genetics  \n",
       "                       NA                         NA  \n",
       "           wordfreq_faith          wordfreq_illusion  \n",
       "                       NA                         NA  \n",
       "          wordfreq_robots           wordfreq_history  \n",
       "                       NA                         NA  \n",
       "         wordfreq_success              wordfreq_work  \n",
       "                       NA                         NA  \n",
       "          wordfreq_poetry           wordfreq_obesity  \n",
       "                   -47411                         NA  \n",
       "    wordfreq_anthropology          wordfreq_language  \n",
       "                       NA                         NA  \n",
       "      wordfreq_complexity              wordfreq_time  \n",
       "                       NA                         NA  \n",
       "    wordfreq_evolutionary               wordfreq_war  \n",
       "                       NA                         NA  \n",
       "             wordfreq_map          wordfreq_planning  \n",
       "                       NA                         NA  \n",
       "           wordfreq_urban        wordfreq_innovation  \n",
       "                       NA                         NA  \n",
       "       wordfreq_interview            wordfreq_states  \n",
       "                       NA                         NA  \n",
       "          wordfreq_united         wordfreq_materials  \n",
       "                       NA                         NA  \n",
       "            wordfreq_code           wordfreq_balance  \n",
       "                       NA                         NA  \n",
       "        wordfreq_worklife              wordfreq_ants  \n",
       "                       NA                         NA  \n",
       "    wordfreq_biodiversity           wordfreq_ecology  \n",
       "                       NA                         NA  \n",
       "         wordfreq_insects           wordfreq_animals  \n",
       "                       NA                         NA  \n",
       "        wordfreq_primates        wordfreq_typography  \n",
       "                       NA                         NA  \n",
       "            wordfreq_live            wordfreq_singer  \n",
       "                       NA                         NA  \n",
       "       wordfreq_animation            wordfreq_brazil  \n",
       "                       NA                         NA  \n",
       "      wordfreq_biomimicry              wordfreq_fish  \n",
       "                       NA                         NA  \n",
       "          wordfreq_oceans              wordfreq_apes  \n",
       "                       NA                         NA  \n",
       "    wordfreq_intelligence      wordfreq_biomechanics  \n",
       "                       NA                         NA  \n",
       "          wordfreq_online             wordfreq_video  \n",
       "                       NA                         NA  \n",
       "          wordfreq_guitar            wordfreq_vocals  \n",
       "                       NA                         NA  \n",
       "           wordfreq_cello              wordfreq_self  \n",
       "                       NA                         NA  \n",
       "           wordfreq_china               wordfreq_web  \n",
       "                       NA                         NA  \n",
       "          wordfreq_memory            wordfreq_spoken  \n",
       "                       NA                         NA  \n",
       "            wordfreq_word         wordfreq_composing  \n",
       "                       NA                         NA  \n",
       "         wordfreq_natural           wordfreq_museums  \n",
       "                       NA                         NA  \n",
       "           wordfreq_water         wordfreq_microsoft  \n",
       "                       NA                         NA  \n",
       "         wordfreq_reality           wordfreq_virtual  \n",
       "                       NA                         NA  \n",
       "        wordfreq_buddhism             wordfreq_death  \n",
       "                       NA                         NA  \n",
       "             wordfreq_new              wordfreq_york  \n",
       "                       NA                         NA  \n",
       "       wordfreq_terrorism         wordfreq_adventure  \n",
       "                       NA                         NA  \n",
       "          wordfreq_mining              wordfreq_moon  \n",
       "                       NA                         NA  \n",
       "         wordfreq_planets             wordfreq_space  \n",
       "                       NA                         NA  \n",
       "            wordfreq_meme         wordfreq_bioethics  \n",
       "                       NA                         NA  \n",
       "          wordfreq_gaming        wordfreq_literature  \n",
       "                       NA                         NA  \n",
       "     wordfreq_prosthetics             wordfreq_books  \n",
       "                       NA                         NA  \n",
       "       wordfreq_sociology          wordfreq_violence  \n",
       "                       NA                         NA  \n",
       "           wordfreq_human          wordfreq_humanity  \n",
       "                       NA                         NA  \n",
       "         wordfreq_origins      wordfreq_paleontology  \n",
       "                       NA                         NA  \n",
       "        wordfreq_asteroid             wordfreq_solar  \n",
       "                       NA                         NA  \n",
       "          wordfreq_system            wordfreq_drones  \n",
       "                       NA                         NA  \n",
       "         wordfreq_illness        wordfreq_depression  \n",
       "                       NA                         NA  \n",
       "          wordfreq_mental           wordfreq_suicide  \n",
       "                       NA                         NA  \n",
       "             wordfreq_law            wordfreq_string  \n",
       "                       NA                         NA  \n",
       "          wordfreq_theory             wordfreq_magic  \n",
       "                       NA                         NA  \n",
       "      wordfreq_compassion           wordfreq_empathy  \n",
       "                       NA                         NA  \n",
       "         wordfreq_writing              wordfreq_play  \n",
       "                       NA                         NA  \n",
       "         wordfreq_america          wordfreq_cultures  \n",
       "                       NA                         NA  \n",
       "           wordfreq_south             wordfreq_world  \n",
       "                       NA                         NA  \n",
       "  wordfreq_infrastructure           wordfreq_ancient  \n",
       "                       NA                         NA  \n",
       "            wordfreq_bees            wordfreq_garden  \n",
       "                       NA                         NA  \n",
       "          wordfreq_plants               wordfreq_toy  \n",
       "                       NA                         NA  \n",
       "      wordfreq_telescopes              wordfreq_hack  \n",
       "                       NA                         NA  \n",
       "           wordfreq_heart            wordfreq_public  \n",
       "                       NA                         NA  \n",
       "            wordfreq_bang               wordfreq_big  \n",
       "                       NA                         NA  \n",
       "        wordfreq_bacteria      wordfreq_microbiology  \n",
       "                       NA                         NA  \n",
       "            wordfreq_news         wordfreq_submarine  \n",
       "                       NA                         NA  \n",
       "             wordfreq_sex           wordfreq_society  \n",
       "                       NA                         NA  \n",
       "     wordfreq_archaeology         wordfreq_dinosaurs  \n",
       "                       NA                         NA  \n",
       "          wordfreq_beauty           wordfreq_plastic  \n",
       "                       NA                         NA  \n",
       "        wordfreq_vaccines        wordfreq_conducting  \n",
       "                       NA                         NA  \n",
       "          wordfreq_family             wordfreq_trees  \n",
       "                       NA                         NA  \n",
       "    wordfreq_astrobiology  wordfreq_extraterrestrial  \n",
       "                       NA                         NA  \n",
       "            wordfreq_life         wordfreq_introvert  \n",
       "                       NA                         NA  \n",
       "     wordfreq_personality           wordfreq_origami  \n",
       "                       NA                         NA  \n",
       "            wordfreq_dark            wordfreq_matter  \n",
       "                       NA                         NA  \n",
       "        wordfreq_identity         wordfreq_nanoscale  \n",
       "                       NA                         NA  \n",
       "         wordfreq_geology          wordfreq_morality  \n",
       "                       NA                         NA  \n",
       "    wordfreq_presentation             wordfreq_crime  \n",
       "                       NA                         NA  \n",
       "            wordfreq_evil            wordfreq_prison  \n",
       "                       NA                         NA  \n",
       "       wordfreq_democracy             wordfreq_smell  \n",
       "                       NA                         NA  \n",
       "         wordfreq_charter               wordfreq_for  \n",
       "                       NA                         NA  \n",
       "          wordfreq_senses              wordfreq_mars  \n",
       "                       NA                         NA  \n",
       "         wordfreq_fashion        wordfreq_alzheimers  \n",
       "                       NA                         NA  \n",
       "       wordfreq_curiosity       wordfreq_programming  \n",
       "                       NA                         NA  \n",
       "       wordfreq_chemistry          wordfreq_shopping  \n",
       "                       NA                         NA  \n",
       "            wordfreq_body             wordfreq_virus  \n",
       "                       NA                         NA  \n",
       "            wordfreq_fear             wordfreq_birds  \n",
       "                       NA                         NA  \n",
       "            wordfreq_wind           wordfreq_extreme  \n",
       "                       NA                         NA  \n",
       "      wordfreq_prediction      wordfreq_productivity  \n",
       "                       NA                         NA  \n",
       "            wordfreq_mind           wordfreq_fellows  \n",
       "                       NA                         NA  \n",
       "       wordfreq_resources       wordfreq_agriculture  \n",
       "                       NA                         NA  \n",
       "           wordfreq_india      wordfreq_neuroscience  \n",
       "                       NA                         NA  \n",
       "            wordfreq_tedx             wordfreq_money  \n",
       "                       NA                         NA  \n",
       "   wordfreq_statebuilding      wordfreq_anthropocene  \n",
       "                       NA                         NA  \n",
       "          wordfreq_europe              wordfreq_data  \n",
       "                       NA                         NA  \n",
       "           wordfreq_sight          wordfreq_internet  \n",
       "                       NA                         NA  \n",
       "      wordfreq_government               wordfreq_men  \n",
       "                       NA                         NA  \n",
       "     wordfreq_advertising        wordfreq_sanitation  \n",
       "                       NA                         NA  \n",
       "         wordfreq_weather          wordfreq_problems  \n",
       "                       NA                         NA  \n",
       "          wordfreq_rivers            wordfreq_sexual  \n",
       "                       NA                         NA  \n",
       "         wordfreq_slavery       wordfreq_trafficking  \n",
       "                       NA                         NA  \n",
       "           wordfreq_egypt             wordfreq_novel  \n",
       "                       NA                         NA  \n",
       "        wordfreq_feminism            wordfreq_tedmed  \n",
       "                       NA                         NA  \n",
       "          wordfreq_autism          wordfreq_disorder  \n",
       "                       NA                         NA  \n",
       "        wordfreq_spectrum            wordfreq_botany  \n",
       "                       NA                         NA  \n",
       "            wordfreq_blue           wordfreq_mission  \n",
       "                       NA                         NA  \n",
       "      wordfreq_friendship           wordfreq_student  \n",
       "                       NA                         NA  \n",
       "             wordfreq_hiv           wordfreq_nuclear  \n",
       "                       NA                         NA  \n",
       "         wordfreq_weapons               wordfreq_oil  \n",
       "                       NA                         NA  \n",
       "            wordfreq_iraq      wordfreq_surveillance  \n",
       "                       NA                         NA  \n",
       "           wordfreq_islam           wordfreq_monkeys  \n",
       "                       NA                         NA  \n",
       "            wordfreq_lgbt              wordfreq_east  \n",
       "                       NA                         NA  \n",
       "            wordfreq_iran            wordfreq_middle  \n",
       "                       NA                         NA  \n",
       "           wordfreq_sound              wordfreq_ptsd  \n",
       "                       NA                         NA  \n",
       "      wordfreq_population     wordfreq_manufacturing  \n",
       "                       NA                         NA  \n",
       "        wordfreq_tedyouth          wordfreq_bullying  \n",
       "                       NA                         NA  \n",
       "        wordfreq_equality             wordfreq_sleep  \n",
       "                       NA                         NA  \n",
       "      wordfreq_journalism            wordfreq_cyborg  \n",
       "                       NA                         NA  \n",
       "         wordfreq_foreign           wordfreq_medical  \n",
       "                       NA                         NA  \n",
       "        wordfreq_research           wordfreq_surgery  \n",
       "                       NA                         NA  \n",
       "        wordfreq_protests      wordfreq_deextinction  \n",
       "                       NA                         NA  \n",
       "      wordfreq_disability       wordfreq_exoskeleton  \n",
       "                       NA                         NA  \n",
       "      wordfreq_driverless     wordfreq_crowdsourcing  \n",
       "                       NA                         NA  \n",
       "           wordfreq_brand            wordfreq_speech  \n",
       "                       NA                         NA  \n",
       "         wordfreq_failure          wordfreq_security  \n",
       "                       NA                         NA  \n",
       "            wordfreq_pain         wordfreq_blindness  \n",
       "                       NA                         NA  \n",
       "         wordfreq_glacier          wordfreq_mobility  \n",
       "                       NA                         NA  \n",
       "        wordfreq_espaÃ.ol            wordfreq_spaces  \n",
       "                       NA                         NA  \n",
       "     wordfreq_nonviolence   wordfreq_pharmaceuticals  \n",
       "                       NA                         NA  \n",
       "       wordfreq_molecular        wordfreq_behavioral  \n",
       "                       NA                         NA  \n",
       "         wordfreq_imaging        wordfreq_physiology  \n",
       "                       NA                         NA  \n",
       "       wordfreq_pregnancy         wordfreq_synthetic  \n",
       "                       NA                         NA  \n",
       "         wordfreq_hearing              wordfreq_jazz  \n",
       "                       NA                         NA  \n",
       "           wordfreq_nobel           wordfreq_finance  \n",
       "                       NA                         NA  \n",
       "       wordfreq_algorithm          wordfreq_printing  \n",
       "                       NA                         NA  \n",
       "            wordfreq_guns      wordfreq_conservation  \n",
       "                       NA                         NA  \n",
       "     wordfreq_immigration          wordfreq_criminal  \n",
       "                       NA                         NA  \n",
       "         wordfreq_justice             wordfreq_teded  \n",
       "                       NA                         NA  \n",
       "         wordfreq_privacy          wordfreq_microbes  \n",
       "                       NA                         NA  \n",
       "        wordfreq_learning           wordfreq_machine  \n",
       "                       NA                         NA  \n",
       "   wordfreq_skateboarding         wordfreq_augmented  \n",
       "                       NA                         NA  \n",
       "       wordfreq_forensics          wordfreq_painting  \n",
       "                       NA                         NA  \n",
       "        wordfreq_pandemic        wordfreq_meditation  \n",
       "                       NA                         NA  \n",
       "     wordfreq_mindfulness             wordfreq_syria  \n",
       "                       NA                         NA  \n",
       "     wordfreq_transgender           wordfreq_testing  \n",
       "                       NA                         NA  \n",
       "          wordfreq_debate           wordfreq_farming  \n",
       "                       NA                         NA  \n",
       "           wordfreq_cloud        wordfreq_television  \n",
       "                       NA                         NA  \n",
       "          wordfreq_street         wordfreq_addiction  \n",
       "                       NA                         NA  \n",
       "          wordfreq_crispr     wordfreq_vulnerability  \n",
       "                       NA                         NA  \n",
       "      wordfreq_capitalism          wordfreq_refugees  \n",
       "                       NA                         NA  \n",
       "         wordfreq_grammar         wordfreq_discovery  \n",
       "                       NA                         NA  \n",
       "      wordfreq_blockchain            wordfreq_tednyc  \n",
       "                       NA                         NA  \n",
       "       wordfreq_residency         wordfreq_biosphere  \n",
       "                       NA                         NA  \n",
       "    wordfreq_epidemiology             wordfreq_funny  \n",
       "                       NA                         NA  \n"
      ]
     },
     "metadata": {},
     "output_type": "display_data"
    }
   ],
   "source": [
    "lm(views~.,data=df)"
   ]
  },
  {
   "cell_type": "code",
   "execution_count": 36,
   "metadata": {},
   "outputs": [
    {
     "data": {
      "text/html": [
       "\n",
       "<table width=\"100%\" summary=\"page for kappa {base}\"><tr><td>kappa {base}</td><td style=\"text-align: right;\">R Documentation</td></tr></table>\n",
       "\n",
       "<h2>Compute or Estimate the Condition Number of a Matrix</h2>\n",
       "\n",
       "<h3>Description</h3>\n",
       "\n",
       "<p>The condition number of a regular (square) matrix is the product of\n",
       "the <em>norm</em> of the matrix and the norm of its inverse (or\n",
       "pseudo-inverse), and hence depends on the kind of matrix-norm.\n",
       "</p>\n",
       "<p><code>kappa()</code> computes by default (an estimate of) the 2-norm\n",
       "condition number of a matrix or of the <i>R</i> matrix of a <i>QR</i>\n",
       "decomposition, perhaps of a linear fit.  The 2-norm condition number\n",
       "can be shown to be the ratio of the largest to the smallest\n",
       "<em>non-zero</em> singular value of the matrix.\n",
       "</p>\n",
       "<p><code>rcond()</code> computes an approximation of the <b>r</b>eciprocal\n",
       "<b>cond</b>ition number, see the details.\n",
       "</p>\n",
       "\n",
       "\n",
       "<h3>Usage</h3>\n",
       "\n",
       "<pre>\n",
       "kappa(z, ...)\n",
       "## Default S3 method:\n",
       "kappa(z, exact = FALSE,\n",
       "      norm = NULL, method = c(\"qr\", \"direct\"), ...)\n",
       "## S3 method for class 'lm'\n",
       "kappa(z, ...)\n",
       "## S3 method for class 'qr'\n",
       "kappa(z, ...)\n",
       "\n",
       ".kappa_tri(z, exact = FALSE, LINPACK = TRUE, norm = NULL, ...)\n",
       "\n",
       "rcond(x, norm = c(\"O\",\"I\",\"1\"), triangular = FALSE, ...)\n",
       "</pre>\n",
       "\n",
       "\n",
       "<h3>Arguments</h3>\n",
       "\n",
       "<table summary=\"R argblock\">\n",
       "<tr valign=\"top\"><td><code>z, x</code></td>\n",
       "<td>\n",
       "<p>A matrix or a the result of <code>qr</code> or a fit from\n",
       "a class inheriting from <code>\"lm\"</code>.</p>\n",
       "</td></tr>\n",
       "<tr valign=\"top\"><td><code>exact</code></td>\n",
       "<td>\n",
       "<p>logical.  Should the result be exact?</p>\n",
       "</td></tr>\n",
       "<tr valign=\"top\"><td><code>norm</code></td>\n",
       "<td>\n",
       "<p>character string, specifying the matrix norm with respect\n",
       "to which the condition number is to be computed, see also\n",
       "<code>norm</code>.  For <code>rcond</code>, the default is <code>\"O\"</code>,\n",
       "meaning the <b>O</b>ne- or 1-norm.  The (currently only) other\n",
       "possible value is <code>\"I\"</code> for the infinity norm.</p>\n",
       "</td></tr>\n",
       "<tr valign=\"top\"><td><code>method</code></td>\n",
       "<td>\n",
       "<p>a partially matched character string specifying the method to be used;\n",
       "<code>\"qr\"</code> is the default for back-compatibility, mainly.</p>\n",
       "</td></tr>\n",
       "<tr valign=\"top\"><td><code>triangular</code></td>\n",
       "<td>\n",
       "<p>logical.  If true, the matrix used is just the lower\n",
       "triangular part of <code>z</code>.</p>\n",
       "</td></tr>\n",
       "<tr valign=\"top\"><td><code>LINPACK</code></td>\n",
       "<td>\n",
       "<p>logical.  If true and <code>z</code> is not complex, the\n",
       "LINPACK routine <code>dtrco()</code> is called; otherwise the relevant\n",
       "LAPACK routine is.</p>\n",
       "</td></tr>\n",
       "<tr valign=\"top\"><td><code>...</code></td>\n",
       "<td>\n",
       "<p>further arguments passed to or from other methods;\n",
       "for <code>kappa.*()</code>, notably <code>LINPACK</code> when <code>norm</code> is not\n",
       "<code>\"2\"</code>.</p>\n",
       "</td></tr>\n",
       "</table>\n",
       "\n",
       "\n",
       "<h3>Details</h3>\n",
       "\n",
       "<p>For <code>kappa()</code>, if <code>exact = FALSE</code> (the default) the 2-norm\n",
       "condition number is estimated by a cheap approximation.  However, the\n",
       "exact calculation (via <code>svd</code>) is also likely to be quick\n",
       "enough.\n",
       "</p>\n",
       "<p>Note that the 1- and Inf-norm condition numbers are much faster to\n",
       "calculate, and <code>rcond()</code> computes these <em><b>r</b>eciprocal</em>\n",
       "condition numbers, also for complex matrices, using standard LAPACK\n",
       "routines.\n",
       "</p>\n",
       "<p><code>kappa</code> and <code>rcond</code> are different interfaces to\n",
       "<em>partly</em> identical functionality.\n",
       "</p>\n",
       "<p><code>.kappa_tri</code> is an internal function called by <code>kappa.qr</code> and\n",
       "<code>kappa.default</code>.\n",
       "</p>\n",
       "<p>Unsuccessful results from the underlying LAPACK code will result in an\n",
       "error giving a positive error code: these can only be interpreted by\n",
       "detailed study of the FORTRAN code.\n",
       "</p>\n",
       "\n",
       "\n",
       "<h3>Value</h3>\n",
       "\n",
       "<p>The condition number, <i>kappa</i>, or an approximation if\n",
       "<code>exact = FALSE</code>.\n",
       "</p>\n",
       "\n",
       "\n",
       "<h3>Author(s)</h3>\n",
       "\n",
       "<p>The design was inspired by (but differs considerably from)\n",
       "the S function of the same name described in Chambers (1992).\n",
       "</p>\n",
       "\n",
       "\n",
       "<h3>Source</h3>\n",
       "\n",
       "<p>The LAPACK routines <code>DTRCON</code> and <code>ZTRCON</code> and the LINPACK\n",
       "routine <code>DTRCO</code>.\n",
       "</p>\n",
       "<p>LAPACK and LINPACK are from <a href=\"http://www.netlib.org/lapack/\">http://www.netlib.org/lapack/</a> and\n",
       "<a href=\"http://www.netlib.org/linpack/\">http://www.netlib.org/linpack/</a> and their guides are listed\n",
       "in the references.\n",
       "</p>\n",
       "\n",
       "\n",
       "<h3>References</h3>\n",
       "\n",
       "<p>Anderson. E. and ten others (1999)\n",
       "<em>LAPACK Users' Guide</em>. Third Edition. SIAM.<br />\n",
       "Available on-line at\n",
       "<a href=\"http://www.netlib.org/lapack/lug/lapack_lug.html\">http://www.netlib.org/lapack/lug/lapack_lug.html</a>.\n",
       "</p>\n",
       "<p>Chambers, J. M. (1992)\n",
       "<em>Linear models.</em>\n",
       "Chapter 4 of <em>Statistical Models in S</em>\n",
       "eds J. M. Chambers and T. J. Hastie, Wadsworth &amp; Brooks/Cole.\n",
       "</p>\n",
       "<p>Dongarra, J. J., Bunch, J. R., Moler, C. B. and Stewart, G. W. (1978)\n",
       "<em>LINPACK Users Guide.</em>  Philadelphia: SIAM Publications.\n",
       "</p>\n",
       "\n",
       "\n",
       "<h3>See Also</h3>\n",
       "\n",
       "<p><code>norm</code>;\n",
       "<code>svd</code> for the singular value decomposition and\n",
       "<code>qr</code> for the <i>QR</i> one.\n",
       "</p>\n",
       "\n",
       "\n",
       "<h3>Examples</h3>\n",
       "\n",
       "<pre>\n",
       "kappa(x1 &lt;- cbind(1, 1:10)) # 15.71\n",
       "kappa(x1, exact = TRUE)        # 13.68\n",
       "kappa(x2 &lt;- cbind(x1, 2:11)) # high! [x2 is singular!]\n",
       "\n",
       "hilbert &lt;- function(n) { i &lt;- 1:n; 1 / outer(i - 1, i, \"+\") }\n",
       "sv9 &lt;- svd(h9 &lt;- hilbert(9))$ d\n",
       "kappa(h9)  # pretty high!\n",
       "kappa(h9, exact = TRUE) == max(sv9) / min(sv9)\n",
       "kappa(h9, exact = TRUE) / kappa(h9)  # 0.677 (i.e., rel.error = 32%)\n",
       "</pre>\n",
       "\n",
       "<hr /><div style=\"text-align: center;\">[Package <em>base</em> version 4.0.3 ]</div>"
      ],
      "text/latex": [
       "\\inputencoding{utf8}\n",
       "\\HeaderA{kappa}{Compute or Estimate the Condition Number of a Matrix}{kappa}\n",
       "\\aliasA{.kappa\\_tri}{kappa}{.kappa.Rul.tri}\n",
       "\\methaliasA{kappa.default}{kappa}{kappa.default}\n",
       "\\methaliasA{kappa.lm}{kappa}{kappa.lm}\n",
       "\\methaliasA{kappa.qr}{kappa}{kappa.qr}\n",
       "\\aliasA{rcond}{kappa}{rcond}\n",
       "\\keyword{math}{kappa}\n",
       "%\n",
       "\\begin{Description}\\relax\n",
       "The condition number of a regular (square) matrix is the product of\n",
       "the \\emph{norm} of the matrix and the norm of its inverse (or\n",
       "pseudo-inverse), and hence depends on the kind of matrix-norm.\n",
       "\n",
       "\\code{kappa()} computes by default (an estimate of) the 2-norm\n",
       "condition number of a matrix or of the \\eqn{R}{} matrix of a \\eqn{QR}{}\n",
       "decomposition, perhaps of a linear fit.  The 2-norm condition number\n",
       "can be shown to be the ratio of the largest to the smallest\n",
       "\\emph{non-zero} singular value of the matrix.\n",
       "\n",
       "\\code{rcond()} computes an approximation of the \\bold{r}eciprocal\n",
       "\\bold{cond}ition number, see the details.\n",
       "\\end{Description}\n",
       "%\n",
       "\\begin{Usage}\n",
       "\\begin{verbatim}\n",
       "kappa(z, ...)\n",
       "## Default S3 method:\n",
       "kappa(z, exact = FALSE,\n",
       "      norm = NULL, method = c(\"qr\", \"direct\"), ...)\n",
       "## S3 method for class 'lm'\n",
       "kappa(z, ...)\n",
       "## S3 method for class 'qr'\n",
       "kappa(z, ...)\n",
       "\n",
       ".kappa_tri(z, exact = FALSE, LINPACK = TRUE, norm = NULL, ...)\n",
       "\n",
       "rcond(x, norm = c(\"O\",\"I\",\"1\"), triangular = FALSE, ...)\n",
       "\\end{verbatim}\n",
       "\\end{Usage}\n",
       "%\n",
       "\\begin{Arguments}\n",
       "\\begin{ldescription}\n",
       "\\item[\\code{z, x}] A matrix or a the result of \\code{\\LinkA{qr}{qr}} or a fit from\n",
       "a class inheriting from \\code{\"lm\"}.\n",
       "\\item[\\code{exact}] logical.  Should the result be exact?\n",
       "\\item[\\code{norm}] character string, specifying the matrix norm with respect\n",
       "to which the condition number is to be computed, see also\n",
       "\\code{\\LinkA{norm}{norm}}.  For \\code{rcond}, the default is \\code{\"O\"},\n",
       "meaning the \\bold{O}ne- or 1-norm.  The (currently only) other\n",
       "possible value is \\code{\"I\"} for the infinity norm.\n",
       "\\item[\\code{method}] a partially matched character string specifying the method to be used;\n",
       "\\code{\"qr\"} is the default for back-compatibility, mainly.\n",
       "\\item[\\code{triangular}] logical.  If true, the matrix used is just the lower\n",
       "triangular part of \\code{z}.\n",
       "\\item[\\code{LINPACK}] logical.  If true and \\code{z} is not complex, the\n",
       "LINPACK routine \\code{dtrco()} is called; otherwise the relevant\n",
       "LAPACK routine is.\n",
       "\\item[\\code{...}] further arguments passed to or from other methods;\n",
       "for \\code{kappa.*()}, notably \\code{LINPACK} when \\code{norm} is not\n",
       "\\code{\"2\"}.\n",
       "\\end{ldescription}\n",
       "\\end{Arguments}\n",
       "%\n",
       "\\begin{Details}\\relax\n",
       "For \\code{kappa()}, if \\code{exact = FALSE} (the default) the 2-norm\n",
       "condition number is estimated by a cheap approximation.  However, the\n",
       "exact calculation (via \\code{\\LinkA{svd}{svd}}) is also likely to be quick\n",
       "enough.\n",
       "\n",
       "Note that the 1- and Inf-norm condition numbers are much faster to\n",
       "calculate, and \\code{rcond()} computes these \\emph{\\bold{r}eciprocal}\n",
       "condition numbers, also for complex matrices, using standard LAPACK\n",
       "routines.\n",
       "\n",
       "\\code{kappa} and \\code{rcond} are different interfaces to\n",
       "\\emph{partly} identical functionality.\n",
       "\n",
       "\\code{.kappa\\_tri} is an internal function called by \\code{kappa.qr} and\n",
       "\\code{kappa.default}.\n",
       "\n",
       "Unsuccessful results from the underlying LAPACK code will result in an\n",
       "error giving a positive error code: these can only be interpreted by\n",
       "detailed study of the FORTRAN code.\n",
       "\\end{Details}\n",
       "%\n",
       "\\begin{Value}\n",
       "The condition number, \\eqn{kappa}{}, or an approximation if\n",
       "\\code{exact = FALSE}.\n",
       "\\end{Value}\n",
       "%\n",
       "\\begin{Author}\\relax\n",
       "The design was inspired by (but differs considerably from)\n",
       "the S function of the same name described in Chambers (1992).\n",
       "\\end{Author}\n",
       "%\n",
       "\\begin{Source}\\relax\n",
       "The LAPACK routines \\code{DTRCON} and \\code{ZTRCON} and the LINPACK\n",
       "routine \\code{DTRCO}.\n",
       "\n",
       "LAPACK and LINPACK are from \\url{http://www.netlib.org/lapack/} and\n",
       "\\url{http://www.netlib.org/linpack/} and their guides are listed\n",
       "in the references.\n",
       "\\end{Source}\n",
       "%\n",
       "\\begin{References}\\relax\n",
       "Anderson. E. and ten others (1999)\n",
       "\\emph{LAPACK Users' Guide}. Third Edition. SIAM.\\\\{}\n",
       "Available on-line at\n",
       "\\url{http://www.netlib.org/lapack/lug/lapack_lug.html}.\n",
       "\n",
       "Chambers, J. M. (1992)\n",
       "\\emph{Linear models.}\n",
       "Chapter 4 of \\emph{Statistical Models in S}\n",
       "eds J. M. Chambers and T. J. Hastie, Wadsworth \\& Brooks/Cole.\n",
       "\n",
       "Dongarra, J. J., Bunch, J. R., Moler, C. B. and Stewart, G. W. (1978)\n",
       "\\emph{LINPACK Users Guide.}  Philadelphia: SIAM Publications.\n",
       "\\end{References}\n",
       "%\n",
       "\\begin{SeeAlso}\\relax\n",
       "\\code{\\LinkA{norm}{norm}};\n",
       "\\code{\\LinkA{svd}{svd}} for the singular value decomposition and\n",
       "\\code{\\LinkA{qr}{qr}} for the \\eqn{QR}{} one.\n",
       "\\end{SeeAlso}\n",
       "%\n",
       "\\begin{Examples}\n",
       "\\begin{ExampleCode}\n",
       "kappa(x1 <- cbind(1, 1:10)) # 15.71\n",
       "kappa(x1, exact = TRUE)        # 13.68\n",
       "kappa(x2 <- cbind(x1, 2:11)) # high! [x2 is singular!]\n",
       "\n",
       "hilbert <- function(n) { i <- 1:n; 1 / outer(i - 1, i, \"+\") }\n",
       "sv9 <- svd(h9 <- hilbert(9))$ d\n",
       "kappa(h9)  # pretty high!\n",
       "kappa(h9, exact = TRUE) == max(sv9) / min(sv9)\n",
       "kappa(h9, exact = TRUE) / kappa(h9)  # 0.677 (i.e., rel.error = 32%)\n",
       "\\end{ExampleCode}\n",
       "\\end{Examples}"
      ],
      "text/plain": [
       "kappa                   package:base                   R Documentation\n",
       "\n",
       "_\bC_\bo_\bm_\bp_\bu_\bt_\be _\bo_\br _\bE_\bs_\bt_\bi_\bm_\ba_\bt_\be _\bt_\bh_\be _\bC_\bo_\bn_\bd_\bi_\bt_\bi_\bo_\bn _\bN_\bu_\bm_\bb_\be_\br _\bo_\bf _\ba _\bM_\ba_\bt_\br_\bi_\bx\n",
       "\n",
       "_\bD_\be_\bs_\bc_\br_\bi_\bp_\bt_\bi_\bo_\bn:\n",
       "\n",
       "     The condition number of a regular (square) matrix is the product\n",
       "     of the _norm_ of the matrix and the norm of its inverse (or\n",
       "     pseudo-inverse), and hence depends on the kind of matrix-norm.\n",
       "\n",
       "     'kappa()' computes by default (an estimate of) the 2-norm\n",
       "     condition number of a matrix or of the R matrix of a QR\n",
       "     decomposition, perhaps of a linear fit.  The 2-norm condition\n",
       "     number can be shown to be the ratio of the largest to the smallest\n",
       "     _non-zero_ singular value of the matrix.\n",
       "\n",
       "     'rcond()' computes an approximation of the *r*eciprocal\n",
       "     *cond*ition number, see the details.\n",
       "\n",
       "_\bU_\bs_\ba_\bg_\be:\n",
       "\n",
       "     kappa(z, ...)\n",
       "     ## Default S3 method:\n",
       "     kappa(z, exact = FALSE,\n",
       "           norm = NULL, method = c(\"qr\", \"direct\"), ...)\n",
       "     ## S3 method for class 'lm'\n",
       "     kappa(z, ...)\n",
       "     ## S3 method for class 'qr'\n",
       "     kappa(z, ...)\n",
       "     \n",
       "     .kappa_tri(z, exact = FALSE, LINPACK = TRUE, norm = NULL, ...)\n",
       "     \n",
       "     rcond(x, norm = c(\"O\",\"I\",\"1\"), triangular = FALSE, ...)\n",
       "     \n",
       "_\bA_\br_\bg_\bu_\bm_\be_\bn_\bt_\bs:\n",
       "\n",
       "    z, x: A matrix or a the result of 'qr' or a fit from a class\n",
       "          inheriting from '\"lm\"'.\n",
       "\n",
       "   exact: logical.  Should the result be exact?\n",
       "\n",
       "    norm: character string, specifying the matrix norm with respect to\n",
       "          which the condition number is to be computed, see also\n",
       "          'norm'.  For 'rcond', the default is '\"O\"', meaning the\n",
       "          *O*ne- or 1-norm.  The (currently only) other possible value\n",
       "          is '\"I\"' for the infinity norm.\n",
       "\n",
       "  method: a partially matched character string specifying the method to\n",
       "          be used; '\"qr\"' is the default for back-compatibility,\n",
       "          mainly.\n",
       "\n",
       "triangular: logical.  If true, the matrix used is just the lower\n",
       "          triangular part of 'z'.\n",
       "\n",
       " LINPACK: logical.  If true and 'z' is not complex, the LINPACK routine\n",
       "          'dtrco()' is called; otherwise the relevant LAPACK routine\n",
       "          is.\n",
       "\n",
       "     ...: further arguments passed to or from other methods; for\n",
       "          'kappa.*()', notably 'LINPACK' when 'norm' is not '\"2\"'.\n",
       "\n",
       "_\bD_\be_\bt_\ba_\bi_\bl_\bs:\n",
       "\n",
       "     For 'kappa()', if 'exact = FALSE' (the default) the 2-norm\n",
       "     condition number is estimated by a cheap approximation.  However,\n",
       "     the exact calculation (via 'svd') is also likely to be quick\n",
       "     enough.\n",
       "\n",
       "     Note that the 1- and Inf-norm condition numbers are much faster to\n",
       "     calculate, and 'rcond()' computes these _*r*eciprocal_ condition\n",
       "     numbers, also for complex matrices, using standard LAPACK\n",
       "     routines.\n",
       "\n",
       "     'kappa' and 'rcond' are different interfaces to _partly_ identical\n",
       "     functionality.\n",
       "\n",
       "     '.kappa_tri' is an internal function called by 'kappa.qr' and\n",
       "     'kappa.default'.\n",
       "\n",
       "     Unsuccessful results from the underlying LAPACK code will result\n",
       "     in an error giving a positive error code: these can only be\n",
       "     interpreted by detailed study of the FORTRAN code.\n",
       "\n",
       "_\bV_\ba_\bl_\bu_\be:\n",
       "\n",
       "     The condition number, kappa, or an approximation if 'exact =\n",
       "     FALSE'.\n",
       "\n",
       "_\bA_\bu_\bt_\bh_\bo_\br(_\bs):\n",
       "\n",
       "     The design was inspired by (but differs considerably from) the S\n",
       "     function of the same name described in Chambers (1992).\n",
       "\n",
       "_\bS_\bo_\bu_\br_\bc_\be:\n",
       "\n",
       "     The LAPACK routines 'DTRCON' and 'ZTRCON' and the LINPACK routine\n",
       "     'DTRCO'.\n",
       "\n",
       "     LAPACK and LINPACK are from <URL: http://www.netlib.org/lapack/>\n",
       "     and <URL: http://www.netlib.org/linpack/> and their guides are\n",
       "     listed in the references.\n",
       "\n",
       "_\bR_\be_\bf_\be_\br_\be_\bn_\bc_\be_\bs:\n",
       "\n",
       "     Anderson. E. and ten others (1999) _LAPACK Users' Guide_. Third\n",
       "     Edition. SIAM.\n",
       "     Available on-line at <URL:\n",
       "     http://www.netlib.org/lapack/lug/lapack_lug.html>.\n",
       "\n",
       "     Chambers, J. M. (1992) _Linear models._ Chapter 4 of _Statistical\n",
       "     Models in S_ eds J. M. Chambers and T. J. Hastie, Wadsworth &\n",
       "     Brooks/Cole.\n",
       "\n",
       "     Dongarra, J. J., Bunch, J. R., Moler, C. B. and Stewart, G. W.\n",
       "     (1978) _LINPACK Users Guide._ Philadelphia: SIAM Publications.\n",
       "\n",
       "_\bS_\be_\be _\bA_\bl_\bs_\bo:\n",
       "\n",
       "     'norm'; 'svd' for the singular value decomposition and 'qr' for\n",
       "     the QR one.\n",
       "\n",
       "_\bE_\bx_\ba_\bm_\bp_\bl_\be_\bs:\n",
       "\n",
       "     kappa(x1 <- cbind(1, 1:10)) # 15.71\n",
       "     kappa(x1, exact = TRUE)        # 13.68\n",
       "     kappa(x2 <- cbind(x1, 2:11)) # high! [x2 is singular!]\n",
       "     \n",
       "     hilbert <- function(n) { i <- 1:n; 1 / outer(i - 1, i, \"+\") }\n",
       "     sv9 <- svd(h9 <- hilbert(9))$ d\n",
       "     kappa(h9)  # pretty high!\n",
       "     kappa(h9, exact = TRUE) == max(sv9) / min(sv9)\n",
       "     kappa(h9, exact = TRUE) / kappa(h9)  # 0.677 (i.e., rel.error = 32%)\n",
       "     "
      ]
     },
     "metadata": {},
     "output_type": "display_data"
    }
   ],
   "source": [
    "?kappa"
   ]
  },
  {
   "cell_type": "code",
   "execution_count": 37,
   "metadata": {},
   "outputs": [
    {
     "data": {
      "text/html": [
       "<style>\n",
       ".list-inline {list-style: none; margin:0; padding: 0}\n",
       ".list-inline>li {display: inline-block}\n",
       ".list-inline>li:not(:last-child)::after {content: \"\\00b7\"; padding: 0 .5ex}\n",
       "</style>\n",
       "<ol class=list-inline><li>100</li><li>434</li></ol>\n"
      ],
      "text/latex": [
       "\\begin{enumerate*}\n",
       "\\item 100\n",
       "\\item 434\n",
       "\\end{enumerate*}\n"
      ],
      "text/markdown": [
       "1. 100\n",
       "2. 434\n",
       "\n",
       "\n"
      ],
      "text/plain": [
       "[1] 100 434"
      ]
     },
     "metadata": {},
     "output_type": "display_data"
    }
   ],
   "source": [
    "X = model.matrix(lm(views~.,data=df))\n",
    "dim(X)"
   ]
  },
  {
   "cell_type": "code",
   "execution_count": 38,
   "metadata": {},
   "outputs": [
    {
     "data": {
      "text/html": [
       "<style>\n",
       ".list-inline {list-style: none; margin:0; padding: 0}\n",
       ".list-inline>li {display: inline-block}\n",
       ".list-inline>li:not(:last-child)::after {content: \"\\00b7\"; padding: 0 .5ex}\n",
       "</style>\n",
       "<ol class=list-inline><li>434</li><li>434</li></ol>\n"
      ],
      "text/latex": [
       "\\begin{enumerate*}\n",
       "\\item 434\n",
       "\\item 434\n",
       "\\end{enumerate*}\n"
      ],
      "text/markdown": [
       "1. 434\n",
       "2. 434\n",
       "\n",
       "\n"
      ],
      "text/plain": [
       "[1] 434 434"
      ]
     },
     "metadata": {},
     "output_type": "display_data"
    }
   ],
   "source": [
    "xtx = t(X)%*%X\n",
    "dim(xtx)"
   ]
  },
  {
   "cell_type": "code",
   "execution_count": 39,
   "metadata": {},
   "outputs": [
    {
     "data": {
      "text/html": [
       "Inf"
      ],
      "text/latex": [
       "Inf"
      ],
      "text/markdown": [
       "Inf"
      ],
      "text/plain": [
       "[1] Inf"
      ]
     },
     "metadata": {},
     "output_type": "display_data"
    }
   ],
   "source": [
    "kappa(xtx)"
   ]
  },
  {
   "cell_type": "code",
   "execution_count": 40,
   "metadata": {},
   "outputs": [
    {
     "ename": "ERROR",
     "evalue": "Error in solve.default(xtx): Lapack routine dgesv: system is exactly singular: U[45,45] = 0\n",
     "output_type": "error",
     "traceback": [
      "Error in solve.default(xtx): Lapack routine dgesv: system is exactly singular: U[45,45] = 0\nTraceback:\n",
      "1. solve(xtx)",
      "2. solve.default(xtx)"
     ]
    }
   ],
   "source": [
    "solve(xtx)"
   ]
  },
  {
   "cell_type": "code",
   "execution_count": 41,
   "metadata": {},
   "outputs": [
    {
     "name": "stderr",
     "output_type": "stream",
     "text": [
      "Warning message in leaps.setup(x, y, wt = wt, nbest = nbest, nvmax = nvmax, force.in = force.in, :\n",
      "\"347  linear dependencies found\"\n"
     ]
    },
    {
     "name": "stdout",
     "output_type": "stream",
     "text": [
      "Reordering variables and trying again:\n"
     ]
    },
    {
     "name": "stderr",
     "output_type": "stream",
     "text": [
      "Warning message in rval$lopt[] <- rval$vorder[rval$lopt]:\n",
      "\"number of items to replace is not a multiple of replacement length\"\n"
     ]
    }
   ],
   "source": [
    "ted_mods = regsubsets(log(views)~.,data=df,method=\"forward\",nvmax=100)"
   ]
  },
  {
   "cell_type": "code",
   "execution_count": 46,
   "metadata": {},
   "outputs": [],
   "source": [
    "ar2 = summary(ted_mods)$adjr2"
   ]
  },
  {
   "cell_type": "code",
   "execution_count": 47,
   "metadata": {},
   "outputs": [
    {
     "data": {
      "image/png": "[encoded data removed]",
      "text/plain": [
       "plot without title"
      ]
     },
     "metadata": {
      "image/png": {
       "height": 420,
       "width": 420
      }
     },
     "output_type": "display_data"
    }
   ],
   "source": [
    "plot(ar2,type='l',ylab='r2_adj',xlab='num vars')"
   ]
  },
  {
   "cell_type": "code",
   "execution_count": 48,
   "metadata": {},
   "outputs": [
    {
     "data": {
      "text/html": [
       "43"
      ],
      "text/latex": [
       "43"
      ],
      "text/markdown": [
       "43"
      ],
      "text/plain": [
       "[1] 43"
      ]
     },
     "metadata": {},
     "output_type": "display_data"
    }
   ],
   "source": [
    "which.max(ar2)"
   ]
  },
  {
   "cell_type": "code",
   "execution_count": 49,
   "metadata": {},
   "outputs": [
    {
     "data": {
      "text/html": [
       "'log(views)~wordfreq_children+wordfreq_creativity+wordfreq_dance+wordfreq_parenting+wordfreq_teaching+wordfreq_alternative+wordfreq_environment+wordfreq_entertainment+wordfreq_interface+wordfreq_demo+wordfreq_visualizations+wordfreq_goalsetting+wordfreq_psychology+wordfreq_christianity+wordfreq_comedy+wordfreq_religion+wordfreq_storytelling+wordfreq_cognitive+wordfreq_evolution+wordfreq_opensource+wordfreq_movies+wordfreq_prize+wordfreq_violin+wordfreq_and+wordfreq_product+wordfreq_communication+wordfreq_love+wordfreq_marketing+wordfreq_aging+wordfreq_care+wordfreq_microfinance+wordfreq_poverty+wordfreq_aircraft+wordfreq_sports+wordfreq_medicine+wordfreq_evolutionary+wordfreq_materials+wordfreq_ants+wordfreq_primates+wordfreq_singer+wordfreq_fish+wordfreq_composing+wordfreq_natural'"
      ],
      "text/latex": [
       "'log(views)\\textasciitilde{}wordfreq\\_children+wordfreq\\_creativity+wordfreq\\_dance+wordfreq\\_parenting+wordfreq\\_teaching+wordfreq\\_alternative+wordfreq\\_environment+wordfreq\\_entertainment+wordfreq\\_interface+wordfreq\\_demo+wordfreq\\_visualizations+wordfreq\\_goalsetting+wordfreq\\_psychology+wordfreq\\_christianity+wordfreq\\_comedy+wordfreq\\_religion+wordfreq\\_storytelling+wordfreq\\_cognitive+wordfreq\\_evolution+wordfreq\\_opensource+wordfreq\\_movies+wordfreq\\_prize+wordfreq\\_violin+wordfreq\\_and+wordfreq\\_product+wordfreq\\_communication+wordfreq\\_love+wordfreq\\_marketing+wordfreq\\_aging+wordfreq\\_care+wordfreq\\_microfinance+wordfreq\\_poverty+wordfreq\\_aircraft+wordfreq\\_sports+wordfreq\\_medicine+wordfreq\\_evolutionary+wordfreq\\_materials+wordfreq\\_ants+wordfreq\\_primates+wordfreq\\_singer+wordfreq\\_fish+wordfreq\\_composing+wordfreq\\_natural'"
      ],
      "text/markdown": [
       "'log(views)~wordfreq_children+wordfreq_creativity+wordfreq_dance+wordfreq_parenting+wordfreq_teaching+wordfreq_alternative+wordfreq_environment+wordfreq_entertainment+wordfreq_interface+wordfreq_demo+wordfreq_visualizations+wordfreq_goalsetting+wordfreq_psychology+wordfreq_christianity+wordfreq_comedy+wordfreq_religion+wordfreq_storytelling+wordfreq_cognitive+wordfreq_evolution+wordfreq_opensource+wordfreq_movies+wordfreq_prize+wordfreq_violin+wordfreq_and+wordfreq_product+wordfreq_communication+wordfreq_love+wordfreq_marketing+wordfreq_aging+wordfreq_care+wordfreq_microfinance+wordfreq_poverty+wordfreq_aircraft+wordfreq_sports+wordfreq_medicine+wordfreq_evolutionary+wordfreq_materials+wordfreq_ants+wordfreq_primates+wordfreq_singer+wordfreq_fish+wordfreq_composing+wordfreq_natural'"
      ],
      "text/plain": [
       "[1] \"log(views)~wordfreq_children+wordfreq_creativity+wordfreq_dance+wordfreq_parenting+wordfreq_teaching+wordfreq_alternative+wordfreq_environment+wordfreq_entertainment+wordfreq_interface+wordfreq_demo+wordfreq_visualizations+wordfreq_goalsetting+wordfreq_psychology+wordfreq_christianity+wordfreq_comedy+wordfreq_religion+wordfreq_storytelling+wordfreq_cognitive+wordfreq_evolution+wordfreq_opensource+wordfreq_movies+wordfreq_prize+wordfreq_violin+wordfreq_and+wordfreq_product+wordfreq_communication+wordfreq_love+wordfreq_marketing+wordfreq_aging+wordfreq_care+wordfreq_microfinance+wordfreq_poverty+wordfreq_aircraft+wordfreq_sports+wordfreq_medicine+wordfreq_evolutionary+wordfreq_materials+wordfreq_ants+wordfreq_primates+wordfreq_singer+wordfreq_fish+wordfreq_composing+wordfreq_natural\""
      ]
     },
     "metadata": {},
     "output_type": "display_data"
    }
   ],
   "source": [
    "fmla = paste0(colnames(df)[summary(ted_mods)$which[43,]][-1],collapse=\"+\")\n",
    "fmla = paste0(\"log(views)~\",fmla)\n",
    "fmla"
   ]
  },
  {
   "cell_type": "code",
   "execution_count": 50,
   "metadata": {},
   "outputs": [],
   "source": [
    "best_mod = lm(fmla,data=df)"
   ]
  },
  {
   "cell_type": "code",
   "execution_count": 52,
   "metadata": {},
   "outputs": [
    {
     "data": {
      "image/png": "[encoded data removed]",
      "text/plain": [
       "plot without title"
      ]
     },
     "metadata": {
      "image/png": {
       "height": 420,
       "width": 420
      }
     },
     "output_type": "display_data"
    }
   ],
   "source": [
    "plot(log(df$views),predict(best_mod))\n",
    "abline(coef=c(0,1))"
   ]
  }
 ],
 "metadata": {
  "jupytext": {
   "formats": "ipynb,Rmd,R"
  },
  "kernelspec": {
   "display_name": "R",
   "language": "R",
   "name": "ir"
  },
  "language_info": {
   "codemirror_mode": "r",
   "file_extension": ".r",
   "mimetype": "text/x-r-source",
   "name": "R",
   "pygments_lexer": "r",
   "version": "4.0.3"
  }
 },
 "nbformat": 4,
 "nbformat_minor": 4
}
