{
 "cells": [
  {
   "cell_type": "markdown",
   "metadata": {},
   "source": [
    "# Lab 4 - KNN Regression and Evaluation\n",
    "## lecture 4"
   ]
  },
  {
   "cell_type": "code",
   "execution_count": 1,
   "metadata": {},
   "outputs": [
    {
     "name": "stderr",
     "output_type": "stream",
     "text": [
      "Installing package into 'C:/Users/huntg/Documents/R/win-library/4.0'\n",
      "(as 'lib' is unspecified)\n",
      "\n"
     ]
    },
    {
     "name": "stdout",
     "output_type": "stream",
     "text": [
      "package 'FNN' successfully unpacked and MD5 sums checked\n",
      "\n",
      "The downloaded binary packages are in\n",
      "\tC:\\Users\\huntg\\AppData\\Local\\Temp\\Rtmp46sEIT\\downloaded_packages\n"
     ]
    }
   ],
   "source": [
    "install.packages('FNN')"
   ]
  },
  {
   "cell_type": "markdown",
   "metadata": {},
   "source": [
    "# simulation"
   ]
  },
  {
   "cell_type": "code",
   "execution_count": 2,
   "metadata": {},
   "outputs": [
    {
     "data": {
      "text/html": [
       "\n",
       "<table width=\"100%\" summary=\"page for Uniform {stats}\"><tr><td>Uniform {stats}</td><td style=\"text-align: right;\">R Documentation</td></tr></table>\n",
       "\n",
       "<h2>The Uniform Distribution</h2>\n",
       "\n",
       "<h3>Description</h3>\n",
       "\n",
       "<p>These functions provide information about the uniform distribution\n",
       "on the interval from <code>min</code> to <code>max</code>.  <code>dunif</code> gives the\n",
       "density, <code>punif</code> gives the distribution function <code>qunif</code>\n",
       "gives the quantile function and <code>runif</code> generates random\n",
       "deviates.\n",
       "</p>\n",
       "\n",
       "\n",
       "<h3>Usage</h3>\n",
       "\n",
       "<pre>\n",
       "dunif(x, min = 0, max = 1, log = FALSE)\n",
       "punif(q, min = 0, max = 1, lower.tail = TRUE, log.p = FALSE)\n",
       "qunif(p, min = 0, max = 1, lower.tail = TRUE, log.p = FALSE)\n",
       "runif(n, min = 0, max = 1)\n",
       "</pre>\n",
       "\n",
       "\n",
       "<h3>Arguments</h3>\n",
       "\n",
       "<table summary=\"R argblock\">\n",
       "<tr valign=\"top\"><td><code>x, q</code></td>\n",
       "<td>\n",
       "<p>vector of quantiles.</p>\n",
       "</td></tr>\n",
       "<tr valign=\"top\"><td><code>p</code></td>\n",
       "<td>\n",
       "<p>vector of probabilities.</p>\n",
       "</td></tr>\n",
       "<tr valign=\"top\"><td><code>n</code></td>\n",
       "<td>\n",
       "<p>number of observations. If <code>length(n) &gt; 1</code>, the length\n",
       "is taken to be the number required.</p>\n",
       "</td></tr>\n",
       "<tr valign=\"top\"><td><code>min, max</code></td>\n",
       "<td>\n",
       "<p>lower and upper limits of the distribution.  Must be finite.</p>\n",
       "</td></tr>\n",
       "<tr valign=\"top\"><td><code>log, log.p</code></td>\n",
       "<td>\n",
       "<p>logical; if TRUE, probabilities p are given as log(p).</p>\n",
       "</td></tr>\n",
       "<tr valign=\"top\"><td><code>lower.tail</code></td>\n",
       "<td>\n",
       "<p>logical; if TRUE (default), probabilities are\n",
       "<i>P[X &le; x]</i>, otherwise, <i>P[X &gt; x]</i>.</p>\n",
       "</td></tr>\n",
       "</table>\n",
       "\n",
       "\n",
       "<h3>Details</h3>\n",
       "\n",
       "<p>If <code>min</code> or <code>max</code> are not specified they assume the default\n",
       "values of <code>0</code> and <code>1</code> respectively.\n",
       "</p>\n",
       "<p>The uniform distribution has density\n",
       "</p>\n",
       "<p style=\"text-align: center;\"><i>f(x) = 1/(max-min)</i></p>\n",
       "\n",
       "<p>for <i>min &le; x &le; max</i>.\n",
       "</p>\n",
       "<p>For the case of <i>u := min == max</i>, the limit case of\n",
       "<i>X == u</i> is assumed, although there is no density in\n",
       "that case and <code>dunif</code> will return <code>NaN</code> (the error condition).\n",
       "</p>\n",
       "<p><code>runif</code> will not generate either of the extreme values unless\n",
       "<code>max = min</code> or <code>max-min</code> is small compared to <code>min</code>,\n",
       "and in particular not for the default arguments.\n",
       "</p>\n",
       "\n",
       "\n",
       "<h3>Value</h3>\n",
       "\n",
       "<p><code>dunif</code> gives the density,\n",
       "<code>punif</code> gives the distribution function,\n",
       "<code>qunif</code> gives the quantile function, and\n",
       "<code>runif</code> generates random deviates.\n",
       "</p>\n",
       "<p>The length of the result is determined by <code>n</code> for\n",
       "<code>runif</code>, and is the maximum of the lengths of the\n",
       "numerical arguments for the other functions.  \n",
       "</p>\n",
       "<p>The numerical arguments other than <code>n</code> are recycled to the\n",
       "length of the result.  Only the first elements of the logical\n",
       "arguments are used.\n",
       "</p>\n",
       "\n",
       "\n",
       "<h3>Note</h3>\n",
       "\n",
       "<p>The characteristics of output from pseudo-random number generators\n",
       "(such as precision and periodicity) vary widely.  See\n",
       "<code>.Random.seed</code> for more information on <span style=\"font-family: Courier New, Courier; color: #666666;\"><b>R</b></span>'s random number\n",
       "generation algorithms.\n",
       "</p>\n",
       "\n",
       "\n",
       "<h3>References</h3>\n",
       "\n",
       "<p>Becker, R. A., Chambers, J. M. and Wilks, A. R. (1988)\n",
       "<em>The New S Language</em>.\n",
       "Wadsworth &amp; Brooks/Cole.\n",
       "</p>\n",
       "\n",
       "\n",
       "<h3>See Also</h3>\n",
       "\n",
       "<p><code>RNG</code> about random number generation in <span style=\"font-family: Courier New, Courier; color: #666666;\"><b>R</b></span>.\n",
       "</p>\n",
       "<p>Distributions for other standard distributions.\n",
       "</p>\n",
       "\n",
       "\n",
       "<h3>Examples</h3>\n",
       "\n",
       "<pre>\n",
       "u &lt;- runif(20)\n",
       "\n",
       "## The following relations always hold :\n",
       "punif(u) == u\n",
       "dunif(u) == 1\n",
       "\n",
       "var(runif(10000))  #- ~ = 1/12 = .08333\n",
       "</pre>\n",
       "\n",
       "<hr /><div style=\"text-align: center;\">[Package <em>stats</em> version 4.0.3 ]</div>"
      ],
      "text/latex": [
       "\\inputencoding{utf8}\n",
       "\\HeaderA{Uniform}{The Uniform Distribution}{Uniform}\n",
       "\\aliasA{dunif}{Uniform}{dunif}\n",
       "\\aliasA{punif}{Uniform}{punif}\n",
       "\\aliasA{qunif}{Uniform}{qunif}\n",
       "\\aliasA{runif}{Uniform}{runif}\n",
       "\\keyword{distribution}{Uniform}\n",
       "%\n",
       "\\begin{Description}\\relax\n",
       "These functions provide information about the uniform distribution\n",
       "on the interval from \\code{min} to \\code{max}.  \\code{dunif} gives the\n",
       "density, \\code{punif} gives the distribution function \\code{qunif}\n",
       "gives the quantile function and \\code{runif} generates random\n",
       "deviates.\n",
       "\\end{Description}\n",
       "%\n",
       "\\begin{Usage}\n",
       "\\begin{verbatim}\n",
       "dunif(x, min = 0, max = 1, log = FALSE)\n",
       "punif(q, min = 0, max = 1, lower.tail = TRUE, log.p = FALSE)\n",
       "qunif(p, min = 0, max = 1, lower.tail = TRUE, log.p = FALSE)\n",
       "runif(n, min = 0, max = 1)\n",
       "\\end{verbatim}\n",
       "\\end{Usage}\n",
       "%\n",
       "\\begin{Arguments}\n",
       "\\begin{ldescription}\n",
       "\\item[\\code{x, q}] vector of quantiles.\n",
       "\\item[\\code{p}] vector of probabilities.\n",
       "\\item[\\code{n}] number of observations. If \\code{length(n) > 1}, the length\n",
       "is taken to be the number required.\n",
       "\\item[\\code{min, max}] lower and upper limits of the distribution.  Must be finite.\n",
       "\\item[\\code{log, log.p}] logical; if TRUE, probabilities p are given as log(p).\n",
       "\\item[\\code{lower.tail}] logical; if TRUE (default), probabilities are\n",
       "\\eqn{P[X \\le x]}{}, otherwise, \\eqn{P[X > x]}{}.\n",
       "\\end{ldescription}\n",
       "\\end{Arguments}\n",
       "%\n",
       "\\begin{Details}\\relax\n",
       "If \\code{min} or \\code{max} are not specified they assume the default\n",
       "values of \\code{0} and \\code{1} respectively.\n",
       "\n",
       "The uniform distribution has density\n",
       "\\deqn{f(x) = \\frac{1}{max-min}}{}\n",
       "for \\eqn{min \\le x \\le max}{}.\n",
       "\n",
       "For the case of \\eqn{u := min == max}{}, the limit case of\n",
       "\\eqn{X \\equiv u}{} is assumed, although there is no density in\n",
       "that case and \\code{dunif} will return \\code{NaN} (the error condition).\n",
       "\n",
       "\\code{runif} will not generate either of the extreme values unless\n",
       "\\code{max = min} or \\code{max-min} is small compared to \\code{min},\n",
       "and in particular not for the default arguments.\n",
       "\\end{Details}\n",
       "%\n",
       "\\begin{Value}\n",
       "\\code{dunif} gives the density,\n",
       "\\code{punif} gives the distribution function,\n",
       "\\code{qunif} gives the quantile function, and\n",
       "\\code{runif} generates random deviates.\n",
       "\n",
       "The length of the result is determined by \\code{n} for\n",
       "\\code{runif}, and is the maximum of the lengths of the\n",
       "numerical arguments for the other functions.  \n",
       "\n",
       "The numerical arguments other than \\code{n} are recycled to the\n",
       "length of the result.  Only the first elements of the logical\n",
       "arguments are used.\n",
       "\\end{Value}\n",
       "%\n",
       "\\begin{Note}\\relax\n",
       "The characteristics of output from pseudo-random number generators\n",
       "(such as precision and periodicity) vary widely.  See\n",
       "\\code{\\LinkA{.Random.seed}{.Random.seed}} for more information on \\R{}'s random number\n",
       "generation algorithms.\n",
       "\\end{Note}\n",
       "%\n",
       "\\begin{References}\\relax\n",
       "Becker, R. A., Chambers, J. M. and Wilks, A. R. (1988)\n",
       "\\emph{The New S Language}.\n",
       "Wadsworth \\& Brooks/Cole.\n",
       "\\end{References}\n",
       "%\n",
       "\\begin{SeeAlso}\\relax\n",
       "\\code{\\LinkA{RNG}{RNG}} about random number generation in \\R{}.\n",
       "\n",
       "\\LinkA{Distributions}{Distributions} for other standard distributions.\n",
       "\\end{SeeAlso}\n",
       "%\n",
       "\\begin{Examples}\n",
       "\\begin{ExampleCode}\n",
       "u <- runif(20)\n",
       "\n",
       "## The following relations always hold :\n",
       "punif(u) == u\n",
       "dunif(u) == 1\n",
       "\n",
       "var(runif(10000))  #- ~ = 1/12 = .08333\n",
       "\\end{ExampleCode}\n",
       "\\end{Examples}"
      ],
      "text/plain": [
       "Uniform                 package:stats                  R Documentation\n",
       "\n",
       "_\bT_\bh_\be _\bU_\bn_\bi_\bf_\bo_\br_\bm _\bD_\bi_\bs_\bt_\br_\bi_\bb_\bu_\bt_\bi_\bo_\bn\n",
       "\n",
       "_\bD_\be_\bs_\bc_\br_\bi_\bp_\bt_\bi_\bo_\bn:\n",
       "\n",
       "     These functions provide information about the uniform distribution\n",
       "     on the interval from 'min' to 'max'.  'dunif' gives the density,\n",
       "     'punif' gives the distribution function 'qunif' gives the quantile\n",
       "     function and 'runif' generates random deviates.\n",
       "\n",
       "_\bU_\bs_\ba_\bg_\be:\n",
       "\n",
       "     dunif(x, min = 0, max = 1, log = FALSE)\n",
       "     punif(q, min = 0, max = 1, lower.tail = TRUE, log.p = FALSE)\n",
       "     qunif(p, min = 0, max = 1, lower.tail = TRUE, log.p = FALSE)\n",
       "     runif(n, min = 0, max = 1)\n",
       "     \n",
       "_\bA_\br_\bg_\bu_\bm_\be_\bn_\bt_\bs:\n",
       "\n",
       "    x, q: vector of quantiles.\n",
       "\n",
       "       p: vector of probabilities.\n",
       "\n",
       "       n: number of observations. If 'length(n) > 1', the length is\n",
       "          taken to be the number required.\n",
       "\n",
       "min, max: lower and upper limits of the distribution.  Must be finite.\n",
       "\n",
       "log, log.p: logical; if TRUE, probabilities p are given as log(p).\n",
       "\n",
       "lower.tail: logical; if TRUE (default), probabilities are P[X <= x],\n",
       "          otherwise, P[X > x].\n",
       "\n",
       "_\bD_\be_\bt_\ba_\bi_\bl_\bs:\n",
       "\n",
       "     If 'min' or 'max' are not specified they assume the default values\n",
       "     of '0' and '1' respectively.\n",
       "\n",
       "     The uniform distribution has density\n",
       "\n",
       "                             f(x) = 1/(max-min)                         \n",
       "     \n",
       "     for min <= x <= max.\n",
       "\n",
       "     For the case of u := min == max, the limit case of X == u is\n",
       "     assumed, although there is no density in that case and 'dunif'\n",
       "     will return 'NaN' (the error condition).\n",
       "\n",
       "     'runif' will not generate either of the extreme values unless 'max\n",
       "     = min' or 'max-min' is small compared to 'min', and in particular\n",
       "     not for the default arguments.\n",
       "\n",
       "_\bV_\ba_\bl_\bu_\be:\n",
       "\n",
       "     'dunif' gives the density, 'punif' gives the distribution\n",
       "     function, 'qunif' gives the quantile function, and 'runif'\n",
       "     generates random deviates.\n",
       "\n",
       "     The length of the result is determined by 'n' for 'runif', and is\n",
       "     the maximum of the lengths of the numerical arguments for the\n",
       "     other functions.\n",
       "\n",
       "     The numerical arguments other than 'n' are recycled to the length\n",
       "     of the result.  Only the first elements of the logical arguments\n",
       "     are used.\n",
       "\n",
       "_\bN_\bo_\bt_\be:\n",
       "\n",
       "     The characteristics of output from pseudo-random number generators\n",
       "     (such as precision and periodicity) vary widely.  See\n",
       "     '.Random.seed' for more information on R's random number\n",
       "     generation algorithms.\n",
       "\n",
       "_\bR_\be_\bf_\be_\br_\be_\bn_\bc_\be_\bs:\n",
       "\n",
       "     Becker, R. A., Chambers, J. M. and Wilks, A. R. (1988) _The New S\n",
       "     Language_.  Wadsworth & Brooks/Cole.\n",
       "\n",
       "_\bS_\be_\be _\bA_\bl_\bs_\bo:\n",
       "\n",
       "     'RNG' about random number generation in R.\n",
       "\n",
       "     Distributions for other standard distributions.\n",
       "\n",
       "_\bE_\bx_\ba_\bm_\bp_\bl_\be_\bs:\n",
       "\n",
       "     u <- runif(20)\n",
       "     \n",
       "     ## The following relations always hold :\n",
       "     punif(u) == u\n",
       "     dunif(u) == 1\n",
       "     \n",
       "     var(runif(10000))  #- ~ = 1/12 = .08333\n",
       "     "
      ]
     },
     "metadata": {},
     "output_type": "display_data"
    }
   ],
   "source": [
    "?runif"
   ]
  },
  {
   "cell_type": "code",
   "execution_count": 7,
   "metadata": {},
   "outputs": [
    {
     "data": {
      "image/png": "[encoded data removed]",
      "text/plain": [
       "Plot with title \"Histogram of x\""
      ]
     },
     "metadata": {
      "image/png": {
       "height": 420,
       "width": 420
      }
     },
     "output_type": "display_data"
    }
   ],
   "source": [
    "x = runif(100,-1,1)\n",
    "hist(x)"
   ]
  },
  {
   "cell_type": "code",
   "execution_count": 8,
   "metadata": {},
   "outputs": [
    {
     "data": {
      "image/png": "[encoded data removed]",
      "text/plain": [
       "plot without title"
      ]
     },
     "metadata": {
      "image/png": {
       "height": 420,
       "width": 420
      }
     },
     "output_type": "display_data"
    }
   ],
   "source": [
    "y = x^2 # f(x) = x^2\n",
    "plot(x,y)"
   ]
  },
  {
   "cell_type": "code",
   "execution_count": 11,
   "metadata": {},
   "outputs": [
    {
     "data": {
      "image/png": "[encoded data removed]",
      "text/plain": [
       "Plot with title \"Histogram of e\""
      ]
     },
     "metadata": {
      "image/png": {
       "height": 420,
       "width": 420
      }
     },
     "output_type": "display_data"
    }
   ],
   "source": [
    "e = rnorm(100,0,1/10)\n",
    "hist(e)"
   ]
  },
  {
   "cell_type": "code",
   "execution_count": 12,
   "metadata": {},
   "outputs": [
    {
     "data": {
      "image/png": "[encoded data removed]",
      "text/plain": [
       "plot without title"
      ]
     },
     "metadata": {
      "image/png": {
       "height": 420,
       "width": 420
      }
     },
     "output_type": "display_data"
    }
   ],
   "source": [
    "y = x^2 + e\n",
    "plot(x,y)"
   ]
  },
  {
   "cell_type": "markdown",
   "metadata": {},
   "source": [
    "# using linear regression"
   ]
  },
  {
   "cell_type": "code",
   "execution_count": 13,
   "metadata": {},
   "outputs": [
    {
     "data": {
      "text/plain": [
       "\n",
       "Call:\n",
       "lm(formula = y ~ x)\n",
       "\n",
       "Residuals:\n",
       "     Min       1Q   Median       3Q      Max \n",
       "-0.42814 -0.25656 -0.06458  0.19371  0.78510 \n",
       "\n",
       "Coefficients:\n",
       "            Estimate Std. Error t value Pr(>|t|)    \n",
       "(Intercept)  0.32142    0.03095  10.384   <2e-16 ***\n",
       "x            0.09724    0.05258   1.849   0.0674 .  \n",
       "---\n",
       "Signif. codes:  0 '***' 0.001 '**' 0.01 '*' 0.05 '.' 0.1 ' ' 1\n",
       "\n",
       "Residual standard error: 0.3039 on 98 degrees of freedom\n",
       "Multiple R-squared:  0.03372,\tAdjusted R-squared:  0.02386 \n",
       "F-statistic:  3.42 on 1 and 98 DF,  p-value: 0.06742\n"
      ]
     },
     "metadata": {},
     "output_type": "display_data"
    }
   ],
   "source": [
    "mod = lm(y~x) # y = b0 + b1*x\n",
    "summary(mod)"
   ]
  },
  {
   "cell_type": "code",
   "execution_count": 63,
   "metadata": {},
   "outputs": [
    {
     "data": {
      "text/html": [
       "<style>\n",
       ".list-inline {list-style: none; margin:0; padding: 0}\n",
       ".list-inline>li {display: inline-block}\n",
       ".list-inline>li:not(:last-child)::after {content: \"\\00b7\"; padding: 0 .5ex}\n",
       "</style>\n",
       "<ol class=list-inline><li>100</li><li>2</li></ol>\n"
      ],
      "text/latex": [
       "\\begin{enumerate*}\n",
       "\\item 100\n",
       "\\item 2\n",
       "\\end{enumerate*}\n"
      ],
      "text/markdown": [
       "1. 100\n",
       "2. 2\n",
       "\n",
       "\n"
      ],
      "text/plain": [
       "[1] 100   2"
      ]
     },
     "metadata": {},
     "output_type": "display_data"
    },
    {
     "data": {
      "image/png": "[encoded data removed]",
      "text/plain": [
       "plot without title"
      ]
     },
     "metadata": {
      "image/png": {
       "height": 420,
       "width": 420
      }
     },
     "output_type": "display_data"
    }
   ],
   "source": [
    "plot(x,y)\n",
    "abline(coef(mod),col='red')\n",
    "lines(x[x_ord],x[x_ord]^2,col='blue')\n",
    "dim(model.matrix(mod))"
   ]
  },
  {
   "cell_type": "markdown",
   "metadata": {},
   "source": [
    "# KNN"
   ]
  },
  {
   "cell_type": "code",
   "execution_count": 16,
   "metadata": {},
   "outputs": [
    {
     "data": {
      "text/html": [
       "\n",
       "<table width=\"100%\" summary=\"page for knn.reg {FNN}\"><tr><td>knn.reg {FNN}</td><td style=\"text-align: right;\">R Documentation</td></tr></table>\n",
       "\n",
       "<h2>k Nearest Neighbor Regression</h2>\n",
       "\n",
       "<h3>Description</h3>\n",
       "\n",
       "<p>k-nearest neighbor regression\n",
       "</p>\n",
       "\n",
       "\n",
       "<h3>Usage</h3>\n",
       "\n",
       "<pre>\n",
       "knn.reg(train, test = NULL, y, k = 3, algorithm=c(\"kd_tree\", \n",
       "        \"cover_tree\", \"brute\"))\n",
       "</pre>\n",
       "\n",
       "\n",
       "<h3>Arguments</h3>\n",
       "\n",
       "<table summary=\"R argblock\">\n",
       "<tr valign=\"top\"><td><code>train</code></td>\n",
       "<td>\n",
       "\n",
       "<p>matrix or data frame of training set cases.\n",
       "</p>\n",
       "</td></tr>\n",
       "<tr valign=\"top\"><td><code>test</code></td>\n",
       "<td>\n",
       "\n",
       "<p>matrix or data frame of test set cases. A vector will be interpreted\n",
       "as a row vector for a single case. If not supplied, cross-validataion will be done.\n",
       "</p>\n",
       "</td></tr>\n",
       "<tr valign=\"top\"><td><code>y</code></td>\n",
       "<td>\n",
       "<p>reponse of each observation in the training set.</p>\n",
       "</td></tr>\n",
       "<tr valign=\"top\"><td><code>k</code></td>\n",
       "<td>\n",
       "<p> number of neighbours considered.</p>\n",
       "</td></tr>\n",
       "<tr valign=\"top\"><td><code>algorithm</code></td>\n",
       "<td>\n",
       "<p>nearest neighbor search algorithm.</p>\n",
       "</td></tr>\n",
       "</table>\n",
       "\n",
       "\n",
       "<h3>Details</h3>\n",
       "\n",
       "<p>If test is not supplied, Leave one out cross-validation is performed and <em>R-square</em> is the predicted R-square.\n",
       "</p>\n",
       "\n",
       "\n",
       "<h3>Value</h3>\n",
       "\n",
       "<p><code>knn.reg</code> returns an object of <code>class</code> <code>\"knnReg\"</code> or <code>\"knnRegCV\"</code> \n",
       "if <code>test</code> data is not supplied.\n",
       "</p>\n",
       "<p>The returnedobject is a list containing at least the following components:\n",
       "</p>\n",
       "<table summary=\"R valueblock\">\n",
       "<tr valign=\"top\"><td><code>call</code></td>\n",
       "<td>\n",
       "<p>the match call.</p>\n",
       "</td></tr>\n",
       "<tr valign=\"top\"><td><code>k</code></td>\n",
       "<td>\n",
       "<p>number of neighbours considered.</p>\n",
       "</td></tr>\n",
       "<tr valign=\"top\"><td><code>n</code></td>\n",
       "<td>\n",
       "<p>number of predicted values, either equals test size or train size.</p>\n",
       "</td></tr>\n",
       "<tr valign=\"top\"><td><code>pred</code></td>\n",
       "<td>\n",
       "<p>a vector of predicted values.</p>\n",
       "</td></tr>\n",
       "<tr valign=\"top\"><td><code>residuals</code></td>\n",
       "<td>\n",
       "<p>predicted residuals. <code>NULL</code> if <code>test</code> is supplied.</p>\n",
       "</td></tr>\n",
       "<tr valign=\"top\"><td><code>PRESS</code></td>\n",
       "<td>\n",
       "<p>the sums of squares of the predicted residuals. <code>NULL</code> if <code>test</code> is supplied.</p>\n",
       "</td></tr>\n",
       "<tr valign=\"top\"><td><code>R2Pred</code></td>\n",
       "<td>\n",
       "<p>predicted R-square. <code>NULL</code> if <code>test</code> is supplied.</p>\n",
       "</td></tr>\n",
       "</table>\n",
       "\n",
       "\n",
       "<h3>Note</h3>\n",
       "\n",
       "<p>The code for &ldquo;VR&rdquo; nearest neighbor searching is taken from <code>class</code> source\n",
       "</p>\n",
       "\n",
       "\n",
       "<h3>Author(s)</h3>\n",
       "\n",
       "<p>Shengqiao Li. To report any bugs or suggestions please email: <a href=\"mailto:lishengqiao@yahoo.com.\">lishengqiao@yahoo.com.</a></p>\n",
       "\n",
       "\n",
       "<h3>See Also</h3>\n",
       "\n",
       "<p><code>knn</code>.\n",
       "</p>\n",
       "\n",
       "\n",
       "<h3>Examples</h3>\n",
       "\n",
       "<pre>\n",
       "  if(require(chemometrics)){\n",
       "    data(PAC);\n",
       "    pac.knn&lt;- knn.reg(PAC$X, y=PAC$y, k=3);\n",
       "    \n",
       "    plot(PAC$y, pac.knn$pred, xlab=\"y\", ylab=expression(hat(y)))\n",
       "  } \n",
       "</pre>\n",
       "\n",
       "<hr /><div style=\"text-align: center;\">[Package <em>FNN</em> version 1.1.3 ]</div>"
      ],
      "text/latex": [
       "\\inputencoding{utf8}\n",
       "\\HeaderA{knn.reg}{k Nearest Neighbor Regression}{knn.reg}\n",
       "\\keyword{regression}{knn.reg}\n",
       "\\keyword{nonparametric}{knn.reg}\n",
       "%\n",
       "\\begin{Description}\\relax\n",
       "k-nearest neighbor regression\n",
       "\\end{Description}\n",
       "%\n",
       "\\begin{Usage}\n",
       "\\begin{verbatim}\n",
       "knn.reg(train, test = NULL, y, k = 3, algorithm=c(\"kd_tree\", \n",
       "        \"cover_tree\", \"brute\"))\n",
       "\\end{verbatim}\n",
       "\\end{Usage}\n",
       "%\n",
       "\\begin{Arguments}\n",
       "\\begin{ldescription}\n",
       "\\item[\\code{train}] \n",
       "matrix or data frame of training set cases.\n",
       "\n",
       "\\item[\\code{test}] \n",
       "matrix or data frame of test set cases. A vector will be interpreted\n",
       "as a row vector for a single case. If not supplied, cross-validataion will be done.\n",
       "\n",
       "\\item[\\code{y}] reponse of each observation in the training set.\n",
       "\\item[\\code{k}]  number of neighbours considered.\n",
       "\\item[\\code{algorithm}] nearest neighbor search algorithm.\n",
       "\\end{ldescription}\n",
       "\\end{Arguments}\n",
       "%\n",
       "\\begin{Details}\\relax\n",
       "If test is not supplied, Leave one out cross-validation is performed and \\emph{R-square} is the predicted R-square.\n",
       "\\end{Details}\n",
       "%\n",
       "\\begin{Value}\n",
       "\n",
       "\\code{knn.reg} returns an object of \\code{class} \\code{\"knnReg\"} or \\code{\"knnRegCV\"} \n",
       "if \\code{test} data is not supplied.\n",
       "\n",
       "The returnedobject is a list containing at least the following components:\n",
       "\n",
       "\\begin{ldescription}\n",
       "\\item[\\code{call}] the match call.\n",
       "\\item[\\code{k}] number of neighbours considered.\n",
       "\\item[\\code{n}] number of predicted values, either equals test size or train size.\n",
       "\\item[\\code{pred}] a vector of predicted values.\n",
       "\\item[\\code{residuals}] predicted residuals. \\code{NULL} if \\code{test} is supplied.\n",
       "\\item[\\code{PRESS}] the sums of squares of the predicted residuals. \\code{NULL} if \\code{test} is supplied.\n",
       "\\item[\\code{R2Pred}] predicted R-square. \\code{NULL} if \\code{test} is supplied.\n",
       "\n",
       "\\end{ldescription}\n",
       "\\end{Value}\n",
       "%\n",
       "\\begin{Note}\\relax\n",
       "The code for ``VR'' nearest neighbor searching is taken from \\code{class} source\n",
       "\\end{Note}\n",
       "%\n",
       "\\begin{Author}\\relax\n",
       "Shengqiao Li. To report any bugs or suggestions please email: \\email{lishengqiao@yahoo.com.}\n",
       "\\end{Author}\n",
       "%\n",
       "\\begin{SeeAlso}\\relax\n",
       "\\code{\\LinkA{knn}{knn}}.\n",
       "\\end{SeeAlso}\n",
       "%\n",
       "\\begin{Examples}\n",
       "\\begin{ExampleCode}\n",
       "  if(require(chemometrics)){\n",
       "    data(PAC);\n",
       "    pac.knn<- knn.reg(PAC$X, y=PAC$y, k=3);\n",
       "    \n",
       "    plot(PAC$y, pac.knn$pred, xlab=\"y\", ylab=expression(hat(y)))\n",
       "  } \n",
       "\\end{ExampleCode}\n",
       "\\end{Examples}"
      ],
      "text/plain": [
       "knn.reg                  package:FNN                   R Documentation\n",
       "\n",
       "_\bk _\bN_\be_\ba_\br_\be_\bs_\bt _\bN_\be_\bi_\bg_\bh_\bb_\bo_\br _\bR_\be_\bg_\br_\be_\bs_\bs_\bi_\bo_\bn\n",
       "\n",
       "_\bD_\be_\bs_\bc_\br_\bi_\bp_\bt_\bi_\bo_\bn:\n",
       "\n",
       "     k-nearest neighbor regression\n",
       "\n",
       "_\bU_\bs_\ba_\bg_\be:\n",
       "\n",
       "     knn.reg(train, test = NULL, y, k = 3, algorithm=c(\"kd_tree\", \n",
       "             \"cover_tree\", \"brute\"))\n",
       "     \n",
       "_\bA_\br_\bg_\bu_\bm_\be_\bn_\bt_\bs:\n",
       "\n",
       "   train: matrix or data frame of training set cases.\n",
       "\n",
       "    test: matrix or data frame of test set cases. A vector will be\n",
       "          interpreted as a row vector for a single case. If not\n",
       "          supplied, cross-validataion will be done.\n",
       "\n",
       "       y: reponse of each observation in the training set.\n",
       "\n",
       "       k: number of neighbours considered.\n",
       "\n",
       "algorithm: nearest neighbor search algorithm.\n",
       "\n",
       "_\bD_\be_\bt_\ba_\bi_\bl_\bs:\n",
       "\n",
       "     If test is not supplied, Leave one out cross-validation is\n",
       "     performed and _R-square_ is the predicted R-square.\n",
       "\n",
       "_\bV_\ba_\bl_\bu_\be:\n",
       "\n",
       "     'knn.reg' returns an object of 'class' '\"knnReg\"' or '\"knnRegCV\"'\n",
       "     if 'test' data is not supplied.\n",
       "\n",
       "     The returnedobject is a list containing at least the following\n",
       "     components:\n",
       "\n",
       "    call: the match call.\n",
       "\n",
       "       k: number of neighbours considered.\n",
       "\n",
       "       n: number of predicted values, either equals test size or train\n",
       "          size.\n",
       "\n",
       "    pred: a vector of predicted values.\n",
       "\n",
       "residuals: predicted residuals. 'NULL' if 'test' is supplied.\n",
       "\n",
       "   PRESS: the sums of squares of the predicted residuals. 'NULL' if\n",
       "          'test' is supplied.\n",
       "\n",
       "  R2Pred: predicted R-square. 'NULL' if 'test' is supplied.\n",
       "\n",
       "_\bN_\bo_\bt_\be:\n",
       "\n",
       "     The code for \"VR\" nearest neighbor searching is taken from 'class'\n",
       "     source\n",
       "\n",
       "_\bA_\bu_\bt_\bh_\bo_\br(_\bs):\n",
       "\n",
       "     Shengqiao Li. To report any bugs or suggestions please email:\n",
       "     <email: lishengqiao@yahoo.com.>\n",
       "\n",
       "_\bS_\be_\be _\bA_\bl_\bs_\bo:\n",
       "\n",
       "     'knn'.\n",
       "\n",
       "_\bE_\bx_\ba_\bm_\bp_\bl_\be_\bs:\n",
       "\n",
       "       if(require(chemometrics)){\n",
       "         data(PAC);\n",
       "         pac.knn<- knn.reg(PAC$X, y=PAC$y, k=3);\n",
       "         \n",
       "         plot(PAC$y, pac.knn$pred, xlab=\"y\", ylab=expression(hat(y)))\n",
       "       } \n",
       "     "
      ]
     },
     "metadata": {},
     "output_type": "display_data"
    }
   ],
   "source": [
    "library('FNN')\n",
    "?knn.reg"
   ]
  },
  {
   "cell_type": "code",
   "execution_count": 20,
   "metadata": {},
   "outputs": [],
   "source": [
    "X = array(x,c(100,1))\n",
    "Y = array(y,c(100,1))\n",
    "knn_mod = knn.reg(train=X,y=Y,test=X,k=10)"
   ]
  },
  {
   "cell_type": "code",
   "execution_count": 23,
   "metadata": {},
   "outputs": [
    {
     "data": {
      "text/html": [
       "<style>\n",
       ".list-inline {list-style: none; margin:0; padding: 0}\n",
       ".list-inline>li {display: inline-block}\n",
       ".list-inline>li:not(:last-child)::after {content: \"\\00b7\"; padding: 0 .5ex}\n",
       "</style>\n",
       "<ol class=list-inline><li>'call'</li><li>'k'</li><li>'n'</li><li>'pred'</li><li>'residuals'</li><li>'PRESS'</li><li>'R2Pred'</li></ol>\n"
      ],
      "text/latex": [
       "\\begin{enumerate*}\n",
       "\\item 'call'\n",
       "\\item 'k'\n",
       "\\item 'n'\n",
       "\\item 'pred'\n",
       "\\item 'residuals'\n",
       "\\item 'PRESS'\n",
       "\\item 'R2Pred'\n",
       "\\end{enumerate*}\n"
      ],
      "text/markdown": [
       "1. 'call'\n",
       "2. 'k'\n",
       "3. 'n'\n",
       "4. 'pred'\n",
       "5. 'residuals'\n",
       "6. 'PRESS'\n",
       "7. 'R2Pred'\n",
       "\n",
       "\n"
      ],
      "text/plain": [
       "[1] \"call\"      \"k\"         \"n\"         \"pred\"      \"residuals\" \"PRESS\"    \n",
       "[7] \"R2Pred\"   "
      ]
     },
     "metadata": {},
     "output_type": "display_data"
    }
   ],
   "source": [
    "names(knn_mod)"
   ]
  },
  {
   "cell_type": "code",
   "execution_count": 26,
   "metadata": {},
   "outputs": [
    {
     "data": {
      "text/html": [
       "100"
      ],
      "text/latex": [
       "100"
      ],
      "text/markdown": [
       "100"
      ],
      "text/plain": [
       "[1] 100"
      ]
     },
     "metadata": {},
     "output_type": "display_data"
    }
   ],
   "source": [
    "length(knn_mod$pred) # these are the predictions"
   ]
  },
  {
   "cell_type": "code",
   "execution_count": 45,
   "metadata": {},
   "outputs": [
    {
     "data": {
      "image/png": "[encoded data removed]",
      "text/plain": [
       "plot without title"
      ]
     },
     "metadata": {
      "image/png": {
       "height": 420,
       "width": 420
      }
     },
     "output_type": "display_data"
    }
   ],
   "source": [
    "plot(x,y)\n",
    "x_ord  = order(x)\n",
    "lines(x[x_ord],knn_mod$pred[x_ord],col='red')\n",
    "lines(x[x_ord],x[x_ord]^2,col='blue')"
   ]
  },
  {
   "cell_type": "markdown",
   "metadata": {},
   "source": [
    "## k = 3"
   ]
  },
  {
   "cell_type": "code",
   "execution_count": 48,
   "metadata": {},
   "outputs": [
    {
     "data": {
      "image/png": "[encoded data removed]",
      "text/plain": [
       "plot without title"
      ]
     },
     "metadata": {
      "image/png": {
       "height": 420,
       "width": 420
      }
     },
     "output_type": "display_data"
    }
   ],
   "source": [
    "knn_mod = knn.reg(train=X,y=Y,test=X,k=3)\n",
    "plot(x,y)\n",
    "lines(x[x_ord],knn_mod$pred[x_ord],col='red')\n",
    "lines(x[x_ord],x[x_ord]^2,col='blue')"
   ]
  },
  {
   "cell_type": "markdown",
   "metadata": {},
   "source": [
    "# k = 1"
   ]
  },
  {
   "cell_type": "code",
   "execution_count": 50,
   "metadata": {},
   "outputs": [
    {
     "data": {
      "image/png": "[encoded data removed]",
      "text/plain": [
       "plot without title"
      ]
     },
     "metadata": {
      "image/png": {
       "height": 420,
       "width": 420
      }
     },
     "output_type": "display_data"
    }
   ],
   "source": [
    "knn_mod = knn.reg(train=X,y=Y,test=X,k=1)\n",
    "plot(x,y)\n",
    "lines(x[x_ord],knn_mod$pred[x_ord],col='red')\n",
    "lines(x[x_ord],x[x_ord]^2,col='blue')"
   ]
  },
  {
   "cell_type": "markdown",
   "metadata": {},
   "source": [
    "# k = 100"
   ]
  },
  {
   "cell_type": "code",
   "execution_count": 51,
   "metadata": {},
   "outputs": [
    {
     "data": {
      "image/png": "[encoded data removed]",
      "text/plain": [
       "plot without title"
      ]
     },
     "metadata": {
      "image/png": {
       "height": 420,
       "width": 420
      }
     },
     "output_type": "display_data"
    }
   ],
   "source": [
    "knn_mod = knn.reg(train=X,y=Y,test=X,k=100)\n",
    "plot(x,y)\n",
    "lines(x[x_ord],knn_mod$pred[x_ord],col='red')\n",
    "lines(x[x_ord],x[x_ord]^2,col='blue')"
   ]
  },
  {
   "cell_type": "code",
   "execution_count": 52,
   "metadata": {},
   "outputs": [
    {
     "data": {
      "text/html": [
       "0.332268194650184"
      ],
      "text/latex": [
       "0.332268194650184"
      ],
      "text/markdown": [
       "0.332268194650184"
      ],
      "text/plain": [
       "[1] 0.3322682"
      ]
     },
     "metadata": {},
     "output_type": "display_data"
    }
   ],
   "source": [
    "mean(y)"
   ]
  },
  {
   "cell_type": "code",
   "execution_count": 54,
   "metadata": {},
   "outputs": [
    {
     "data": {
      "text/html": [
       "<style>\n",
       ".list-inline {list-style: none; margin:0; padding: 0}\n",
       ".list-inline>li {display: inline-block}\n",
       ".list-inline>li:not(:last-child)::after {content: \"\\00b7\"; padding: 0 .5ex}\n",
       "</style>\n",
       "<ol class=list-inline><li>0.332268194650184</li><li>0.332268194650184</li><li>0.332268194650184</li><li>0.332268194650184</li><li>0.332268194650184</li><li>0.332268194650184</li></ol>\n"
      ],
      "text/latex": [
       "\\begin{enumerate*}\n",
       "\\item 0.332268194650184\n",
       "\\item 0.332268194650184\n",
       "\\item 0.332268194650184\n",
       "\\item 0.332268194650184\n",
       "\\item 0.332268194650184\n",
       "\\item 0.332268194650184\n",
       "\\end{enumerate*}\n"
      ],
      "text/markdown": [
       "1. 0.332268194650184\n",
       "2. 0.332268194650184\n",
       "3. 0.332268194650184\n",
       "4. 0.332268194650184\n",
       "5. 0.332268194650184\n",
       "6. 0.332268194650184\n",
       "\n",
       "\n"
      ],
      "text/plain": [
       "[1] 0.3322682 0.3322682 0.3322682 0.3322682 0.3322682 0.3322682"
      ]
     },
     "metadata": {},
     "output_type": "display_data"
    }
   ],
   "source": [
    "head(knn_mod$pred)"
   ]
  },
  {
   "cell_type": "markdown",
   "metadata": {},
   "source": [
    "# k = 25"
   ]
  },
  {
   "cell_type": "code",
   "execution_count": 57,
   "metadata": {},
   "outputs": [
    {
     "data": {
      "image/png": "[encoded data removed]",
      "text/plain": [
       "plot without title"
      ]
     },
     "metadata": {
      "image/png": {
       "height": 420,
       "width": 420
      }
     },
     "output_type": "display_data"
    }
   ],
   "source": [
    "knn_mod = knn.reg(train=X,y=Y,test=X,k=25)\n",
    "plot(x,y)\n",
    "lines(x[x_ord],knn_mod$pred[x_ord],col='red')\n",
    "lines(x[x_ord],x[x_ord]^2,col='blue')"
   ]
  },
  {
   "cell_type": "markdown",
   "metadata": {},
   "source": [
    "# Can do we do this with a linear model?"
   ]
  },
  {
   "cell_type": "code",
   "execution_count": 59,
   "metadata": {},
   "outputs": [
    {
     "data": {
      "image/png": "[encoded data removed]",
      "text/plain": [
       "plot without title"
      ]
     },
     "metadata": {
      "image/png": {
       "height": 420,
       "width": 420
      }
     },
     "output_type": "display_data"
    }
   ],
   "source": [
    "lin_mod = lm(y~I(x^2)) # y = b0+b1x^2\n",
    "plot(x,y)\n",
    "lines(x[x_ord],predict(lin_mod)[x_ord],col='red')\n",
    "lines(x[x_ord],x[x_ord]^2,col='blue')"
   ]
  },
  {
   "cell_type": "code",
   "execution_count": 62,
   "metadata": {},
   "outputs": [
    {
     "data": {
      "text/html": [
       "<style>\n",
       ".list-inline {list-style: none; margin:0; padding: 0}\n",
       ".list-inline>li {display: inline-block}\n",
       ".list-inline>li:not(:last-child)::after {content: \"\\00b7\"; padding: 0 .5ex}\n",
       "</style>\n",
       "<ol class=list-inline><li>100</li><li>3</li></ol>\n"
      ],
      "text/latex": [
       "\\begin{enumerate*}\n",
       "\\item 100\n",
       "\\item 3\n",
       "\\end{enumerate*}\n"
      ],
      "text/markdown": [
       "1. 100\n",
       "2. 3\n",
       "\n",
       "\n"
      ],
      "text/plain": [
       "[1] 100   3"
      ]
     },
     "metadata": {},
     "output_type": "display_data"
    },
    {
     "data": {
      "image/png": "[encoded data removed]",
      "text/plain": [
       "plot without title"
      ]
     },
     "metadata": {
      "image/png": {
       "height": 420,
       "width": 420
      }
     },
     "output_type": "display_data"
    }
   ],
   "source": [
    "lin_mod = lm(y~x+I(x^4)) # y = b0+b1x^2\n",
    "plot(x,y)\n",
    "lines(x[x_ord],predict(lin_mod)[x_ord],col='red')\n",
    "lines(x[x_ord],x[x_ord]^2,col='blue')\n",
    "dim(model.matrix(lin_mod))"
   ]
  }
 ],
 "metadata": {
  "jupytext": {
   "formats": "ipynb,Rmd,R"
  },
  "kernelspec": {
   "display_name": "R",
   "language": "R",
   "name": "ir"
  },
  "language_info": {
   "codemirror_mode": "r",
   "file_extension": ".r",
   "mimetype": "text/x-r-source",
   "name": "R",
   "pygments_lexer": "r",
   "version": "4.0.3"
  }
 },
 "nbformat": 4,
 "nbformat_minor": 4
}
